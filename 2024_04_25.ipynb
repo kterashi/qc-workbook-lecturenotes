{
  "cells": [
    {
      "cell_type": "markdown",
      "metadata": {
        "id": "view-in-github",
        "colab_type": "text"
      },
      "source": [
        "<a href=\"https://colab.research.google.com/github/yiiyama/qc-workbook-lecturenotes/blob/branch-2024/2024_04_25.ipynb\" target=\"_parent\"><img src=\"https://colab.research.google.com/assets/colab-badge.svg\" alt=\"Open In Colab\"/></a>"
      ]
    },
    {
      "cell_type": "markdown",
      "id": "c7a1e479-c92a-4611-820b-3a0451f665c4",
      "metadata": {
        "id": "c7a1e479-c92a-4611-820b-3a0451f665c4"
      },
      "source": [
        "# 量子回路の実装\n",
        "\n",
        "\n",
        "$\\newcommand{\\ket}[1]{|#1\\rangle}$\n",
        "$\\newcommand{\\braket}[2]{\\langle #1 | #2 \\rangle}$"
      ]
    },
    {
      "cell_type": "code",
      "execution_count": null,
      "id": "6d64101b-a6db-4921-bc56-7d5213bb29c5",
      "metadata": {
        "tags": [
          "remove-output"
        ],
        "id": "6d64101b-a6db-4921-bc56-7d5213bb29c5"
      },
      "outputs": [],
      "source": [
        "# まずは全てインポート\n",
        "import sys\n",
        "import shutil\n",
        "import tarfile\n",
        "from google.colab import drive\n",
        "drive.mount('/content/gdrive')\n",
        "shutil.copy('/content/gdrive/MyDrive/qcintro.tar.gz', '.')\n",
        "with tarfile.open('qcintro.tar.gz', 'r:gz') as tar:\n",
        "    tar.extractall(path='/root/.local')\n",
        "\n",
        "sys.path.append('/root/.local/lib/python3.10/site-packages')\n",
        "\n",
        "!git clone -b branch-2024 https://github.com/UTokyo-ICEPP/qc-workbook-lecturenotes\n",
        "!cp -r qc-workbook-lecturenotes/qc_workbook /root/.local/lib/python3.10/site-packages/"
      ]
    },
    {
      "cell_type": "code",
      "source": [
        "import numpy as np\n",
        "import matplotlib.pyplot as plt\n",
        "from IPython.display import Math\n",
        "from qiskit import QuantumCircuit, QuantumRegister, ClassicalRegister, transpile\n",
        "from qiskit_aer import AerSimulator\n",
        "from qiskit_aer.primitives import SamplerV2 as Sampler\n",
        "from qiskit_ibm_runtime import QiskitRuntimeService\n",
        "\n",
        "from qc_workbook.show_state import statevector_expr"
      ],
      "metadata": {
        "id": "qGZZPstRnLXG"
      },
      "id": "qGZZPstRnLXG",
      "execution_count": null,
      "outputs": []
    },
    {
      "cell_type": "markdown",
      "id": "c8cbd7a3-d9e5-413d-971c-c9d2d18b7c84",
      "metadata": {
        "id": "c8cbd7a3-d9e5-413d-971c-c9d2d18b7c84"
      },
      "source": [
        "## 準備：状態ベクトルシミュレータの使い方と状態ベクトルの数式表示"
      ]
    },
    {
      "cell_type": "code",
      "execution_count": null,
      "id": "df946b3d-25d2-466d-b386-5d64f29f59df",
      "metadata": {
        "id": "df946b3d-25d2-466d-b386-5d64f29f59df"
      },
      "outputs": [],
      "source": [
        "simulator = AerSimulator(method='statevector')\n",
        "print(simulator.name)"
      ]
    },
    {
      "cell_type": "markdown",
      "id": "b6824843-5e62-4ed4-a2e2-90e7eb2335ba",
      "metadata": {
        "id": "b6824843-5e62-4ed4-a2e2-90e7eb2335ba"
      },
      "source": [
        "例：先週登場した回路"
      ]
    },
    {
      "cell_type": "code",
      "execution_count": null,
      "id": "f06a95c1-d0e5-41ae-9d97-e47276774d23",
      "metadata": {
        "id": "f06a95c1-d0e5-41ae-9d97-e47276774d23"
      },
      "outputs": [],
      "source": [
        "circuit = QuantumCircuit(2)\n",
        "circuit.h(0)\n",
        "circuit.cx(0, 1)\n",
        "circuit.ry(-3. * np.pi / 4., 1)\n",
        "\n",
        "# measure_all()はしない\n",
        "\n",
        "circuit.draw('mpl')"
      ]
    },
    {
      "cell_type": "code",
      "execution_count": null,
      "id": "32aad9a8-1193-4cd6-94ae-867e1d8e8b5e",
      "metadata": {
        "id": "32aad9a8-1193-4cd6-94ae-867e1d8e8b5e"
      },
      "outputs": [],
      "source": [
        "def get_statevector_array(circuit):\n",
        "    # 渡された回路のコピーを使う\n",
        "    circuit = circuit.copy()\n",
        "    # 量子回路の終状態の状態ベクトルを保存するインストラクション\n",
        "    circuit.save_statevector()\n",
        "    # 再び「おまじない」のtranspileをしてから、run()に渡す\n",
        "    circuit = transpile(circuit, backend=simulator)\n",
        "    job = simulator.run(circuit)\n",
        "    result = job.result()\n",
        "    qiskit_statevector = result.data()['statevector']\n",
        "\n",
        "    # result.data()['statevector']は通常の配列オブジェクト（ndarray）ではなくqiskit独自のクラスのインスタンス\n",
        "    # ただし np.asarray() で numpy の ndarray に変換可能\n",
        "    return np.asarray(qiskit_statevector)\n",
        "\n",
        "statevector = get_statevector_array(circuit)\n",
        "print('Statevector type:', type(statevector), statevector.dtype)\n",
        "print('Statevector content:', statevector)"
      ]
    },
    {
      "cell_type": "markdown",
      "id": "ada11199-9810-4f35-ac8c-026b0453c368",
      "metadata": {
        "id": "ada11199-9810-4f35-ac8c-026b0453c368"
      },
      "source": [
        "状態ベクトル配列を数式として表示"
      ]
    },
    {
      "cell_type": "code",
      "execution_count": null,
      "id": "e7f13e42-d1be-44dd-a34d-a49543a5e8a9",
      "metadata": {
        "id": "e7f13e42-d1be-44dd-a34d-a49543a5e8a9"
      },
      "outputs": [],
      "source": [
        "expr = statevector_expr(statevector)\n",
        "\n",
        "# Math()はLaTeXをタイプセットする関数\n",
        "Math(expr)"
      ]
    },
    {
      "cell_type": "markdown",
      "id": "341e7b61-3089-4975-9d31-2795c7aa8102",
      "metadata": {
        "id": "341e7b61-3089-4975-9d31-2795c7aa8102"
      },
      "source": [
        "## 単純な量子状態の生成"
      ]
    },
    {
      "cell_type": "markdown",
      "id": "025197c4-ac3d-490c-b179-8ed58084003b",
      "metadata": {
        "id": "025197c4-ac3d-490c-b179-8ed58084003b"
      },
      "source": [
        "### 問題1: 1量子ビット、相対位相付き\n",
        "\n",
        "**問題**\n",
        "\n",
        "1量子ビットに対して状態\n",
        "\n",
        "$$\n",
        "\\frac{1}{\\sqrt{2}}\\left(\\ket{0} + i\\ket{1}\\right)\n",
        "$$\n",
        "\n",
        "を作りなさい。"
      ]
    },
    {
      "cell_type": "code",
      "execution_count": null,
      "id": "295e200f-107e-49d2-9e82-c2788c9fe947",
      "metadata": {
        "tags": [
          "remove-output"
        ],
        "id": "295e200f-107e-49d2-9e82-c2788c9fe947"
      },
      "outputs": [],
      "source": [
        "circuit = QuantumCircuit(1)\n",
        "\n",
        "# ?????"
      ]
    },
    {
      "cell_type": "code",
      "execution_count": null,
      "id": "adfeffdf-f46d-4625-80f8-ac6c5310fd98",
      "metadata": {
        "id": "adfeffdf-f46d-4625-80f8-ac6c5310fd98"
      },
      "outputs": [],
      "source": [
        "# statevector_exprにはQuantumCircuitオブジェクトを直接渡すこともできる\n",
        "# amp_normは振幅の共通因子をくくりだすためのオプション\n",
        "expr = statevector_expr(circuit, amp_norm=(np.sqrt(0.5), r'\\frac{1}{\\sqrt{2}}'))\n",
        "Math(expr)"
      ]
    },
    {
      "cell_type": "markdown",
      "id": "7f0035bc-8f88-4bee-8faf-6a0b95a515ef",
      "metadata": {
        "id": "7f0035bc-8f88-4bee-8faf-6a0b95a515ef"
      },
      "source": [
        "### 問題2: ベル状態、相対位相付き\n",
        "\n",
        "**問題**\n",
        "\n",
        "2量子ビットに対して状態\n",
        "\n",
        "$$\n",
        "\\frac{1}{\\sqrt{2}}\\left(\\ket{0} + i\\ket{3}\\right) = \\frac{1}{\\sqrt{2}}\\left(\\ket{00} + i\\ket{11}\\right)\n",
        "$$\n",
        "\n",
        "を作りなさい。"
      ]
    },
    {
      "cell_type": "code",
      "execution_count": null,
      "id": "5ee96467-c6b1-4790-a3c9-4ab5ba777a22",
      "metadata": {
        "tags": [
          "remove-output"
        ],
        "id": "5ee96467-c6b1-4790-a3c9-4ab5ba777a22"
      },
      "outputs": [],
      "source": [
        "circuit = QuantumCircuit(2)\n",
        "\n",
        "# ?????"
      ]
    },
    {
      "cell_type": "code",
      "execution_count": null,
      "id": "422a1859-4a75-4b43-a449-8d0f852a6490",
      "metadata": {
        "tags": [
          "remove-output"
        ],
        "id": "422a1859-4a75-4b43-a449-8d0f852a6490"
      },
      "outputs": [],
      "source": [
        "expr = statevector_expr(circuit, amp_norm=(np.sqrt(0.5), r'\\frac{1}{\\sqrt{2}}'))\n",
        "Math(expr)"
      ]
    },
    {
      "cell_type": "markdown",
      "id": "e00eaf18-f1db-419e-b983-a65608eeee94",
      "metadata": {
        "id": "e00eaf18-f1db-419e-b983-a65608eeee94"
      },
      "source": [
        "### 問題3: GHZ状態\n",
        "\n",
        "**問題**\n",
        "\n",
        "3量子ビットに対して状態\n",
        "\n",
        "$$\n",
        "\\frac{1}{\\sqrt{2}} (\\ket{0} + \\ket{7}) = \\frac{1}{\\sqrt{2}} (\\ket{000} + \\ket{111})\n",
        "$$\n",
        "\n",
        "を作りなさい。"
      ]
    },
    {
      "cell_type": "code",
      "execution_count": null,
      "id": "be38a86d-b474-4d93-8ce3-0e13a963081b",
      "metadata": {
        "tags": [
          "remove-output"
        ],
        "id": "be38a86d-b474-4d93-8ce3-0e13a963081b"
      },
      "outputs": [],
      "source": [
        "circuit = QuantumCircuit(3)\n",
        "\n",
        "# ?????"
      ]
    },
    {
      "cell_type": "code",
      "execution_count": null,
      "id": "c5652faa-1e0f-4675-9097-9088cdb0dc20",
      "metadata": {
        "tags": [
          "remove-output"
        ],
        "id": "c5652faa-1e0f-4675-9097-9088cdb0dc20"
      },
      "outputs": [],
      "source": [
        "expr = statevector_expr(circuit, amp_norm=(np.sqrt(0.5), r'\\frac{1}{\\sqrt{2}}'))\n",
        "Math(expr)"
      ]
    },
    {
      "cell_type": "markdown",
      "id": "a074fed5-d09d-4511-95eb-e2ec96680849",
      "metadata": {
        "id": "a074fed5-d09d-4511-95eb-e2ec96680849"
      },
      "source": [
        "### 問題4: Equal superposition\n",
        "\n",
        "**問題**\n",
        "\n",
        "一般の$n$量子ビットに対して状態\n",
        "\n",
        "$$\n",
        "\\frac{1}{\\sqrt{2^n}} \\sum_{k=0}^{2^n-1} \\ket{k}\n",
        "$$\n",
        "\n",
        "を作る回路を考え、$n=4$のケースを実装しなさい。"
      ]
    },
    {
      "cell_type": "code",
      "execution_count": null,
      "id": "cf2da9bf-38d5-4625-aa3c-a63beb4402bd",
      "metadata": {
        "tags": [
          "remove-output"
        ],
        "id": "cf2da9bf-38d5-4625-aa3c-a63beb4402bd"
      },
      "outputs": [],
      "source": [
        "num_qubits = 4\n",
        "\n",
        "circuit = QuantumCircuit(num_qubits)\n",
        "\n",
        "# ?????"
      ]
    },
    {
      "cell_type": "code",
      "execution_count": null,
      "id": "de455bfd-2bd7-4fdc-ad0b-e1cea0570f0c",
      "metadata": {
        "tags": [
          "remove-output"
        ],
        "id": "de455bfd-2bd7-4fdc-ad0b-e1cea0570f0c"
      },
      "outputs": [],
      "source": [
        "sqrt_2_to_n = 2 ** (num_qubits // 2)\n",
        "expr = statevector_expr(circuit, amp_norm=(1. / sqrt_2_to_n, r'\\frac{1}{%d}' % sqrt_2_to_n))\n",
        "Math(expr)"
      ]
    },
    {
      "cell_type": "markdown",
      "id": "041ce72f-605e-4606-9ab6-c885b23b302c",
      "metadata": {
        "id": "041ce72f-605e-4606-9ab6-c885b23b302c"
      },
      "source": [
        "### 問題5: 特定の基底の符号を反転させる\n",
        "\n",
        "**問題**\n",
        "\n",
        "問題4の4ビットequal superposition状態において、基底$\\ket{5} = \\ket{0101}$の符号を反転させなさい。"
      ]
    },
    {
      "cell_type": "code",
      "execution_count": null,
      "id": "c8593c76-9e6a-4d3d-991f-c88b98015a73",
      "metadata": {
        "tags": [
          "remove-output"
        ],
        "id": "c8593c76-9e6a-4d3d-991f-c88b98015a73"
      },
      "outputs": [],
      "source": [
        "num_qubits = 4\n",
        "\n",
        "circuit = QuantumCircuit(num_qubits)\n",
        "\n",
        "# ?????"
      ]
    },
    {
      "cell_type": "code",
      "execution_count": null,
      "id": "7ee534f9-58a6-48ff-a37a-18b0313c51c2",
      "metadata": {
        "tags": [
          "remove-output"
        ],
        "id": "7ee534f9-58a6-48ff-a37a-18b0313c51c2"
      },
      "outputs": [],
      "source": [
        "sqrt_2_to_n = 2 ** (num_qubits // 2)\n",
        "expr = statevector_expr(circuit, amp_norm=(1. / sqrt_2_to_n, r'\\frac{1}{%d}' % sqrt_2_to_n))\n",
        "Math(expr)"
      ]
    },
    {
      "cell_type": "markdown",
      "id": "1b5edd33-a5fc-4f45-9492-8913de990f43",
      "metadata": {
        "id": "1b5edd33-a5fc-4f45-9492-8913de990f43"
      },
      "source": [
        "### 問題6: Equal superpositionに位相を付ける\n",
        "\n",
        "**問題**\n",
        "\n",
        "一般の$n$量子ビットに対して状態\n",
        "\n",
        "$$\n",
        "\\frac{1}{\\sqrt{2^n}}\\sum_{k=0}^{2^n-1} e^{2\\pi i s k/2^n} \\ket{k} \\quad (s \\in \\mathbb{R})\n",
        "$$\n",
        "\n",
        "を作る回路を考え、$n=6, s=2.5$のケースを実装しなさい。"
      ]
    },
    {
      "cell_type": "code",
      "execution_count": null,
      "id": "a58224ca-84dc-46e6-a1f1-9f260bacd297",
      "metadata": {
        "tags": [
          "output_scroll",
          "remove-output"
        ],
        "id": "a58224ca-84dc-46e6-a1f1-9f260bacd297"
      },
      "outputs": [],
      "source": [
        "num_qubits = 6\n",
        "\n",
        "circuit = QuantumCircuit(num_qubits)\n",
        "\n",
        "s = 2.5\n",
        "\n",
        "# ?????"
      ]
    },
    {
      "cell_type": "code",
      "execution_count": null,
      "id": "7f7bdc94-62d8-4f79-a87b-273b12347268",
      "metadata": {
        "tags": [
          "output_scroll",
          "remove-output"
        ],
        "id": "7f7bdc94-62d8-4f79-a87b-273b12347268"
      },
      "outputs": [],
      "source": [
        "sqrt_2_to_n = 2 ** (num_qubits // 2)\n",
        "amp_norm = (1. / sqrt_2_to_n, r'\\frac{1}{%d}' % sqrt_2_to_n)\n",
        "phase_norm = (2 * np.pi / (2 ** num_qubits), r'\\frac{2 \\pi i}{%d}' % (2 ** num_qubits))\n",
        "expr = statevector_expr(circuit, amp_norm, phase_norm=phase_norm)\n",
        "Math(expr)"
      ]
    },
    {
      "cell_type": "markdown",
      "id": "4979d5c2-08b7-4ff6-b559-2033a7012424",
      "metadata": {
        "id": "4979d5c2-08b7-4ff6-b559-2033a7012424"
      },
      "source": [
        "## 量子計算プリミティブ\n",
        "\n",
        "### 古典条件分岐"
      ]
    },
    {
      "cell_type": "code",
      "execution_count": null,
      "id": "fc35cb65-c978-462b-b895-7b4084b6905c",
      "metadata": {
        "id": "fc35cb65-c978-462b-b895-7b4084b6905c"
      },
      "outputs": [],
      "source": [
        "register1 = QuantumRegister(4, name='reg1')\n",
        "register2 = QuantumRegister(1, name='reg2')\n",
        "output1 = ClassicalRegister(4, name='out1') # 測定結果を保持する「古典レジスタ」オブジェクト\n",
        "\n",
        "circuit = QuantumCircuit(register1, register2, output1)\n",
        "\n",
        "# register1にequal superpositionを実現\n",
        "circuit.h(register1)\n",
        "# register1を測定し、結果をoutput1に書き込む\n",
        "circuit.measure(register1, output1)\n",
        "\n",
        "# output1の各位iの0/1に応じて、dtheta * 2^iだけRyをかけると、全体としてRy(2pi * j/16)が実現する\n",
        "dtheta = 2. * np.pi / 16.\n",
        "\n",
        "for idx in range(4):\n",
        "    # circuit.***.c_if(classical_bit, 1) <- classical_bitが1のときに***ゲートをかける\n",
        "    angle = dtheta * (2 ** idx)\n",
        "    circuit.ry(angle, register2[0]).c_if(output1[idx], 1)\n",
        "\n",
        "circuit.draw('mpl')"
      ]
    },
    {
      "cell_type": "markdown",
      "id": "19d7625b-2914-4fbd-8e84-9f43a420bafc",
      "metadata": {
        "id": "19d7625b-2914-4fbd-8e84-9f43a420bafc"
      },
      "source": [
        "次のセルを複数回実行して、上の回路が狙い通り動いていることを確認してみましょう。\n",
        "\n",
        "入力と出力のレジスタの値が別々に表示されるよう、`statevector_expr`の`register_sizes`という引数を利用して、5ビットの回路を4ビットと1ビットに分けて解釈するよう指定します。"
      ]
    },
    {
      "cell_type": "code",
      "execution_count": null,
      "id": "60fd3a2c-3a04-45af-8d0f-c6feb15ddf7d",
      "metadata": {
        "id": "60fd3a2c-3a04-45af-8d0f-c6feb15ddf7d"
      },
      "outputs": [],
      "source": [
        "Math(statevector_expr(circuit, register_sizes=[4, 1]))\n",
        "\n",
        "# cos(pi*0/16) = 1.000, sin(pi*0/16) = 0.000\n",
        "# cos(pi*1/16) = 0.981, sin(pi*1/16) = 0.195\n",
        "# cos(pi*2/16) = 0.924, sin(pi*2/16) = 0.383\n",
        "# cos(pi*3/16) = 0.831, sin(pi*3/16) = 0.556\n",
        "# cos(pi*4/16) = 0.707, sin(pi*4/16) = 0.707\n",
        "# cos(pi*5/16) = 0.556, sin(pi*5/16) = 0.831\n",
        "# cos(pi*6/16) = 0.383, sin(pi*6/16) = 0.924\n",
        "# cos(pi*7/16) = 0.195, sin(pi*7/16) = 0.981\n",
        "# cos(pi*8/16) = 0.000, sin(pi*8/16) = 1.000\n",
        "# cos(pi*9/16) = -0.195, sin(pi*9/16) = 0.981\n",
        "# cos(pi*10/16) = -0.383, sin(pi*10/16) = 0.924\n",
        "# cos(pi*11/16) = -0.556, sin(pi*11/16) = 0.831\n",
        "# cos(pi*12/16) = -0.707, sin(pi*12/16) = 0.707\n",
        "# cos(pi*13/16) = -0.831, sin(pi*13/16) = 0.556\n",
        "# cos(pi*14/16) = -0.924, sin(pi*14/16) = 0.383\n",
        "# cos(pi*15/16) = -0.981, sin(pi*15/16) = 0.195"
      ]
    },
    {
      "cell_type": "markdown",
      "id": "6c4b306d-fd8d-4004-8e26-d9c2a8e53c40",
      "metadata": {
        "id": "6c4b306d-fd8d-4004-8e26-d9c2a8e53c40"
      },
      "source": [
        "### 量子条件分岐"
      ]
    },
    {
      "cell_type": "code",
      "execution_count": null,
      "id": "e52071c2-a948-4fa1-8ef1-bb7f207c42dc",
      "metadata": {
        "id": "e52071c2-a948-4fa1-8ef1-bb7f207c42dc"
      },
      "outputs": [],
      "source": [
        "register1 = QuantumRegister(4, name='reg1')\n",
        "register2 = QuantumRegister(1, name='reg2')\n",
        "\n",
        "circuit = QuantumCircuit(register1, register2)\n",
        "\n",
        "circuit.h(register1)\n",
        "\n",
        "dtheta = 2. * np.pi / 16.\n",
        "\n",
        "for idx in range(4):\n",
        "    circuit.cry(dtheta * (2 ** idx), register1[idx], register2[0])\n",
        "\n",
        "circuit.draw('mpl')"
      ]
    },
    {
      "cell_type": "code",
      "execution_count": null,
      "id": "73b5d222-b0c8-4811-88f1-b3f39bdaccb2",
      "metadata": {
        "id": "73b5d222-b0c8-4811-88f1-b3f39bdaccb2"
      },
      "outputs": [],
      "source": [
        "lines = statevector_expr(circuit, register_sizes=[4, 1], terms_per_row=6)\n",
        "Math(r' \\\\ '.join(lines))"
      ]
    },
    {
      "cell_type": "markdown",
      "id": "ddf4e2ac-2848-4373-8825-1f7759ccf14c",
      "metadata": {
        "id": "ddf4e2ac-2848-4373-8825-1f7759ccf14c"
      },
      "source": [
        "### 関数\n",
        "\n",
        "$x \\in \\{0, \\dots, 7\\}$を引数に取り、$15 - x$を返す関数$f$の量子回路：\n",
        "\n",
        "$$\n",
        "U_{f}\\ket{y}\\ket{x} = \\ket{y \\oplus f(x)}\\ket{x}\n",
        "$$"
      ]
    },
    {
      "cell_type": "code",
      "execution_count": null,
      "id": "f8ea3de8-6118-4364-8591-e57fe768e9b6",
      "metadata": {
        "id": "f8ea3de8-6118-4364-8591-e57fe768e9b6"
      },
      "outputs": [],
      "source": [
        "input_register = QuantumRegister(3, name='input')\n",
        "output_register = QuantumRegister(4, name='output')\n",
        "\n",
        "circuit = QuantumCircuit(input_register, output_register)\n",
        "\n",
        "# input_registerに適当な値（6）を入力\n",
        "circuit.x(input_register[1])\n",
        "circuit.x(input_register[2])\n",
        "\n",
        "circuit.barrier()\n",
        "\n",
        "# ここからが引き算をするU_f\n",
        "# まずoutput_registerの全てのビットを立てる\n",
        "circuit.x(output_register)\n",
        "for idx in range(3):\n",
        "    # その上で、CNOTを使ってinput_registerでビットが1である時にoutput_registerの対応するビットが0にする\n",
        "    circuit.cx(input_register[idx], output_register[idx])\n",
        "\n",
        "circuit.draw('mpl')"
      ]
    },
    {
      "cell_type": "code",
      "execution_count": null,
      "id": "8a6fa771-087b-406b-af6e-5b8249d21cc5",
      "metadata": {
        "id": "8a6fa771-087b-406b-af6e-5b8249d21cc5"
      },
      "outputs": [],
      "source": [
        "Math(statevector_expr(circuit, register_sizes=[3, 4]))"
      ]
    },
    {
      "cell_type": "markdown",
      "id": "a2eac72e-f2a5-4240-9444-23342ad87352",
      "metadata": {
        "id": "a2eac72e-f2a5-4240-9444-23342ad87352"
      },
      "source": [
        "入力レジスタの状態を色々変えて、状態ベクトルの変化を見てみましょう。"
      ]
    },
    {
      "cell_type": "markdown",
      "id": "8a42af86-c39d-4a3d-abea-20404eaff38e",
      "metadata": {
        "id": "8a42af86-c39d-4a3d-abea-20404eaff38e"
      },
      "source": [
        "### SWAPテスト\n",
        "\n",
        "次の回路で`out`に0が出る確率を$P_0$、1が出る確率を$P_1$とすると、\n",
        "\n",
        "$$\n",
        "P_0 - P_1 = |\\braket{\\psi}{\\phi}|^2\n",
        "$$"
      ]
    },
    {
      "cell_type": "code",
      "execution_count": null,
      "id": "91f5caa7-57e9-4861-b85d-ac0c4274ca18",
      "metadata": {
        "id": "91f5caa7-57e9-4861-b85d-ac0c4274ca18"
      },
      "outputs": [],
      "source": [
        "data_width = 3\n",
        "\n",
        "fig, axs = plt.subplots(1, 2)\n",
        "\n",
        "# 適当な状態|ψ>を作る回路\n",
        "psi_circuit = QuantumCircuit(data_width, name='|ψ>')\n",
        "psi_circuit.ry(0.7, 2)\n",
        "psi_circuit.cx(2, 1)\n",
        "psi_circuit.rz(0.5, 1)\n",
        "psi_circuit.cx(1, 0)\n",
        "psi_circuit.draw('mpl', ax=axs[0])\n",
        "axs[0].set_title(r'$\\psi$')\n",
        "\n",
        "# 適当な状態|φ>を作る回路\n",
        "phi_circuit = QuantumCircuit(data_width, name='|φ>')\n",
        "phi_circuit.rx(1.2, 0)\n",
        "phi_circuit.ry(2.1, 1)\n",
        "phi_circuit.cx(0, 2)\n",
        "phi_circuit.cz(1, 2)\n",
        "phi_circuit.ry(0.8, 2)\n",
        "phi_circuit.draw('mpl', ax=axs[1])\n",
        "axs[1].set_title(r'$\\phi$')\n",
        "\n",
        "# パーツが全て揃ったので、内積を計算する回路を作る\n",
        "reg_data1 = QuantumRegister(data_width, name='data1')\n",
        "reg_data2 = QuantumRegister(data_width, name='data2')\n",
        "reg_test = QuantumRegister(1, name='test')\n",
        "out = ClassicalRegister(1, name='out')\n",
        "\n",
        "circuit = QuantumCircuit(reg_data1, reg_data2, reg_test, out, name='SWAP_test')\n",
        "# 状態|ψ>と|φ>をデータレジスタに実現\n",
        "# 他の回路や別に定義したゲートを回路オブジェクトに組み込むときはappend()メソッドを使う\n",
        "# qargsでもとの回路の量子ビットを組み込み先のどの量子ビットに対応させるかを指定する\n",
        "circuit.append(psi_circuit, qargs=reg_data1)\n",
        "circuit.append(phi_circuit, qargs=reg_data2)\n",
        "\n",
        "# 回路図が見やすくなるようにバリアを入れる（計算上は何もしない操作）\n",
        "circuit.barrier()\n",
        "\n",
        "# ここからがSWAPテスト\n",
        "circuit.h(reg_test)\n",
        "\n",
        "for idx in range(data_width):\n",
        "    circuit.cswap(reg_test[0], reg_data1[idx], reg_data2[idx])\n",
        "\n",
        "circuit.h(reg_test)\n",
        "\n",
        "circuit.measure(reg_test, out)\n",
        "\n",
        "circuit.draw('mpl')"
      ]
    },
    {
      "cell_type": "code",
      "execution_count": null,
      "id": "120ebd6c-537f-4aaf-9f1a-c02e42c0a78c",
      "metadata": {
        "id": "120ebd6c-537f-4aaf-9f1a-c02e42c0a78c"
      },
      "outputs": [],
      "source": [
        "# |ψ>\n",
        "Math(statevector_expr(psi_circuit, state_label=r'\\psi'))"
      ]
    },
    {
      "cell_type": "code",
      "execution_count": null,
      "id": "b480f6c8-cb6f-43a6-ab35-a0d91a5c2e91",
      "metadata": {
        "id": "b480f6c8-cb6f-43a6-ab35-a0d91a5c2e91"
      },
      "outputs": [],
      "source": [
        "# |φ>\n",
        "Math(statevector_expr(phi_circuit, state_label=r'\\phi'))"
      ]
    },
    {
      "cell_type": "markdown",
      "id": "953dc585-f520-4f17-8acb-5b8ac61e1941",
      "metadata": {
        "id": "953dc585-f520-4f17-8acb-5b8ac61e1941"
      },
      "source": [
        "$|\\braket{\\psi}{\\phi}|^2$は"
      ]
    },
    {
      "cell_type": "code",
      "execution_count": null,
      "id": "985cb89f-b339-4c60-bd70-65db6e6cb8ea",
      "metadata": {
        "id": "985cb89f-b339-4c60-bd70-65db6e6cb8ea"
      },
      "outputs": [],
      "source": [
        "sv_psi = get_statevector_array(psi_circuit)\n",
        "sv_phi = get_statevector_array(phi_circuit)\n",
        "print(np.square(np.abs(np.sum(sv_psi.conjugate() * sv_phi))))"
      ]
    },
    {
      "cell_type": "markdown",
      "id": "22933809-25f0-495b-9555-8cef0f35a7fe",
      "metadata": {
        "id": "22933809-25f0-495b-9555-8cef0f35a7fe"
      },
      "source": [
        "$P_0 - P_1$は"
      ]
    },
    {
      "cell_type": "code",
      "execution_count": null,
      "id": "4a188a52-e8b8-4a3c-bc9d-7c9f2ac9415b",
      "metadata": {
        "id": "4a188a52-e8b8-4a3c-bc9d-7c9f2ac9415b"
      },
      "outputs": [],
      "source": [
        "simulator = AerSimulator()\n",
        "sampler = Sampler()\n",
        "shots = 1000000\n",
        "\n",
        "# いつものおまじない\n",
        "circuit = transpile(circuit, backend=simulator)\n",
        "\n",
        "# Samplerで回路をshots回実行し、古典レジスタoutに記録されたビット列の頻度を得る\n",
        "job_result = sampler.run([circuit], shots=shots).result()\n",
        "counts = job_result[0].data.out.get_counts()\n",
        "\n",
        "print((counts.get('0', 0) - counts.get('1', 0)) / shots)"
      ]
    },
    {
      "cell_type": "markdown",
      "id": "5fd530ec-144a-4b44-a04f-378c3bd9525c",
      "metadata": {
        "id": "5fd530ec-144a-4b44-a04f-378c3bd9525c"
      },
      "source": [
        "### 逆回路での内積計算\n",
        "\n",
        "次の回路で測定値が0である確率を$P_0$とすると、\n",
        "\n",
        "$$\n",
        "P_0 = |\\braket{\\psi}{\\phi}|^2\n",
        "$$"
      ]
    },
    {
      "cell_type": "code",
      "execution_count": null,
      "id": "7d521846-3a53-484c-bb15-1ff9aa46fde7",
      "metadata": {
        "id": "7d521846-3a53-484c-bb15-1ff9aa46fde7"
      },
      "outputs": [],
      "source": [
        "reg_data = QuantumRegister(data_width, name='data')\n",
        "out = ClassicalRegister(data_width, name='out')\n",
        "\n",
        "circuit = QuantumCircuit(reg_data, out)\n",
        "\n",
        "circuit.append(phi_circuit, qargs=reg_data)\n",
        "# psi_circuit.inverse() -> psi_circuitの逆回路\n",
        "circuit.append(psi_circuit.inverse(), qargs=reg_data)\n",
        "\n",
        "# 量子ビット[0, 1, 2, ...]を測定し、結果を古典ビット[0, 1, 2, ...]に書き出す\n",
        "circuit.measure(range(data_width), range(data_width))\n",
        "\n",
        "circuit.draw('mpl')"
      ]
    },
    {
      "cell_type": "markdown",
      "id": "2b00c06c-335d-4140-8711-d7d60950a609",
      "metadata": {
        "id": "2b00c06c-335d-4140-8711-d7d60950a609"
      },
      "source": [
        "$P_0$は"
      ]
    },
    {
      "cell_type": "code",
      "execution_count": null,
      "id": "13ce2297-6e05-4f5b-a5e3-6dcb09ab7f7c",
      "metadata": {
        "id": "13ce2297-6e05-4f5b-a5e3-6dcb09ab7f7c"
      },
      "outputs": [],
      "source": [
        "shots = 1000000\n",
        "\n",
        "# おまじない\n",
        "circuit = transpile(circuit, backend=simulator)\n",
        "\n",
        "job_result = sampler.run([circuit], shots=shots).result()\n",
        "counts = job_result[0].data.out.get_counts()\n",
        "\n",
        "print(counts.get('000', 0) / shots)"
      ]
    },
    {
      "cell_type": "markdown",
      "id": "2abb4ae9-86dd-41d7-a646-6398f498e7a5",
      "metadata": {
        "id": "2abb4ae9-86dd-41d7-a646-6398f498e7a5"
      },
      "source": [
        "## 量子テレポーテーション"
      ]
    },
    {
      "cell_type": "code",
      "execution_count": null,
      "id": "0c29efcf-b572-4da1-9025-6a60345f6bed",
      "metadata": {
        "id": "0c29efcf-b572-4da1-9025-6a60345f6bed"
      },
      "outputs": [],
      "source": [
        "# まずは入力ビットを適当な状態にする回路を作る\n",
        "# circuit.u (U3 gate)は3パラメータで一つの量子ビットを完全にコントロールするゲート\n",
        "prep_circuit = QuantumCircuit(1, name='prep')\n",
        "prep_circuit.u(0.7, 1.8, 2.1, 0)\n",
        "\n",
        "reg_in = QuantumRegister(1, name='in')\n",
        "reg_out = QuantumRegister(2, name='out')\n",
        "res_in = ClassicalRegister(1)\n",
        "res_ent = ClassicalRegister(1)\n",
        "\n",
        "circuit = QuantumCircuit(reg_in, reg_out, res_in, res_ent)\n",
        "\n",
        "# まずreg_inをprep_circuitの状態にする\n",
        "circuit.append(prep_circuit, qargs=reg_in)\n",
        "\n",
        "# reg_outはベル状態に用意する\n",
        "circuit.h(reg_out[0])\n",
        "circuit.cx(reg_out[0], reg_out[1])\n",
        "\n",
        "# reg_inとreg_outの第一ビットをエンタングルさせる\n",
        "circuit.cx(reg_in[0], reg_out[0])\n",
        "\n",
        "# reg_inにアダマールゲートをかけ、測定する\n",
        "circuit.h(reg_in[0])\n",
        "circuit.measure(reg_in[0], res_in[0])\n",
        "\n",
        "# reg_outのエンタングルしたビットも測定する\n",
        "circuit.measure(reg_out[0], res_ent[0])\n",
        "\n",
        "# reg_out[1]にreg_in, reg_entの測定結果に応じたゲートをかける\n",
        "circuit.x(reg_out[1]).c_if(res_ent[0], 1)\n",
        "circuit.z(reg_out[1]).c_if(res_in[0], 1)\n",
        "\n",
        "circuit.draw('mpl')"
      ]
    },
    {
      "cell_type": "markdown",
      "id": "91307d15-c2ff-4fe3-b2c6-b9d80ae7468f",
      "metadata": {
        "id": "91307d15-c2ff-4fe3-b2c6-b9d80ae7468f"
      },
      "source": [
        "入力ビットの状態は"
      ]
    },
    {
      "cell_type": "code",
      "execution_count": null,
      "id": "6361f9c2-7c43-4796-a89e-5a951e30fa3e",
      "metadata": {
        "id": "6361f9c2-7c43-4796-a89e-5a951e30fa3e"
      },
      "outputs": [],
      "source": [
        "Math(statevector_expr(prep_circuit, state_label=r'\\text{in}'))"
      ]
    },
    {
      "cell_type": "markdown",
      "id": "6e363bb1-f45f-45ab-bd40-86f5b732f0b9",
      "metadata": {
        "id": "6e363bb1-f45f-45ab-bd40-86f5b732f0b9"
      },
      "source": [
        "回路の終状態は"
      ]
    },
    {
      "cell_type": "code",
      "execution_count": null,
      "id": "07f60341-007d-441c-8c01-f1a4dc5cf4ee",
      "metadata": {
        "id": "07f60341-007d-441c-8c01-f1a4dc5cf4ee"
      },
      "outputs": [],
      "source": [
        "Math(statevector_expr(circuit, register_sizes=(1, 1, 1)))"
      ]
    },
    {
      "cell_type": "markdown",
      "id": "953ebe0c-4cc4-4420-acd7-78cad8b502c1",
      "metadata": {
        "id": "953ebe0c-4cc4-4420-acd7-78cad8b502c1"
      },
      "source": [
        "## トランスパイル\n",
        "\n",
        "[ibm_osakaのトポロジー](https://quantum.ibm.com/services/resources?tab=systems&system=ibm_osaka)"
      ]
    },
    {
      "cell_type": "code",
      "execution_count": null,
      "id": "8c515637-32a6-4fd7-8f59-2dea7bd4b133",
      "metadata": {
        "id": "8c515637-32a6-4fd7-8f59-2dea7bd4b133"
      },
      "outputs": [],
      "source": [
        "runtime_config_path = '/content/gdrive/MyDrive/qiskit-ibm.json'\n",
        "service = QiskitRuntimeService(filename=runtime_config_path)\n",
        "backend = service.backend('ibm_osaka')"
      ]
    },
    {
      "cell_type": "code",
      "execution_count": null,
      "id": "265046fa-d952-4798-8344-9e6cbf01eece",
      "metadata": {
        "id": "265046fa-d952-4798-8344-9e6cbf01eece"
      },
      "outputs": [],
      "source": [
        "# 論理ビット0と1の間でCXをかけるだけの回路\n",
        "circuit = QuantumCircuit(2)\n",
        "circuit.cx(0, 1)\n",
        "\n",
        "# 論理ビットをあえて離れた物理ビットにマップする\n",
        "circuit = transpile(circuit, backend=backend, initial_layout=[0, 4], basis_gates=['x', 'sx', 'rz', 'cx'])\n",
        "circuit.draw('mpl', idle_wires=False)"
      ]
    },
    {
      "cell_type": "code",
      "execution_count": null,
      "id": "1b5d8979-734e-4246-8ae2-7bc31f55d6bb",
      "metadata": {
        "id": "1b5d8979-734e-4246-8ae2-7bc31f55d6bb"
      },
      "outputs": [],
      "source": [
        "# Toffoliゲートの回路\n",
        "circuit = QuantumCircuit(3)\n",
        "circuit.ccx(0, 1, 2)\n",
        "\n",
        "circuit.draw('mpl')"
      ]
    },
    {
      "cell_type": "code",
      "execution_count": null,
      "id": "7c2ce755-eda0-45eb-becc-b6ee1c981f85",
      "metadata": {
        "id": "7c2ce755-eda0-45eb-becc-b6ee1c981f85"
      },
      "outputs": [],
      "source": [
        "# 実機に送られる回路\n",
        "circuit = transpile(circuit, backend=backend)\n",
        "circuit.draw('mpl', idle_wires=False)"
      ]
    },
    {
      "cell_type": "code",
      "execution_count": null,
      "id": "46657ce2-5833-4cba-8b12-fc708564c341",
      "metadata": {
        "id": "46657ce2-5833-4cba-8b12-fc708564c341"
      },
      "outputs": [],
      "source": []
    }
  ],
  "metadata": {
    "kernelspec": {
      "display_name": "Python 3 (ipykernel)",
      "language": "python",
      "name": "python3"
    },
    "language_info": {
      "codemirror_mode": {
        "name": "ipython",
        "version": 3
      },
      "file_extension": ".py",
      "mimetype": "text/x-python",
      "name": "python",
      "nbconvert_exporter": "python",
      "pygments_lexer": "ipython3",
      "version": "3.10.6"
    },
    "colab": {
      "provenance": [],
      "include_colab_link": true
    }
  },
  "nbformat": 4,
  "nbformat_minor": 5
}