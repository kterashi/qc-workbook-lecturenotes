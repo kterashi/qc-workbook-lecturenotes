{
 "cells": [
  {
   "cell_type": "markdown",
   "metadata": {},
   "source": [
    "# 【課題】量子振幅推定"
   ]
  },
  {
   "cell_type": "code",
   "execution_count": null,
   "outputs": [],
   "source": [
    "import sys\n",
    "import shutil\n",
    "import tarfile\n",
    "from google.colab import drive\n",
    "drive.mount('/content/gdrive')\n",
    "shutil.copy('/content/gdrive/MyDrive/qcintro.tar.gz', '.')\n",
    "with tarfile.open('qcintro.tar.gz', 'r:gz') as tar:\n",
    "    tar.extractall(path='/root/.local')\n",
    "\n",
    "sys.path.append('/root/.local/lib/python3.10/site-packages')\n",
    "\n",
    "!git clone -b branch-2024 https://github.com/UTokyo-ICEPP/qc-workbook-lecturenotes\n",
    "!cp -r qc-workbook-lecturenotes/qc_workbook /root/.local/lib/python3.10/site-packages/"
   ],
   "metadata": {
    "collapsed": false
   }
  },
  {
   "cell_type": "code",
   "execution_count": null,
   "metadata": {
    "collapsed": false,
    "ExecuteTime": {
     "end_time": "2024-04-30T08:02:13.840216Z",
     "start_time": "2024-04-30T08:02:13.814700Z"
    },
    "pycharm": {
     "is_executing": true
    }
   },
   "outputs": [],
   "source": [
    "# Tested with python 3.10.11, qiskit 0.42.1, numpy 1.23.5, scipy 1.9.3\n",
    "import matplotlib.pyplot as plt\n",
    "import numpy as np\n",
    "from IPython.display import Math\n",
    "\n",
    "# Qiskit関連のパッケージをインポート\n",
    "from qiskit import QuantumCircuit, ClassicalRegister, QuantumRegister, transpile\n",
    "from qiskit_aer import AerSimulator\n",
    "\n",
    "# ワークブック独自のモジュール\n",
    "from qc_workbook.show_state import statevector_expr\n",
    "\n",
    "print('notebook ready')"
   ]
  },
  {
   "cell_type": "code",
   "execution_count": null,
   "outputs": [],
   "source": [
    "n_state = 3\n",
    "\n",
    "##################\n",
    "### EDIT BELOW ###\n",
    "##################\n",
    "\n",
    "# state_prepの回路を書いてください\n",
    "#state_prep = ...\n",
    "\n",
    "##################\n",
    "### ABOVE BELOW ###\n",
    "##################\n",
    "state_prep.name = \"State_Prep\"\n",
    "\n",
    "state_prep.draw('mpl')"
   ],
   "metadata": {
    "collapsed": false,
    "ExecuteTime": {
     "end_time": "2024-04-30T08:02:18.354557Z",
     "start_time": "2024-04-30T08:02:18.168227Z"
    },
    "pycharm": {
     "is_executing": true
    }
   }
  },
  {
   "cell_type": "code",
   "execution_count": null,
   "outputs": [],
   "source": [
    "simulator = AerSimulator(method='statevector')\n",
    "\n",
    "def get_statevector_array(circuit):\n",
    "    # 渡された回路のコピーを使う\n",
    "    circuit = circuit.copy()\n",
    "    # 量子回路の終状態の状態ベクトルを保存するインストラクション\n",
    "    circuit.save_statevector()\n",
    "    # 再び「おまじない」のtranspileをしてから、run()に渡す\n",
    "    circuit = transpile(circuit, backend=simulator)\n",
    "    job = simulator.run(circuit)\n",
    "    result = job.result()\n",
    "    qiskit_statevector = result.data()['statevector']\n",
    "\n",
    "    # result.data()['statevector']は通常の配列オブジェクト（ndarray）ではなくqiskit独自のクラスのインスタンス\n",
    "    # ただし np.asarray() で numpy の ndarray に変換可能\n",
    "    return np.asarray(qiskit_statevector)\n",
    "\n",
    "statevector = get_statevector_array(state_prep)\n",
    "expr = statevector_expr(statevector)\n",
    "Math(expr)"
   ],
   "metadata": {
    "collapsed": false,
    "ExecuteTime": {
     "end_time": "2024-04-30T08:02:21.028550Z",
     "start_time": "2024-04-30T08:02:20.926084Z"
    },
    "pycharm": {
     "is_executing": true
    }
   }
  },
  {
   "cell_type": "code",
   "execution_count": null,
   "outputs": [],
   "source": [
    "##################\n",
    "### EDIT BELOW ###\n",
    "##################\n",
    "\n",
    "# Groberの反復を行う回路を書いてください\n",
    "#grover_iter = ...?\n",
    "\n",
    "##################\n",
    "### ABOVE BELOW ###\n",
    "##################\n",
    "\n",
    "grover_iter.decompose().draw('mpl')"
   ],
   "metadata": {
    "collapsed": false,
    "ExecuteTime": {
     "end_time": "2024-04-30T08:03:43.923893Z",
     "start_time": "2024-04-30T08:03:43.759135Z"
    },
    "pycharm": {
     "is_executing": true
    }
   }
  },
  {
   "cell_type": "code",
   "outputs": [],
   "source": [
    "n_readout = 4\n",
    "\n",
    "# 読み出しレジスタ\n",
    "qreg_readout = QuantumRegister(n_readout, name='readout')\n",
    "# 状態レジスタ\n",
    "qreg_state = QuantumRegister(n_state, name='state')\n",
    "# 読み出し結果が書き出される古典レジスタ\n",
    "creg_readout = ClassicalRegister(n_readout, name='out')\n",
    "\n",
    "# 2つの量子レジスタと1つの古典レジスタから量子回路を作る\n",
    "qc = QuantumCircuit(qreg_readout, qreg_state, creg_readout)\n",
    "\n",
    "# それぞれのレジスタを初期化\n",
    "qc.h(qreg_readout)\n",
    "qc.barrier()\n",
    "\n",
    "# 状態準備の回路state_prepを固有ベクトルを保持するレジスタに入れる\n",
    "qc.append(state_prep, qargs = qreg_state)\n",
    "qc.barrier()\n",
    "\n",
    "##################\n",
    "### EDIT BELOW ###\n",
    "##################\n",
    "\n",
    "# 読み出しレジスタを制御ビットとして、制御Gゲートを状態レジスタに適用する回路を書いてください。\n",
    "\n",
    "##################\n",
    "### ABOVE BELOW ###\n",
    "##################"
   ],
   "metadata": {
    "collapsed": false,
    "ExecuteTime": {
     "end_time": "2024-04-30T08:03:47.668732Z",
     "start_time": "2024-04-30T08:03:47.530036Z"
    }
   },
   "execution_count": 34
  },
  {
   "cell_type": "code",
   "outputs": [],
   "source": [
    "def qft_dagger(qreg):\n",
    "    \"\"\"逆量子フーリエ変換用の回路\"\"\"\n",
    "    qc = QuantumCircuit(qreg)\n",
    "\n",
    "    for j in range(qreg.size // 2):\n",
    "        qc.swap(qreg[j], qreg[-1 - j])\n",
    "\n",
    "    for itarg in range(qreg.size):\n",
    "        for ictrl in range(itarg):\n",
    "            power = ictrl - itarg - 1\n",
    "            qc.cp(-2. * np.pi * (2 ** power), ictrl, itarg)\n",
    "\n",
    "        qc.h(itarg)\n",
    "\n",
    "    qc.name = \"QFT^dagger\"\n",
    "    return qc\n",
    "\n",
    "qc.barrier()\n",
    "# 読み出しレジスタに逆フーリエ変換の回路を追加\n",
    "qc.append(qft_dagger(qreg_readout), qargs = qreg_readout)\n",
    "qc.barrier()\n",
    "qc.measure(qreg_readout, creg_readout)\n",
    "#qc.decompose().draw('mpl')\n",
    "qc.draw('mpl')"
   ],
   "metadata": {
    "collapsed": false,
    "ExecuteTime": {
     "end_time": "2024-04-30T08:03:55.034329Z",
     "start_time": "2024-04-30T08:03:54.629242Z"
    },
    "pycharm": {
     "is_executing": true
    }
   },
   "execution_count": null
  },
  {
   "cell_type": "code",
   "outputs": [],
   "source": [
    "from qiskit.primitives import Sampler\n",
    "sampler = Sampler()\n",
    "\n",
    "# Now run the job and examine the results\n",
    "sampler_job = sampler.run(qc)\n",
    "result = sampler_job.result()\n",
    "\n",
    "from qiskit.visualization import plot_distribution\n",
    "plt.style.use('dark_background')\n",
    "plot_distribution(result.quasi_dists[0])"
   ],
   "metadata": {
    "collapsed": false,
    "ExecuteTime": {
     "end_time": "2024-04-30T08:04:01.222893Z",
     "start_time": "2024-04-30T08:04:00.996557Z"
    },
    "pycharm": {
     "is_executing": true
    }
   },
   "execution_count": null
  },
  {
   "cell_type": "markdown",
   "source": [
    "**提出するもの**\n",
    "\n",
    "- 以下を行う回路\n",
    "  - 状態を準備する\n",
    "  - グローバーの反復Gを行う\n",
    "  - 読み出しレジスタを制御ビットとして、制御Gゲートを状態レジスタに適用する\n",
    "- 量子振幅推定を行った結果のヒストグラムと、その解釈"
   ],
   "metadata": {
    "collapsed": false
   }
  },
  {
   "cell_type": "markdown",
   "source": [
    "**量子振幅推定の結果の解釈**\n"
   ],
   "metadata": {
    "collapsed": false
   }
  },
  {
   "cell_type": "code",
   "execution_count": null,
   "outputs": [],
   "source": [],
   "metadata": {
    "collapsed": false
   }
  }
 ],
 "metadata": {
  "kernelspec": {
   "display_name": "Python 3 (ipykernel)",
   "language": "python",
   "name": "python3"
  },
  "language_info": {
   "codemirror_mode": {
    "name": "ipython",
    "version": 3
   },
   "file_extension": ".py",
   "mimetype": "text/x-python",
   "name": "python",
   "nbconvert_exporter": "python",
   "pygments_lexer": "ipython3",
   "version": "3.8.10"
  }
 },
 "nbformat": 4,
 "nbformat_minor": 4
}
