{
  "nbformat": 4,
  "nbformat_minor": 0,
  "metadata": {
    "colab": {
      "provenance": [],
      "authorship_tag": "ABX9TyOsD+m2+ZS/MOyQ/fp9tZW+",
      "include_colab_link": true
    },
    "kernelspec": {
      "name": "python3",
      "display_name": "Python 3"
    },
    "language_info": {
      "name": "python"
    }
  },
  "cells": [
    {
      "cell_type": "markdown",
      "metadata": {
        "id": "view-in-github",
        "colab_type": "text"
      },
      "source": [
        "<a href=\"https://colab.research.google.com/github/yiiyama/qc-workbook-lecturenotes/blob/branch-2024/assignment_2024_04_18.ipynb\" target=\"_parent\"><img src=\"https://colab.research.google.com/assets/colab-badge.svg\" alt=\"Open In Colab\"/></a>"
      ]
    },
    {
      "cell_type": "code",
      "execution_count": null,
      "metadata": {
        "id": "72rfyN_QAAk7"
      },
      "outputs": [],
      "source": [
        "# まずは必要になるpythonモジュールのライブラリファイルをコピーし、すべてインポートしておく\n",
        "import os\n",
        "import sys\n",
        "import shutil\n",
        "import tarfile\n",
        "from google.colab import drive\n",
        "drive.mount('/content/gdrive')\n",
        "shutil.copy('/content/gdrive/MyDrive/qcintro.tar.gz', '.')\n",
        "with tarfile.open('qcintro.tar.gz', 'r:gz') as tar:\n",
        "    tar.extractall(path='/root/.local')\n",
        "\n",
        "sys.path.append('/root/.local/lib/python3.10/site-packages')"
      ]
    },
    {
      "cell_type": "code",
      "source": [
        "# まずは全てインポート\n",
        "import numpy as np\n",
        "import matplotlib.pyplot as plt\n",
        "from scipy.optimize import minimize, Bounds\n",
        "from qiskit import QuantumCircuit, transpile\n",
        "from qiskit_aer import AerSimulator\n",
        "from qiskit_aer.primitives import SamplerV2 as Sampler\n",
        "from qiskit.visualization import plot_histogram\n",
        "\n",
        "print('notebook ready')"
      ],
      "metadata": {
        "id": "wjtpOGP-AUh9"
      },
      "execution_count": null,
      "outputs": []
    },
    {
      "cell_type": "code",
      "source": [
        "simulator = AerSimulator()\n",
        "sampler = Sampler()\n",
        "print(simulator.name)"
      ],
      "metadata": {
        "id": "rO8XnrQDAXnN"
      },
      "execution_count": null,
      "outputs": []
    },
    {
      "cell_type": "markdown",
      "source": [
        "## 問題１：シミュレータを使う"
      ],
      "metadata": {
        "id": "zrtXmoQ0Am-a"
      }
    },
    {
      "cell_type": "code",
      "source": [
        "circuits = []\n",
        "\n",
        "##################\n",
        "### EDIT BELOW ###\n",
        "##################\n",
        "\n",
        "#講義と同様に4通りの回路を用意し、circuitsに編入する\n",
        "\n",
        "##################\n",
        "### EDIT ABOVE ###\n",
        "##################"
      ],
      "metadata": {
        "id": "x6rLVNlaAZcl"
      },
      "execution_count": null,
      "outputs": []
    },
    {
      "cell_type": "code",
      "source": [
        "# シミュレータにはショット数の制限がないので、時間の許す限りいくらでも大きい値を使っていい\n",
        "shots = 10000\n",
        "\n",
        "# 実習と同じく transpile() - 今は「おまじない」と思ってよい\n",
        "circuits = transpile(circuits, backend=simulator)\n",
        "# シミュレータもバックエンドと同じように振る舞うので、runメソッドで回路とショット数を受け取り、ジョブオブジェクトを返す\n",
        "job = sampler.run(circuits, shots=shots)\n",
        "\n",
        "# シミュレータから渡されたジョブオブジェクトは実機のジョブと全く同じように扱える\n",
        "result = job.result()\n",
        "\n",
        "c_arr = np.zeros(4, dtype=float)\n",
        "\n",
        "##################\n",
        "### EDIT BELOW ###\n",
        "##################\n",
        "\n",
        "#講義と同様にSamplerの結果からc_arrを計算する\n",
        "\n",
        "##################\n",
        "### EDIT ABOVE ###\n",
        "##################\n",
        "\n",
        "c_arr /= shots\n",
        "\n",
        "s_val = c_arr[0] - c_arr[1] + c_arr[2] + c_arr[3]\n",
        "print('S =', s_val)"
      ],
      "metadata": {
        "id": "6JhV3N5GAsPa"
      },
      "execution_count": null,
      "outputs": []
    },
    {
      "cell_type": "markdown",
      "source": [
        "## 問題２：Ryの角度を連続的に変える\n",
        "\n",
        "ここまで測定の直前のRyゲートの引数に特定の値のみ使ってきましたが、この角度を細かく変えていくとどうなるでしょうか。"
      ],
      "metadata": {
        "id": "Z5gix1spAxLT"
      }
    },
    {
      "cell_type": "code",
      "source": [
        "# Consider 20 points each for theta and phi (400 points total)\n",
        "ntheta = 20\n",
        "nchi = 20\n",
        "\n",
        "thetas = np.linspace(0., np.pi, ntheta)\n",
        "chis = np.linspace(0., np.pi, nchi)\n",
        "\n",
        "# Construct a circuit for each (theta, chi) pair\n",
        "circuits = []\n",
        "# np.ndindex returns an iterator over a multi-dimensional array\n",
        "# -> idx = (0, 0), (0, 1), ..., (1, 0), (1, 1), ...\n",
        "for idx in np.ndindex(ntheta, nchi):\n",
        "    theta = thetas[idx[0]]\n",
        "    chi = chis[idx[1]]\n",
        "\n",
        "    circuit = QuantumCircuit(2, name=f'circuit_{idx[0]}_{idx[1]}')\n",
        "\n",
        "    # Create a circuit that forms a Bell state, applies Ry gates with theta and chi\n",
        "    # as arguments, and measures the state\n",
        "\n",
        "    ##################\n",
        "    ### EDIT BELOW ###\n",
        "    ##################\n",
        "\n",
        "    #circuit.?\n",
        "\n",
        "    ##################\n",
        "    ### EDIT ABOVE ###\n",
        "    ##################\n",
        "\n",
        "    circuit.measure_all()\n",
        "\n",
        "    circuits.append(circuit)\n",
        "\n",
        "# Execute all circuits in Sampler and retrieve the results\n",
        "shots = 10000\n",
        "circuits = transpile(circuits, backend=simulator)\n",
        "job = sampler.run(circuits, shots=shots)\n",
        "result = job.result()"
      ],
      "metadata": {
        "id": "KDO8cTsoAzbk"
      },
      "execution_count": null,
      "outputs": []
    },
    {
      "cell_type": "code",
      "source": [
        "# Compute the C values for each (theta, chi)\n",
        "c_values = np.zeros((ntheta, nchi), dtype=float)\n",
        "for icirc, idx in enumerate(np.ndindex(ntheta, nchi)):\n",
        "    # This is the counts dict for the (theta, chi) pair\n",
        "    counts = result[icirc].data.meas.get_counts()\n",
        "\n",
        "    ##################\n",
        "    ### EDIT BELOW ###\n",
        "    ##################\n",
        "\n",
        "    #c_values[idx] = ?\n",
        "\n",
        "    ##################\n",
        "    ### EDIT ABOVE ###\n",
        "    ##################\n",
        "\n",
        "# Making a 2D plot using imshow()\n",
        "# The theta dimension of c_values must be reversed because imshow() puts the origin at the top left corner\n",
        "dtheta = (thetas[1] - thetas[0]) * 0.5\n",
        "dchi = (chis[1] - chis[0]) * 0.5\n",
        "plt.imshow(c_values[::-1], extent=(chis[0] - dchi, chis[-1] + dchi, thetas[0] - dtheta, thetas[-1] + dtheta))\n",
        "plt.xlabel(r'$\\chi$')\n",
        "plt.ylabel(r'$\\theta$')\n",
        "plt.colorbar(label='C')\n",
        "# Place markers at theta and chi values that realize |S| = 2 sqrt(2)\n",
        "plt.scatter([np.pi / 4., np.pi / 4., 3. * np.pi / 4.], [0., np.pi / 2., np.pi / 2.], c='red', marker='+')\n",
        "plt.scatter([3. * np.pi / 4.], [0.], c='white', marker='+');"
      ],
      "metadata": {
        "id": "sWnBBUjWC4ev"
      },
      "execution_count": null,
      "outputs": []
    },
    {
      "cell_type": "markdown",
      "source": [
        "プロット上に、合わせて$|S| = 2\\sqrt{2}$となる時の$\\theta, \\chi$の値の組み合わせを表示してあります（$\\langle \\sigma^{\\chi} \\sigma^{\\theta} \\rangle$を足す点は赤、引く点は白）"
      ],
      "metadata": {
        "id": "UqqCNcSpDB9-"
      }
    },
    {
      "cell_type": "markdown",
      "source": [
        "## 問題３：混合状態での評価"
      ],
      "metadata": {
        "id": "MOnV6UukC_2S"
      }
    },
    {
      "cell_type": "code",
      "source": [
        "# Construct a circuit for each (theta, chi) pair\n",
        "circuits_ghz = []\n",
        "# np.ndindex returns an iterator over a multi-dimensional array\n",
        "# -> idx = (0, 0), (0, 1), ..., (1, 0), (1, 1), ...\n",
        "for idx in np.ndindex(ntheta, nchi):\n",
        "    theta = thetas[idx[0]]\n",
        "    chi = chis[idx[1]]\n",
        "\n",
        "    circuit = QuantumCircuit(3, name=f'circuit_{idx[0]}_{idx[1]}')\n",
        "\n",
        "    # Create a circuit that forms a GHZ state and then measures the two qubits\n",
        "    # along theta and chi bases\n",
        "\n",
        "    ##################\n",
        "    ### EDIT BELOW ###\n",
        "    ##################\n",
        "\n",
        "    #circuit.?\n",
        "\n",
        "    ##################\n",
        "    ### EDIT ABOVE ###\n",
        "    ##################\n",
        "\n",
        "    circuit.measure_all()\n",
        "\n",
        "    circuits_ghz.append(circuit)\n",
        "\n",
        "# Execute all circuits in qasm_simulator and retrieve the results\n",
        "circuits_ghz = transpile(circuits_ghz, backend=simulator)\n",
        "sim_job_ghz = sampler.run(circuits_ghz, shots=shots)\n",
        "result_ghz = sim_job_ghz.result()"
      ],
      "metadata": {
        "id": "G2jNX_NFDGT0"
      },
      "execution_count": null,
      "outputs": []
    },
    {
      "cell_type": "code",
      "source": [
        "def counts_ignoring_qubit2(counts, bitstring):\n",
        "    \"\"\"Add the counts of cases where qubit C is 0 and 1\"\"\"\n",
        "\n",
        "    return counts.get(f'0{bitstring}', 0) + counts.get(f'1{bitstring}', 0)\n",
        "\n",
        "# Compute the C values for each (theta, chi)\n",
        "c_values_ghz = np.zeros((ntheta, nchi), dtype=float)\n",
        "for icirc, idx in enumerate(np.ndindex(ntheta, nchi)):\n",
        "    # This is the counts dict for the (theta, chi) pair\n",
        "    counts = result_ghz[icirc].data.meas.get_counts()\n",
        "\n",
        "    ##################\n",
        "    ### EDIT BELOW ###\n",
        "    ##################\n",
        "\n",
        "    #c_values_ghz[idx] = ?\n",
        "\n",
        "    ##################\n",
        "    ### EDIT ABOVE ###\n",
        "    ##################\n",
        "\n",
        "# Making a 2D plot using imshow()\n",
        "# The theta dimension of c_values must be reversed because imshow() puts the origin at the top left corner\n",
        "plt.imshow(c_values_ghz[::-1], extent=(chis[0] - dchi, chis[-1] + dchi, thetas[0] - dtheta, thetas[-1] + dtheta))\n",
        "plt.xlabel(r'$\\chi$')\n",
        "plt.ylabel(r'$\\theta$')\n",
        "plt.colorbar(label='C');"
      ],
      "metadata": {
        "id": "3wdwx4mVDKuq"
      },
      "execution_count": null,
      "outputs": []
    },
    {
      "cell_type": "markdown",
      "source": [
        "計算したc_values_ghzから総当たりで$|S|$の最大値を計算してみましょう。"
      ],
      "metadata": {
        "id": "DgKPnPKnDPyH"
      }
    },
    {
      "cell_type": "code",
      "source": [
        "max_abs_s = 0.\n",
        "\n",
        "# Use ndindex to iterate over all index combinations\n",
        "for ikappa, ilambda, imu, inu in np.ndindex(ntheta, nchi, ntheta, nchi):\n",
        "    abs_s = abs(c_values_ghz[ikappa, ilambda] - c_values_ghz[ikappa, inu] + c_values_ghz[imu, ilambda] + c_values_ghz[imu, inu])\n",
        "    max_abs_s = max(abs_s, max_abs_s)\n",
        "\n",
        "print(f'max |S| = {max_abs_s}')"
      ],
      "metadata": {
        "id": "jEzJFQIcDPBZ"
      },
      "execution_count": null,
      "outputs": []
    },
    {
      "cell_type": "markdown",
      "source": [
        "**提出するもの**\n",
        "\n",
        "- 問題1, 2, 3において完成した回路のコード（EDIT BELOW / EDIT ABOVEの間を埋める）とシミュレーション結果によるプロット\n",
        "- おまけ（評価対象外）：問題３で、量子ビットCをどのような基底で測定しても、その結果を無視する限りにおいて$C$の値は変わらないということの証明\n",
        "- おまけ（評価対象外）：問題３で、量子ビットCをある基底で測定し、その結果が0であった時のみを考慮すると、ABにベル状態を回復することができる。そのような基底の同定と、問題３のように量子回路を組んで問題２と同じプロットが得られることの確認"
      ],
      "metadata": {
        "id": "yNn0nQ3fDVFK"
      }
    },
    {
      "cell_type": "code",
      "source": [],
      "metadata": {
        "id": "e1Lej68zDg3Z"
      },
      "execution_count": null,
      "outputs": []
    }
  ]
}