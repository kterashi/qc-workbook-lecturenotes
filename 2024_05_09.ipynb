{
 "cells": [
  {
   "cell_type": "markdown",
   "metadata": {},
   "source": [
    "## QPEの簡単な例を実装する\n",
    "\n",
    "では実際に、簡単な回路を使って量子位相推定を実装してみましょう。\n",
    "\n",
    "まず、あるユニタリー演算$U$に対して$U|\\psi\\rangle=e^{2\\pi i\\theta}|\\psi\\rangle$となる固有ベクトル$|\\psi\\rangle$が必要ですが、ここでは$U$として1量子ビットの$S$ゲート（位相$\\sqrt{Z}$ゲート）を考えてみます。$|1\\rangle=\\begin{pmatrix}0\\\\1\\end{pmatrix}$として、$S|1\\rangle=e^{i\\pi/2}|1\\rangle$となるので$|1\\rangle$は$S$の固有ベクトル、$e^{i\\pi/2}$がその固有値です。QPEは固有値$e^{2\\pi i\\theta}$の位相$\\theta$を求めるので、$S$の場合は$\\theta=1/4$を求めることに相当します。これを回路を使って実際に確かめてみます。"
   ]
  },
  {
   "cell_type": "code",
   "outputs": [],
   "source": [
    "import sys\n",
    "import shutil\n",
    "import tarfile\n",
    "from google.colab import drive\n",
    "drive.mount('/content/gdrive')\n",
    "shutil.copy('/content/gdrive/MyDrive/qcintro.tar.gz', '.')\n",
    "with tarfile.open('qcintro.tar.gz', 'r:gz') as tar:\n",
    "    tar.extractall(path='/root/.local')\n",
    "\n",
    "sys.path.append('/root/.local/lib/python3.10/site-packages')\n",
    "\n",
    "!git clone -b branch-2024 https://github.com/UTokyo-ICEPP/qc-workbook-lecturenotes\n",
    "!cp -r qc-workbook-lecturenotes/qc_workbook /root/.local/lib/python3.10/site-packages/"
   ],
   "metadata": {
    "collapsed": false
   }
  },
  {
   "cell_type": "code",
   "execution_count": 1,
   "metadata": {
    "pycharm": {
     "name": "#%%\n"
    },
    "ExecuteTime": {
     "end_time": "2024-05-01T08:05:29.046882Z",
     "start_time": "2024-05-01T08:05:27.476122Z"
    }
   },
   "outputs": [],
   "source": [
    "# Tested with python 3.10.14, qiskit 1.0.2, numpy 1.26.4, scipy 1.13.0\n",
    "from fractions import Fraction\n",
    "import matplotlib.pyplot as plt\n",
    "import numpy as np\n",
    "\n",
    "from qiskit import QuantumRegister, ClassicalRegister, QuantumCircuit, transpile\n",
    "from qiskit_ibm_runtime import QiskitRuntimeService, Session, Sampler as RuntimeSampler\n"
   ]
  },
  {
   "cell_type": "code",
   "execution_count": 2,
   "metadata": {
    "pycharm": {
     "name": "#%%\n"
    },
    "ExecuteTime": {
     "end_time": "2024-05-01T08:05:31.374295Z",
     "start_time": "2024-05-01T08:05:31.367074Z"
    }
   },
   "outputs": [],
   "source": [
    "n_meas = 3\n",
    "\n",
    "# 位相測定用のレジスタ\n",
    "qreg_meas = QuantumRegister(n_meas, name='meas')\n",
    "# 固有ベクトルを保持するレジスタ\n",
    "qreg_aux = QuantumRegister(1, name='aux')\n",
    "# 位相測定の結果が書き出される古典レジスタ\n",
    "creg_meas = ClassicalRegister(n_meas, name='out')\n",
    "\n",
    "# 2つの量子レジスタと1つの古典レジスタから量子回路を作る\n",
    "qc = QuantumCircuit(qreg_meas, qreg_aux, creg_meas)\n",
    "\n",
    "# それぞれのレジスタを初期化\n",
    "qc.h(qreg_meas)\n",
    "qc.x(qreg_aux)\n",
    "\n",
    "# angle/(2π)がQPEで求めたい位相\n",
    "angle = np.pi / 2\n",
    "\n",
    "# S = P(π/2)なので、(Controlled-S)^x を CP(xπ/2) で代替\n",
    "for x, ctrl in enumerate(qreg_meas):\n",
    "    qc.cp(angle * (2 ** x), ctrl, qreg_aux[0])"
   ]
  },
  {
   "cell_type": "code",
   "execution_count": null,
   "metadata": {
    "pycharm": {
     "name": "#%%\n"
    }
   },
   "outputs": [],
   "source": [
    "def qft_dagger(qreg):\n",
    "    \"\"\"逆量子フーリエ変換用の回路\"\"\"\n",
    "    qc = QuantumCircuit(qreg)\n",
    "\n",
    "    ##################\n",
    "    ### EDIT BELOW ###\n",
    "    ##################\n",
    "\n",
    "    #qc?\n",
    "\n",
    "    ##################\n",
    "    ### EDIT ABOVE ###\n",
    "    ##################\n",
    "\n",
    "    qc.name = \"QFT^dagger\"\n",
    "    return qc\n",
    "\n",
    "qc.barrier()\n",
    "qc.append(qft_dagger(qreg_meas), qargs=qreg_meas)\n",
    "qc.barrier()\n",
    "qc.measure(qreg_meas, creg_meas)\n",
    "qc.draw('mpl')"
   ]
  },
  {
   "cell_type": "markdown",
   "metadata": {
    "pycharm": {
     "name": "#%% md\n"
    }
   },
   "source": [
    "### シミュレータでの実験\n",
    "\n",
    "シミュレータで実行して、測定結果の確率分布を作ってみます。"
   ]
  },
  {
   "cell_type": "code",
   "outputs": [],
   "source": [
    "from qiskit.primitives import Sampler\n",
    "\n",
    "# Instantiate a new Sampler object\n",
    "sampler = Sampler()\n",
    "\n",
    "# Now run the job and examine the results\n",
    "sampler_job = sampler.run(qc)\n",
    "result = sampler_job.result()\n",
    "#print(f\"Job Result:\\n>>> {result}\")\n",
    "#print(f\"  > Quasi-probability distribution (integer): {result.quasi_dists[0]}\")\n",
    "#print(f\"  > Quasi-probability distribution (bits): {result.quasi_dists[0].binary_probabilities(2)}\")\n",
    "#print(f\"  > Metadata: {result.metadata[0]}\")\n",
    "\n",
    "from qiskit.visualization import plot_distribution\n",
    "plt.style.use('dark_background')\n",
    "plot_distribution(result.quasi_dists[0])"
   ],
   "metadata": {
    "collapsed": false
   },
   "execution_count": null
  },
  {
   "cell_type": "markdown",
   "metadata": {
    "pycharm": {
     "name": "#%% md\n"
    }
   },
   "source": [
    "ここで見た量子回路はシンプルですが、いろいろ拡張して振る舞いを理解するのに役立ちます。例えば、以下の問題を調べてみてください。\n",
    "- （グローバル因子を除いて）$S=R_Z(\\pi/2)$ゲートの例を見ましたが、角度を$0<\\phi<\\pi$の範囲で変えた$R_Z(\\phi)$ゲートではどうなるでしょうか？\n",
    "- 角度の選び方によっては、得られる位相の精度が悪くなります。その場合、どうすればより良い精度で測定できるでしょうか？\n",
    "- $S$ゲートの場合固有ベクトルは$|1\\rangle$でしたが、$|1\\rangle$以外の状態を使うとどうなりますか？特に固有ベクトルと線形従属なベクトルを使った場合の振る舞いを見てみてください。"
   ]
  },
  {
   "cell_type": "markdown",
   "metadata": {
    "pycharm": {
     "name": "#%% md\n"
    }
   },
   "source": [
    "### 量子コンピュータでの実験\n",
    "\n",
    "最後に量子コンピュータで実行して、結果を確認してみましょう、以下のようにすることで、現時点でbusyでないマシンを優先的に選んで実行してくれます。"
   ]
  },
  {
   "cell_type": "code",
   "outputs": [],
   "source": [
    "# IBMidの登録が済んでいて、Provider情報を受け取っている人は\n",
    "# 　instance='ibm-q-utokyo/internal/__your_project_here__'\n",
    "# を指定して、セットアップ時に作ったqiskit-ibm.jsonファイルを上書き保存する\n",
    "QiskitRuntimeService.save_account(channel='ibm_quantum', token='__your_API_token_here__',\n",
    "                                  instance='ibm-q-utokyo/internal/__your_project_here__',\n",
    "                                  filename='/content/gdrive/MyDrive/qiskit-ibm.json', overwrite=True)"
   ],
   "metadata": {
    "collapsed": false
   }
  },
  {
   "cell_type": "code",
   "execution_count": null,
   "metadata": {
    "pycharm": {
     "name": "#%%\n"
    }
   },
   "outputs": [],
   "source": [
    "# 量子コンピュータで実行する場合\n",
    "runtime_config_path = '/content/gdrive/MyDrive/qiskit-ibm.json'\n",
    "service = QiskitRuntimeService(filename=runtime_config_path)\n",
    "\n",
    "# 最も空いているバックエンドを見つけて、そのバックエンドに対して回路をトランスパイル\n",
    "backend = service.least_busy(min_num_qubits=n_meas+1, simulator=False, operational=True)\n",
    "print(f\"least busy backend: {backend.name}\")\n",
    "\n",
    "qc = transpile(qc, backend=backend)"
   ]
  },
  {
   "cell_type": "code",
   "execution_count": 16,
   "metadata": {
    "pycharm": {
     "name": "#%%\n"
    },
    "ExecuteTime": {
     "end_time": "2024-04-13T05:17:17.272087Z",
     "start_time": "2024-04-13T05:17:15.260232Z"
    }
   },
   "outputs": [
    {
     "name": "stdout",
     "output_type": "stream",
     "text": [
      ">>> Job ID: crd1aq2djmqg008kf2c0\n",
      ">>> Session ID: crd1aptdqdn000834ta0\n",
      ">>> Job Status: JobStatus.QUEUED\n"
     ]
    }
   ],
   "source": [
    "# create a Runtime session for efficient execution (optional)\n",
    "session = Session(service=service, backend=backend)\n",
    "sampler = RuntimeSampler(session=session)\n",
    "\n",
    "job = sampler.run(qc)\n",
    "print(f\">>> Job ID: {job.job_id()}\")\n",
    "print(f\">>> Session ID: {job.session_id}\")\n",
    "print(f\">>> Job Status: {job.status()}\")"
   ]
  },
  {
   "cell_type": "code",
   "outputs": [
    {
     "name": "stdout",
     "output_type": "stream",
     "text": [
      ">>> Job Status: JobStatus.QUEUED\n"
     ]
    }
   ],
   "source": [
    "# Use a job id from a previous result\n",
    "job = service.job(\"crd1aq2djmqg008kf2c0\")\n",
    "print(f\">>> Job Status: {job.status()}\")"
   ],
   "metadata": {
    "collapsed": false,
    "ExecuteTime": {
     "end_time": "2024-04-13T05:24:20.061329Z",
     "start_time": "2024-04-13T05:24:18.931763Z"
    }
   },
   "execution_count": 24
  },
  {
   "cell_type": "code",
   "execution_count": null,
   "metadata": {
    "pycharm": {
     "name": "#%%\n"
    }
   },
   "outputs": [],
   "source": [
    "result = job.result()\n",
    "plot_distribution(result.quasi_dists[0])"
   ]
  },
  {
   "cell_type": "markdown",
   "metadata": {
    "pycharm": {
     "name": "#%% md\n"
    }
   },
   "source": [
    "## アルゴリズムの実装\n",
    "\n",
    "ここから、ショアのアルゴリズムを実装していきます。"
   ]
  },
  {
   "cell_type": "markdown",
   "metadata": {
    "pycharm": {
     "name": "#%% md\n"
    }
   },
   "source": [
    "### 位数の発見\n",
    "\n",
    "まず最初に、繰り返しの位数（周期）を発見するアルゴリズムを見てみます。"
   ]
  },
  {
   "cell_type": "code",
   "execution_count": null,
   "metadata": {
    "pycharm": {
     "name": "#%%\n"
    }
   },
   "outputs": [],
   "source": [
    "N = 35\n",
    "a = 3\n",
    "\n",
    "# プロットするデータを計算する\n",
    "xvals = np.arange(35)\n",
    "yvals = [np.mod(a**x, N) for x in xvals]\n",
    "\n",
    "# matplotlibを使って描画\n",
    "fig, ax = plt.subplots()\n",
    "ax.plot(xvals, yvals, linewidth=1, linestyle='dotted', marker='x')\n",
    "ax.set(xlabel='$x$', ylabel='$%i^x$ mod $%i$' % (a, N),\n",
    "       title=\"Example of Periodic Function in Shor's Algorithm\")\n",
    "try: # グラフ上にrをプロット\n",
    "    r = yvals[1:].index(1) + 1\n",
    "    plt.annotate(text='', xy=(0,1), xytext=(r,1), arrowprops=dict(arrowstyle='<->'))\n",
    "    plt.annotate(text='$r=%i$' % r, xy=(r/3,1.5))\n",
    "except:\n",
    "    print('Could not find period, check a < N and have no common factors.')"
   ]
  },
  {
   "cell_type": "markdown",
   "metadata": {
    "pycharm": {
     "name": "#%% md\n"
    }
   },
   "source": [
    "### オラクルの実装"
   ]
  },
  {
   "cell_type": "code",
   "execution_count": 6,
   "metadata": {
    "pycharm": {
     "name": "#%%\n"
    },
    "ExecuteTime": {
     "end_time": "2024-05-01T07:38:59.883828Z",
     "start_time": "2024-05-01T07:38:59.876852Z"
    }
   },
   "outputs": [],
   "source": [
    "def c_amod15(a, power):\n",
    "    \"\"\"mod 15による制御ゲート\"\"\"\n",
    "    if a not in [2,4,7,8,11,13]:\n",
    "        raise ValueError(\"'a' must be 2,4,7,8,11 or 13\")\n",
    "\n",
    "    U = QuantumCircuit(4)\n",
    "\n",
    "    ##################\n",
    "    ### EDIT BELOW ###\n",
    "    ##################\n",
    "\n",
    "    #U.?\n",
    "\n",
    "    ##################\n",
    "    ### EDIT ABOVE ###\n",
    "    ##################\n",
    "\n",
    "    # Uを2^l回繰り返す\n",
    "    U_power = U.repeat(2 ** l)\n",
    "\n",
    "    # U_powerをゲートに変換\n",
    "    gate = U_power.to_gate()\n",
    "    gate.name = f\"{a}^{2 ** l} mod 15\"\n",
    "\n",
    "    # gateを制御ゲートに変換\n",
    "    c_gate = gate.control()\n",
    "    return c_gate"
   ]
  },
  {
   "cell_type": "markdown",
   "metadata": {
    "pycharm": {
     "name": "#%% md\n"
    }
   },
   "source": [
    "### 回路全体の実装\n",
    "\n",
    "測定用ビットとして、8量子ビットを使います。"
   ]
  },
  {
   "cell_type": "code",
   "execution_count": 7,
   "metadata": {
    "pycharm": {
     "name": "#%%\n"
    },
    "ExecuteTime": {
     "end_time": "2024-05-01T07:39:03.163840Z",
     "start_time": "2024-05-01T07:39:03.159269Z"
    }
   },
   "outputs": [],
   "source": [
    "# 15と互いに素な数\n",
    "a = 7\n",
    "\n",
    "# 測定用ビットの数（位相推定の精度）\n",
    "n_meas = 8"
   ]
  },
  {
   "cell_type": "code",
   "execution_count": null,
   "metadata": {
    "pycharm": {
     "name": "#%%\n"
    }
   },
   "outputs": [],
   "source": [
    "# 位相測定用のレジスタ\n",
    "qreg_meas = QuantumRegister(n_meas, name='meas')\n",
    "# Uを作用させる作業用レジスタ\n",
    "qreg_aux = QuantumRegister(4, name='aux')\n",
    "# 位相測定の結果が書き出される古典レジスタ\n",
    "creg_meas = ClassicalRegister(n_meas, name='out')\n",
    "\n",
    "# 2つの量子レジスタと1つの古典レジスタから量子回路を作る\n",
    "qc = QuantumCircuit(qreg_meas, qreg_aux, creg_meas)\n",
    "\n",
    "# 測定用レジスタをequal superpositionに初期化\n",
    "qc.h(qreg_meas)\n",
    "# 作業用レジスタを|1>に初期化\n",
    "qc.x(qreg_aux[0])\n",
    "\n",
    "# 制御Uゲートを適用\n",
    "for l, ctrl in enumerate(qreg_meas):\n",
    "    qc.append(c_amod15(a, l), qargs=([ctrl] + qreg_aux[:]))\n",
    "\n",
    "# 逆QFTを適用\n",
    "qc.append(qft_dagger(qreg_meas), qargs=qreg_meas)\n",
    "\n",
    "# 回路を測定\n",
    "qc.measure(qreg_meas, creg_meas)\n",
    "qc.draw('mpl')"
   ]
  },
  {
   "cell_type": "markdown",
   "metadata": {
    "pycharm": {
     "name": "#%% md\n"
    }
   },
   "source": [
    "シミュレータで実行して、結果を確認してみます。"
   ]
  },
  {
   "cell_type": "code",
   "execution_count": null,
   "metadata": {
    "pycharm": {
     "name": "#%%\n"
    }
   },
   "outputs": [],
   "source": [
    "shots = 10000\n",
    "\n",
    "# Instantiate a new Sampler object\n",
    "from qiskit.primitives import Sampler\n",
    "sampler = Sampler()\n",
    "\n",
    "# Now run the job and examine the results\n",
    "sampler_job = sampler.run(qc)\n",
    "answer = sampler_job.result().quasi_dists[0]\n",
    "\n",
    "plt.style.use('dark_background')\n",
    "plot_distribution(answer)"
   ]
  },
  {
   "cell_type": "markdown",
   "metadata": {
    "pycharm": {
     "name": "#%% md\n"
    }
   },
   "source": [
    "### 計算結果の解析\n",
    "出力された結果から、位相を求めてみます。"
   ]
  },
  {
   "cell_type": "code",
   "execution_count": null,
   "metadata": {
    "pycharm": {
     "name": "#%%\n"
    }
   },
   "outputs": [],
   "source": [
    "rows, measured_phases = [], []\n",
    "for output in answer:\n",
    "    phase = output / (2 ** n_meas)\n",
    "    measured_phases.append(phase)\n",
    "    # これらの値をテーブルの行に追加：\n",
    "    rows.append(f\"{output:3d}      {output:3d}/{2 ** n_meas} = {phase:.3f}\")\n",
    "\n",
    "# 結果を表示\n",
    "print('Register Output    Phase')\n",
    "print('------------------------')\n",
    "\n",
    "for row in rows:\n",
    "    print(row)"
   ]
  },
  {
   "cell_type": "markdown",
   "metadata": {
    "pycharm": {
     "name": "#%% md\n"
    }
   },
   "source": [
    "得られた位相の情報から、連分数アルゴリズムを使用して$s$と$r$を見つけることができます。Pythonの組み込みの`fractions`(分数)モジュールを使用して、小数を`Fraction`オブジェクトに変換できます。"
   ]
  },
  {
   "cell_type": "code",
   "execution_count": null,
   "metadata": {
    "pycharm": {
     "name": "#%%\n"
    }
   },
   "outputs": [],
   "source": [
    "rows = []\n",
    "for phase in measured_phases:\n",
    "    frac = Fraction(phase).limit_denominator(15)\n",
    "    rows.append(f'{phase:10.3f}      {frac.numerator:2d}/{frac.denominator:2d} {frac.denominator:13d}')\n",
    "\n",
    "# 結果を表示\n",
    "print('     Phase   Fraction   Guess for r')\n",
    "print('-------------------------------------')\n",
    "\n",
    "for row in rows:\n",
    "    print(row)"
   ]
  },
  {
   "cell_type": "markdown",
   "metadata": {
    "pycharm": {
     "name": "#%% md\n"
    }
   },
   "source": [
    "limit_denominatorメソッドを使って、分母が特定の値（ここでは15）を下回る分数で、最も位相の値に近いものを得ています。\n",
    "\n",
    "測定された結果のうち、2つ（64と192）が正しい答えである$r=4$を与えたことが分かります。"
   ]
  },
  {
   "cell_type": "markdown",
   "metadata": {
    "pycharm": {
     "name": "#%% md\n"
    }
   },
   "source": [
    "### コードの答え\n",
    "\n",
    "逆量子フーリエ変換"
   ]
  },
  {
   "cell_type": "code",
   "execution_count": null,
   "metadata": {
    "collapsed": false,
    "pycharm": {
     "name": "#%%\n"
    }
   },
   "outputs": [],
   "source": [
    "    ##################\n",
    "    ### EDIT BELOW ###\n",
    "    ##################\n",
    "\n",
    "    # SWAPを忘れないように!\n",
    "    for j in range(qreg.size // 2):\n",
    "        qc.swap(qreg[j], qreg[-1 - j])\n",
    "\n",
    "    for itarg in range(qreg.size):\n",
    "        for ictrl in range(itarg):\n",
    "            power = ictrl - itarg - 1\n",
    "            qc.cp(-2. * np.pi * (2 ** power), ictrl, itarg)\n",
    "\n",
    "        qc.h(itarg)\n",
    "\n",
    "    ##################\n",
    "    ### EDIT ABOVE ###\n",
    "    ##################"
   ]
  },
  {
   "cell_type": "markdown",
   "metadata": {
    "pycharm": {
     "name": "#%% md\n"
    }
   },
   "source": [
    "オラクルの実装"
   ]
  },
  {
   "cell_type": "code",
   "execution_count": null,
   "metadata": {
    "collapsed": false,
    "pycharm": {
     "name": "#%%\n"
    }
   },
   "outputs": [],
   "source": [
    "    ##################\n",
    "    ### EDIT BELOW ###\n",
    "    ##################\n",
    "\n",
    "    if a in [2, 13]:\n",
    "        # 下の位を上に移すので、上の位から順にSWAPしていく\n",
    "        U.swap(3, 2)\n",
    "        U.swap(2, 1)\n",
    "        U.swap(1, 0)\n",
    "    elif a in [4, 11]:\n",
    "        # 「一つ飛ばし」のビットシフト\n",
    "        U.swap(3, 1)\n",
    "        U.swap(2, 0)\n",
    "    elif a in [8, 7]:\n",
    "        # 下から順\n",
    "        U.swap(1, 0)\n",
    "        U.swap(2, 1)\n",
    "        U.swap(3, 2)\n",
    "\n",
    "    if a in [7, 11, 13]:\n",
    "        U.x([0, 1, 2, 3])\n",
    "\n",
    "    ##################\n",
    "    ### EDIT ABOVE ###\n",
    "    ##################"
   ]
  }
 ],
 "metadata": {
  "kernelspec": {
   "display_name": "Python 3 (ipykernel)",
   "language": "python",
   "name": "python3"
  },
  "language_info": {
   "codemirror_mode": {
    "name": "ipython",
    "version": 3
   },
   "file_extension": ".py",
   "mimetype": "text/x-python",
   "name": "python",
   "nbconvert_exporter": "python",
   "pygments_lexer": "ipython3",
   "version": "3.10.6"
  }
 },
 "nbformat": 4,
 "nbformat_minor": 4
}
