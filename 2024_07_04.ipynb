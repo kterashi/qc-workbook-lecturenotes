{
  "cells": [
    {
      "cell_type": "markdown",
      "metadata": {
        "id": "view-in-github",
        "colab_type": "text"
      },
      "source": [
        "<a href=\"https://colab.research.google.com/github/yiiyama/qc-workbook-lecturenotes/blob/branch-2024/2024_07_04.ipynb\" target=\"_parent\"><img src=\"https://colab.research.google.com/assets/colab-badge.svg\" alt=\"Open In Colab\"/></a>"
      ]
    },
    {
      "cell_type": "code",
      "source": [
        "import sys\n",
        "import shutil\n",
        "import tarfile\n",
        "from google.colab import drive\n",
        "drive.mount('/content/gdrive')\n",
        "shutil.copy('/content/gdrive/MyDrive/qcintro.tar.gz', '.')\n",
        "with tarfile.open('qcintro.tar.gz', 'r:gz') as tar:\n",
        "    tar.extractall(path='/root/.local')\n",
        "\n",
        "sys.path.append('/root/.local/lib/python3.10/site-packages')\n",
        "\n",
        "!git clone -b branch-2024 https://github.com/UTokyo-ICEPP/qc-workbook-lecturenotes\n",
        "!cp -r qc-workbook-lecturenotes/qc_workbook /root/.local/lib/python3.10/site-packages/\n",
        "\n",
        "runtime_config_path = '/content/gdrive/MyDrive/qiskit-ibm.json'"
      ],
      "metadata": {
        "id": "O4tuvX2KXLoR"
      },
      "id": "O4tuvX2KXLoR",
      "execution_count": null,
      "outputs": []
    },
    {
      "cell_type": "markdown",
      "id": "02371d59-321c-4314-ab0d-861c9c0d9ba4",
      "metadata": {
        "id": "02371d59-321c-4314-ab0d-861c9c0d9ba4"
      },
      "source": [
        "## QuTiPシミュレーション"
      ]
    },
    {
      "cell_type": "code",
      "execution_count": null,
      "id": "9c23bbf7-0e7a-4872-9350-f5ca0bc2808c",
      "metadata": {
        "tags": [],
        "id": "9c23bbf7-0e7a-4872-9350-f5ca0bc2808c"
      },
      "outputs": [],
      "source": [
        "import numpy as np\n",
        "import matplotlib.pyplot as plt\n",
        "import qutip as qtp\n",
        "\n",
        "twopi = 2. * np.pi\n",
        "hbar = 1."
      ]
    },
    {
      "cell_type": "code",
      "execution_count": null,
      "id": "d567ae45-18fe-464f-8d65-023f6217a754",
      "metadata": {
        "tags": [],
        "id": "d567ae45-18fe-464f-8d65-023f6217a754"
      },
      "outputs": [],
      "source": [
        "# 4準位系の|0>状態\n",
        "qtp.basis(4, 0)"
      ]
    },
    {
      "cell_type": "code",
      "execution_count": null,
      "id": "80b2217c-dc99-44a0-9fbb-0b81d465446a",
      "metadata": {
        "tags": [],
        "id": "80b2217c-dc99-44a0-9fbb-0b81d465446a"
      },
      "outputs": [],
      "source": [
        "# 5準位系の生成演算子\n",
        "qtp.create(5)"
      ]
    },
    {
      "cell_type": "code",
      "execution_count": null,
      "id": "e2b6bdd4-a913-4f5c-9e07-28abdd73ba44",
      "metadata": {
        "tags": [],
        "id": "e2b6bdd4-a913-4f5c-9e07-28abdd73ba44"
      },
      "outputs": [],
      "source": [
        "# 5準位系の消滅演算子\n",
        "qtp.destroy(5)"
      ]
    },
    {
      "cell_type": "code",
      "execution_count": null,
      "id": "1fcb2de9-b18d-4243-b1ef-e5d152722449",
      "metadata": {
        "tags": [],
        "id": "1fcb2de9-b18d-4243-b1ef-e5d152722449"
      },
      "outputs": [],
      "source": [
        "# 3準位系の数演算子(a^†a = Σ_j j |j><j|)\n",
        "qtp.num(3)"
      ]
    },
    {
      "cell_type": "code",
      "execution_count": null,
      "id": "1d1db6bb-6201-456d-a04e-9ecbd24e479c",
      "metadata": {
        "tags": [],
        "id": "1d1db6bb-6201-456d-a04e-9ecbd24e479c"
      },
      "outputs": [],
      "source": [
        "# N = a^†a\n",
        "qtp.num(4) == qtp.create(4) * qtp.destroy(4)"
      ]
    },
    {
      "cell_type": "markdown",
      "source": [
        "### 調和振動子（20準位まで）にDC外場\n",
        "\n",
        "With\n",
        "$$\n",
        "H = H_0 + H_d\n",
        "$$\n",
        "$$\n",
        "H_0 = \\hbar \\omega \\sum_{j=0}^{19} j \\lvert j \\rangle \\langle j \\rvert\n",
        "$$\n",
        "$$\n",
        "H_d = i D_0 \\left(a - a^{\\dagger} \\right)\n",
        "$$\n",
        "\n",
        "Simulate\n",
        "$$\n",
        "\\lvert \\psi (t) \\rangle = U(t) \\lvert 0 \\rangle = \\exp \\left(-i H t \\right) \\lvert 0 \\rangle\n",
        "$$"
      ],
      "metadata": {
        "id": "HZCQ_sCz3men"
      },
      "id": "HZCQ_sCz3men"
    },
    {
      "cell_type": "code",
      "source": [
        "num_levels = 20\n",
        "omega = twopi\n",
        "amp = 0.2\n",
        "# Free Hamiltonian\n",
        "h0 = hbar * omega * qtp.num(num_levels)\n",
        "# Drive Hamiltonian\n",
        "hdrive = 1.j * amp * (qtp.destroy(num_levels) - qtp.create(num_levels))"
      ],
      "metadata": {
        "id": "8o0pzKDm4FdM"
      },
      "id": "8o0pzKDm4FdM",
      "execution_count": null,
      "outputs": []
    },
    {
      "cell_type": "code",
      "source": [
        "# 初期状態を|0>にする\n",
        "psi0 = qtp.basis(num_levels, 0)\n",
        "# 0から100/hbarまでの時間を1000点に区切ってシミュレートする\n",
        "tlist = np.linspace(0., 20., 1000)\n",
        "# シミュレーションの実行\n",
        "result = qtp.sesolve([h0, hdrive], psi0, tlist)\n",
        "# 各時刻での状態ベクトルを配列に格納\n",
        "states = np.squeeze(list(state.full() for state in result.states))"
      ],
      "metadata": {
        "id": "aHyYYzXn4OX2"
      },
      "id": "aHyYYzXn4OX2",
      "execution_count": null,
      "outputs": []
    },
    {
      "cell_type": "code",
      "source": [
        "plt.plot(tlist, np.square(np.abs(states))[:, :5], label=[fr'$|\\langle {i} | U(t) | 0 \\rangle|^2$' for i in range(5)])\n",
        "plt.legend();"
      ],
      "metadata": {
        "id": "zSLsJQyf4Q9H"
      },
      "id": "zSLsJQyf4Q9H",
      "execution_count": null,
      "outputs": []
    },
    {
      "cell_type": "markdown",
      "id": "f7ab6bd8-cd5e-4f65-8275-a8899bfcf0b8",
      "metadata": {
        "id": "f7ab6bd8-cd5e-4f65-8275-a8899bfcf0b8"
      },
      "source": [
        "### 調和振動子（20準位まで）の共鳴ドライブ\n",
        "\n",
        "With\n",
        "$$\n",
        "H(t) = H_0 + H_d(t)\n",
        "$$\n",
        "$$\n",
        "H_0 = \\hbar \\omega \\sum_{j=0}^{19} j \\lvert j \\rangle \\langle j \\rvert\n",
        "$$\n",
        "$$\n",
        "H_d(t) = i D_0 \\sin (\\omega t) \\left(a - a^{\\dagger} \\right)\n",
        "$$\n",
        "\n",
        "Simulate\n",
        "$$\n",
        "\\lvert \\psi (t) \\rangle = U(t) \\lvert 0 \\rangle = T\\left[ \\exp \\left(-i \\int_0^{t} H(t')dt' \\right) \\right] \\lvert 0 \\rangle\n",
        "$$"
      ]
    },
    {
      "cell_type": "code",
      "execution_count": null,
      "id": "56b2b40d-8440-442c-aaf0-f3ca6295059e",
      "metadata": {
        "tags": [],
        "id": "56b2b40d-8440-442c-aaf0-f3ca6295059e"
      },
      "outputs": [],
      "source": [
        "num_levels = 20\n",
        "omega = twopi\n",
        "amp = 0.2\n",
        "omega_d = twopi\n",
        "\n",
        "# Free Hamiltonian\n",
        "h0 = hbar * omega * qtp.num(num_levels)\n",
        "# Drive Hamiltonian\n",
        "hdrive = [qtp.destroy(num_levels) - qtp.create(num_levels), f'1.j * {amp} * sin({omega_d} * t)']"
      ]
    },
    {
      "cell_type": "code",
      "execution_count": null,
      "id": "1893425d-a154-4baf-af2e-0517fd439f7e",
      "metadata": {
        "tags": [],
        "id": "1893425d-a154-4baf-af2e-0517fd439f7e"
      },
      "outputs": [],
      "source": [
        "# 初期状態を|0>にする\n",
        "psi0 = qtp.basis(num_levels, 0)\n",
        "# 0から100/hbarまでの時間を1000点に区切ってシミュレートする\n",
        "tlist = np.linspace(0., 50., 1000)\n",
        "# シミュレーションの実行\n",
        "result = qtp.sesolve([h0, hdrive], psi0, tlist)\n",
        "# 各時刻での状態ベクトルを配列に格納\n",
        "states = np.squeeze(list(state.full() for state in result.states))"
      ]
    },
    {
      "cell_type": "code",
      "execution_count": null,
      "id": "9b6351a7-68da-49fa-a73e-9c621e694280",
      "metadata": {
        "tags": [],
        "id": "9b6351a7-68da-49fa-a73e-9c621e694280"
      },
      "outputs": [],
      "source": [
        "plt.plot(tlist, np.square(np.abs(states))[:, :5], label=[fr'$|\\langle {i} | U(t) | 0 \\rangle|^2$' for i in range(5)])\n",
        "plt.legend();"
      ]
    },
    {
      "cell_type": "markdown",
      "id": "92bd9f27-177a-41a8-816f-ef75ba82fe1f",
      "metadata": {
        "id": "92bd9f27-177a-41a8-816f-ef75ba82fe1f"
      },
      "source": [
        "### 非調和振動子（20準位まで）のドライブ\n",
        "\n",
        "With\n",
        "$$\n",
        "H(t) = H_0 + H_d(t)\n",
        "$$\n",
        "$$\n",
        "H_0 = \\hbar \\omega \\sum_{j=0}^{19} j \\left[1 - (j-1) \\frac{\\alpha}{2}\\right]\\lvert j \\rangle \\langle j \\rvert\n",
        "$$\n",
        "$$\n",
        "H_d(t) = i D_0 \\sin (\\omega t) \\left(a - a^{\\dagger} \\right)\n",
        "$$\n",
        "\n",
        "Simulate\n",
        "$$\n",
        "\\lvert \\psi (t) \\rangle = U(t) \\lvert 0 \\rangle = T\\left[ \\exp \\left(-i \\int_0^{t} H(t')dt' \\right) \\right] \\lvert 0 \\rangle\n",
        "$$"
      ]
    },
    {
      "cell_type": "code",
      "execution_count": null,
      "id": "780c74b2-fd10-493f-8da4-e6ab7a1ef714",
      "metadata": {
        "tags": [],
        "id": "780c74b2-fd10-493f-8da4-e6ab7a1ef714"
      },
      "outputs": [],
      "source": [
        "num_levels = 20\n",
        "omega = twopi\n",
        "alpha = -0.06 # anharmonicity\n",
        "amp = 0.05\n",
        "omega_d = twopi\n",
        "# Free Hamiltonian: Σ_j hbar ω j (1 + (j-1)α/2) |j><j|\n",
        "h0 = hbar * omega * sum(j * (1 + (j - 1) * alpha / 2.) * qtp.basis(num_levels, j) * qtp.basis(num_levels, j).dag()\n",
        "                        for j in range(num_levels))\n",
        "# Drive Hamiltonian\n",
        "hdrive = [qtp.destroy(num_levels) - qtp.create(num_levels), f'1.j * {amp} * sin({omega_d} * t)']"
      ]
    },
    {
      "cell_type": "code",
      "execution_count": null,
      "id": "325545f2-4cec-439f-8f22-1727caf42261",
      "metadata": {
        "tags": [],
        "id": "325545f2-4cec-439f-8f22-1727caf42261"
      },
      "outputs": [],
      "source": [
        "psi0 = qtp.basis(num_levels, 0)\n",
        "tlist = np.linspace(0., 100., 1000)\n",
        "result = qtp.sesolve([h0, hdrive], psi0, tlist)\n",
        "states = np.squeeze(list(state.full() for state in result.states))"
      ]
    },
    {
      "cell_type": "code",
      "execution_count": null,
      "id": "b5c8a6db-248b-4e43-84fe-c51c4c8f9083",
      "metadata": {
        "tags": [],
        "id": "b5c8a6db-248b-4e43-84fe-c51c4c8f9083"
      },
      "outputs": [],
      "source": [
        "plt.plot(tlist, np.square(np.abs(states))[:, :5], label=[fr'$|\\langle {i} | U(t) | 0 \\rangle|^2$' for i in range(5)])\n",
        "plt.legend();"
      ]
    },
    {
      "cell_type": "markdown",
      "source": [
        "### Xゲートの実装\n",
        "\n",
        "パルス信号を$\\lvert 0 \\rangle$に適用して、終状態が$\\lvert 1 \\rangle$に比例するようにパラメータを調整しましょう。"
      ],
      "metadata": {
        "id": "MB9WAPkfsBjg"
      },
      "id": "MB9WAPkfsBjg"
    },
    {
      "cell_type": "code",
      "execution_count": null,
      "id": "fcc7441f-016d-4f02-9e9b-5249af90cb4f",
      "metadata": {
        "id": "fcc7441f-016d-4f02-9e9b-5249af90cb4f"
      },
      "outputs": [],
      "source": [
        "num_levels = 5\n",
        "omega = twopi\n",
        "alpha = -0.06 # anharmonicity\n",
        "amp = 0.05\n",
        "omega_d = twopi\n",
        "sigma = 30.\n",
        "\n",
        "def pulse_amp(t, args=None):\n",
        "    center = 2. * sigma\n",
        "    pedestal = np.exp(-2.)\n",
        "    gauss = np.exp(-np.square((t - center) / sigma) * 0.5)\n",
        "    envelope = amp * (gauss - pedestal) / (1. - pedestal)\n",
        "    return 1.j * envelope * np.sin(omega_d * t)\n",
        "\n",
        "# Free Hamiltonian: Σ_j hbar ω j (1 + (j-1)α/2) |j><j|\n",
        "h0 = hbar * omega * sum(j * (1 + (j - 1) * alpha / 2.) * qtp.basis(num_levels, j) * qtp.basis(num_levels, j).dag()\n",
        "                        for j in range(num_levels))\n",
        "# Drive Hamiltonian\n",
        "hdrive = [qtp.destroy(num_levels) - qtp.create(num_levels), pulse_amp]"
      ]
    },
    {
      "cell_type": "code",
      "source": [
        "psi0 = qtp.basis(num_levels, 0)\n",
        "tlist = np.linspace(0., 4. * sigma, 1000)\n",
        "result = qtp.sesolve([h0, hdrive], psi0, tlist)\n",
        "states = np.squeeze(list(state.full() for state in result.states))"
      ],
      "metadata": {
        "id": "OOZ3vKxOuJw9"
      },
      "id": "OOZ3vKxOuJw9",
      "execution_count": null,
      "outputs": []
    },
    {
      "cell_type": "code",
      "source": [
        "plt.plot(tlist, (-1.j * pulse_amp(tlist)).real)"
      ],
      "metadata": {
        "id": "45jJo8iUvIo2"
      },
      "id": "45jJo8iUvIo2",
      "execution_count": null,
      "outputs": []
    },
    {
      "cell_type": "code",
      "source": [
        "plt.plot(tlist, np.square(np.abs(states))[:, :2], label=[fr'$|\\langle {i} | U(t) | 0 \\rangle|^2$' for i in range(2)])\n",
        "plt.legend();"
      ],
      "metadata": {
        "id": "zdSWWPVUurSr"
      },
      "id": "zdSWWPVUurSr",
      "execution_count": null,
      "outputs": []
    },
    {
      "cell_type": "markdown",
      "source": [
        "## Qiskit pulseの利用"
      ],
      "metadata": {
        "id": "QktoD1Dk1cZS"
      },
      "id": "QktoD1Dk1cZS"
    },
    {
      "cell_type": "code",
      "source": [
        "import scipy.optimize as sciopt\n",
        "from qiskit import QuantumCircuit, pulse, transpile\n",
        "from qiskit.circuit import Gate, Parameter\n",
        "from qiskit_ibm_runtime import QiskitRuntimeService, Session, SamplerV2 as Sampler\n",
        "%matplotlib inline"
      ],
      "metadata": {
        "id": "LbZpogwS2RWp"
      },
      "id": "LbZpogwS2RWp",
      "execution_count": null,
      "outputs": []
    },
    {
      "cell_type": "code",
      "source": [
        "service = QiskitRuntimeService(filename=runtime_config_path)\n",
        "#backend = service.backend('ibm_kawasaki')\n",
        "#physical_qubit = 70\n",
        "backend = service.backend('ibm_strasbourg')\n",
        "physical_qubit = 38\n",
        "session = Session(service=service, backend=backend)"
      ],
      "metadata": {
        "id": "hABdqpe18mB5"
      },
      "id": "hABdqpe18mB5",
      "execution_count": null,
      "outputs": []
    },
    {
      "cell_type": "markdown",
      "source": [
        "### 回路を実行して\"1\"が得られる確率を返す関数"
      ],
      "metadata": {
        "id": "f6r7Y86g1_u8"
      },
      "id": "f6r7Y86g1_u8"
    },
    {
      "cell_type": "code",
      "source": [
        "def execute(backend, physical_qubit, circuits, shots=10000, session=None):\n",
        "    \"\"\"Add measurements to the circuits and execute them on a sampler.\"\"\"\n",
        "    for circuit in circuits:\n",
        "        circuit.measure_all()\n",
        "\n",
        "    circuits = transpile(circuits, backend=backend, initial_layout=[physical_qubit], optimization_level=0)\n",
        "    if session:\n",
        "        sampler = Sampler(session=session)\n",
        "    else:\n",
        "        sampler = Sampler(backend=backend)\n",
        "\n",
        "    result = sampler.run(circuits, shots=shots).result()\n",
        "    counts = [res.data.meas.get_counts() for res in result]\n",
        "    yval = np.array([c.get('1', 0) / shots for c in counts])\n",
        "\n",
        "    return yval"
      ],
      "metadata": {
        "id": "lXJ4eS8Duv1f"
      },
      "id": "lXJ4eS8Duv1f",
      "execution_count": null,
      "outputs": []
    },
    {
      "cell_type": "markdown",
      "source": [
        "### カーブをフィットする関数"
      ],
      "metadata": {
        "id": "0LumFlQM3m_P"
      },
      "id": "0LumFlQM3m_P"
    },
    {
      "cell_type": "code",
      "source": [
        "def fit(curve, xval, yval, p0, shots):\n",
        "    \"\"\"Call scipy curve_fit and make a plot.\"\"\"\n",
        "    popt, _ = sciopt.curve_fit(curve, xval, yval, p0=p0)\n",
        "\n",
        "    plt.errorbar(xval, yval, yerr=np.sqrt(yval * (1. - yval) / shots), fmt='o', markersize=3)\n",
        "    xfine = np.linspace(xval[0], xval[-1], 400)\n",
        "    plt.plot(xfine, curve(xfine, *popt))\n",
        "\n",
        "    return popt"
      ],
      "metadata": {
        "id": "BW5BK-I33pmW"
      },
      "id": "BW5BK-I33pmW",
      "execution_count": null,
      "outputs": []
    },
    {
      "cell_type": "markdown",
      "source": [
        "### 共鳴周波数の探索（スペクトロスコピー）"
      ],
      "metadata": {
        "id": "CUH_P3Lv8cdo"
      },
      "id": "CUH_P3Lv8cdo"
    },
    {
      "cell_type": "code",
      "source": [
        "def rough_frequency_calibration(backend, physical_qubit, shots=10000, session=None):\n",
        "    \"\"\"Perform a spectroscopy experiment to find the qubit frequency.\"\"\"\n",
        "    frequency = Parameter('frequency')\n",
        "    drive_channel = pulse.DriveChannel(physical_qubit)\n",
        "    with pulse.build(name='spectrocopy') as spectroscopy_sched:\n",
        "        pulse.shift_frequency(frequency, drive_channel)\n",
        "        pulse.play(pulse.Gaussian(duration=512, amp=0.01, sigma=128), drive_channel)\n",
        "\n",
        "    frequencies = np.linspace(-1.e+8, 1.e+8, 41)\n",
        "\n",
        "    circuits = []\n",
        "    for freq_value in frequencies:\n",
        "        sched = spectroscopy_sched.assign_parameters({frequency: freq_value}, inplace=False)\n",
        "\n",
        "        circuit = QuantumCircuit(1)\n",
        "        circuit.append(Gate('spectroscopy', 1, []), [0])\n",
        "\n",
        "        circuit.add_calibration('spectroscopy', [physical_qubit], sched)\n",
        "\n",
        "        circuits.append(circuit)\n",
        "\n",
        "    yval = execute(backend, physical_qubit, circuits, shots=shots, session=session)\n",
        "\n",
        "    def resonance_curve(x, f0, a, b, sigma):\n",
        "        return a * np.exp(-(x - f0)**2 / 2. / sigma**2) + b\n",
        "\n",
        "    ipeak = len(frequencies) // 2\n",
        "    f0_guess = frequencies[ipeak]\n",
        "    a_guess = yval[ipeak] - yval[0]\n",
        "    b_guess = yval[0]\n",
        "    half_max = np.nonzero(yval[ipeak:] - (yval[ipeak] / 2) < 0)[0][0] + ipeak\n",
        "    sigma_guess = frequencies[half_max] - frequencies[ipeak]\n",
        "\n",
        "    p0 = (f0_guess, a_guess, b_guess, sigma_guess)\n",
        "\n",
        "    popt = fit(resonance_curve, frequencies, yval, p0, shots)\n",
        "\n",
        "    qubit_frequency = popt[0] + backend.target.qubit_properties[physical_qubit].frequency\n",
        "\n",
        "    return qubit_frequency"
      ],
      "metadata": {
        "id": "FPCXH7Q93Eol"
      },
      "id": "FPCXH7Q93Eol",
      "execution_count": null,
      "outputs": []
    },
    {
      "cell_type": "code",
      "source": [
        "qubit_frequency = rough_frequency_calibration(backend, physical_qubit, session=session)"
      ],
      "metadata": {
        "id": "uZCrI0So4G3s"
      },
      "id": "uZCrI0So4G3s",
      "execution_count": null,
      "outputs": []
    },
    {
      "cell_type": "markdown",
      "source": [
        "### Xゲートのパルス強度探索"
      ],
      "metadata": {
        "id": "jQgBfL8q805E"
      },
      "id": "jQgBfL8q805E"
    },
    {
      "cell_type": "code",
      "source": [
        "def rough_amplitude_calibration(backend, physical_qubit, qubit_frequency, shots=10000, session=None):\n",
        "    \"\"\"Observe the Rabi oscillation pattern by scanning the Rx pulse amplitude.\"\"\"\n",
        "    amp = Parameter('amp')\n",
        "    drive_channel = pulse.DriveChannel(physical_qubit)\n",
        "    with pulse.build(name='rabi') as rabi_sched:\n",
        "        pulse.set_frequency(qubit_frequency, drive_channel)\n",
        "        pulse.play(pulse.Gaussian(duration=160, amp=amp, sigma=40), drive_channel)\n",
        "\n",
        "    amplitudes = np.linspace(0., 0.2, 40)\n",
        "\n",
        "    circuits = []\n",
        "    for amp_val in amplitudes:\n",
        "        circuit = QuantumCircuit(1)\n",
        "        circuit.append(Gate('rabi', 1, []), [0])\n",
        "\n",
        "        circuit.add_calibration('rabi', [physical_qubit],\n",
        "                                rabi_sched.assign_parameters({amp: amp_val}, inplace=False))\n",
        "\n",
        "        circuits.append(circuit)\n",
        "\n",
        "    yval = execute(backend, physical_qubit, circuits, shots=shots, session=session)\n",
        "\n",
        "    def oscillation_curve(x, freq, phase, a, b):\n",
        "        return a * np.cos(x * freq + phase) + b\n",
        "\n",
        "    indices = np.nonzero(yval > 0.9)[0]\n",
        "    if len(indices):\n",
        "        first_above_09 = indices[0]\n",
        "        indices = np.nonzero(yval[first_above_09:] < 0.1)[0]\n",
        "        if len(indices):\n",
        "            next_below_01 = [0] + first_above_09\n",
        "            first_max = np.argmax(yval[:next_below_01])\n",
        "            freq_guess = np.pi / amplitudes[first_max]\n",
        "        else:\n",
        "            freq_guess = np.pi / 2. / amplitudes[first_above_09]\n",
        "    else:\n",
        "        freq_guess = 0.1 * np.pi / amplitudes[-1]\n",
        "    phase_guess = 0.\n",
        "    a_guess = -0.5\n",
        "    b_guess = 0.5\n",
        "\n",
        "    p0 = (freq_guess, phase_guess, a_guess, b_guess)\n",
        "\n",
        "    popt = fit(oscillation_curve, amplitudes, yval, p0, shots)\n",
        "\n",
        "    x_amp = np.pi / popt[0]\n",
        "    sx_amp = x_amp / 2.\n",
        "\n",
        "    return x_amp, sx_amp"
      ],
      "metadata": {
        "id": "cyMj9yAr7Aha"
      },
      "id": "cyMj9yAr7Aha",
      "execution_count": null,
      "outputs": []
    },
    {
      "cell_type": "code",
      "source": [
        "x_amp, sx_amp = rough_amplitude_calibration(backend, physical_qubit, qubit_frequency, session=session)"
      ],
      "metadata": {
        "id": "30AIlPco9Eaj"
      },
      "id": "30AIlPco9Eaj",
      "execution_count": null,
      "outputs": []
    },
    {
      "cell_type": "code",
      "source": [
        "x_amp_ibm = backend.target['x'][(physical_qubit,)].calibration.instructions[0][1].pulse.amp\n",
        "print(x_amp, x_amp_ibm)"
      ],
      "metadata": {
        "id": "BWwHZpot9Gqw"
      },
      "id": "BWwHZpot9Gqw",
      "execution_count": null,
      "outputs": []
    },
    {
      "cell_type": "code",
      "source": [
        "session.close()"
      ],
      "metadata": {
        "id": "yiUOctff_Bm5"
      },
      "id": "yiUOctff_Bm5",
      "execution_count": null,
      "outputs": []
    },
    {
      "cell_type": "code",
      "source": [],
      "metadata": {
        "id": "9194Z4ld9RvU"
      },
      "id": "9194Z4ld9RvU",
      "execution_count": null,
      "outputs": []
    }
  ],
  "metadata": {
    "kernelspec": {
      "display_name": "Python 3 (ipykernel)",
      "language": "python",
      "name": "python3"
    },
    "language_info": {
      "codemirror_mode": {
        "name": "ipython",
        "version": 3
      },
      "file_extension": ".py",
      "mimetype": "text/x-python",
      "name": "python",
      "nbconvert_exporter": "python",
      "pygments_lexer": "ipython3",
      "version": "3.8.10"
    },
    "colab": {
      "provenance": [],
      "include_colab_link": true
    }
  },
  "nbformat": 4,
  "nbformat_minor": 5
}