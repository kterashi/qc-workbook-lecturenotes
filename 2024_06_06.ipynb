{
  "cells": [
    {
      "cell_type": "markdown",
      "metadata": {
        "id": "view-in-github",
        "colab_type": "text"
      },
      "source": [
        "<a href=\"https://colab.research.google.com/github/yiiyama/qc-workbook-lecturenotes/blob/branch-2024/2024_06_06.ipynb\" target=\"_parent\"><img src=\"https://colab.research.google.com/assets/colab-badge.svg\" alt=\"Open In Colab\"/></a>"
      ]
    },
    {
      "cell_type": "markdown",
      "id": "f25e64fd-0c54-4ea8-9fd7-e34a209332c8",
      "metadata": {
        "id": "f25e64fd-0c54-4ea8-9fd7-e34a209332c8"
      },
      "source": [
        "# ToffoliゲートとShorコード\n",
        "\n",
        "$\\newcommand{\\ket}[1]{|#1\\rangle}$\n",
        "$\\newcommand{\\braket}[2]{\\langle #1 | #2 \\rangle}$\n",
        "\n",
        "量子プログラミング演習として、Toffoliゲートの基本ゲートでの分解を考え、それを使ってShorコードでエラー訂正をしてみましょう。"
      ]
    },
    {
      "cell_type": "code",
      "source": [
        "import sys\n",
        "import shutil\n",
        "import tarfile\n",
        "from google.colab import drive\n",
        "drive.mount('/content/gdrive')\n",
        "shutil.copy('/content/gdrive/MyDrive/qcintro.tar.gz', '.')\n",
        "with tarfile.open('qcintro.tar.gz', 'r:gz') as tar:\n",
        "    tar.extractall(path='/root/.local')\n",
        "\n",
        "sys.path.append('/root/.local/lib/python3.10/site-packages')\n",
        "\n",
        "!git clone -b branch-2024 https://github.com/UTokyo-ICEPP/qc-workbook-lecturenotes\n",
        "!cp -r qc-workbook-lecturenotes/qc_workbook /root/.local/lib/python3.10/site-packages/\n",
        "\n",
        "runtime_config_path = '/content/gdrive/MyDrive/qiskit-ibm.json'"
      ],
      "metadata": {
        "id": "TOnJHP28vDu5"
      },
      "id": "TOnJHP28vDu5",
      "execution_count": null,
      "outputs": []
    },
    {
      "cell_type": "code",
      "execution_count": null,
      "id": "a0c7f519-c759-4f91-8316-3550768e0baa",
      "metadata": {
        "id": "a0c7f519-c759-4f91-8316-3550768e0baa"
      },
      "outputs": [],
      "source": [
        "import numpy as np\n",
        "import matplotlib.pyplot as plt\n",
        "from IPython.display import Math\n",
        "from qiskit import QuantumCircuit, transpile\n",
        "from qiskit.circuit import Parameter\n",
        "from qiskit.quantum_info.operators import Operator\n",
        "from qiskit_ibm_runtime import QiskitRuntimeService, SamplerV2 as Sampler\n",
        "\n",
        "from qc_workbook.show_state import show_state, statevector_expr\n",
        "from qc_workbook.utils import find_best_chain"
      ]
    },
    {
      "cell_type": "code",
      "execution_count": null,
      "id": "a5eb070e-2542-475e-b38d-7dd145e5f550",
      "metadata": {
        "id": "a5eb070e-2542-475e-b38d-7dd145e5f550"
      },
      "outputs": [],
      "source": [
        "def show_circuit_op(circuit, global_phase=0.):\n",
        "    \"\"\"Compiles the LaTeX expression of the operation of the circuit on computational basis states.\"\"\"\n",
        "    op = Operator(circuit)\n",
        "\n",
        "    unitary = op.data * np.exp(-1.j * global_phase)\n",
        "\n",
        "    ket_template = fr'|{{:0{circuit.num_qubits}b}}\\rangle'\n",
        "\n",
        "    exprs = []\n",
        "    for icol, col in enumerate(unitary.T):\n",
        "        expr = statevector_expr(col, binary=True, state_label=None)\n",
        "        exprs.append(fr'{ket_template.format(icol)} \\rightarrow {expr}')\n",
        "\n",
        "    return Math(r' \\\\ '.join(exprs))"
      ]
    },
    {
      "cell_type": "markdown",
      "id": "bffdcaeb-a573-43e4-911e-16efc27b144f",
      "metadata": {
        "tags": [],
        "id": "bffdcaeb-a573-43e4-911e-16efc27b144f"
      },
      "source": [
        "## CPゲート\n",
        "\n",
        "最初の問題は、制御$P$（$CP$）ゲートをCXと$R_z$から作ることです。おさらいをすると、CPゲートとは、2量子ビットゲートで、パラメータ$\\phi$を取り、二つの量子ビットがともに$\\ket{1}$であるような計算基底の位相を$\\phi$前進させるゲートのことでした。\n",
        "\n",
        "$$\n",
        "\\begin{align}\n",
        "    CP(\\phi) \\ket{00} & = \\ket{00} \\\\\n",
        "    CP(\\phi) \\ket{01} & = \\ket{01} \\\\\n",
        "    CP(\\phi) \\ket{10} & = \\ket{10} \\\\\n",
        "    CP(\\phi) \\ket{11} & = e^{i\\phi} \\ket{11}\n",
        "\\end{align}\n",
        "$$\n",
        "\n",
        "**ヒント1**\n",
        "\n",
        "まず制御$R_z$（$CR_z$）ゲートをCXと$R_z$から作ることを考えてみましょう。$CR_z$の作用は、左を制御ビット、右を標的ビットとして\n",
        "\n",
        "$$\n",
        "\\begin{align}\n",
        "    CR_z(\\phi) \\ket{00} & = \\ket{00} \\\\\n",
        "    CR_z(\\phi) \\ket{01} & = \\ket{01} \\\\\n",
        "    CR_z(\\phi) \\ket{10} & = e^{-i\\phi/2} \\ket{10} \\\\\n",
        "    CR_z(\\phi) \\ket{11} & = e^{i\\phi/2} \\ket{11}\n",
        "\\end{align}\n",
        "$$\n",
        "\n",
        "です。$CR_z$が作れれば、制御ビットに$R_z$をかけることで、$\\ket{00}, \\ket{01}, \\ket{10}$の位相を揃えることができ、$CP$ゲートに全体位相がかかった状態が実現できます。全体位相は無視していいので、それで$CP$ゲートの完成です。\n",
        "\n",
        "**ヒント2**\n",
        "\n",
        "$R_z$を$X$で挟むと、$R_z$のパラメータの符号を反転させたのと同じ作用が得られます。"
      ]
    },
    {
      "cell_type": "code",
      "execution_count": null,
      "id": "782d902e-89e4-4cd5-8174-e89bdaa4a84a",
      "metadata": {
        "id": "782d902e-89e4-4cd5-8174-e89bdaa4a84a"
      },
      "outputs": [],
      "source": [
        "fig, axs = plt.subplots(1, 3, width_ratios=(8, 0.3, 4), figsize=(8, 2))\n",
        "phi = Parameter('$\\phi$')\n",
        "circuit = QuantumCircuit(1)\n",
        "circuit.rz(phi / 2., 0)\n",
        "circuit.x(0)\n",
        "circuit.rz(-phi / 2., 0)\n",
        "circuit.x(0)\n",
        "circuit.draw('mpl', ax=axs[0])\n",
        "axs[1].text(0.5, 0.4, '=', fontsize=24)\n",
        "axs[1].set_axis_off()\n",
        "circuit = QuantumCircuit(1)\n",
        "circuit.rz(phi, 0)\n",
        "circuit.draw('mpl', ax=axs[2])"
      ]
    },
    {
      "cell_type": "code",
      "execution_count": null,
      "id": "a9fdb38c-816e-4a1f-ae6e-2f0e6a8489e3",
      "metadata": {
        "tags": [],
        "id": "a9fdb38c-816e-4a1f-ae6e-2f0e6a8489e3"
      },
      "outputs": [],
      "source": [
        "cp_circuit = QuantumCircuit(2, name='CP')\n",
        "\n",
        "phi = Parameter('$\\phi$')\n",
        "\n",
        "# cp_circuit が CP(phi)を実装するようにゲートを加えてください。\n",
        "# phiは普通の変数のように使えます。\n",
        "# 例： cp_circuit.rz(phi, 1)\n",
        "\n",
        "##################\n",
        "### EDIT BELOW ###\n",
        "##################\n",
        "\n",
        "##################\n",
        "### EDIT ABOVE ###\n",
        "##################\n",
        "\n",
        "cp_circuit.draw('mpl')"
      ]
    },
    {
      "cell_type": "code",
      "execution_count": null,
      "id": "27ac0860-3f1d-42bb-b659-cf34ea914516",
      "metadata": {
        "tags": [],
        "id": "27ac0860-3f1d-42bb-b659-cf34ea914516"
      },
      "outputs": [],
      "source": [
        "# phiに具体的な値を入れて、CPが実装されていることを確認\n",
        "phi_value = np.pi / 4.\n",
        "circuit = cp_circuit.assign_parameters({phi: phi_value})\n",
        "show_circuit_op(circuit, global_phase=(-phi_value / 4.))"
      ]
    },
    {
      "cell_type": "markdown",
      "id": "8da003aa-7c30-47e4-9a90-0f9f8b27fa80",
      "metadata": {
        "id": "8da003aa-7c30-47e4-9a90-0f9f8b27fa80"
      },
      "source": [
        "$CP$は`QuantumCircuit`オブジェクトにもメソッド`cp`として備わっているので、以下では（回路図の見やすさを考慮して）標準メソッドを使うことにします。"
      ]
    },
    {
      "cell_type": "markdown",
      "id": "b2a80f94-35a2-4362-995b-8f9888693b19",
      "metadata": {
        "id": "b2a80f94-35a2-4362-995b-8f9888693b19"
      },
      "source": [
        "## CCZゲート\n",
        "\n",
        "次に、$CP$ゲートの特殊ケース（$\\phi=\\pi$）である制御$Z$（CZ）ゲートを二重制御に拡張したCCZゲートを、$CP$とCXを組み合わせて実装します。\n",
        "\n",
        "$$\n",
        "\\begin{align}\n",
        "    \\text{CCZ} \\ket{k} & = \\ket{k} \\; \\text{for}\\; 000 \\leq k \\leq 110 \\\\\n",
        "    \\text{CCZ} \\ket{111} & = -\\ket{111}\n",
        "\\end{align}\n",
        "$$"
      ]
    },
    {
      "cell_type": "code",
      "execution_count": null,
      "id": "d4ec31f5-1389-492c-813a-c0a0b40ae886",
      "metadata": {
        "tags": [],
        "id": "d4ec31f5-1389-492c-813a-c0a0b40ae886"
      },
      "outputs": [],
      "source": [
        "ccz_circuit = QuantumCircuit(3, name='CCZ')\n",
        "\n",
        "# ccz_circuit が CCZを実装するようにゲートを加えてください。\n",
        "\n",
        "ccz_circuit.cp(np.pi / 2., 1, 0)\n",
        "ccz_circuit.cp(np.pi / 2., 2, 0)\n",
        "\n",
        "# 上の二行で|111>の符号が反転しますが、同時に|011>と|101>に位相が乗ってしまうので、それを訂正する方法を考えてください。\n",
        "\n",
        "##################\n",
        "### EDIT BELOW ###\n",
        "##################\n",
        "\n",
        "##################\n",
        "### EDIT ABOVE ###\n",
        "##################\n",
        "\n",
        "ccz_circuit.draw('mpl')"
      ]
    },
    {
      "cell_type": "code",
      "execution_count": null,
      "id": "b11762cc-5016-4e4c-a031-f9fd76953ea1",
      "metadata": {
        "tags": [],
        "id": "b11762cc-5016-4e4c-a031-f9fd76953ea1"
      },
      "outputs": [],
      "source": [
        "show_circuit_op(ccz_circuit)"
      ]
    },
    {
      "cell_type": "markdown",
      "id": "794bd5ee-1eb8-40ad-934f-22febb924abb",
      "metadata": {
        "id": "794bd5ee-1eb8-40ad-934f-22febb924abb"
      },
      "source": [
        "## Hadamardゲート\n",
        "\n",
        "次にHadamardゲートの$R_z$と$\\sqrt{X}$への分解を考えます。$\\sqrt{X}$の作用は\n",
        "\n",
        "$$\n",
        "\\begin{align}\n",
        "    \\sqrt{X} \\ket{0} & = \\frac{1}{\\sqrt{2}} \\left[e^{\\frac{\\pi}{4}i} \\ket{0} + e^{-\\frac{\\pi}{4}i} \\ket{1}\\right] \\\\\n",
        "    \\sqrt{X} \\ket{1} & = \\frac{1}{\\sqrt{2}} \\left[e^{-\\frac{\\pi}{4}i} \\ket{0} + e^{\\frac{\\pi}{4}i} \\ket{1}\\right]\n",
        "\\end{align}\n",
        "$$\n",
        "\n",
        "です。\n",
        "\n",
        "**ヒント**\n",
        "\n",
        "$R_z(\\phi)\\ket{0}$や$R_z(\\phi)\\ket{1}$に$\\sqrt{X}$をかけるとどうなるか、また$\\sqrt{X}$をかけた後の状態に$R_z(\\phi)$をかけたらどうなるか、計算してみましょう。今回も全体位相が生じます。"
      ]
    },
    {
      "cell_type": "code",
      "execution_count": null,
      "id": "9dab652c-5af2-43b0-915b-f522d8e013c9",
      "metadata": {
        "tags": [],
        "id": "9dab652c-5af2-43b0-915b-f522d8e013c9"
      },
      "outputs": [],
      "source": [
        "h_circuit = QuantumCircuit(1, name='H')\n",
        "\n",
        "# h_circuit が Hを実装するようにゲートを加えてください。\n",
        "\n",
        "##################\n",
        "### EDIT BELOW ###\n",
        "##################\n",
        "\n",
        "##################\n",
        "### EDIT ABOVE ###\n",
        "##################\n",
        "\n",
        "h_circuit.draw('mpl')"
      ]
    },
    {
      "cell_type": "code",
      "execution_count": null,
      "id": "42fb93d1-f011-4d07-8177-999d2210aec3",
      "metadata": {
        "tags": [],
        "id": "42fb93d1-f011-4d07-8177-999d2210aec3"
      },
      "outputs": [],
      "source": [
        "show_circuit_op(h_circuit, global_phase=(-1. / 4. * np.pi))"
      ]
    },
    {
      "cell_type": "markdown",
      "id": "a1bc2c7e-03f9-4be6-af36-6c0e97a218c8",
      "metadata": {
        "id": "a1bc2c7e-03f9-4be6-af36-6c0e97a218c8"
      },
      "source": [
        "## Toffoliゲート\n",
        "\n",
        "$Z$ゲートを$H$ゲートで挟むと$X$ゲートと等価になることを思い出して、CCZと$H$からCCXを作ってください。"
      ]
    },
    {
      "cell_type": "code",
      "execution_count": null,
      "id": "7a92b83b-70e4-490e-9f75-0c699364b301",
      "metadata": {
        "tags": [],
        "id": "7a92b83b-70e4-490e-9f75-0c699364b301"
      },
      "outputs": [],
      "source": [
        "toffoli_circuit = QuantumCircuit(3, name='Toffoli')\n",
        "\n",
        "# toffoli_circuit が Toffoliを実装するようにゲートを加えてください。\n",
        "# 量子ビット0が標的、1と2が制御とします。\n",
        "# Hadamardゲートには toffoli_circuit.h()を使って構いません。\n",
        "\n",
        "##################\n",
        "### EDIT BELOW ###\n",
        "##################\n",
        "\n",
        "##################\n",
        "### EDIT ABOVE ###\n",
        "##################\n",
        "\n",
        "toffoli_circuit.draw('mpl')"
      ]
    },
    {
      "cell_type": "code",
      "execution_count": null,
      "id": "94354714-9edb-4ddc-b305-a7eaf6189ced",
      "metadata": {
        "tags": [],
        "id": "94354714-9edb-4ddc-b305-a7eaf6189ced"
      },
      "outputs": [],
      "source": [
        "show_circuit_op(toffoli_circuit)"
      ]
    },
    {
      "cell_type": "markdown",
      "id": "ce486ad7-550c-4136-87e3-1b6f687d1e87",
      "metadata": {
        "id": "ce486ad7-550c-4136-87e3-1b6f687d1e87"
      },
      "source": [
        "## 量子エラーとエラー訂正\n",
        "\n",
        "量子エラーは有限個の量子演算子の作用として捉えることができます。特に、1量子ビットのエラーは、量子ビットに$X$、$Z$、$XZ$のどれかがかかることと等価です。$X$がかかるようなエラーをビット反転（bit flip）エラー、$Z$のケースを位相反転（phase flip）エラー、$XZ$のケースを複合（combined bit-phase flip）エラーと呼びます。"
      ]
    },
    {
      "cell_type": "markdown",
      "id": "84f9c95a-21f3-4d82-90af-7caa989404d6",
      "metadata": {
        "id": "84f9c95a-21f3-4d82-90af-7caa989404d6"
      },
      "source": [
        "### ビット反転（$X$）エラー\n",
        "\n",
        "Shorコードの元になるのはビット反転コードという、量子ビットを3つ使うエラー訂正コードです。ビット反転コードは、その名が示唆するようにビット反転エラーに対してのみ耐性を持ちます。論理量子ビットでの計算途中で3つの量子ビットのうちのどれかにビット反転エラーが一度だけ起きるとき、デコーディングの過程でエラーが補正されます。\n",
        "\n",
        "ビット反転コードのエンコーディングは\n",
        "\n",
        "$$\n",
        "\\begin{align}\n",
        "    \\ket{0_L} & = \\ket{000} \\\\\n",
        "    \\ket{1_L} & = \\ket{111}\n",
        "\\end{align}\n",
        "$$\n",
        "\n",
        "です。ここで$\\ket{0_L}$と$\\ket{1_L}$はそれぞれ「論理$\\ket{0}$状態」と「論理$\\ket{1}$状態」を表します。\n",
        "\n",
        "以下では、適当な状態に初期化した量子ビットをビット反転コードでエンコードし、論理量子ビットに論理$Z$ゲートをかける過程でどれかひとつの（物理）量子ビットにビット反転エラーが起きるというシナリオを考えます。デコーディングの際にToffoliゲートを使うと、エラーが補正されます。"
      ]
    },
    {
      "cell_type": "code",
      "execution_count": null,
      "id": "0fde909c-742c-4483-a751-6ae55a1a0be0",
      "metadata": {
        "tags": [],
        "id": "0fde909c-742c-4483-a751-6ae55a1a0be0"
      },
      "outputs": [],
      "source": [
        "bitflip_circuit = QuantumCircuit(3)\n",
        "\n",
        "# データ量子ビット（第0ビット）を適当な状態に初期化\n",
        "theta = 1.2\n",
        "phi = 0.7\n",
        "lam = 0.\n",
        "bitflip_circuit.u(theta, phi, lam, 0)\n",
        "bitflip_circuit.barrier()\n",
        "\n",
        "# データビットの|0>が|000>に、|1>が|111>にエンコードされるように量子ビットをエンタングルさせてください\n",
        "##################\n",
        "### EDIT BELOW ###\n",
        "##################\n",
        "\n",
        "##################\n",
        "### EDIT ABOVE ###\n",
        "##################\n",
        "\n",
        "bitflip_circuit.barrier()\n",
        "\n",
        "# 論理ZゲートはZZZ\n",
        "bitflip_circuit.z([0, 1, 2])\n",
        "\n",
        "# 0から2のどれかひとつの量子ビットにX（ビット反転）がかかる\n",
        "bitflip_circuit.x(np.random.randint(3))\n",
        "\n",
        "bitflip_circuit.barrier()\n",
        "\n",
        "# デコーディング：状態が|000>, |001>, |010>, |100>のときデータビットが|0>になり、\n",
        "# |111>, |110>, |101>, |011>のとき|1>になるようにCXとToffoliを組んでください（Toffoliはすでに書き込んであります）\n",
        "##################\n",
        "### EDIT BELOW ###\n",
        "##################\n",
        "\n",
        "##################\n",
        "### EDIT ABOVE ###\n",
        "##################\n",
        "# 0が標的、1と2が制御\n",
        "bitflip_circuit.ccx(1, 2, 0)\n",
        "\n",
        "bitflip_circuit.draw('mpl')"
      ]
    },
    {
      "cell_type": "code",
      "execution_count": null,
      "id": "f41b9bf6-5757-454b-9342-df433b30b55e",
      "metadata": {
        "tags": [],
        "id": "f41b9bf6-5757-454b-9342-df433b30b55e"
      },
      "outputs": [],
      "source": [
        "show_state(bitflip_circuit, binary=True);"
      ]
    },
    {
      "cell_type": "markdown",
      "id": "435953d4-ba30-40c0-9b24-865532966b70",
      "metadata": {
        "id": "435953d4-ba30-40c0-9b24-865532966b70"
      },
      "source": [
        "第1と第2量子ビット（Qiskitの順番なので左二桁）の状態が同一である＝第1と第2量子ビットがくくり出せる＝第0量子ビットとのエンタングルメントが切れていれば、正しくデコードされています。第0ビットの状態をエラーのない単一量子ビット回路のものと比較します。"
      ]
    },
    {
      "cell_type": "code",
      "execution_count": null,
      "id": "4e1e79f7-b33f-420f-8a82-a5235b1a7f0e",
      "metadata": {
        "id": "4e1e79f7-b33f-420f-8a82-a5235b1a7f0e"
      },
      "outputs": [],
      "source": [
        "ref_circuit = QuantumCircuit(1)\n",
        "\n",
        "ref_circuit.u(theta, phi, lam, 0)\n",
        "ref_circuit.z(0)\n",
        "show_state(ref_circuit, binary=True);"
      ]
    },
    {
      "cell_type": "markdown",
      "id": "33e92b69-1cef-4c7b-9f6b-90b205f25221",
      "metadata": {
        "id": "33e92b69-1cef-4c7b-9f6b-90b205f25221"
      },
      "source": [
        "### ビット反転コードを実機で実行してみる"
      ]
    },
    {
      "cell_type": "code",
      "execution_count": null,
      "id": "878bc574-a0de-4773-9dfc-b5c6f2dfb305",
      "metadata": {
        "id": "878bc574-a0de-4773-9dfc-b5c6f2dfb305"
      },
      "outputs": [],
      "source": [
        "service = QiskitRuntimeService(filename=runtime_config_path)\n",
        "# 今一番空いているバックエンド\n",
        "backend = service.least_busy(simulator=False, operational=True)\n",
        "\n",
        "# 選ばれたバックエンドから一番性能の良い3量子ビットの並びを探す\n",
        "best_chain = find_best_chain(backend, 3)\n",
        "\n",
        "print(f'The job will run on {backend.name} qubits {best_chain}')\n",
        "\n",
        "# 最もSWAPが少なくなる量子ビット対応（回路中のq0がbest_chain[1]にマップされる）\n",
        "layout = [best_chain[1], best_chain[0], best_chain[2]]\n",
        "\n",
        "bitflip_circuit_tr = transpile(bitflip_circuit.measure_all(inplace=False), backend=backend, initial_layout=layout)\n",
        "ref_circuit_tr = transpile(ref_circuit.measure_all(inplace=False), backend=backend, initial_layout=[best_chain[1]])\n",
        "\n",
        "bitflip_circuit_tr.draw('mpl', idle_wires=False)"
      ]
    },
    {
      "cell_type": "code",
      "execution_count": null,
      "id": "f090e66b-cc3c-47e0-b1a1-a057576108d4",
      "metadata": {
        "id": "f090e66b-cc3c-47e0-b1a1-a057576108d4"
      },
      "outputs": [],
      "source": [
        "sampler = Sampler(backend)\n",
        "shots = 2000\n",
        "job = sampler.run([bitflip_circuit_tr, ref_circuit_tr], shots=shots)"
      ]
    },
    {
      "cell_type": "code",
      "execution_count": null,
      "id": "d324b638-c7ed-4265-b0a4-5f7403f97e91",
      "metadata": {
        "id": "d324b638-c7ed-4265-b0a4-5f7403f97e91"
      },
      "outputs": [],
      "source": [
        "if job.status() == 'DONE':\n",
        "    result = job.result()\n",
        "    counts_bitflip = result[0].data.meas.get_counts()\n",
        "    counts_ref = result[1].data.meas.get_counts()\n",
        "\n",
        "    # bitflip_circuitの結果のq0のカウントとref_circuitのq0のカウントを理論値と比較する\n",
        "    arr_bitflip = np.zeros(2)\n",
        "    arr_ref = np.zeros(2)\n",
        "    for ibit, bit in enumerate(['0', '1']):\n",
        "        arr_bitflip[ibit] += sum(value for key, value in counts_bitflip.items() if key[-1] == bit)\n",
        "        arr_ref[ibit] = counts_ref.get(bit, 0)\n",
        "\n",
        "    arr_ideal = np.square(np.array([np.cos(theta / 2.), np.sin(theta / 2.)])) * shots\n",
        "\n",
        "    plt.bar(np.arange(2) + 0.25, arr_bitflip, width=0.25, label='bitflip')\n",
        "    plt.bar(np.arange(2) + 0.5, arr_ref, width=0.25, label='ref')\n",
        "    plt.bar(np.arange(2) + 0.75, arr_ideal, width=0.25, label='ideal')\n",
        "    plt.xticks(np.arange(2) + 0.5, ['0', '1'])\n",
        "    plt.legend();\n",
        "\n",
        "else:\n",
        "    print('Job is not yet done, check again later!')"
      ]
    },
    {
      "cell_type": "markdown",
      "id": "527a5ace-eabb-4cb1-9a93-ff3145bbb674",
      "metadata": {
        "id": "527a5ace-eabb-4cb1-9a93-ff3145bbb674"
      },
      "source": [
        "### 位相反転（$Z$）エラー\n",
        "\n",
        "次に、位相反転を補正する3量子ビットのエラー訂正コードを考えます。$Z$を$H$で挟むと$X$になることを思い出すと、ビット反転コードを転用できることがすぐにわかります。"
      ]
    },
    {
      "cell_type": "code",
      "execution_count": null,
      "id": "3e79929e-5d9b-4766-b3b6-778da4a1148d",
      "metadata": {
        "tags": [],
        "id": "3e79929e-5d9b-4766-b3b6-778da4a1148d"
      },
      "outputs": [],
      "source": [
        "phaseflip_circuit = QuantumCircuit(3)\n",
        "\n",
        "phaseflip_circuit.u(theta, phi, lam, 0)\n",
        "phaseflip_circuit.barrier()\n",
        "\n",
        "# エンコーディング\n",
        "##################\n",
        "### EDIT BELOW ###\n",
        "##################\n",
        "\n",
        "##################\n",
        "### EDIT ABOVE ###\n",
        "##################\n",
        "\n",
        "phaseflip_circuit.barrier()\n",
        "\n",
        "# 位相反転コードの論理ZゲートはXXX\n",
        "phaseflip_circuit.x([0, 1, 2])\n",
        "\n",
        "# ランダムに位相反転エラーが発生\n",
        "phaseflip_circuit.z(np.random.randint(3))\n",
        "\n",
        "phaseflip_circuit.barrier()\n",
        "\n",
        "# デコーディング\n",
        "##################\n",
        "### EDIT BELOW ###\n",
        "##################\n",
        "\n",
        "##################\n",
        "### EDIT ABOVE ###\n",
        "##################\n",
        "\n",
        "phaseflip_circuit.ccx(1, 2, 0)\n",
        "\n",
        "phaseflip_circuit.draw('mpl')"
      ]
    },
    {
      "cell_type": "code",
      "execution_count": null,
      "id": "598b881a-22b0-40b8-b261-2d70e91f2c97",
      "metadata": {
        "tags": [],
        "id": "598b881a-22b0-40b8-b261-2d70e91f2c97"
      },
      "outputs": [],
      "source": [
        "show_state(phaseflip_circuit, binary=True);"
      ]
    },
    {
      "cell_type": "markdown",
      "id": "0b49545d-84ce-46a2-900f-47581ced41c0",
      "metadata": {
        "id": "0b49545d-84ce-46a2-900f-47581ced41c0"
      },
      "source": [
        "### Shorコード\n",
        "\n",
        "Shorコードは位相反転コードの物理量子ビットにビット反転コードの論理量子ビットを使って作ります。全部で9つの量子ビットを使い、全ての1量子ビットエラー（$X, Z, XZ$）を補正します。"
      ]
    },
    {
      "cell_type": "code",
      "execution_count": null,
      "id": "102062c4-febf-43b0-9e92-3c97b9eed79a",
      "metadata": {
        "tags": [],
        "id": "102062c4-febf-43b0-9e92-3c97b9eed79a"
      },
      "outputs": [],
      "source": [
        "shor_circuit = QuantumCircuit(9)\n",
        "\n",
        "shor_circuit.u(theta, phi, lam, 0)\n",
        "shor_circuit.barrier()\n",
        "\n",
        "# エンコーディング\n",
        "##################\n",
        "### EDIT BELOW ###\n",
        "##################\n",
        "\n",
        "##################\n",
        "### EDIT ABOVE ###\n",
        "##################\n",
        "\n",
        "shor_circuit.barrier()\n",
        "\n",
        "# Shorコードの論理ZゲートもXXXXXXXXX\n",
        "shor_circuit.x(range(9))\n",
        "\n",
        "# ランダムにビットと位相が反転\n",
        "erroneous_qubit = np.random.randint(9)\n",
        "error = np.random.choice(['x', 'z', 'xz'])\n",
        "if 'x' in error:\n",
        "    shor_circuit.x(erroneous_qubit)\n",
        "if 'z' in error:\n",
        "    shor_circuit.z(erroneous_qubit)\n",
        "\n",
        "shor_circuit.barrier()\n",
        "\n",
        "# デコーディング\n",
        "##################\n",
        "### EDIT BELOW ###\n",
        "##################\n",
        "\n",
        "##################\n",
        "### EDIT ABOVE ###\n",
        "##################\n",
        "\n",
        "shor_circuit.draw('mpl')"
      ]
    },
    {
      "cell_type": "code",
      "execution_count": null,
      "id": "2d2d4ebd-67a8-4854-a974-069c053c3f80",
      "metadata": {
        "tags": [],
        "id": "2d2d4ebd-67a8-4854-a974-069c053c3f80"
      },
      "outputs": [],
      "source": [
        "if error == 'xz':\n",
        "    global_phase = -np.pi\n",
        "else:\n",
        "    global_phase = 0.\n",
        "\n",
        "show_state(shor_circuit, global_phase=global_phase, binary=True);"
      ]
    },
    {
      "cell_type": "code",
      "execution_count": null,
      "id": "85f9149e-3d08-4edd-8fbb-c6c47a75d353",
      "metadata": {
        "id": "85f9149e-3d08-4edd-8fbb-c6c47a75d353"
      },
      "outputs": [],
      "source": []
    }
  ],
  "metadata": {
    "kernelspec": {
      "display_name": "Python 3 (ipykernel)",
      "language": "python",
      "name": "python3"
    },
    "language_info": {
      "codemirror_mode": {
        "name": "ipython",
        "version": 3
      },
      "file_extension": ".py",
      "mimetype": "text/x-python",
      "name": "python",
      "nbconvert_exporter": "python",
      "pygments_lexer": "ipython3",
      "version": "3.10.6"
    },
    "colab": {
      "provenance": [],
      "include_colab_link": true
    }
  },
  "nbformat": 4,
  "nbformat_minor": 5
}