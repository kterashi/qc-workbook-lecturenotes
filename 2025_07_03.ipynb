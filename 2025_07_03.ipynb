{
 "cells": [
  {
   "cell_type": "markdown",
   "metadata": {},
   "source": [
    "## QPEの簡単な例を実装する (1)\n",
    "\n",
    "では実際に、簡単な回路を使って量子位相推定を実装してみましょう。\n",
    "\n",
    "まず、あるユニタリー演算$U$に対して$U|\\psi\\rangle=e^{2\\pi i\\theta}|\\psi\\rangle$となる固有ベクトル$|\\psi\\rangle$が必要ですが、ここでは$U$として1量子ビットの$S$ゲート（位相$\\sqrt{Z}$ゲート）を考えてみます。$|1\\rangle=\\begin{pmatrix}0\\\\1\\end{pmatrix}$として、$S|1\\rangle=e^{i\\pi/2}|1\\rangle$となるので$|1\\rangle$は$S$の固有ベクトル、$e^{i\\pi/2}$がその固有値です。QPEは固有値$e^{2\\pi i\\theta}$の位相$\\theta$を求めるので、$S$の場合は$\\theta=1/4$を求めることに相当します。これを回路を使って実際に確かめてみます。"
   ]
  },
  {
   "cell_type": "code",
   "outputs": [],
   "source": [
    "import sys\n",
    "import shutil\n",
    "import tarfile\n",
    "from google.colab import drive\n",
    "drive.mount('/content/gdrive')\n",
    "shutil.copy('/content/gdrive/MyDrive/qcintro.tar.gz', '.')\n",
    "with tarfile.open('qcintro.tar.gz', 'r:gz') as tar:\n",
    "    tar.extractall(path='/root/.local')\n",
    "\n",
    "sys.path.append('/root/.local/lib/python3.11/site-packages')\n",
    "\n",
    "!git clone -b branch-2025 https://github.com/UTokyo-ICEPP/qc-workbook-lecturenotes\n",
    "!cp -r qc-workbook-lecturenotes/qc_workbook /root/.local/lib/python3.11/site-packages/"
   ],
   "metadata": {
    "collapsed": false
   }
  },
  {
   "cell_type": "code",
   "execution_count": null,
   "metadata": {},
   "outputs": [],
   "source": [
    "# Tested with python 3.11.13, qiskit 2.1.0\n",
    "from fractions import Fraction\n",
    "import matplotlib.pyplot as plt\n",
    "import numpy as np\n",
    "\n",
    "from qiskit import QuantumRegister, ClassicalRegister, QuantumCircuit, transpile\n",
    "from qiskit_aer import AerSimulator\n",
    "from qiskit_aer.primitives import SamplerV2 as AerSampler\n",
    "import qiskit.quantum_info as qi\n",
    "from qiskit.circuit.library import UnitaryGate\n",
    "\n",
    "from qiskit_ibm_runtime import QiskitRuntimeService, SamplerV2 as RuntimeSampler\n",
    "from qiskit_ibm_runtime.accounts import AccountNotFoundError\n",
    "from qiskit.visualization import plot_distribution\n",
    "\n",
    "# ワークブック独自のモジュール\n",
    "#sys.path.append('/home/jovyan/qc-workbook-lecturenotes/ja')\n",
    "from qc_workbook.utils import operational_backend"
   ]
  },
  {
   "cell_type": "code",
   "execution_count": 2,
   "metadata": {
    "ExecuteTime": {
     "end_time": "2025-06-30T05:51:26.562066Z",
     "start_time": "2025-06-30T05:51:26.554794Z"
    }
   },
   "outputs": [],
   "source": [
    "n_meas = 3\n",
    "\n",
    "# 位相測定用のレジスタ\n",
    "qreg_meas = QuantumRegister(n_meas, name='meas')\n",
    "# 固有ベクトルを保持するレジスタ\n",
    "qreg_aux = QuantumRegister(1, name='aux')\n",
    "# 位相測定の結果が書き出される古典レジスタ\n",
    "creg_meas = ClassicalRegister(n_meas, name='out')\n",
    "\n",
    "# 2つの量子レジスタと1つの古典レジスタから量子回路を作る\n",
    "circuit = QuantumCircuit(qreg_meas, qreg_aux, creg_meas)\n",
    "\n",
    "# それぞれのレジスタを初期化\n",
    "circuit.h(qreg_meas)\n",
    "circuit.x(qreg_aux)\n",
    "\n",
    "# angle/(2π)がQPEで求めたい位相\n",
    "angle = np.pi / 2\n",
    "\n",
    "# S = P(π/2)なので、(Controlled-S)^x を CP(xπ/2) で代替\n",
    "for x, ctrl in enumerate(qreg_meas):\n",
    "    circuit.cp(angle * (2 ** x), ctrl, qreg_aux[0])"
   ]
  },
  {
   "cell_type": "code",
   "execution_count": null,
   "metadata": {},
   "outputs": [],
   "source": [
    "def qft_dagger(qreg):\n",
    "    \"\"\"逆量子フーリエ変換用の回路\"\"\"\n",
    "    circuit = QuantumCircuit(qreg)\n",
    "\n",
    "    ##################\n",
    "    ### EDIT BELOW ###\n",
    "    ##################\n",
    "\n",
    "    #circuit?\n",
    "\n",
    "    ##################\n",
    "    ### EDIT ABOVE ###\n",
    "    ##################\n",
    "\n",
    "    circuit.name = \"QFT^dagger\"\n",
    "    return circuit\n",
    "\n",
    "circuit.barrier()\n",
    "circuit.append(qft_dagger(qreg_meas), qargs=qreg_meas)\n",
    "circuit.barrier()\n",
    "circuit.measure(qreg_meas, creg_meas)\n",
    "circuit.draw('mpl')"
   ]
  },
  {
   "cell_type": "markdown",
   "metadata": {},
   "source": [
    "### シミュレータでの実験\n",
    "\n",
    "シミュレータで実行して、測定結果の確率分布を作ってみます。"
   ]
  },
  {
   "cell_type": "code",
   "outputs": [],
   "source": [
    "shots = 1000\n",
    "\n",
    "simulator = AerSimulator()\n",
    "sampler = AerSampler()\n",
    "\n",
    "circuit_transpiled = transpile(circuit, backend=simulator)\n",
    "job = sampler.run([circuit_transpiled], shots=shots)"
   ],
   "metadata": {
    "collapsed": false,
    "ExecuteTime": {
     "end_time": "2025-06-30T05:51:29.576823Z",
     "start_time": "2025-06-30T05:51:29.392839Z"
    }
   },
   "execution_count": 4
  },
  {
   "cell_type": "code",
   "outputs": [],
   "source": [
    "plt.style.use('dark_background')\n",
    "plot_distribution(job.result()[0].data.out.get_counts())"
   ],
   "metadata": {
    "collapsed": false
   },
   "execution_count": null
  },
  {
   "cell_type": "markdown",
   "metadata": {},
   "source": [
    "ここで見た量子回路はシンプルですが、いろいろ拡張して振る舞いを理解するのに役立ちます。例えば、以下の問題を調べてみてください。\n",
    "- （グローバル因子を除いて）$S=R_Z(\\pi/2)$ゲートの例を見ましたが、角度を$0<\\phi<\\pi$の範囲で変えた$R_Z(\\phi)$ゲートではどうなるでしょうか？\n",
    "- 角度の選び方によっては、得られる位相の精度が悪くなります。その場合、どうすればより良い精度で測定できるでしょうか？\n",
    "- $S$ゲートの場合固有ベクトルは$|1\\rangle$でしたが、$|1\\rangle$以外の状態を使うとどうなりますか？特に固有ベクトルと線形従属なベクトルを使った場合の振る舞いを見てみてください。"
   ]
  },
  {
   "cell_type": "markdown",
   "metadata": {},
   "source": [
    "### 量子コンピュータでの実験\n",
    "\n",
    "最後に量子コンピュータで実行して、結果を確認してみます。新しいProvider環境を受け取っている人は、qiskit-itmbm.jsonを更新しておくと良いでしょう。"
   ]
  },
  {
   "cell_type": "code",
   "outputs": [],
   "source": [
    "# IBMidの登録が済んでいて、Provider情報を受け取っている人は\n",
    "# 　instance='ibm-q-utokyo/internal/__your_project_here__'\n",
    "# を指定して、セットアップ時に作ったqiskit-ibm.jsonファイルを上書き保存する\n",
    "QiskitRuntimeService.save_account(channel='ibm_quantum', token='__your_API_token_here__',\n",
    "                                  instance='ibm-q-utokyo/internal/__your_project_here__',\n",
    "                                  filename='/content/gdrive/MyDrive/qiskit-ibm.json', overwrite=True)"
   ],
   "metadata": {
    "collapsed": false
   },
   "execution_count": null
  },
  {
   "cell_type": "markdown",
   "source": [
    "現時点でbusyでないマシンを優先的に選んで回路をコンパイルし、実行します。"
   ],
   "metadata": {
    "collapsed": false
   }
  },
  {
   "cell_type": "code",
   "outputs": [],
   "source": [
    "# 量子コンピュータで実行する場合\n",
    "runtime_config_path = '/content/gdrive/MyDrive/qiskit-ibm.json'\n",
    "service = QiskitRuntimeService(filename=runtime_config_path)\n",
    "#backend = service.least_busy(filters=operational_backend())\n",
    "\n",
    "# 最も空いているバックエンドを見つけて、そのバックエンドに対して回路をトランスパイル\n",
    "backend = service.least_busy(min_num_qubits=n_meas+1, simulator=False, operational=True)\n",
    "print(f\"least busy backend: {backend.name}\")\n",
    "\n",
    "circuit_transpiled = transpile(circuit, backend=backend)"
   ],
   "metadata": {
    "collapsed": false
   }
  },
  {
   "cell_type": "code",
   "execution_count": null,
   "metadata": {},
   "outputs": [],
   "source": [
    "sampler = RuntimeSampler(backend)\n",
    "\n",
    "job = sampler.run([circuit_transpiled], shots=shots)\n",
    "print(f\">>> Job ID: {job.job_id()}, Status: {job.status()}\")"
   ]
  },
  {
   "cell_type": "code",
   "outputs": [],
   "source": [
    "# Use a job id from a previous result\n",
    "#job = service.job(\"d1h2ce9qf56g0080jd6g\")\n",
    "print(f\">>> Job Status: {job.status()}\")"
   ],
   "metadata": {
    "collapsed": false
   },
   "execution_count": null
  },
  {
   "cell_type": "code",
   "execution_count": null,
   "metadata": {},
   "outputs": [],
   "source": [
    "result = job.result()\n",
    "plot_distribution(result[0].data.out.get_counts())"
   ]
  },
  {
   "cell_type": "markdown",
   "source": [
    "## QPEの簡単な例を実装する (2)\n",
    "\n",
    "問題をもう少し複雑にして、ランダムな１量子ビットユニタリー演算子を生成して、その固有値を求めることにしましょう。\n",
    "\n",
    "まずランダムユニタリー$U$を生成し、その固有値と固有ベクトルを対角化して求めます。固有値の位相をプリントアウトしてみます。"
   ],
   "metadata": {
    "collapsed": false
   }
  },
  {
   "cell_type": "code",
   "outputs": [],
   "source": [
    "# ランダムな１量子ビットユニタリーUを生成し、Uの固有値と固有ベクトルを得る\n",
    "randum_unitary = qi.random_unitary(2, seed=1234)\n",
    "w, vec = np.linalg.eig(randum_unitary.data)\n",
    "w = w[0]\n",
    "vec = vec[:, 0]\n",
    "\n",
    "# 位相を確認\n",
    "arg = np.log(w)\n",
    "arg = arg.imag * 1.j\n",
    "#print(arg)\n",
    "theta = (arg / (2*np.pi) * (-1j)).real\n",
    "assert 0 <= theta < 1\n",
    "#print(theta)\n",
    "print(f\"real phase value: {theta}\")"
   ],
   "metadata": {
    "collapsed": false
   },
   "execution_count": null
  },
  {
   "cell_type": "markdown",
   "source": [
    "QPE用の回路を作り、状態用レジスタを固有ベクトルで初期化します。測定用レジスタの量子ビットを制御ビットとして、制御ユニタリー$U$を状態レジスタにかけます。最後に測定用レジスタに逆QFTをかけるのは同じです。"
   ],
   "metadata": {
    "collapsed": false
   }
  },
  {
   "cell_type": "code",
   "outputs": [],
   "source": [
    "# ランダムユニタリーをゲートに変換\n",
    "random_unitary_gate = UnitaryGate(randum_unitary, label='U_random')\n",
    "random_unitary_gate.name = 'U_random'"
   ],
   "metadata": {
    "collapsed": false,
    "ExecuteTime": {
     "end_time": "2025-06-30T05:57:24.811441Z",
     "start_time": "2025-06-30T05:57:24.801594Z"
    }
   },
   "execution_count": 17
  },
  {
   "cell_type": "code",
   "outputs": [],
   "source": [
    "n_qubits = 4\n",
    "\n",
    "# 2つの量子レジスタと1つの古典レジスタから量子回路を作る\n",
    "qreg_meas = QuantumRegister(n_qubits, name='meas')\n",
    "qreg_aux = QuantumRegister(1, name='aux')\n",
    "creg_meas = ClassicalRegister(n_qubits, name='out')\n",
    "\n",
    "circuit = QuantumCircuit(qreg_meas, qreg_aux, creg_meas)\n",
    "\n",
    "# 測定用レジスタを初期化\n",
    "circuit.h(qreg_meas)\n",
    "\n",
    "# 固有ベクトルを用意\n",
    "circuit.initialize(vec, qreg_aux)\n",
    "\n",
    "for i in range(n_qubits):\n",
    "    for _ in range(2**i):\n",
    "        # ユニタリゲートを制御ユニタリゲートとして回路に追加する。\n",
    "        circuit.append(random_unitary_gate.control(), [i, n_qubits])\n",
    "    circuit.barrier()\n",
    "\n",
    "# 逆QFT回路を追加\n",
    "circuit.append(qft_dagger(qreg_meas), qargs=qreg_meas)\n",
    "circuit.barrier()\n",
    "circuit.measure(qreg_meas, creg_meas)\n",
    "circuit.draw('mpl')"
   ],
   "metadata": {
    "collapsed": false
   },
   "execution_count": null
  },
  {
   "cell_type": "markdown",
   "source": [
    "実行して結果をプロットします。"
   ],
   "metadata": {
    "collapsed": false
   }
  },
  {
   "cell_type": "code",
   "outputs": [],
   "source": [
    "simulator = AerSimulator()\n",
    "sampler = AerSampler()\n",
    "shots = 1000\n",
    "\n",
    "circuit_transpiled = transpile(circuit, backend=simulator)\n",
    "job = sampler.run([circuit_transpiled], shots=shots)"
   ],
   "metadata": {
    "collapsed": false,
    "ExecuteTime": {
     "end_time": "2025-06-30T05:59:45.024100Z",
     "start_time": "2025-06-30T05:59:44.866472Z"
    }
   },
   "execution_count": 21
  },
  {
   "cell_type": "code",
   "outputs": [
    {
     "data": {
      "text/plain": "<Figure size 700x500 with 1 Axes>",
      "image/png": "[encoded data removed]"
     },
     "execution_count": 22,
     "metadata": {},
     "output_type": "execute_result"
    }
   ],
   "source": [
    "plt.style.use('dark_background')\n",
    "counts = job.result()[0].data.out.get_counts()\n",
    "plot_distribution(counts)"
   ],
   "metadata": {
    "collapsed": false,
    "ExecuteTime": {
     "end_time": "2025-06-30T05:59:47.356970Z",
     "start_time": "2025-06-30T05:59:47.234255Z"
    }
   },
   "execution_count": 22
  },
  {
   "cell_type": "markdown",
   "source": [
    "最後に測定結果（= $2^n\\theta$）から位相を求めます。"
   ],
   "metadata": {
    "collapsed": false
   }
  },
  {
   "cell_type": "code",
   "outputs": [
    {
     "name": "stdout",
     "output_type": "stream",
     "text": [
      "estimated phase = 0.4375, real phase = 0.4582020868266377\n"
     ]
    }
   ],
   "source": [
    "# 測定回数でソート\n",
    "counts_items = sorted(counts.items(), key=lambda k_v: -k_v[1])\n",
    "#print(counts_items)\n",
    "\n",
    "# 最も多く測定したビット列の位相を求める\n",
    "state, count = counts_items[0]\n",
    "estimated_theta = int(state, 2) / (2**n_qubits)\n",
    "print(f'estimated phase = {estimated_theta}, real phase = {theta}')"
   ],
   "metadata": {
    "collapsed": false,
    "ExecuteTime": {
     "end_time": "2025-06-30T06:12:24.913554Z",
     "start_time": "2025-06-30T06:12:24.910076Z"
    }
   },
   "execution_count": 25
  },
  {
   "cell_type": "markdown",
   "source": [
    "### 量子コンピュータでの実験\n",
    "\n",
    "量子コンピュータで実行してみましょう。"
   ],
   "metadata": {
    "collapsed": false
   }
  },
  {
   "cell_type": "code",
   "outputs": [],
   "source": [
    "backend = service.least_busy(min_num_qubits=n_meas+1, simulator=False, operational=True)\n",
    "print(f\"least busy backend: {backend.name}\")\n",
    "circuit_transpiled = transpile(circuit, backend=backend)"
   ],
   "metadata": {
    "collapsed": false
   },
   "execution_count": null
  },
  {
   "cell_type": "code",
   "outputs": [],
   "source": [
    "sampler = RuntimeSampler(backend)\n",
    "job = sampler.run([circuit_transpiled], shots=shots)\n",
    "print(f\">>> Job ID: {job.job_id()}, Status: {job.status()}\")"
   ],
   "metadata": {
    "collapsed": false
   },
   "execution_count": null
  },
  {
   "cell_type": "code",
   "outputs": [],
   "source": [
    "# Use a job id from a previous result\n",
    "#job = service.job(\"d1h2ce9qf56g0080jd6g\")\n",
    "print(f\">>> Job Status: {job.status()}\")"
   ],
   "metadata": {
    "collapsed": false
   },
   "execution_count": null
  },
  {
   "cell_type": "code",
   "outputs": [],
   "source": [
    "result = job.result()\n",
    "plot_distribution(result[0].data.out.get_counts())"
   ],
   "metadata": {
    "collapsed": false
   },
   "execution_count": null
  },
  {
   "cell_type": "markdown",
   "metadata": {},
   "source": [
    "## アルゴリズムの実装\n",
    "\n",
    "ここから、ショアのアルゴリズムを実装していきます。"
   ]
  },
  {
   "cell_type": "markdown",
   "metadata": {},
   "source": [
    "### 位数の発見\n",
    "\n",
    "まず最初に、繰り返しの位数（周期）を発見するアルゴリズムを見てみます。"
   ]
  },
  {
   "cell_type": "code",
   "execution_count": null,
   "metadata": {},
   "outputs": [],
   "source": [
    "N = 35\n",
    "a = 3\n",
    "\n",
    "# プロットするデータを計算する\n",
    "xvals = np.arange(35)\n",
    "yvals = [np.mod(a**x, N) for x in xvals]\n",
    "\n",
    "# matplotlibを使って描画\n",
    "fig, ax = plt.subplots()\n",
    "ax.plot(xvals, yvals, linewidth=1, linestyle='dotted', marker='x')\n",
    "ax.set(xlabel='$x$', ylabel='$%i^x$ mod $%i$' % (a, N),\n",
    "       title=\"Example of Periodic Function in Shor's Algorithm\")\n",
    "try: # グラフ上にrをプロット\n",
    "    r = yvals[1:].index(1) + 1\n",
    "    plt.annotate(text='', xy=(0,1), xytext=(r,1), arrowprops=dict(arrowstyle='<->'))\n",
    "    plt.annotate(text='$r=%i$' % r, xy=(r/3,1.5))\n",
    "except:\n",
    "    print('Could not find period, check a < N and have no common factors.')"
   ]
  },
  {
   "cell_type": "markdown",
   "metadata": {},
   "source": [
    "### オラクルの実装"
   ]
  },
  {
   "cell_type": "code",
   "execution_count": 31,
   "metadata": {
    "ExecuteTime": {
     "end_time": "2025-06-30T06:20:41.746711Z",
     "start_time": "2025-06-30T06:20:41.732299Z"
    }
   },
   "outputs": [],
   "source": [
    "def c_amod15(a, power):\n",
    "    \"\"\"mod 15による制御ゲート\"\"\"\n",
    "    if a not in [2,4,7,8,11,13]:\n",
    "        raise ValueError(\"'a' must be 2,4,7,8,11 or 13\")\n",
    "\n",
    "    U = QuantumCircuit(4)\n",
    "\n",
    "    ##################\n",
    "    ### EDIT BELOW ###\n",
    "    ##################\n",
    "\n",
    "    #U.?\n",
    "\n",
    "    ##################\n",
    "    ### EDIT ABOVE ###\n",
    "    ##################\n",
    "\n",
    "    # Uを2^l回繰り返す\n",
    "    U_power = U.repeat(2 ** l)\n",
    "\n",
    "    # U_powerをゲートに変換\n",
    "    gate = U_power.to_gate()\n",
    "    gate.name = f\"{a}^{2 ** l} mod 15\"\n",
    "\n",
    "    # gateを制御ゲートに変換\n",
    "    c_gate = gate.control()\n",
    "    return c_gate"
   ]
  },
  {
   "cell_type": "markdown",
   "metadata": {},
   "source": [
    "### 回路全体の実装\n",
    "\n",
    "測定用ビットとして、8量子ビットを使います。"
   ]
  },
  {
   "cell_type": "code",
   "execution_count": 32,
   "metadata": {
    "ExecuteTime": {
     "end_time": "2025-06-30T06:20:43.916120Z",
     "start_time": "2025-06-30T06:20:43.913558Z"
    }
   },
   "outputs": [],
   "source": [
    "# 15と互いに素な数\n",
    "a = 7\n",
    "\n",
    "# 測定用ビットの数（位相推定の精度）\n",
    "n_meas = 8"
   ]
  },
  {
   "cell_type": "code",
   "execution_count": null,
   "metadata": {},
   "outputs": [],
   "source": [
    "# 位相測定用のレジスタ\n",
    "qreg_meas = QuantumRegister(n_meas, name='meas')\n",
    "# Uを作用させる作業用レジスタ\n",
    "qreg_aux = QuantumRegister(4, name='aux')\n",
    "# 位相測定の結果が書き出される古典レジスタ\n",
    "creg_meas = ClassicalRegister(n_meas, name='out')\n",
    "\n",
    "# 2つの量子レジスタと1つの古典レジスタから量子回路を作る\n",
    "circuit = QuantumCircuit(qreg_meas, qreg_aux, creg_meas)\n",
    "\n",
    "# 測定用レジスタをequal superpositionに初期化\n",
    "circuit.h(qreg_meas)\n",
    "# 作業用レジスタを|1>に初期化\n",
    "circuit.x(qreg_aux[0])\n",
    "\n",
    "# 制御Uゲートを適用\n",
    "for l, ctrl in enumerate(qreg_meas):\n",
    "    circuit.append(c_amod15(a, l), qargs=([ctrl] + qreg_aux[:]))\n",
    "\n",
    "# 逆QFTを適用\n",
    "circuit.append(qft_dagger(qreg_meas), qargs=qreg_meas)\n",
    "\n",
    "# 回路を測定\n",
    "circuit.measure(qreg_meas, creg_meas)\n",
    "circuit.draw('mpl')"
   ]
  },
  {
   "cell_type": "markdown",
   "metadata": {},
   "source": [
    "シミュレータで実行して、結果を確認してみます。"
   ]
  },
  {
   "cell_type": "code",
   "execution_count": null,
   "metadata": {},
   "outputs": [],
   "source": [
    "shots = 10000\n",
    "\n",
    "simulator = AerSimulator()\n",
    "sampler = AerSampler()\n",
    "\n",
    "circuit = transpile(circuit, backend=simulator)\n",
    "\n",
    "# Now run the job and examine the results\n",
    "job = sampler.run([circuit], shots=shots)\n",
    "answer = job.result()[0].data.out.get_counts()\n",
    "\n",
    "plt.style.use('dark_background')\n",
    "plot_distribution(answer)"
   ]
  },
  {
   "cell_type": "markdown",
   "metadata": {},
   "source": [
    "### 計算結果の解析\n",
    "出力された結果から、位相を求めてみます。"
   ]
  },
  {
   "cell_type": "code",
   "execution_count": null,
   "metadata": {},
   "outputs": [],
   "source": [
    "rows, measured_phases = [], []\n",
    "for output in answer:\n",
    "    out = int(output, 2)\n",
    "    phase = out / (2 ** n_meas)\n",
    "    measured_phases.append(phase)\n",
    "    # これらの値をテーブルの行に追加：\n",
    "    rows.append(f\"{out:3d}      {out:3d}/{2 ** n_meas} = {phase:.3f}\")\n",
    "\n",
    "# 結果を表示\n",
    "print('Register Output    Phase')\n",
    "print('------------------------')\n",
    "\n",
    "for row in rows:\n",
    "    print(row)"
   ]
  },
  {
   "cell_type": "markdown",
   "metadata": {},
   "source": [
    "得られた位相の情報から、連分数アルゴリズムを使用して$s$と$r$を見つけることができます。Pythonの組み込みの`fractions`(分数)モジュールを使用して、小数を`Fraction`オブジェクトに変換できます。"
   ]
  },
  {
   "cell_type": "code",
   "execution_count": null,
   "metadata": {},
   "outputs": [],
   "source": [
    "rows = []\n",
    "for phase in measured_phases:\n",
    "    frac = Fraction(phase).limit_denominator(15)\n",
    "    rows.append(f'{phase:10.3f}      {frac.numerator:2d}/{frac.denominator:2d} {frac.denominator:13d}')\n",
    "\n",
    "# 結果を表示\n",
    "print('     Phase   Fraction   Guess for r')\n",
    "print('-------------------------------------')\n",
    "\n",
    "for row in rows:\n",
    "    print(row)"
   ]
  },
  {
   "cell_type": "markdown",
   "metadata": {},
   "source": [
    "limit_denominatorメソッドを使って、分母が特定の値（ここでは15）を下回る分数で、最も位相の値に近いものを得ています。\n",
    "\n",
    "測定された結果のうち、2つ（64と192）が正しい答えである$r=4$を与えたことが分かります。"
   ]
  },
  {
   "cell_type": "markdown",
   "metadata": {},
   "source": [
    "### コードの答え\n",
    "\n",
    "逆量子フーリエ変換"
   ]
  },
  {
   "cell_type": "code",
   "execution_count": null,
   "metadata": {
    "collapsed": false
   },
   "outputs": [],
   "source": [
    "    ##################\n",
    "    ### EDIT BELOW ###\n",
    "    ##################\n",
    "\n",
    "    # SWAPを忘れないように!\n",
    "    for j in range(qreg.size // 2):\n",
    "        qc.swap(qreg[j], qreg[-1 - j])\n",
    "\n",
    "    for itarg in range(qreg.size):\n",
    "        for ictrl in range(itarg):\n",
    "            power = ictrl - itarg - 1\n",
    "            qc.cp(-2. * np.pi * (2 ** power), ictrl, itarg)\n",
    "\n",
    "        qc.h(itarg)\n",
    "\n",
    "    ##################\n",
    "    ### EDIT ABOVE ###\n",
    "    ##################"
   ]
  },
  {
   "cell_type": "markdown",
   "metadata": {},
   "source": [
    "オラクルの実装"
   ]
  },
  {
   "cell_type": "code",
   "execution_count": null,
   "metadata": {
    "collapsed": false
   },
   "outputs": [],
   "source": [
    "    ##################\n",
    "    ### EDIT BELOW ###\n",
    "    ##################\n",
    "\n",
    "    if a in [2, 13]:\n",
    "        # 下の位を上に移すので、上の位から順にSWAPしていく\n",
    "        U.swap(3, 2)\n",
    "        U.swap(2, 1)\n",
    "        U.swap(1, 0)\n",
    "    elif a in [4, 11]:\n",
    "        # 「一つ飛ばし」のビットシフト\n",
    "        U.swap(3, 1)\n",
    "        U.swap(2, 0)\n",
    "    elif a in [8, 7]:\n",
    "        # 下から順\n",
    "        U.swap(1, 0)\n",
    "        U.swap(2, 1)\n",
    "        U.swap(3, 2)\n",
    "\n",
    "    if a in [7, 11, 13]:\n",
    "        U.x([0, 1, 2, 3])\n",
    "\n",
    "    ##################\n",
    "    ### EDIT ABOVE ###\n",
    "    ##################"
   ]
  }
 ],
 "metadata": {
  "kernelspec": {
   "display_name": "Python 3 (ipykernel)",
   "language": "python",
   "name": "python3"
  },
  "language_info": {
   "codemirror_mode": {
    "name": "ipython",
    "version": 3
   },
   "file_extension": ".py",
   "mimetype": "text/x-python",
   "name": "python",
   "nbconvert_exporter": "python",
   "pygments_lexer": "ipython3",
   "version": "3.10.6"
  }
 },
 "nbformat": 4,
 "nbformat_minor": 4
}
