{
  "cells": [
    {
      "cell_type": "markdown",
      "metadata": {
        "id": "view-in-github",
        "colab_type": "text"
      },
      "source": [
        "<a href=\"https://colab.research.google.com/github/yiiyama/qc-workbook-lecturenotes/blob/branch-2024/assignment_2024_04_25.ipynb\" target=\"_parent\"><img src=\"https://colab.research.google.com/assets/colab-badge.svg\" alt=\"Open In Colab\"/></a>"
      ]
    },
    {
      "cell_type": "markdown",
      "source": [
        "# 【課題】関数の実装とアダマールテスト\n",
        "\n",
        "$\\newcommand{\\ket}[1]{|#1\\rangle}$\n",
        "$\\newcommand{\\braket}[2]{\\langle #1 | #2 \\rangle}$"
      ],
      "metadata": {
        "id": "597c7cd7-eebf-46ed-aba2-891c4a852c29"
      },
      "id": "597c7cd7-eebf-46ed-aba2-891c4a852c29"
    },
    {
      "cell_type": "code",
      "execution_count": null,
      "id": "74dbe05c-cc4e-4032-9a85-07cb33f50380",
      "metadata": {
        "id": "74dbe05c-cc4e-4032-9a85-07cb33f50380"
      },
      "outputs": [],
      "source": [
        "# まずは必要になるpythonモジュールのライブラリファイルをコピーし、すべてインポートしておく\n",
        "import os\n",
        "import sys\n",
        "import shutil\n",
        "import tarfile\n",
        "from google.colab import drive\n",
        "drive.mount('/content/gdrive')\n",
        "shutil.copy('/content/gdrive/MyDrive/qcintro.tar.gz', '.')\n",
        "with tarfile.open('qcintro.tar.gz', 'r:gz') as tar:\n",
        "    tar.extractall(path='/root/.local')\n",
        "\n",
        "sys.path.append('/root/.local/lib/python3.10/site-packages')"
      ]
    },
    {
      "cell_type": "code",
      "execution_count": null,
      "id": "66bb4fdd-1d59-4406-939a-253c516605af",
      "metadata": {
        "tags": [
          "remove-output"
        ],
        "id": "66bb4fdd-1d59-4406-939a-253c516605af"
      },
      "outputs": [],
      "source": [
        "import numpy as np\n",
        "import matplotlib.pyplot as plt\n",
        "from qiskit import QuantumRegister, ClassicalRegister, QuantumCircuit, transpile\n",
        "from qiskit_aer import AerSimulator\n",
        "from qiskit_aer.primitives import SamplerV2 as Sampler\n",
        "from qiskit.visualization import plot_histogram\n",
        "\n",
        "print('notebook ready')"
      ]
    },
    {
      "cell_type": "markdown",
      "id": "9bed681d-d9cb-4dbd-a7a9-cd26e721ae7f",
      "metadata": {
        "id": "9bed681d-d9cb-4dbd-a7a9-cd26e721ae7f"
      },
      "source": [
        "## 問題1: 足し算回路\n",
        "\n",
        "足し算の入力(a=5, b=6)をXゲートで記述し、$U$と$V$を実装してください。"
      ]
    },
    {
      "cell_type": "code",
      "execution_count": null,
      "id": "03e84489-9688-43f3-9d27-54ae98a1fb96",
      "metadata": {
        "id": "03e84489-9688-43f3-9d27-54ae98a1fb96"
      },
      "outputs": [],
      "source": [
        "input_digits = 3\n",
        "\n",
        "# 回路のビット数は入力の桁数x2 + 2（補助ビット）\n",
        "circuit_width = 2 * input_digits + 2\n",
        "qreg = QuantumRegister(circuit_width, name='q')\n",
        "# 足し算の結果が書かれるビットのみ測定するので、出力の古典レジスタは4桁\n",
        "creg = ClassicalRegister(input_digits + 1, name='out')\n",
        "circuit = QuantumCircuit(qreg, creg)\n",
        "\n",
        "# 入力の状態(a=5, b=6)をXゲートを使って設定\n",
        "##################\n",
        "### EDIT BELOW ###\n",
        "##################\n",
        "\n",
        "# for iq in [?, ?, ?, ..]:\n",
        "#     circuit.x(iq)\n",
        "\n",
        "##################\n",
        "### EDIT ABOVE ###\n",
        "##################\n",
        "\n",
        "circuit.barrier()\n",
        "\n",
        "# Uを qlow, qlow+1, qlow+2 に対して作用させる。range(0, n, 2)によってqlowの値は一つ飛ばしで与えられる\n",
        "for qlow in range(0, circuit_width - 2, 2):\n",
        "    ##################\n",
        "    ### EDIT BELOW ###\n",
        "    ##################\n",
        "\n",
        "    # Uを実装\n",
        "\n",
        "    ##################\n",
        "    ### EDIT ABOVE ###\n",
        "    ##################\n",
        "\n",
        "circuit.cx(circuit_width - 2, circuit_width - 1)\n",
        "\n",
        "# Vを qlow, qlow+1, qlow+2 に対して作用させる。range(n-1, -1, -2)によってqlowの値は一つ飛ばしで与えられる\n",
        "for qlow in range(circuit_width - 4, -1, -2):\n",
        "    ##################\n",
        "    ### EDIT BELOW ###\n",
        "    ##################\n",
        "\n",
        "    # Vを実装\n",
        "\n",
        "    ##################\n",
        "    ### EDIT ABOVE ###\n",
        "    ##################\n",
        "\n",
        "# [1, 3, ...]量子ビットを測定し、古典レジスタに書き出す\n",
        "circuit.measure(range(1, circuit_width, 2), creg)\n",
        "\n",
        "circuit.draw('mpl')"
      ]
    },
    {
      "cell_type": "code",
      "execution_count": null,
      "id": "3e59ec3e-5e22-4f5b-bf41-21593d937d27",
      "metadata": {
        "id": "3e59ec3e-5e22-4f5b-bf41-21593d937d27"
      },
      "outputs": [],
      "source": [
        "# シミュレータで回路を実行\n",
        "simulator = AerSimulator()\n",
        "sampler = Sampler()\n",
        "shots = 100\n",
        "\n",
        "circuit = transpile(circuit, backend=simulator)\n",
        "job_result = sampler.run([circuit], shots=shots).result()\n",
        "counts = job_result[0].data.out.get_counts()\n",
        "\n",
        "plot_histogram(counts)"
      ]
    },
    {
      "cell_type": "markdown",
      "id": "849c1723-5b60-4e02-89d6-fbc6ddc74168",
      "metadata": {
        "id": "849c1723-5b60-4e02-89d6-fbc6ddc74168"
      },
      "source": [
        "## 問題2: アダマールテストで状態ベクトルを同定する\n",
        "\n",
        "次のセルの回路で作られる状態$\\ket{\\psi}$の状態ベクトルを調べます。"
      ]
    },
    {
      "cell_type": "code",
      "execution_count": null,
      "id": "8d69fff7-b8ed-4f21-9501-3be22f3e583c",
      "metadata": {
        "id": "8d69fff7-b8ed-4f21-9501-3be22f3e583c"
      },
      "outputs": [],
      "source": [
        "# データレジスタのビット数\n",
        "data_width = 6\n",
        "\n",
        "# 状態|ψ>を作る回路\n",
        "upsi = QuantumCircuit(data_width, name='psi')\n",
        "upsi.x(0)\n",
        "upsi.h(2)\n",
        "upsi.cx(2, 3)\n",
        "for itarg in range(data_width - 1, -1, -1):\n",
        "    upsi.h(itarg)\n",
        "    for ictrl in range(itarg - 1, -1, -1):\n",
        "        power = ictrl - itarg - 1 + data_width\n",
        "        upsi.cp((2 ** power) * 2. * np.pi / (2 ** data_width), ictrl, itarg)\n",
        "\n",
        "for iq in range(data_width // 2):\n",
        "    upsi.swap(iq, data_width - 1 - iq)"
      ]
    },
    {
      "cell_type": "markdown",
      "id": "755c4402-7cd9-4e64-bb9c-3a342f9662ac",
      "metadata": {
        "id": "755c4402-7cd9-4e64-bb9c-3a342f9662ac"
      },
      "source": [
        "Qiskitでは、`QuantumCircuit`オブジェクトで表される量子回路を、`to_gate()`メソッドで一つのゲートオブジェクトに変換することができます。さらにそのゲートに対して`control(n)`メソッドを用いると、元の回路をn量子ビットで制御する制御ゲートを作ることができます。"
      ]
    },
    {
      "cell_type": "code",
      "execution_count": null,
      "id": "50f1982b-c15b-4751-bb1c-e7f964d0ef7c",
      "metadata": {
        "id": "50f1982b-c15b-4751-bb1c-e7f964d0ef7c"
      },
      "outputs": [],
      "source": [
        "upsi_gate = upsi.to_gate()\n",
        "cupsi_gate = upsi_gate.control(1)"
      ]
    },
    {
      "cell_type": "markdown",
      "id": "fb51d54a-1e46-4ec7-a811-ccd004b5a3f9",
      "metadata": {
        "id": "fb51d54a-1e46-4ec7-a811-ccd004b5a3f9"
      },
      "source": [
        "$U^{-1}_k$とその制御ゲート化は$k$の関数として定義しておきます。"
      ]
    },
    {
      "cell_type": "code",
      "execution_count": null,
      "id": "e9adf7a3-fcbb-4c80-ba89-a5ce8f37ff5c",
      "metadata": {
        "id": "e9adf7a3-fcbb-4c80-ba89-a5ce8f37ff5c"
      },
      "outputs": [],
      "source": [
        "def make_cukinv_gate(k):\n",
        "    uk = QuantumCircuit(data_width, name=f'u_{k}')\n",
        "\n",
        "    # kの２進数表現を得るために、unpackbitsを利用（他にもいろいろな方法がある）\n",
        "    # unpackbitsはuint8タイプのアレイを引数に取るので、jをその形に変換してから渡している\n",
        "    k_bits = np.unpackbits(np.asarray(k, dtype=np.uint8), bitorder='little')\n",
        "    # k_bitsアレイのうち、ビットが立っているインデックスを得て、それらにXゲートをかける\n",
        "    for idx in np.nonzero(k_bits)[0]:\n",
        "        uk.x(idx)\n",
        "\n",
        "    # 形式上逆回路を作るが、Xの逆操作はXなので、実は全く同一の回路\n",
        "    ukinv = uk.inverse()\n",
        "\n",
        "    ukinv_gate = ukinv.to_gate()\n",
        "    cukinv_gate = ukinv_gate.control(1)\n",
        "\n",
        "    return cukinv_gate"
      ]
    },
    {
      "cell_type": "markdown",
      "id": "71acf615-0e94-4acf-8de9-6ee0dd36d1d0",
      "metadata": {
        "id": "71acf615-0e94-4acf-8de9-6ee0dd36d1d0"
      },
      "source": [
        "ゲートオブジェクトは`QuantumCircuit`オブジェクトに`append()`で組み込むことができます。制御ゲートを埋め込む場合は、制御ビットが組み込み先の最初のnビットとなるので、`append()`の`qargs`引数で正しく対応づけします。\n",
        "\n",
        "次のセルで$k=0$から$2^n-1$までそれぞれ2通りのアダマールテストを行い、$\\ket{\\psi}$の計算基底展開を求めてください。"
      ]
    },
    {
      "cell_type": "code",
      "execution_count": null,
      "id": "49e69cf2-9829-4028-98d5-6e9516003f7e",
      "metadata": {
        "tags": [
          "remove-output"
        ],
        "id": "49e69cf2-9829-4028-98d5-6e9516003f7e"
      },
      "outputs": [],
      "source": [
        "reg_data = QuantumRegister(data_width, name='data')\n",
        "reg_test = QuantumRegister(1, name='test')\n",
        "creg_test = ClassicalRegister(1, name='out')\n",
        "\n",
        "# 実部用と虚部用の回路をそれぞれリストに入れ、一度にシミュレータに渡す\n",
        "circuits_re = []\n",
        "circuits_im = []\n",
        "\n",
        "ks = np.arange(2 ** data_width)\n",
        "\n",
        "for k in ks:\n",
        "    circuit_re = QuantumCircuit(reg_data, reg_test, creg_test)\n",
        "    circuit_im = QuantumCircuit(reg_data, reg_test, creg_test)\n",
        "\n",
        "    ##################\n",
        "    ### EDIT BELOW ###\n",
        "    ##################\n",
        "\n",
        "    # 制御ゲートをcircuitに組み込む例\n",
        "    # circuit.append(cupsi_gate, qargs=([reg_test[0]] + reg_data[:]))\n",
        "\n",
        "    ##################\n",
        "    ### EDIT ABOVE ###\n",
        "    ##################\n",
        "\n",
        "    circuit_re.measure(reg_test, creg_test)\n",
        "    circuit_im.measure(reg_test, creg_test)\n",
        "\n",
        "    circuits_re.append(circuit_re)\n",
        "    circuits_im.append(circuit_im)\n",
        "\n",
        "# シミュレータで回路を実行\n",
        "simulator = AerSimulator()\n",
        "sampler = Sampler()\n",
        "shots = 10000\n",
        "\n",
        "circuits_re = transpile(circuits_re, backend=simulator)\n",
        "circuits_im = transpile(circuits_im, backend=simulator)\n",
        "\n",
        "job_result_re = sampler.run(circuits_re, shots=shots).result()\n",
        "job_result_im = sampler.run(circuits_im, shots=shots).result()\n",
        "\n",
        "# 状態ベクトルアレイ\n",
        "statevector = np.empty(2 ** data_width, dtype=np.complex128)\n",
        "\n",
        "for k in ks:\n",
        "    counts_re = job_result_re[k].data.out.get_counts()\n",
        "    counts_im = job_result_im[k].data.out.get_counts()\n",
        "    statevector[k] = (counts_re.get('0', 0) - counts_re.get('1', 0)) / shots\n",
        "    statevector[k] += 1.j * (counts_im.get('0', 0) - counts_im.get('1', 0)) / shots"
      ]
    },
    {
      "cell_type": "code",
      "execution_count": null,
      "id": "2cdaca63-112f-4d3c-a898-bf45af969e8f",
      "metadata": {
        "tags": [
          "remove-output"
        ],
        "id": "2cdaca63-112f-4d3c-a898-bf45af969e8f"
      },
      "outputs": [],
      "source": [
        "plt.plot(ks, statevector.real, label='Re($c_k$)')\n",
        "plt.plot(ks, statevector.imag, label='Im($c_k$)')\n",
        "plt.xlabel('k')\n",
        "plt.legend();"
      ]
    },
    {
      "cell_type": "markdown",
      "id": "9c5d98b0-0456-42ef-9322-d065344dfd23",
      "metadata": {
        "id": "9c5d98b0-0456-42ef-9322-d065344dfd23"
      },
      "source": [
        "得られた結果と状態ベクトルシミュレータで計算される状態ベクトルとを比較してみましょう。"
      ]
    },
    {
      "cell_type": "code",
      "execution_count": null,
      "id": "4685a636-b3c0-4956-9de9-911b202deb6d",
      "metadata": {
        "tags": [
          "remove-output"
        ],
        "id": "4685a636-b3c0-4956-9de9-911b202deb6d"
      },
      "outputs": [],
      "source": [
        "sv_simulator = AerSimulator(method='statevector')\n",
        "\n",
        "# save_statevectorをくっつけるので元の回路をコピーする\n",
        "circuit = upsi.copy()\n",
        "circuit.save_statevector()\n",
        "\n",
        "circuit = transpile(circuit, backend=sv_simulator)\n",
        "statevector_truth = np.asarray(sv_simulator.run(circuit).result().data()['statevector'])\n",
        "\n",
        "plt.plot(ks, statevector_truth.real, label='Re($c_k$) truth')\n",
        "plt.plot(ks, statevector_truth.imag, label='Im($c_k$) truth')\n",
        "plt.scatter(ks, statevector.real, label='Re($c_k$)')\n",
        "plt.scatter(ks, statevector.imag, label='Im($c_k$)')\n",
        "plt.xlabel('k')\n",
        "plt.legend();"
      ]
    },
    {
      "cell_type": "markdown",
      "id": "6910e4ba-0699-4c39-8fec-fdd2db042f19",
      "metadata": {
        "id": "6910e4ba-0699-4c39-8fec-fdd2db042f19"
      },
      "source": [
        "## 問題3（おまけ・評価対象外）: 符号が反転している基底を見つける\n",
        "\n",
        "3量子ビットの均等重ね合わせにおいて、一つだけ符号が反転している計算基底を探します。\n",
        "\n",
        "後で便利なように、まずはブラックボックスを単体の回路として定義します。"
      ]
    },
    {
      "cell_type": "code",
      "execution_count": null,
      "id": "ac4c0be5-3158-4b0a-9dd2-0f51121eb0ff",
      "metadata": {
        "id": "ac4c0be5-3158-4b0a-9dd2-0f51121eb0ff"
      },
      "outputs": [],
      "source": [
        "num_qubits = 3\n",
        "needle = 5\n",
        "\n",
        "haystack_register = QuantumRegister(num_qubits, name='haystack') # ビット数を指定してレジスタを作る\n",
        "blackbox_circuit = QuantumCircuit(haystack_register, name='blackbox') # レジスタから回路を作る\n",
        "\n",
        "# unpackbitsでneedleが二進数のビット列に変換される。それを1から引くことでビット反転\n",
        "needle_bits = 1 - np.unpackbits(np.asarray(needle, dtype=np.uint8), bitorder='little')[:num_qubits]\n",
        "for idx in np.nonzero(needle_bits)[0]:\n",
        "    blackbox_circuit.x(haystack_register[idx])\n",
        "\n",
        "# レジスタの（0番から）最後から二番目のビットまでで制御し、最後のビットを標的にする\n",
        "blackbox_circuit.mcp(np.pi, haystack_register[:-1], haystack_register[-1])\n",
        "\n",
        "# 後片付け\n",
        "for idx in np.nonzero(needle_bits)[0]:\n",
        "    blackbox_circuit.x(haystack_register[idx])\n",
        "\n",
        "blackbox_circuit.draw('mpl')"
      ]
    },
    {
      "cell_type": "markdown",
      "id": "a038f6b9-4d65-4d0e-94f4-e5e164a35d2c",
      "metadata": {
        "id": "a038f6b9-4d65-4d0e-94f4-e5e164a35d2c"
      },
      "source": [
        "ここまでは{doc}`circuit_from_scratch`の問題5と同じです。\n",
        "\n",
        "問題1でやったのと同様、QuantumCircuitオブジェクト全体を一つのゲートのようにみなして、それから制御ゲートを派生させます。"
      ]
    },
    {
      "cell_type": "code",
      "execution_count": null,
      "id": "98158810-4894-414c-8730-808f5b2bb216",
      "metadata": {
        "id": "98158810-4894-414c-8730-808f5b2bb216"
      },
      "outputs": [],
      "source": [
        "# blackbox_circuitを3量子ビットゲート化\n",
        "blackbox = blackbox_circuit.to_gate()\n",
        "# さらにblackboxゲートを1制御+3標的ビットゲート化\n",
        "cblackbox = blackbox.control(1)"
      ]
    },
    {
      "cell_type": "markdown",
      "id": "cc23157e-8cfb-4659-a751-6b1f182288e9",
      "metadata": {
        "id": "cc23157e-8cfb-4659-a751-6b1f182288e9"
      },
      "source": [
        "それでは、この制御ブラックボックスゲートを利用して、equal superpositionにある`haystack`レジスタで干渉を起こして、観測で`needle`が識別できるような回路を書いてください。\n",
        "\n",
        "ヒント：アダマールテストの回路は、量子状態ベクトル同士を足したり引いたりして振幅の干渉を起こさせる回路のテンプレートでもあります。"
      ]
    },
    {
      "cell_type": "code",
      "execution_count": null,
      "id": "c9239625-27ae-4c3f-b58a-94e03a7b604e",
      "metadata": {
        "tags": [
          "remove-output"
        ],
        "id": "c9239625-27ae-4c3f-b58a-94e03a7b604e"
      },
      "outputs": [],
      "source": [
        "def make_haystack_needle():\n",
        "    test_register = QuantumRegister(1, 'test')\n",
        "    circuit = QuantumCircuit(haystack_register, test_register)\n",
        "\n",
        "    # equal superpositionを作る（このようにゲート操作のメソッドにレジスタを渡すと、レジスタの各ビットにゲートがかかります。）\n",
        "    circuit.h(haystack_register)\n",
        "\n",
        "    ##################\n",
        "    ### EDIT BELOW ###\n",
        "    ##################\n",
        "\n",
        "    #circuit.?\n",
        "\n",
        "    ##################\n",
        "    ### EDIT ABOVE ###\n",
        "    ##################\n",
        "\n",
        "    circuit.measure_all()\n",
        "\n",
        "    return circuit"
      ]
    },
    {
      "cell_type": "code",
      "execution_count": null,
      "id": "3e4a501c-b669-4ffc-8dc3-2b6ef1277062",
      "metadata": {
        "tags": [
          "remove-output"
        ],
        "id": "3e4a501c-b669-4ffc-8dc3-2b6ef1277062"
      },
      "outputs": [],
      "source": [
        "haystack_needle = make_haystack_needle()\n",
        "haystack_needle.draw('mpl')"
      ]
    },
    {
      "cell_type": "markdown",
      "id": "e9e3ecb1-f2e9-4dac-930e-415913a256fc",
      "metadata": {
        "id": "e9e3ecb1-f2e9-4dac-930e-415913a256fc"
      },
      "source": [
        "回路が完成したら、`qasm_simulator`で実行し、ヒストグラムをプロットしてください。"
      ]
    },
    {
      "cell_type": "code",
      "execution_count": null,
      "id": "e2981d5b-9f90-4722-9d10-f4dce39c2a4b",
      "metadata": {
        "tags": [
          "remove-output"
        ],
        "id": "e2981d5b-9f90-4722-9d10-f4dce39c2a4b"
      },
      "outputs": [],
      "source": [
        "simulator = AerSimulator()\n",
        "sampler = Sampler()\n",
        "haystack_needle = transpile(haystack_needle, backend=simulator)\n",
        "counts = sampler.run([haystack_needle], shots=10000).result()[0].data.meas.get_counts()\n",
        "plot_histogram(counts, figsize=(16, 4))"
      ]
    },
    {
      "cell_type": "markdown",
      "id": "c47c4e6b-a78c-4767-bb89-8dc09f3e0fc6",
      "metadata": {
        "id": "c47c4e6b-a78c-4767-bb89-8dc09f3e0fc6"
      },
      "source": [
        "**提出するもの**\n",
        "\n",
        "- 問題1と2の完成した回路のコード（EDIT BELOWからEDIT ABOVEの部分を埋める）と得られるプロット\n",
        "- おまけ（評価対象外）：問題3でヒストグラムから`needle`を見つける方法の記述と、`haystack`レジスタが一般の$n$ビットであるとき、この方法で`needle`を探すことの問題点（実行時間の観点から）に関する考察"
      ]
    },
    {
      "cell_type": "code",
      "source": [],
      "metadata": {
        "id": "_4o6qwISghIF"
      },
      "id": "_4o6qwISghIF",
      "execution_count": null,
      "outputs": []
    }
  ],
  "metadata": {
    "kernelspec": {
      "display_name": "Python 3 (ipykernel)",
      "language": "python",
      "name": "python3"
    },
    "language_info": {
      "codemirror_mode": {
        "name": "ipython",
        "version": 3
      },
      "file_extension": ".py",
      "mimetype": "text/x-python",
      "name": "python",
      "nbconvert_exporter": "python",
      "pygments_lexer": "ipython3",
      "version": "3.10.12"
    },
    "colab": {
      "provenance": [],
      "include_colab_link": true
    }
  },
  "nbformat": 4,
  "nbformat_minor": 5
}