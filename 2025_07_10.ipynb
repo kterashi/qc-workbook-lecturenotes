{
 "cells": [
  {
   "cell_type": "markdown",
   "source": [
    "### 最初にqiskit-addon-sqdをインストール"
   ],
   "metadata": {
    "collapsed": false
   }
  },
  {
   "cell_type": "code",
   "outputs": [],
   "source": [
    "!pip install qiskit-addon-sqd"
   ],
   "metadata": {
    "collapsed": false
   }
  },
  {
   "cell_type": "markdown",
   "source": [
    "# QPEを使ったエネルギースペクトラムの推定"
   ],
   "metadata": {
    "collapsed": false
   }
  },
  {
   "cell_type": "code",
   "outputs": [],
   "source": [
    "import sys\n",
    "import shutil\n",
    "import tarfile\n",
    "from google.colab import drive\n",
    "drive.mount('/content/gdrive')\n",
    "shutil.copy('/content/gdrive/MyDrive/qcintro.tar.gz', '.')\n",
    "with tarfile.open('qcintro.tar.gz', 'r:gz') as tar:\n",
    "    tar.extractall(path='/root/.local')\n",
    "\n",
    "sys.path.append('/root/.local/lib/python3.11/site-packages')\n",
    "\n",
    "!git clone -b branch-2025 https://github.com/UTokyo-ICEPP/qc-workbook-lecturenotes\n",
    "!cp -r qc-workbook-lecturenotes/qc_workbook /root/.local/lib/python3.11/site-packages/"
   ],
   "metadata": {
    "collapsed": false
   }
  },
  {
   "cell_type": "code",
   "outputs": [
    {
     "name": "stdout",
     "output_type": "stream",
     "text": [
      "notebook ready\n"
     ]
    }
   ],
   "source": [
    "# まず必要なモジュールをインポートする\n",
    "import numpy as np\n",
    "import matplotlib.pyplot as plt\n",
    "from functools import reduce\n",
    "from scipy.sparse import kron, identity\n",
    "from scipy.sparse.linalg import eigsh\n",
    "import itertools\n",
    "\n",
    "from qiskit import QuantumRegister, ClassicalRegister, QuantumCircuit, transpile\n",
    "from qiskit_aer import AerSimulator\n",
    "from qiskit_aer.primitives import SamplerV2 as AerSampler\n",
    "from qiskit_ibm_runtime import QiskitRuntimeService, SamplerV2 as RuntimeSampler\n",
    "from qiskit_ibm_runtime.accounts import AccountNotFoundError\n",
    "from qiskit.visualization import plot_distribution\n",
    "\n",
    "from qiskit.quantum_info import SparsePauliOp, Pauli, Statevector\n",
    "from qiskit_addon_sqd.subsampling import postselect_and_subsample, subsample\n",
    "from qiskit_addon_sqd.counts import generate_counts_uniform, counts_to_arrays\n",
    "from qiskit_addon_sqd.qubit import solve_qubit, sort_and_remove_duplicates, project_operator_to_subspace\n",
    "\n",
    "# ワークブック独自のモジュール\n",
    "from qc_workbook.hamiltonian import make_hamiltonian\n",
    "from qc_workbook.show_state import show_state\n",
    "\n",
    "print('notebook ready')"
   ],
   "metadata": {
    "collapsed": false,
    "ExecuteTime": {
     "end_time": "2025-07-05T08:58:34.695874Z",
     "start_time": "2025-07-05T08:58:34.680721Z"
    }
   },
   "execution_count": 2
  },
  {
   "cell_type": "markdown",
   "source": [
    "スピン二つからなる系で、$J=1$、外部磁場なしの場合で、ハミルトニアンを対角化して厳密解を求める。"
   ],
   "metadata": {
    "collapsed": false
   }
  },
  {
   "cell_type": "code",
   "execution_count": 3,
   "metadata": {
    "ExecuteTime": {
     "end_time": "2025-07-05T08:58:57.599410Z",
     "start_time": "2025-07-05T08:58:56.682808Z"
    }
   },
   "outputs": [
    {
     "data": {
      "text/plain": "<Figure size 1000x50 with 1 Axes>",
      "image/png": "[encoded data removed]"
     },
     "metadata": {},
     "output_type": "display_data"
    },
    {
     "data": {
      "text/plain": "<Figure size 1000x50 with 1 Axes>",
      "image/png": "[encoded data removed]"
     },
     "metadata": {},
     "output_type": "display_data"
    },
    {
     "data": {
      "text/plain": "<Figure size 1000x50 with 1 Axes>",
      "image/png": "[encoded data removed]"
     },
     "metadata": {},
     "output_type": "display_data"
    },
    {
     "data": {
      "text/plain": "<Figure size 1000x50 with 1 Axes>",
      "image/png": "[encoded data removed]"
     },
     "metadata": {},
     "output_type": "display_data"
    }
   ],
   "source": [
    "# Number of spins\n",
    "n_s = 2\n",
    "# Coupling parameter\n",
    "J = 1.\n",
    "# External field / J\n",
    "g = 0.\n",
    "\n",
    "# Construct the Hamiltonian matrix\n",
    "paulis = list()\n",
    "coeffs = list()\n",
    "for j in range(n_s):\n",
    "    paulis.append(list('x' if k in (j, (j + 1) % n_s) else 'i' for k in range(n_s)))\n",
    "    coeffs.append(-J)\n",
    "    paulis.append(list('y' if k in (j, (j + 1) % n_s) else 'i' for k in range(n_s)))\n",
    "    coeffs.append(-J)\n",
    "    paulis.append(list('z' if k in (j, (j + 1) % n_s) else 'i' for k in range(n_s)))\n",
    "    coeffs.append(-J)\n",
    "    if g != 0.:\n",
    "        paulis.append(list('z' if k == j else 'i' for k in range(n_s)))\n",
    "        coeffs.append(-J * g)\n",
    "\n",
    "hamiltonian = make_hamiltonian(paulis, coeffs)\n",
    "\n",
    "# Diagonalize and obtain the eigenvalues and vectors\n",
    "eigvals, eigvectors = np.linalg.eigh(hamiltonian)\n",
    "\n",
    "# Print the eigenvectors\n",
    "for i in range(eigvals.shape[0]):\n",
    "    show_state(eigvectors[:, i], binary=True, state_label=r'\\phi_{} (E={}J)'.format(i, eigvals[i]))"
   ]
  },
  {
   "cell_type": "markdown",
   "metadata": {},
   "source": [
    "## スペクトル推定を実装し、厳密解と照らし合わせる\n",
    "\n",
    "**以下のセルでは、$U_H(-\\tau)$を鈴木・トロッター分解した量子回路の1ステップ分の回路を使います。実際の回路は課題として提出してもらうので、ここから先はデモとして見せるだけにします（皆さんは授業では実行できません）。**"
   ]
  },
  {
   "cell_type": "code",
   "outputs": [],
   "source": [
    "shutil.copy('/content/gdrive/MyDrive/Colab Notebooks/mymodule_heisenberg.py', '.')\n",
    "import mymodule_heisenberg"
   ],
   "metadata": {
    "collapsed": false,
    "ExecuteTime": {
     "end_time": "2025-07-05T08:59:10.876659Z",
     "start_time": "2025-07-05T08:59:10.863453Z"
    }
   },
   "execution_count": 4
  },
  {
   "cell_type": "markdown",
   "source": [
    "次のセルでスペクトル推定のアルゴリズムを実装しています。この関数は状態レジスタ、読み出しレジスタ、時間発展回路を引数に取り、スペクトル推定の量子回路を返します。"
   ],
   "metadata": {
    "collapsed": false
   }
  },
  {
   "cell_type": "code",
   "execution_count": 5,
   "metadata": {
    "collapsed": false,
    "ExecuteTime": {
     "end_time": "2025-07-05T08:59:12.560761Z",
     "start_time": "2025-07-05T08:59:12.546948Z"
    }
   },
   "outputs": [],
   "source": [
    "def spectrum_estimation(state_register, readout_register, u_circuit):\n",
    "    \"\"\"Perform a spectrum estimation given a circuit containing state and readout registers and a callable implementing\n",
    "    a single Trotter step.\n",
    "\n",
    "    Args:\n",
    "        state_register (QuantumRegister): State register.\n",
    "        readout_register (QuantumRegister): Readout register.\n",
    "        u_circuit (QuantumCircuit): A circuit implementing U_H(-2π/ω).\n",
    "        \n",
    "    Returns:\n",
    "        QuantumCircuit: A circuit implementing the spectrum estimation of the given Hamiltonian.\n",
    "    \"\"\"\n",
    "    circuit = QuantumCircuit(state_register, readout_register, name='Spectrum estimation')\n",
    "\n",
    "    # Set the R register to an equal superposition\n",
    "    circuit.h(readout_register)\n",
    "\n",
    "    # Apply controlled-U operations to the circuit\n",
    "    for iq, qubit in enumerate(readout_register):\n",
    "        # Repeat the 2π evolution by 2^iq and convert it to a controlled gate\n",
    "        controlled_u_gate = u_circuit.repeat(2 ** iq).to_gate().control(1)\n",
    "\n",
    "        # Append the controlled gate specifying the control and target qubits\n",
    "        circuit.append(controlled_u_gate, qargs=([qubit] + state_register[:]))\n",
    "        \n",
    "    circuit.barrier()\n",
    "\n",
    "    # Inverse QFT\n",
    "    for iq in range(readout_register.size // 2):\n",
    "        circuit.swap(readout_register[iq], readout_register[-1 - iq])\n",
    "\n",
    "    dphi = 2. * np.pi / (2 ** readout_register.size)\n",
    "\n",
    "    for jtarg in range(readout_register.size):\n",
    "        for jctrl in range(jtarg):\n",
    "            power = jctrl - jtarg - 1 + readout_register.size\n",
    "            circuit.cp(-dphi * (2 ** power), readout_register[jctrl], readout_register[jtarg])\n",
    "\n",
    "        circuit.h(readout_register[jtarg])\n",
    "        \n",
    "    return circuit"
   ]
  },
  {
   "cell_type": "markdown",
   "source": [
    "上で厳密解を求めた$n=2$、$g=0$のケースを調べます。今回はすでにエネルギー固有値を知っているので、ハミルトニアンの規格化定数を$\\hbar\\omega=16J$として、読み出しレジスタの終状態が単純になるようにします。"
   ],
   "metadata": {
    "collapsed": false
   }
  },
  {
   "cell_type": "code",
   "execution_count": 6,
   "metadata": {
    "ExecuteTime": {
     "end_time": "2025-07-05T08:59:15.487475Z",
     "start_time": "2025-07-05T08:59:15.483487Z"
    }
   },
   "outputs": [],
   "source": [
    "## Physics model parameter\n",
    "g = 0.\n",
    "\n",
    "## Spectrum estimation parameters\n",
    "# Hamiltonian normalization\n",
    "energy_norm = 1. / 16. # J/(hbar*ω)\n",
    "# Number of steps per 2pi evolution\n",
    "# Tune this parameter to find the best balance of simulation accuracy versus circuit depth\n",
    "num_steps = 6\n",
    "# Register sizes\n",
    "n_state = 2\n",
    "n_readout = 4\n",
    "\n",
    "## Registers\n",
    "state_register = QuantumRegister(n_state, 'state')\n",
    "readout_register = QuantumRegister(n_readout, 'readout')"
   ]
  },
  {
   "cell_type": "code",
   "execution_count": 7,
   "metadata": {
    "tags": [
     "remove-output"
    ],
    "ExecuteTime": {
     "end_time": "2025-07-05T08:59:16.799058Z",
     "start_time": "2025-07-05T08:59:16.599448Z"
    }
   },
   "outputs": [
    {
     "data": {
      "text/plain": "<Figure size 676.623x200.667 with 1 Axes>",
      "image/png": "[encoded data removed]"
     },
     "execution_count": 7,
     "metadata": {},
     "output_type": "execute_result"
    }
   ],
   "source": [
    "u_circuit = mymodule_heisenberg.trotter_twopi_heisenberg(state_register, energy_norm, g, num_steps)\n",
    "u_circuit.draw('mpl')"
   ]
  },
  {
   "cell_type": "code",
   "execution_count": 8,
   "metadata": {
    "tags": [
     "remove-output"
    ],
    "ExecuteTime": {
     "end_time": "2025-07-05T08:59:19.925786Z",
     "start_time": "2025-07-05T08:59:19.082964Z"
    }
   },
   "outputs": [
    {
     "data": {
      "text/plain": "<Figure size 2305.3x1120.39 with 1 Axes>",
      "image/png": "[encoded data removed]"
     },
     "execution_count": 8,
     "metadata": {},
     "output_type": "execute_result"
    }
   ],
   "source": [
    "se_circuit = spectrum_estimation(state_register, readout_register, u_circuit)\n",
    "se_circuit.draw('mpl')"
   ]
  },
  {
   "cell_type": "markdown",
   "source": [
    "状態レジスタの初期状態を基底状態$|\\phi_0\\rangle$、$|\\phi_1\\rangle$、$|\\phi_2\\rangle$、あるいは第1励起状態$|\\phi_4\\rangle$のどれかにして、正しく基底エネルギー（$-2J$）や第1励起エネルギー（$6J$）が得られるか確認します。"
   ],
   "metadata": {
    "collapsed": false
   }
  },
  {
   "cell_type": "code",
   "execution_count": 9,
   "metadata": {
    "tags": [
     "remove-output"
    ],
    "ExecuteTime": {
     "end_time": "2025-07-05T08:59:29.120941Z",
     "start_time": "2025-07-05T08:59:29.031436Z"
    }
   },
   "outputs": [
    {
     "data": {
      "text/plain": "<Figure size 256.829x535.111 with 1 Axes>",
      "image/png": "[encoded data removed]"
     },
     "execution_count": 9,
     "metadata": {},
     "output_type": "execute_result"
    }
   ],
   "source": [
    "def make_initial_state(state_register, readout_register):\n",
    "    circuit = QuantumCircuit(state_register, readout_register)\n",
    "\n",
    "    ##################\n",
    "    ### EDIT BELOW ###\n",
    "    ##################\n",
    "\n",
    "    # 基底状態: |00>\n",
    "    # 基底状態: |11>\n",
    "    #circuit.x(0)\n",
    "    #circuit.x(1)\n",
    "    # 基底状態: 1/sqrt(2)(-|01>-|10>)\n",
    "    #circuit.?\n",
    "\n",
    "    # 第1励起状態: 1/sqrt(2)(-|01>+|10>)    \n",
    "    #circuit.?\n",
    "    \n",
    "    ##################\n",
    "    ### EDIT ABOVE ###\n",
    "    ##################\n",
    "    \n",
    "    return circuit\n",
    "\n",
    "\n",
    "init_circuit = make_initial_state(state_register, readout_register)\n",
    "init_circuit.draw('mpl')"
   ]
  },
  {
   "cell_type": "markdown",
   "source": [
    "全体の回路を作成して、実行します。"
   ],
   "metadata": {
    "collapsed": false
   }
  },
  {
   "cell_type": "code",
   "execution_count": 10,
   "metadata": {
    "collapsed": false,
    "tags": [
     "remove-output"
    ],
    "ExecuteTime": {
     "end_time": "2025-07-05T08:59:33.379654Z",
     "start_time": "2025-07-05T08:59:32.016690Z"
    }
   },
   "outputs": [
    {
     "data": {
      "text/plain": "<Figure size 2305.3x1287.61 with 1 Axes>",
      "image/png": "[encoded data removed]"
     },
     "execution_count": 10,
     "metadata": {},
     "output_type": "execute_result"
    }
   ],
   "source": [
    "u_circuit = mymodule_heisenberg.trotter_twopi_heisenberg(state_register, energy_norm, g, num_steps)\n",
    "se_circuit = spectrum_estimation(state_register, readout_register, u_circuit)\n",
    "\n",
    "circuit = make_initial_state(state_register, readout_register)\n",
    "circuit.compose(se_circuit, inplace=True)\n",
    "circuit.measure_all()\n",
    "circuit.draw('mpl')"
   ]
  },
  {
   "cell_type": "markdown",
   "source": [
    "得られた答えの解釈は課題の内容になるので、割愛します。"
   ],
   "metadata": {
    "collapsed": false
   }
  },
  {
   "cell_type": "code",
   "execution_count": 11,
   "metadata": {
    "collapsed": false,
    "tags": [
     "remove-output"
    ],
    "ExecuteTime": {
     "end_time": "2025-07-05T08:59:40.068748Z",
     "start_time": "2025-07-05T08:59:38.237471Z"
    }
   },
   "outputs": [
    {
     "name": "stderr",
     "output_type": "stream",
     "text": [
      "/opt/anaconda3/envs/env_qiskit_fy2025_code/lib/python3.11/site-packages/requests/__init__.py:86: RequestsDependencyWarning: Unable to find acceptable character detection dependency (chardet or charset_normalizer).\n",
      "  warnings.warn(\n"
     ]
    },
    {
     "data": {
      "text/plain": "<Figure size 640x480 with 1 Axes>",
      "image/png": "[encoded data removed]"
     },
     "execution_count": 11,
     "metadata": {},
     "output_type": "execute_result"
    }
   ],
   "source": [
    "# Run the circuit in qasm_simulator and plot the histogram\n",
    "simulator = AerSimulator()\n",
    "circuit = transpile(circuit, backend=simulator)\n",
    "job = simulator.run(circuit, shots=10000)\n",
    "result = job.result()\n",
    "counts = result.get_counts(circuit)\n",
    "plot_distribution(counts)"
   ]
  },
  {
   "cell_type": "markdown",
   "metadata": {},
   "source": [
    "## 部分空間での量子対角化法\n",
    "\n",
    "ハイゼンベルク模型でのハミルトニアンを行列対角化し、エネルギー固有値を確認してみます。"
   ]
  },
  {
   "cell_type": "code",
   "outputs": [
    {
     "name": "stdout",
     "output_type": "stream",
     "text": [
      "N = 8, PBC = False\n",
      " 固有値: [-13.49973  -11.928962 -11.928962 -11.928962 -10.014916 -10.014916\n",
      " -10.014916  -9.335215  -8.432517  -8.432517  -8.432517  -8.22703\n",
      "  -8.22703   -8.22703   -7.668828  -7.395334  -7.395334  -7.395334\n",
      "  -7.326454  -7.326454  -7.326454  -7.326454  -7.326454  -6.698825\n",
      "  -6.698825  -6.698825  -6.580819  -5.862665  -5.862665  -5.862665\n",
      "  -5.862665  -5.862665  -5.697661  -5.697661  -5.697661  -5.580043\n",
      "  -4.913096  -4.913096  -4.913096  -4.902532  -4.902532  -4.902532\n",
      "  -4.902532  -4.902532  -4.483928  -4.152416  -4.152416  -4.152416\n",
      "  -4.152416  -4.152416  -3.986766  -3.986766  -3.986766  -3.931051\n",
      "  -3.931051  -3.931051  -3.20968   -3.20968   -3.20968   -3.20968\n",
      "  -3.20968   -2.916741  -2.916741  -2.916741  -2.909801  -2.909801\n",
      "  -2.909801  -2.793709  -2.487072  -2.487072  -2.487072  -2.487072\n",
      "  -2.487072  -2.485154  -2.466567  -2.466567  -2.466567  -1.943976\n",
      "  -1.943976  -1.943976  -1.804268  -1.804268  -1.804268  -1.804268\n",
      "  -1.804268  -1.788813  -1.788813  -1.788813  -1.566811  -1.566811\n",
      "  -1.566811  -1.566811  -1.566811  -1.516072  -1.267014  -1.267014\n",
      "  -1.267014  -1.203733  -1.203733  -1.203733  -1.203733  -1.203733\n",
      "  -0.868139  -0.868139  -0.868139  -0.695518  -0.695518  -0.695518\n",
      "  -0.695518  -0.695518  -0.695518  -0.695518  -0.481031  -0.481031\n",
      "  -0.481031  -0.314265  -0.314265  -0.314265  -0.314265  -0.314265\n",
      "  -0.19199   -0.19199   -0.19199   -0.19199   -0.19199   -0.06214\n",
      "   0.171573   0.171573   0.171573   0.171573   0.171573   0.171573\n",
      "   0.171573   0.510777   0.510777   0.510777   0.67222    0.67222\n",
      "   0.67222    1.016921   1.016921   1.016921   1.016921   1.016921\n",
      "   1.283295   1.283295   1.283295   1.391365   1.421263   1.421263\n",
      "   1.421263   1.421263   1.421263   1.469266   1.469266   1.469266\n",
      "   1.469266   1.469266   1.469266   1.469266   1.668828   2.141404\n",
      "   2.141404   2.141404   2.397986   2.397986   2.397986   2.587163\n",
      "   2.587163   2.587163   2.587163   2.587163   3.         3.\n",
      "   3.         3.         3.         3.         3.         3.1085\n",
      "   3.1085     3.1085     3.258036   3.258036   3.258036   3.258036\n",
      "   3.258036   3.415389   3.803679   3.803679   3.803679   3.905145\n",
      "   3.905145   3.905145   3.905145   3.905145   4.157304   4.157304\n",
      "   4.157304   4.157304   4.157304   4.530734   4.530734   4.530734\n",
      "   4.530734   4.530734   4.530734   4.530734   4.681872   4.681872\n",
      "   4.681872   4.745277   4.745277   4.745277   4.745277   4.745277\n",
      "   5.293715   5.293715   5.293715   5.530058   5.573364   5.573364\n",
      "   5.573364   5.573364   5.573364   5.828427   5.828427   5.828427\n",
      "   5.828427   5.828427   5.828427   5.828427   5.974795   5.974795\n",
      "   5.974795   6.357412   6.357412   6.357412   6.357412   6.357412\n",
      "   6.695518   6.695518   6.695518   6.695518   6.695518   6.695518\n",
      "   6.695518   7.         7.         7.         7.         7.\n",
      "   7.         7.         7.         7.      ]\n",
      " 基底エネルギー: -13.49973\n"
     ]
    }
   ],
   "source": [
    "# ハイゼンベルクハミルトニアン（行列）\n",
    "\n",
    "# Number of spins\n",
    "n_spins = 4\n",
    "# Coupling parameter\n",
    "J = 1.\n",
    "# Boundary condition\n",
    "PBC = False\n",
    "\n",
    "# パウリ行列\n",
    "X = np.array([[0, 1],[1, 0]], dtype=complex)\n",
    "Y = np.array([[0, -1j],[1j, 0]], dtype=complex)\n",
    "Z = np.array([[1, 0],[0, -1]], dtype=complex)\n",
    "I = np.eye(2, dtype=complex)\n",
    "\n",
    "def kron_n(mats):\n",
    "    return reduce(np.kron, mats)\n",
    "\n",
    "# 任意の n量子ビットのハイゼンベルク模型 (XX+YY+ZZ)\n",
    "def heisenberg_hamiltonian(n, J=1.0, pbc=False):\n",
    "    dim = 2**n\n",
    "    H = np.zeros((dim, dim), dtype=complex)\n",
    "\n",
    "    pairs = [(i, i+1) for i in range(n-1)]\n",
    "    if pbc:\n",
    "        pairs.append((n-1, 0))\n",
    "\n",
    "    for i, j in pairs:\n",
    "      for p in [X, Y, Z]:\n",
    "        ops = [I]*n\n",
    "        ops[i] = p\n",
    "        ops[j] = p\n",
    "        H += J * kron_n(ops)\n",
    "\n",
    "    return H\n",
    "\n",
    "\n",
    "H = heisenberg_hamiltonian(n_spins, J, PBC)\n",
    "eigvals, _ = np.linalg.eigh(H)\n",
    "print(f\"N = {n_spins}, PBC = {PBC}\")\n",
    "print(f\" 固有値: {np.round(eigvals, 6)}\")\n",
    "print(f\" 基底エネルギー: {np.round(eigvals[0], 6)}\")"
   ],
   "metadata": {
    "collapsed": false,
    "ExecuteTime": {
     "end_time": "2025-07-05T09:03:49.691690Z",
     "start_time": "2025-07-05T09:03:49.602087Z"
    }
   },
   "execution_count": 13
  },
  {
   "cell_type": "markdown",
   "source": [
    "基底状態を貼る部分空間が分かっている場合、その部分空間のみでハミルトニアンを対角化することで正しい基底エネルギーが得られることを確認します。\n",
    "$N\\ge4$については、磁化が0の部分空間を取ってくることにします。"
   ],
   "metadata": {
    "collapsed": false
   }
  },
  {
   "cell_type": "code",
   "outputs": [
    {
     "name": "stdout",
     "output_type": "stream",
     "text": [
      "N = 8, PBC = False\n",
      " 固有値: [-13.49973  -11.928962 -10.014916  -9.335215  -8.432517  -8.22703\n",
      "  -7.668828  -7.395334  -7.326454  -6.698825  -6.580819  -5.862665\n",
      "  -5.697661  -5.580043  -4.913096  -4.902532  -4.483928  -4.152416\n",
      "  -3.986766  -3.931051  -3.20968   -2.916741  -2.909801  -2.793709\n",
      "  -2.487072  -2.485154  -2.466567  -1.943976  -1.804268  -1.788813\n",
      "  -1.566811  -1.516072  -1.267014  -1.203733  -0.868139  -0.695518\n",
      "  -0.481031  -0.314265  -0.19199   -0.06214    0.171573   0.510777\n",
      "   0.67222    1.016921   1.283295   1.391365   1.421263   1.469266\n",
      "   1.668828   2.141404   2.397986   2.587163   3.         3.1085\n",
      "   3.258036   3.415389   3.803679   3.905145   4.157304   4.530734\n",
      "   4.681872   4.745277   5.293715   5.530058   5.573364   5.828427\n",
      "   5.974795   6.357412   6.695518   7.      ]\n",
      " 基底エネルギー: -13.49973\n"
     ]
    }
   ],
   "source": [
    "basis = []\n",
    "\n",
    "# n_spins = 2の場合:\n",
    "#  サブスペース: |01>, |10>\n",
    "if n_spins == 2:\n",
    "#  basis = [np.array([0,1,0,0]),  # |01>\n",
    "#           np.array([0,0,1,0])]  # |10>\n",
    "#  サブスペース: 1/sqrt(2)(|01>-|10>) (singlet state)\n",
    "  basis = [np.array([0,1/np.sqrt(2),-1/np.sqrt(2),0])]\n",
    "\n",
    "# n_spins >= 4の場合:\n",
    "#  サブスペース: 磁化0 (上向きと下向きスピンが同数)\n",
    "elif n_spins >= 4:\n",
    "  for i in range(2**n_spins):\n",
    "    bits = bin(i).count('1')\n",
    "    if bits == n_spins//2:\n",
    "      vec = np.zeros(2**n_spins)\n",
    "      vec[i] = 1\n",
    "      basis.append(vec)\n",
    "\n",
    "# Gram行列 S\n",
    "S = np.array([[np.dot(b1.conj(), b2) for b2 in basis] for b1 in basis])\n",
    "\n",
    "# 部分ハミルトニアン行列 H_sub\n",
    "H_sub = np.array([[np.dot(b1.conj(), H @ b2) for b2 in basis] for b1 in basis])\n",
    "\n",
    "# 部分空間で対角化\n",
    "eigvals, _ = np.linalg.eigh(np.linalg.inv(S) @ H_sub)\n",
    "print(f\"N = {n_spins}, PBC = {PBC}\")\n",
    "print(f\" 固有値: {np.round(eigvals, 6)}\")\n",
    "print(f\" 基底エネルギー: {np.round(eigvals[0], 6)}\")"
   ],
   "metadata": {
    "collapsed": false,
    "ExecuteTime": {
     "end_time": "2025-07-05T09:04:14.492017Z",
     "start_time": "2025-07-05T09:04:14.162048Z"
    }
   },
   "execution_count": 14
  },
  {
   "cell_type": "markdown",
   "source": [
    "ここから後は、qiskit_addon_sqdでサンプルベースの対角化をするため、SparsePauliOpでハミルトニアンを作っておきます。"
   ],
   "metadata": {
    "collapsed": false
   }
  },
  {
   "cell_type": "code",
   "outputs": [
    {
     "name": "stdout",
     "output_type": "stream",
     "text": [
      "固有値: [-13.49973  -11.928962 -11.928962 -11.928962 -10.014916 -10.014916\n",
      " -10.014916  -9.335215  -8.432517  -8.432517  -8.432517  -8.22703\n",
      "  -8.22703   -8.22703   -7.668828  -7.395334  -7.395334  -7.395334\n",
      "  -7.326454  -7.326454  -7.326454  -7.326454  -7.326454  -6.698825\n",
      "  -6.698825  -6.698825  -6.580819  -5.862665  -5.862665  -5.862665\n",
      "  -5.862665  -5.862665  -5.697661  -5.697661  -5.697661  -5.580043\n",
      "  -4.913096  -4.913096  -4.913096  -4.902532  -4.902532  -4.902532\n",
      "  -4.902532  -4.902532  -4.483928  -4.152416  -4.152416  -4.152416\n",
      "  -4.152416  -4.152416  -3.986766  -3.986766  -3.986766  -3.931051\n",
      "  -3.931051  -3.931051  -3.20968   -3.20968   -3.20968   -3.20968\n",
      "  -3.20968   -2.916741  -2.916741  -2.916741  -2.909801  -2.909801\n",
      "  -2.909801  -2.793709  -2.487072  -2.487072  -2.487072  -2.487072\n",
      "  -2.487072  -2.485154  -2.466567  -2.466567  -2.466567  -1.943976\n",
      "  -1.943976  -1.943976  -1.804268  -1.804268  -1.804268  -1.804268\n",
      "  -1.804268  -1.788813  -1.788813  -1.788813  -1.566811  -1.566811\n",
      "  -1.566811  -1.566811  -1.566811  -1.516072  -1.267014  -1.267014\n",
      "  -1.267014  -1.203733  -1.203733  -1.203733  -1.203733  -1.203733\n",
      "  -0.868139  -0.868139  -0.868139  -0.695518  -0.695518  -0.695518\n",
      "  -0.695518  -0.695518  -0.695518  -0.695518  -0.481031  -0.481031\n",
      "  -0.481031  -0.314265  -0.314265  -0.314265  -0.314265  -0.314265\n",
      "  -0.19199   -0.19199   -0.19199   -0.19199   -0.19199   -0.06214\n",
      "   0.171573   0.171573   0.171573   0.171573   0.171573   0.171573\n",
      "   0.171573   0.510777   0.510777   0.510777   0.67222    0.67222\n",
      "   0.67222    1.016921   1.016921   1.016921   1.016921   1.016921\n",
      "   1.283295   1.283295   1.283295   1.391365   1.421263   1.421263\n",
      "   1.421263   1.421263   1.421263   1.469266   1.469266   1.469266\n",
      "   1.469266   1.469266   1.469266   1.469266   1.668828   2.141404\n",
      "   2.141404   2.141404   2.397986   2.397986   2.397986   2.587163\n",
      "   2.587163   2.587163   2.587163   2.587163   3.         3.\n",
      "   3.         3.         3.         3.         3.         3.1085\n",
      "   3.1085     3.1085     3.258036   3.258036   3.258036   3.258036\n",
      "   3.258036   3.415389   3.803679   3.803679   3.803679   3.905145\n",
      "   3.905145   3.905145   3.905145   3.905145   4.157304   4.157304\n",
      "   4.157304   4.157304   4.157304   4.530734   4.530734   4.530734\n",
      "   4.530734   4.530734   4.530734   4.530734   4.681872   4.681872\n",
      "   4.681872   4.745277   4.745277   4.745277   4.745277   4.745277\n",
      "   5.293715   5.293715   5.293715   5.530058   5.573364   5.573364\n",
      "   5.573364   5.573364   5.573364   5.828427   5.828427   5.828427\n",
      "   5.828427   5.828427   5.828427   5.828427   5.974795   5.974795\n",
      "   5.974795   6.357412   6.357412   6.357412   6.357412   6.357412\n",
      "   6.695518   6.695518   6.695518   6.695518   6.695518   6.695518\n",
      "   6.695518   7.         7.         7.         7.         7.\n",
      "   7.         7.         7.         7.      ]\n",
      "基底エネルギー: -13.49973\n"
     ]
    }
   ],
   "source": [
    "# ハイゼンベルクハミルトニアン（パウリ行列）\n",
    "\n",
    "# Number of qubits\n",
    "n_qubits = 4\n",
    "# Coupling parameter\n",
    "J = 1.\n",
    "# Boundary condition\n",
    "PBC = False\n",
    "\n",
    "# Construct Hamiltonian\n",
    "def heisenberg_hamiltonian(n, J=1.0, pbc=False):\n",
    "    paulis = []\n",
    "    coeffs = []\n",
    "\n",
    "    if pbc:\n",
    "        pairs = [(i, (i + 1) % n) for i in range(n)]\n",
    "    else:\n",
    "        pairs = [(i, i + 1) for i in range(n - 1)]\n",
    "\n",
    "    for i, j in pairs:\n",
    "      for p in ['X', 'Y', 'Z']:\n",
    "        s = ['I']*n\n",
    "        s[i] = p\n",
    "        s[j] = p\n",
    "        paulis.append(\"\".join(s))\n",
    "        coeffs.append(J)\n",
    "\n",
    "    H = SparsePauliOp(paulis, coeffs)\n",
    "    return H\n",
    "\n",
    "hamiltonian = heisenberg_hamiltonian(n_qubits, J, PBC)\n",
    "\n",
    "# 固有値を計算（厳密対角化）\n",
    "eigvals, eigvecs = np.linalg.eigh(hamiltonian.to_matrix())\n",
    "gs_energy = eigvals[0]\n",
    "print(f\"固有値: {np.round(eigvals, 6)}\")\n",
    "print(f\"基底エネルギー: {np.round(gs_energy, 6)}\")"
   ],
   "metadata": {
    "collapsed": false,
    "ExecuteTime": {
     "end_time": "2025-07-05T09:04:58.788186Z",
     "start_time": "2025-07-05T09:04:58.735206Z"
    }
   },
   "execution_count": 15
  },
  {
   "cell_type": "markdown",
   "source": [
    "以下では、一様なビット列で構成された部分空間を使った例を考えてみます。\n",
    "\n",
    "一様分布したビット列でハミルトニアンを対角化することは明らかに効率が悪いですが、ビット数が少なければ実行可能です。特に、部分空間の次元を上げて行った時に計算精度が向上していき、最終的に全空間を貼るビット列を使った時には厳密な基底エネルギーに到達することを見てみます。"
   ],
   "metadata": {
    "collapsed": false
   }
  },
  {
   "cell_type": "code",
   "outputs": [],
   "source": [
    "rng = np.random.default_rng(24)\n",
    "\n",
    "# ビット列のサンプル数\n",
    "#n_samples = 100\n",
    "n_samples = 1000\n",
    "\n",
    "# 一様分布に従うビット列を生成\n",
    "counts = generate_counts_uniform(n_samples, n_qubits, rand_seed = rng)\n",
    "#print(counts)\n",
    "\n",
    "# ビット列からBool変数の行列を生成\n",
    "bitstring_matrix_full, probs_array_full = counts_to_arrays(counts)\n",
    "#print(bitstring_matrix_full)\n",
    "#print(probs_array_full)"
   ],
   "metadata": {
    "collapsed": false
   }
  },
  {
   "cell_type": "code",
   "outputs": [],
   "source": [
    "# バッチの数\n",
    "n_batches = 10\n",
    "# バッチあたりのサンプル数\n",
    "samples_per_batch = 4\n",
    "\n",
    "# ビット列から部分空間に対応するサブサンプルを生成\n",
    "batches_tmp = subsample(\n",
    "    bitstring_matrix_full,\n",
    "    probs_array_full,\n",
    "    samples_per_batch = samples_per_batch,\n",
    "    num_batches = n_batches,\n",
    "    rand_seed = rng\n",
    ")\n",
    "#print(bitstring_matrix_full.shape)\n",
    "#print(np.array(batches_tmp))\n",
    "#print(np.array(batches_tmp).shape)"
   ],
   "metadata": {
    "collapsed": false
   }
  },
  {
   "cell_type": "code",
   "outputs": [],
   "source": [
    "print(\"部分空間に射影されたハミルトニアンの基底エネルギー：\")\n",
    "\n",
    "eigvals_min_batch = []\n",
    "\n",
    "for j in range(n_batches):\n",
    "  # ビット列の重複がある場合、重複している行列要素を除く\n",
    "  batches_removed = sort_and_remove_duplicates(np.array(batches_tmp)[j])\n",
    "  #print(j,batches_removed)\n",
    "\n",
    "  # ハミルトニアンをbatched_removedが貼るヒルベルト空間に射影\n",
    "  #d, _ = batches_removed.shape\n",
    "  projected_hamiltonian = project_operator_to_subspace(batches_removed, hamiltonian, verbose=False)\n",
    "  #print(j,projected_hamiltonian)\n",
    "\n",
    "  # 射影されたハミルトニアンを対角化\n",
    "  eigenvals, eigenstates = eigsh(projected_hamiltonian.toarray())\n",
    "  #print(f\"  バッチ {j} - 固有値: {np.round(eigenvals, 6)}\")\n",
    "  print(f\"  バッチ {j} : {np.round(np.min(eigenvals), 6)}\")\n",
    "\n",
    "  eigvals_min_batch.append(np.min(eigenvals))\n",
    "\n",
    "print(f\"->最低エネルギー {np.round(np.min(eigvals_min_batch), 6)}\")\n"
   ],
   "metadata": {
    "collapsed": false
   }
  },
  {
   "cell_type": "code",
   "outputs": [],
   "source": [
    "n_batches = 10\n",
    "\n",
    "samples_per_batch_list = [1, 2, 3, 4, 5, 7, 9, 11, 13, 16]  # n_qubits = 4\n",
    "#samples_per_batch_list = [1, 2, 5, 10, 20, 50, 100, 125, 150, 200, 225, 256]  # n_qubits = 8\n",
    "\n",
    "batches_tmp_list = []\n",
    "# ビット列から部分空間に対応するサブサンプルを生成\n",
    "for i_samples in range(len(samples_per_batch_list)):\n",
    "  batches_tmp = subsample(\n",
    "      bitstring_matrix_full,\n",
    "      probs_array_full,\n",
    "      samples_per_batch = samples_per_batch_list[i_samples],\n",
    "      num_batches = n_batches,\n",
    "      rand_seed = rng\n",
    "  )\n",
    "  batches_tmp_list.append(batches_tmp)"
   ],
   "metadata": {
    "collapsed": false
   }
  },
  {
   "cell_type": "code",
   "outputs": [],
   "source": [
    "eigvals_min_batch_list = []\n",
    "\n",
    "for i_samples in range(len(samples_per_batch_list)):\n",
    "\n",
    "  for j in range(n_batches):\n",
    "    # ビット列の重複がある場合、重複している行列要素を除く\n",
    "    batches_removed = sort_and_remove_duplicates(np.array(batches_tmp_list[i_samples])[j])\n",
    "\n",
    "    # ハミルトニアンをbatched_removedが貼るヒルベルト空間に射影\n",
    "    projected_hamiltonian = project_operator_to_subspace(batches_removed, hamiltonian, verbose=False)\n",
    "\n",
    "    # 射影されたハミルトニアンを対角化\n",
    "    eigenvals, eigenstates = eigsh(projected_hamiltonian.toarray())\n",
    "    #print(f\"バッチ {j} : {np.round(np.min(eigenvals), 6)}\")\n",
    "\n",
    "  eigvals_min_batch_list.append(np.min(eigenvals))\n",
    "\n",
    "  print(f\"samples_per_batch = {samples_per_batch_list[i_samples]}, 最低エネルギー {np.round(np.min(eigenvals), 6)}\")"
   ],
   "metadata": {
    "collapsed": false
   }
  },
  {
   "cell_type": "code",
   "outputs": [],
   "source": [
    "fig, ax = plt.subplots()\n",
    "# Plot energies\n",
    "ax.plot(samples_per_batch_list, eigvals_min_batch_list, label=\"measured energy\", marker=\"o\")\n",
    "ax.set(xlabel='# of samples per batch', ylabel='Energy', title='Energy vs # of samples per batch')\n",
    "ax.axhline(\n",
    "    y=gs_energy,\n",
    "    color=\"#BF5700\",\n",
    "    linestyle=\"--\",\n",
    "    label=\"exact energy\",\n",
    ")\n",
    "ax.legend()"
   ],
   "metadata": {
    "collapsed": false
   }
  },
  {
   "cell_type": "markdown",
   "source": [
    "磁化0の初期状態を設定する回路を使った場合、エネルギーの収束性が改善すると期待されます。試してみましょう。\n",
    "\n",
    "まずハミルトニアンを返す関数を定義します。"
   ],
   "metadata": {
    "collapsed": false
   }
  },
  {
   "cell_type": "code",
   "outputs": [],
   "source": [
    "def magnetization_zero_circuit(n):\n",
    "    \"\"\"\n",
    "    任意の偶数量子ビット n に対して、\n",
    "    磁化 0 (sum Z = 0) の均等重ね合わせ状態を作る量子回路。\n",
    "    \"\"\"\n",
    "    if n % 2 != 0:\n",
    "        raise ValueError(\"磁化0を作るには偶数量子ビットが必要です。\")\n",
    "\n",
    "    num_up = n // 2  # 磁化0なのでアップとダウンが同じ数\n",
    "\n",
    "    # 磁化0サブスペースの基底状態（bit列）を列挙\n",
    "    basis_states = []\n",
    "    for up_positions in itertools.combinations(range(n), num_up):\n",
    "        bits = ['0'] * n\n",
    "        for i in up_positions:\n",
    "            bits[i] = '1'\n",
    "        basis_states.append(\"\".join(bits))\n",
    "\n",
    "    # 状態ベクトルを作成\n",
    "    dim = 2**n\n",
    "    state = np.zeros(dim, dtype=complex)\n",
    "    for bitstr in basis_states:\n",
    "        idx = int(bitstr, 2)\n",
    "        state[idx] = 1.0 / np.sqrt(len(basis_states))\n",
    "\n",
    "    # 初期化用回路\n",
    "    qreg = QuantumRegister(n, name='qreg')\n",
    "    creg = ClassicalRegister(n, name='out')\n",
    "    qc = QuantumCircuit(qreg, creg)\n",
    "    qc.initialize(state, range(n))\n",
    "    qc.measure(qreg, creg)\n",
    "\n",
    "    return qc, basis_states"
   ],
   "metadata": {
    "collapsed": false
   }
  },
  {
   "cell_type": "code",
   "outputs": [],
   "source": [
    "circuit, basis_states = magnetization_zero_circuit(n_qubits)\n",
    "print(\"磁化0部分空間の基底状態:\", basis_states)"
   ],
   "metadata": {
    "collapsed": false
   }
  },
  {
   "cell_type": "markdown",
   "source": [
    "ショット数を上と同じサンプル数にして、シミュレータで実行します。"
   ],
   "metadata": {
    "collapsed": false
   }
  },
  {
   "cell_type": "code",
   "outputs": [],
   "source": [
    "simulator = AerSimulator()\n",
    "sampler = AerSampler()\n",
    "\n",
    "circuit_transpiled = transpile(circuit, backend=simulator)\n",
    "job = sampler.run([circuit_transpiled], shots=n_samples)\n",
    "\n",
    "result = job.result()\n",
    "plot_distribution(result[0].data.out.get_counts())"
   ],
   "metadata": {
    "collapsed": false
   }
  },
  {
   "cell_type": "markdown",
   "source": [
    "得られた結果から、上と同様にハミルトニアンを対角化してエネルギーを求めます。"
   ],
   "metadata": {
    "collapsed": false
   }
  },
  {
   "cell_type": "code",
   "outputs": [],
   "source": [
    "counts = result[0].data.out.get_counts()\n",
    "\n",
    "# ビット列からBool変数の行列を生成\n",
    "bitstring_matrix_full, probs_array_full = counts_to_arrays(counts)\n",
    "\n",
    "n_batches = 10\n",
    "\n",
    "samples_per_batch_list = [1, 2, 3, 4, 5, 7, 9, 11, 13, 16]  # n_qubits = 4\n",
    "#samples_per_batch_list = [1, 2, 5, 10, 20, 50, 100, 125, 150, 200, 225, 256]  # n_qubits = 8\n",
    "\n",
    "batches_tmp_list = []\n",
    "# ビット列から部分空間に対応するサブサンプルを生成\n",
    "for i_samples in range(len(samples_per_batch_list)):\n",
    "  batches_tmp = subsample(\n",
    "      bitstring_matrix_full,\n",
    "      probs_array_full,\n",
    "      samples_per_batch = samples_per_batch_list[i_samples],\n",
    "      num_batches = n_batches,\n",
    "      rand_seed = rng\n",
    "  )\n",
    "  batches_tmp_list.append(batches_tmp)"
   ],
   "metadata": {
    "collapsed": false
   }
  },
  {
   "cell_type": "code",
   "outputs": [],
   "source": [
    "eigvals_min_batch_list = []\n",
    "\n",
    "for i_samples in range(len(samples_per_batch_list)):\n",
    "\n",
    "  for j in range(n_batches):\n",
    "    # ビット列の重複がある場合、重複している行列要素を除く\n",
    "    batches_removed = sort_and_remove_duplicates(np.array(batches_tmp_list[i_samples])[j])\n",
    "\n",
    "    # ハミルトニアンをbatched_removedが貼るヒルベルト空間に射影\n",
    "    projected_hamiltonian = project_operator_to_subspace(batches_removed, hamiltonian, verbose=False)\n",
    "\n",
    "    # 射影されたハミルトニアンを対角化\n",
    "    eigenvals, eigenstates = eigsh(projected_hamiltonian.toarray())\n",
    "    #print(f\"バッチ {j} : {np.round(np.min(eigenvals), 6)}\")\n",
    "\n",
    "  eigvals_min_batch_list.append(np.min(eigenvals))\n",
    "\n",
    "  print(f\"samples_per_batch = {samples_per_batch_list[i_samples]}, 最低エネルギー {np.round(np.min(eigenvals), 6)}\")"
   ],
   "metadata": {
    "collapsed": false
   }
  },
  {
   "cell_type": "code",
   "outputs": [],
   "source": [
    "fig, ax = plt.subplots()\n",
    "# Plot energies\n",
    "ax.plot(samples_per_batch_list, eigvals_min_batch_list, label=\"measured energy\", marker=\"o\")\n",
    "ax.set(xlabel='# of samples per batch', ylabel='Energy', title='Energy vs # of samples per batch')\n",
    "ax.axhline(\n",
    "    y=gs_energy,\n",
    "    color=\"#BF5700\",\n",
    "    linestyle=\"--\",\n",
    "    label=\"exact energy\",\n",
    ")\n",
    "ax.legend()"
   ],
   "metadata": {
    "collapsed": false
   }
  },
  {
   "cell_type": "markdown",
   "source": [
    "### 量子コンピュータで実行してみる\n",
    "\n",
    "まず、量子コンピュータで一様なビット列をサンプリングして試してみます。実機でのサンプリングにはノイズが入ってきますが、上の例から分かるように、部分空間の次元を上げていけばいずれ基底ネルギーに到達すると予想できます。"
   ],
   "metadata": {
    "collapsed": false
   }
  },
  {
   "cell_type": "code",
   "outputs": [],
   "source": [
    "qreg = QuantumRegister(n_qubits, name='qreg')\n",
    "creg = ClassicalRegister(n_qubits, name='out')\n",
    "\n",
    "circuit = QuantumCircuit(qreg, creg)\n",
    "circuit.h(qreg)\n",
    "circuit.measure(qreg, creg)\n",
    "\n",
    "circuit.draw('mpl')"
   ],
   "metadata": {
    "collapsed": false
   }
  },
  {
   "cell_type": "code",
   "outputs": [],
   "source": [
    "# 量子コンピュータで実行する場合\n",
    "runtime_config_path = '/content/gdrive/MyDrive/qiskit-ibm.json'\n",
    "service = QiskitRuntimeService(filename=runtime_config_path)\n",
    "#backend = service.least_busy(filters=operational_backend())\n",
    "\n",
    "# 最も空いているバックエンドを見つけて、そのバックエンドに対して回路をトランスパイル\n",
    "backend = service.least_busy(min_num_qubits=n_qubits, simulator=False, operational=True)\n",
    "print(f\"least busy backend: {backend.name}\")\n",
    "\n",
    "circuit_transpiled = transpile(circuit, backend=backend)"
   ],
   "metadata": {
    "collapsed": false
   }
  },
  {
   "cell_type": "code",
   "outputs": [],
   "source": [
    "sampler = RuntimeSampler(backend)\n",
    "\n",
    "shots = 10000\n",
    "\n",
    "job = sampler.run([circuit_transpiled], shots=shots)\n",
    "print(f\">>> Job ID: {job.job_id()}, Status: {job.status()}\")"
   ],
   "metadata": {
    "collapsed": false
   }
  },
  {
   "cell_type": "code",
   "outputs": [],
   "source": [
    "#job = service.job(\"d1mgq7wzeebg0081rfrg\")  # n_qubits = 4\n",
    "print(f\">>> Job Status: {job.status()}\")"
   ],
   "metadata": {
    "collapsed": false
   }
  },
  {
   "cell_type": "code",
   "outputs": [],
   "source": [
    "result = job.result()\n",
    "plot_distribution(result[0].data.out.get_counts())"
   ],
   "metadata": {
    "collapsed": false
   }
  },
  {
   "cell_type": "markdown",
   "source": [
    "部分空間の次元に対するエネルギーの依存性を確認します。"
   ],
   "metadata": {
    "collapsed": false
   }
  },
  {
   "cell_type": "code",
   "outputs": [],
   "source": [
    "counts = result[0].data.out.get_counts()\n",
    "\n",
    "# ビット列からBool変数の行列を生成\n",
    "bitstring_matrix_full, probs_array_full = counts_to_arrays(counts)\n",
    "\n",
    "n_batches = 10\n",
    "\n",
    "samples_per_batch_list = [1, 2, 3, 4, 5, 7, 9, 11, 13, 16]  # n_qubits = 4\n",
    "#samples_per_batch_list = [1, 2, 5, 10, 20, 50, 100, 125, 150, 200, 225, 256]  # n_qubits = 8\n",
    "\n",
    "batches_tmp_list = []\n",
    "# ビット列から部分空間に対応するサブサンプルを生成\n",
    "for i_samples in range(len(samples_per_batch_list)):\n",
    "  batches_tmp = subsample(\n",
    "      bitstring_matrix_full,\n",
    "      probs_array_full,\n",
    "      samples_per_batch = samples_per_batch_list[i_samples],\n",
    "      num_batches = n_batches,\n",
    "      rand_seed = rng\n",
    "  )\n",
    "  batches_tmp_list.append(batches_tmp)"
   ],
   "metadata": {
    "collapsed": false
   }
  },
  {
   "cell_type": "code",
   "outputs": [],
   "source": [
    "eigvals_min_batch_list = []\n",
    "\n",
    "for i_samples in range(len(samples_per_batch_list)):\n",
    "\n",
    "  for j in range(n_batches):\n",
    "    # ビット列の重複がある場合、重複している行列要素を除く\n",
    "    batches_removed = sort_and_remove_duplicates(np.array(batches_tmp_list[i_samples])[j])\n",
    "\n",
    "    # ハミルトニアンをbatched_removedが貼るヒルベルト空間に射影\n",
    "    projected_hamiltonian = project_operator_to_subspace(batches_removed, hamiltonian, verbose=False)\n",
    "\n",
    "    # 射影されたハミルトニアンを対角化\n",
    "    eigenvals, eigenstates = eigsh(projected_hamiltonian.toarray())\n",
    "    #print(f\"バッチ {j} : {np.round(np.min(eigenvals), 6)}\")\n",
    "\n",
    "  eigvals_min_batch_list.append(np.min(eigenvals))\n",
    "\n",
    "  print(f\"samples_per_batch = {samples_per_batch_list[i_samples]}, 最低エネルギー {np.round(np.min(eigenvals), 6)}\")"
   ],
   "metadata": {
    "collapsed": false
   }
  },
  {
   "cell_type": "code",
   "outputs": [],
   "source": [
    "fig, ax = plt.subplots()\n",
    "# Plot energies\n",
    "ax.plot(samples_per_batch_list, eigvals_min_batch_list, label=\"measured energy\", marker=\"o\")\n",
    "ax.set(xlabel='# of samples per batch', ylabel='Energy', title='Energy vs # of samples per batch')\n",
    "ax.axhline(\n",
    "    y=gs_energy,\n",
    "    color=\"#BF5700\",\n",
    "    linestyle=\"--\",\n",
    "    label=\"exact energy\",\n",
    ")\n",
    "ax.legend()"
   ],
   "metadata": {
    "collapsed": false
   }
  },
  {
   "cell_type": "markdown",
   "source": [
    "シミュレータを使った場合、磁化0の初期状態を設定する回路を使うとエネルギーの収束性が向上しました。実機ではどうなるでしょうか。"
   ],
   "metadata": {
    "collapsed": false
   }
  },
  {
   "cell_type": "code",
   "outputs": [],
   "source": [
    "circuit, basis_states = magnetization_zero_circuit(n_qubits)\n",
    "print(\"磁化0部分空間の基底状態:\", basis_states)"
   ],
   "metadata": {
    "collapsed": false
   }
  },
  {
   "cell_type": "code",
   "outputs": [],
   "source": [
    "# 最も空いているバックエンドを見つけて、そのバックエンドに対して回路をトランスパイル\n",
    "backend = service.least_busy(min_num_qubits=n_qubits, simulator=False, operational=True)\n",
    "print(f\"least busy backend: {backend.name}\")\n",
    "\n",
    "circuit_transpiled = transpile(circuit, backend=backend, optimization_level=3)"
   ],
   "metadata": {
    "collapsed": false
   }
  },
  {
   "cell_type": "code",
   "outputs": [],
   "source": [
    "sampler = RuntimeSampler(backend)\n",
    "\n",
    "job = sampler.run([circuit_transpiled], shots=shots)\n",
    "print(f\">>> Job ID: {job.job_id()}, Status: {job.status()}\")"
   ],
   "metadata": {
    "collapsed": false
   }
  },
  {
   "cell_type": "code",
   "outputs": [],
   "source": [
    "#job = service.job(\"d1mg66rx3st0008yjrsg\")  #n_qubits = 4\n",
    "print(f\">>> Job Status: {job.status()}\")"
   ],
   "metadata": {
    "collapsed": false
   }
  },
  {
   "cell_type": "code",
   "outputs": [],
   "source": [
    "result = job.result()\n",
    "plot_distribution(result[0].data.out.get_counts())"
   ],
   "metadata": {
    "collapsed": false
   }
  },
  {
   "cell_type": "markdown",
   "source": [
    "再度、部分空間の次元に対するエネルギーの依存性を確認します。"
   ],
   "metadata": {
    "collapsed": false
   }
  },
  {
   "cell_type": "code",
   "outputs": [],
   "source": [
    "counts = result[0].data.out.get_counts()\n",
    "\n",
    "# ビット列からBool変数の行列を生成\n",
    "bitstring_matrix_full, probs_array_full = counts_to_arrays(counts)\n",
    "\n",
    "n_batches = 10\n",
    "\n",
    "samples_per_batch_list = [1, 2, 3, 4, 5, 7, 9, 11, 13, 16]  # n_qubits = 4\n",
    "#samples_per_batch_list = [1, 2, 5, 10, 20, 50, 100, 125, 150, 200, 225, 256]  # n_qubits = 8\n",
    "\n",
    "batches_tmp_list = []\n",
    "# ビット列から部分空間に対応するサブサンプルを生成\n",
    "for i_samples in range(len(samples_per_batch_list)):\n",
    "  batches_tmp = subsample(\n",
    "      bitstring_matrix_full,\n",
    "      probs_array_full,\n",
    "      samples_per_batch = samples_per_batch_list[i_samples],\n",
    "      num_batches = n_batches,\n",
    "      rand_seed = rng\n",
    "  )\n",
    "  batches_tmp_list.append(batches_tmp)"
   ],
   "metadata": {
    "collapsed": false
   }
  },
  {
   "cell_type": "code",
   "outputs": [],
   "source": [
    "eigvals_min_batch_list = []\n",
    "\n",
    "for i_samples in range(len(samples_per_batch_list)):\n",
    "\n",
    "  for j in range(n_batches):\n",
    "    # ビット列の重複がある場合、重複している行列要素を除く\n",
    "    batches_removed = sort_and_remove_duplicates(np.array(batches_tmp_list[i_samples])[j])\n",
    "\n",
    "    # ハミルトニアンをbatched_removedが貼るヒルベルト空間に射影\n",
    "    projected_hamiltonian = project_operator_to_subspace(batches_removed, hamiltonian, verbose=False)\n",
    "\n",
    "    # 射影されたハミルトニアンを対角化\n",
    "    eigenvals, eigenstates = eigsh(projected_hamiltonian.toarray())\n",
    "    #print(f\"バッチ {j} : {np.round(np.min(eigenvals), 6)}\")\n",
    "\n",
    "  eigvals_min_batch_list.append(np.min(eigenvals))\n",
    "\n",
    "  print(f\"samples_per_batch = {samples_per_batch_list[i_samples]}, 最低エネルギー {np.round(np.min(eigenvals), 6)}\")"
   ],
   "metadata": {
    "collapsed": false
   }
  },
  {
   "cell_type": "code",
   "outputs": [],
   "source": [
    "fig, ax = plt.subplots()\n",
    "# Plot energies\n",
    "ax.plot(samples_per_batch_list, eigvals_min_batch_list, label=\"measured energy\", marker=\"o\")\n",
    "ax.set(xlabel='# of samples per batch', ylabel='Energy', title='Energy vs # of samples per batch')\n",
    "ax.axhline(\n",
    "    y=gs_energy,\n",
    "    color=\"#BF5700\",\n",
    "    linestyle=\"--\",\n",
    "    label=\"exact energy\",\n",
    ")\n",
    "ax.legend()"
   ],
   "metadata": {
    "collapsed": false
   }
  },
  {
   "cell_type": "markdown",
   "source": [
    "## 以下は余録\n",
    "バッチ数に対する依存性はないことを確認"
   ],
   "metadata": {
    "collapsed": false
   }
  },
  {
   "cell_type": "code",
   "outputs": [],
   "source": [
    "n_batches_list = [10, 50, 100, 200]\n",
    "\n",
    "samples_per_batch = 10\n",
    "\n",
    "batches_tmp_list = []\n",
    "# ビット列から部分空間に対応するサブサンプルを生成\n",
    "for i_batch in range(len(n_batches_list)):\n",
    "  batches_tmp = subsample(\n",
    "      bitstring_matrix_full,\n",
    "      probs_array_full,\n",
    "      samples_per_batch = samples_per_batch,\n",
    "      num_batches = n_batches_list[i_batch],\n",
    "      rand_seed = rng\n",
    "  )\n",
    "  batches_tmp_list.append(batches_tmp)"
   ],
   "metadata": {
    "collapsed": false
   }
  },
  {
   "cell_type": "code",
   "outputs": [],
   "source": [
    "eigvals_min_batch_list = []\n",
    "\n",
    "for i_batch in range(len(n_batches_list)):\n",
    "\n",
    "  for j in range(n_batches_list[i_batch]):\n",
    "    # ビット列の重複がある場合、重複している行列要素を除く\n",
    "    batches_removed = sort_and_remove_duplicates(np.array(batches_tmp_list[i_batch])[j])\n",
    "\n",
    "    # ハミルトニアンをbatched_removedが貼るヒルベルト空間に射影\n",
    "    projected_hamiltonian = project_operator_to_subspace(batches_removed, hamiltonian, verbose=False)\n",
    "\n",
    "    # 射影されたハミルトニアンを対角化\n",
    "    eigenvals, eigenstates = eigsh(projected_hamiltonian.toarray())\n",
    "    #print(f\"バッチ {j} : {np.round(np.min(eigenvals), 6)}\")\n",
    "\n",
    "  eigvals_min_batch_list.append(np.min(eigenvals))\n",
    "\n",
    "  print(f\"n_batches = {n_batches_list[i_batch]}, 最低エネルギー {np.round(np.min(eigenvals), 6)}\")"
   ],
   "metadata": {
    "collapsed": false
   }
  },
  {
   "cell_type": "code",
   "outputs": [],
   "source": [
    "fig, ax = plt.subplots()\n",
    "# Plot energies\n",
    "ax.plot(n_batches_list, eigvals_min_batch_list, label=\"energy error\", marker=\"o\")\n",
    "ax.set(xlabel='# of batches', ylabel='Minimum energy observed', title='Observed minimum energy vs # of batches')"
   ],
   "metadata": {
    "collapsed": false
   }
  }
 ],
 "metadata": {
  "kernelspec": {
   "display_name": "Python 3 (ipykernel)",
   "language": "python",
   "name": "python3"
  },
  "language_info": {
   "codemirror_mode": {
    "name": "ipython",
    "version": 3
   },
   "file_extension": ".py",
   "mimetype": "text/x-python",
   "name": "python",
   "nbconvert_exporter": "python",
   "pygments_lexer": "ipython3",
   "version": "3.8.10"
  }
 },
 "nbformat": 4,
 "nbformat_minor": 4
}
