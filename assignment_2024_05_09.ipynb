{
 "cells": [
  {
   "cell_type": "markdown",
   "source": [
    "# 【課題】位相推定によるスペクトル分解\n"
   ],
   "metadata": {
    "collapsed": false
   },
   "id": "f0920b845ab775ce"
  },
  {
   "cell_type": "code",
   "outputs": [],
   "source": [
    "import sys\n",
    "import shutil\n",
    "import tarfile\n",
    "from google.colab import drive\n",
    "drive.mount('/content/gdrive')\n",
    "shutil.copy('/content/gdrive/MyDrive/qcintro.tar.gz', '.')\n",
    "with tarfile.open('qcintro.tar.gz', 'r:gz') as tar:\n",
    "    tar.extractall(path='/root/.local')\n",
    "\n",
    "sys.path.append('/root/.local/lib/python3.10/site-packages')\n",
    "\n",
    "!git clone -b branch-2024 https://github.com/UTokyo-ICEPP/qc-workbook-lecturenotes\n",
    "!cp -r qc-workbook-lecturenotes/qc_workbook /root/.local/lib/python3.10/site-packages/"
   ],
   "metadata": {
    "collapsed": false
   },
   "id": "9e0da5331ea5897d",
   "execution_count": null
  },
  {
   "cell_type": "code",
   "outputs": [],
   "source": [
    "# まず必要なモジュールをインポートする\n",
    "import numpy as np\n",
    "import matplotlib.pyplot as plt\n",
    "from qiskit import QuantumRegister, QuantumCircuit, transpile\n",
    "from qiskit_aer import AerSimulator\n",
    "from qiskit.visualization import plot_histogram\n",
    "\n",
    "# ワークブック独自のモジュール\n",
    "from qc_workbook.hamiltonian import make_hamiltonian\n",
    "from qc_workbook.show_state import show_state\n",
    "\n",
    "print('notebook ready')"
   ],
   "metadata": {
    "collapsed": false
   },
   "id": "ed1894fe886f5fcc",
   "execution_count": null
  },
  {
   "cell_type": "code",
   "outputs": [],
   "source": [
    "# Number of spins\n",
    "n_s = 2\n",
    "# Coupling parameter\n",
    "J = 1.\n",
    "# External field / J\n",
    "g = 0.\n",
    "\n",
    "# Construct the Hamiltonian matrix\n",
    "paulis = list()\n",
    "coeffs = list()\n",
    "for j in range(n_s):\n",
    "    paulis.append(list('x' if k in (j, (j + 1) % n_s) else 'i' for k in range(n_s)))\n",
    "    coeffs.append(-J)\n",
    "    paulis.append(list('y' if k in (j, (j + 1) % n_s) else 'i' for k in range(n_s)))\n",
    "    coeffs.append(-J)\n",
    "    paulis.append(list('z' if k in (j, (j + 1) % n_s) else 'i' for k in range(n_s)))\n",
    "    coeffs.append(-J)\n",
    "    if g != 0.:\n",
    "        paulis.append(list('z' if k == j else 'i' for k in range(n_s)))\n",
    "        coeffs.append(-J * g)\n",
    "\n",
    "hamiltonian = make_hamiltonian(paulis, coeffs)\n",
    "\n",
    "# Diagonalize and obtain the eigenvalues and vectors\n",
    "eigvals, eigvectors = np.linalg.eigh(hamiltonian)\n",
    "\n",
    "# Print the eigenvectors\n",
    "for i in range(eigvals.shape[0]):\n",
    "    show_state(eigvectors[:, i], binary=True, state_label=r'\\phi_{} (E={}J)'.format(i, eigvals[i]))"
   ],
   "metadata": {
    "collapsed": false
   },
   "id": "49fa85b1fc86b23c",
   "execution_count": null
  },
  {
   "cell_type": "markdown",
   "source": [
    "## 問題1: スペクトル推定を実装し、厳密解と照らし合わせる\n"
   ],
   "metadata": {
    "collapsed": false
   },
   "id": "afcb8d1d13cd80ad"
  },
  {
   "cell_type": "code",
   "outputs": [],
   "source": [
    "def trotter_twopi_heisenberg(state_register, energy_norm, g, num_steps):\n",
    "    \"\"\"Return a function that implements a single Trotter step for the Heisenberg model.\n",
    "    \n",
    "    The Heisenberg model Hamiltonian is\n",
    "    H = -J * sum_of_sigmas = hbar*ω * Θ\n",
    "    \n",
    "    The returned circuit implements a negative time evolution\n",
    "    U = exp(-i H*(-τ)/hbar)\n",
    "    where τ = 2π / ω, which leads to\n",
    "    U = exp(i 2π Θ).\n",
    "    \n",
    "    Because we employ the Suzuki-Trotter decomposition, the actual circuit corresponds to\n",
    "    U = [exp(i 2π/num_steps Θ)]^num_steps.\n",
    "\n",
    "    Args:\n",
    "        state_register (QuantumRegister): Register to perform the Suzuki-Trotter simulation.\n",
    "        energy_norm (float): J/(hbar*ω).\n",
    "        g (float): External field strength relative to the coupling constant J.\n",
    "        num_steps (float): Number of steps to divide the time evolution of ωτ=2π.\n",
    "\n",
    "    Returns:\n",
    "        QuantumCircuit: A quantum circuit implementing the Trotter simulation of the Heisenberg\n",
    "        model.\n",
    "    \"\"\"\n",
    "    circuit = QuantumCircuit(state_register, name='ΔU')\n",
    "\n",
    "    n_spins = state_register.size\n",
    "    step_size = 2. * np.pi / num_steps\n",
    "\n",
    "    # Implement the circuit corresponding to exp(i*step_size*Θ) below, where Θ is defined by\n",
    "    # Θ = -J/(hbar*ω) * sum_of_sigmas = -energy_norm * sum_of_sigmas\n",
    "    ##################\n",
    "    ### EDIT BELOW ###\n",
    "    ##################\n",
    "\n",
    "    # circuit.?\n",
    "    \n",
    "    ##################\n",
    "    ### EDIT ABOVE ###\n",
    "    ##################\n",
    "    \n",
    "    circuit = circuit.repeat(num_steps)\n",
    "    circuit.name = 'U'\n",
    "\n",
    "    return circuit"
   ],
   "metadata": {
    "collapsed": false,
    "ExecuteTime": {
     "end_time": "2024-05-07T01:08:29.433146Z",
     "start_time": "2024-05-07T01:08:29.428400Z"
    }
   },
   "id": "a34a89a13ee3bebf",
   "execution_count": 3
  },
  {
   "cell_type": "code",
   "outputs": [],
   "source": [
    "def spectrum_estimation(state_register, readout_register, u_circuit):\n",
    "    \"\"\"Perform a spectrum estimation given a circuit containing state and readout registers and a callable implementing\n",
    "    a single Trotter step.\n",
    "\n",
    "    Args:\n",
    "        state_register (QuantumRegister): State register.\n",
    "        readout_register (QuantumRegister): Readout register.\n",
    "        u_circuit (QuantumCircuit): A circuit implementing U_H(-2π/ω).\n",
    "        \n",
    "    Returns:\n",
    "        QuantumCircuit: A circuit implementing the spectrum estimation of the given Hamiltonian.\n",
    "    \"\"\"\n",
    "    circuit = QuantumCircuit(state_register, readout_register, name='Spectrum estimation')\n",
    "\n",
    "    # Set the R register to an equal superposition\n",
    "    circuit.h(readout_register)\n",
    "\n",
    "    # Apply controlled-U operations to the circuit\n",
    "    for iq, qubit in enumerate(readout_register):\n",
    "        # Repeat the 2π evolution by 2^iq and convert it to a controlled gate\n",
    "        controlled_u_gate = u_circuit.repeat(2 ** iq).to_gate().control(1)\n",
    "\n",
    "        # Append the controlled gate specifying the control and target qubits\n",
    "        circuit.append(controlled_u_gate, qargs=([qubit] + state_register[:]))\n",
    "        \n",
    "    circuit.barrier()\n",
    "\n",
    "    # Inverse QFT\n",
    "    for iq in range(readout_register.size // 2):\n",
    "        circuit.swap(readout_register[iq], readout_register[-1 - iq])\n",
    "\n",
    "    dphi = 2. * np.pi / (2 ** readout_register.size)\n",
    "\n",
    "    for jtarg in range(readout_register.size):\n",
    "        for jctrl in range(jtarg):\n",
    "            power = jctrl - jtarg - 1 + readout_register.size\n",
    "            circuit.cp(-dphi * (2 ** power), readout_register[jctrl], readout_register[jtarg])\n",
    "\n",
    "        circuit.h(readout_register[jtarg])\n",
    "        \n",
    "    return circuit"
   ],
   "metadata": {
    "collapsed": false,
    "ExecuteTime": {
     "end_time": "2024-05-07T01:08:31.588568Z",
     "start_time": "2024-05-07T01:08:31.578403Z"
    }
   },
   "id": "28e8fa0aac1bfc48",
   "execution_count": 4
  },
  {
   "cell_type": "code",
   "outputs": [],
   "source": [
    "## Physics model parameter\n",
    "g = 0.\n",
    "\n",
    "## Spectrum estimation parameters\n",
    "# Hamiltonian normalization\n",
    "energy_norm = 1. / 16. # J/(hbar*ω)\n",
    "# Number of steps per 2pi evolution\n",
    "# Tune this parameter to find the best balance of simulation accuracy versus circuit depth\n",
    "num_steps = 6\n",
    "# Register sizes\n",
    "n_state = 2\n",
    "n_readout = 4\n",
    "\n",
    "## Registers\n",
    "state_register = QuantumRegister(n_state, 'state')\n",
    "readout_register = QuantumRegister(n_readout, 'readout')"
   ],
   "metadata": {
    "collapsed": false,
    "ExecuteTime": {
     "end_time": "2024-05-07T01:08:33.827822Z",
     "start_time": "2024-05-07T01:08:33.822472Z"
    }
   },
   "id": "7c007bae7ba4527f",
   "execution_count": 5
  },
  {
   "cell_type": "code",
   "outputs": [],
   "source": [
    "u_circuit = trotter_twopi_heisenberg(state_register, energy_norm, g, num_steps)\n",
    "u_circuit.draw('mpl')"
   ],
   "metadata": {
    "collapsed": false
   },
   "id": "c24dc8841bee052",
   "execution_count": null
  },
  {
   "cell_type": "code",
   "outputs": [],
   "source": [
    "se_circuit = spectrum_estimation(state_register, readout_register, u_circuit)\n",
    "se_circuit.draw('mpl')"
   ],
   "metadata": {
    "collapsed": false
   },
   "id": "1327900ff311ad9",
   "execution_count": null
  },
  {
   "cell_type": "code",
   "outputs": [],
   "source": [
    "def make_initial_state(state_register, readout_register):\n",
    "    circuit = QuantumCircuit(state_register, readout_register)\n",
    "\n",
    "    # Set the initial state of the state vector to (1/2)|00> - (1/sqrt(2))|01> + (1/2)|11>\n",
    "    ##################\n",
    "    ### EDIT BELOW ###\n",
    "    ##################\n",
    "\n",
    "    #circuit.?\n",
    "\n",
    "    ##################\n",
    "    ### EDIT ABOVE ###\n",
    "    ##################\n",
    "    \n",
    "    return circuit\n",
    "\n",
    "\n",
    "init_circuit = make_initial_state(state_register, readout_register)\n",
    "init_circuit.draw('mpl')"
   ],
   "metadata": {
    "collapsed": false
   },
   "id": "7ae75126390a5078",
   "execution_count": null
  },
  {
   "cell_type": "code",
   "outputs": [],
   "source": [
    "u_circuit = trotter_twopi_heisenberg(state_register, energy_norm, g, num_steps)\n",
    "se_circuit = spectrum_estimation(state_register, readout_register, u_circuit)\n",
    "\n",
    "circuit = make_initial_state(state_register, readout_register)\n",
    "circuit.compose(se_circuit, inplace=True)\n",
    "circuit.measure_all()\n",
    "circuit.draw('mpl')"
   ],
   "metadata": {
    "collapsed": false
   },
   "id": "6719e5d13c3db388",
   "execution_count": null
  },
  {
   "cell_type": "code",
   "outputs": [],
   "source": [
    "# Run the circuit in qasm_simulator and plot the histogram\n",
    "simulator = AerSimulator()\n",
    "circuit = transpile(circuit, backend=simulator)\n",
    "job = simulator.run(circuit, shots=10000)\n",
    "result = job.result()\n",
    "counts = result.get_counts(circuit)\n",
    "plot_histogram(counts)"
   ],
   "metadata": {
    "collapsed": false
   },
   "id": "704a59c4e0f31e01",
   "execution_count": null
  },
  {
   "cell_type": "markdown",
   "source": [
    "**提出するもの**\n",
    "\n",
    "- 完成した`trotter_twopi_heisenberg`関数\n",
    "- 完成した状態レジスタの初期化回路\n",
    "- スペクトル推定の結果のヒストグラムと、その解釈"
   ],
   "metadata": {
    "collapsed": false
   },
   "id": "c85a4b331c505c1d"
  },
  {
   "cell_type": "markdown",
   "source": [
    "**スペクトル推定の結果の解釈**\n",
    "\n"
   ],
   "metadata": {
    "collapsed": false
   },
   "id": "c0ba90dc33e20a52"
  }
 ],
 "metadata": {
  "kernelspec": {
   "display_name": "Python 3",
   "language": "python",
   "name": "python3"
  },
  "language_info": {
   "codemirror_mode": {
    "name": "ipython",
    "version": 2
   },
   "file_extension": ".py",
   "mimetype": "text/x-python",
   "name": "python",
   "nbconvert_exporter": "python",
   "pygments_lexer": "ipython2",
   "version": "2.7.6"
  }
 },
 "nbformat": 4,
 "nbformat_minor": 5
}
