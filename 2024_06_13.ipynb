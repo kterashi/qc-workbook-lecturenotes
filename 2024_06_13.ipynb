{
 "cells": [
  {
   "cell_type": "markdown",
   "metadata": {
    "collapsed": true
   },
   "source": [
    "## 量子回路学習\n",
    "\n",
    "まず、必要なライブラリを最初にインポートします。"
   ]
  },
  {
   "cell_type": "code",
   "execution_count": null,
   "outputs": [],
   "source": [
    "import os\n",
    "import sys\n",
    "import shutil\n",
    "import tarfile\n",
    "from google.colab import drive\n",
    "\n",
    "drive.mount('/content/gdrive')\n",
    "shutil.copy('/content/gdrive/MyDrive/qcintro.tar.gz', '.')\n",
    "with tarfile.open('qcintro.tar.gz', 'r:gz') as tar:\n",
    "    tar.extractall(path='/root/.local')\n",
    "\n",
    "sys.path.append('/root/.local/lib/python3.10/site-packages')\n",
    "\n",
    "!git clone -b branch-2024 https://github.com/UTokyo-ICEPP/qc-workbook-lecturenotes\n",
    "!cp -r qc-workbook-lecturenotes/qc_workbook /root/.local/lib/python3.10/site-packages/"
   ],
   "metadata": {
    "collapsed": false
   }
  },
  {
   "cell_type": "code",
   "execution_count": 1,
   "outputs": [],
   "source": [
    "%pip install qiskit-machine-learning\n",
    "\n",
    "# Tested with python 3.10.11, qiskit 0.42.1, numpy 1.23.5, scipy 1.9.3\n",
    "import numpy as np\n",
    "import matplotlib.pyplot as plt\n",
    "import pandas as pd\n",
    "from IPython.display import clear_output\n",
    "from sklearn.preprocessing import MinMaxScaler\n",
    "from sklearn.svm import SVC\n",
    "\n",
    "from qiskit import QuantumCircuit\n",
    "from qiskit.circuit import Parameter, ParameterVector\n",
    "from qiskit.circuit.library import TwoLocal, ZFeatureMap, ZZFeatureMap, RealAmplitudes\n",
    "from qiskit.primitives import Estimator, Sampler, BackendEstimator\n",
    "from qiskit.quantum_info import SparsePauliOp\n",
    "from qiskit_algorithms.optimizers import SLSQP, COBYLA\n",
    "from qiskit_ibm_runtime import Session, Sampler as RuntimeSampler\n",
    "from qiskit_ibm_runtime.accounts import AccountNotFoundError\n",
    "from qiskit_aer import AerSimulator\n",
    "from qiskit_machine_learning.algorithms.classifiers import VQC\n",
    "from qiskit_machine_learning.kernels import FidelityQuantumKernel\n",
    "from qiskit_algorithms.minimum_eigensolvers import VQE, NumPyMinimumEigensolver\n",
    "from qiskit_machine_learning.neural_networks import EstimatorQNN\n",
    "from qiskit_machine_learning.algorithms import NeuralNetworkRegressor"
   ],
   "metadata": {
    "collapsed": false
   }
  },
  {
   "cell_type": "markdown",
   "source": [
    "## 初歩的な例\n",
    "ある入力$\\{x_i\\}$と、既知の関数$f$による出力$y_i=f(x_i)$が学習データとして与えられた時に、そのデータから関数$f$を近似的に求める問題を考えてみます。例として、$f(x)=x^3$としてみます。\n",
    "\n",
    "### 学習データの準備"
   ],
   "metadata": {
    "collapsed": false
   }
  },
  {
   "cell_type": "code",
   "execution_count": null,
   "outputs": [],
   "source": [
    "random_seed = 0\n",
    "rng = np.random.default_rng(random_seed)\n",
    "\n",
    "# Qubit数、変分フォームのレイヤー数、訓練サンプル数の定義など\n",
    "nqubit = 3\n",
    "nlayer = 5\n",
    "x_min = -1.\n",
    "x_max = 1.\n",
    "num_x_train = 30\n",
    "num_x_validation = 20\n",
    "\n",
    "# 関数の定義\n",
    "func_to_learn = lambda x: x ** 3\n",
    "\n",
    "# 学習用データセットの生成\n",
    "x_train = rng.uniform(x_min, x_max, size=num_x_train)\n",
    "y_train = func_to_learn(x_train)\n",
    "\n",
    "# 関数に正規分布ノイズを付加\n",
    "mag_noise = 0.05\n",
    "y_train_noise = y_train + rng.normal(0., mag_noise, size=num_x_train)\n",
    "\n",
    "# 検証用データセットの生成\n",
    "x_validation = rng.uniform(x_min, x_max, size=num_x_validation)\n",
    "y_validation = func_to_learn(x_validation) + rng.normal(0., mag_noise, size=num_x_validation)\n",
    "\n",
    "# 学習用データをプロットして確認\n",
    "x_list = np.arange(x_min, x_max, 0.02)\n",
    "plt.plot(x_train, y_train_noise, \"o\", label='Training Data (w/ Noise)')\n",
    "plt.plot(x_list, func_to_learn(x_list), label='Original Function')\n",
    "plt.legend()"
   ],
   "metadata": {
    "collapsed": false
   }
  },
  {
   "cell_type": "markdown",
   "source": [
    "### 量子状態の生成"
   ],
   "metadata": {
    "collapsed": false
   }
  },
  {
   "cell_type": "code",
   "execution_count": null,
   "outputs": [],
   "source": [
    "u_in = QuantumCircuit(nqubit, name='U_in')\n",
    "x = Parameter('x')\n",
    "\n",
    "for iq in range(nqubit):\n",
    "    # parameter.arcsin()はparameterに値vが代入された時にarcsin(v)になるパラメータ表現\n",
    "    u_in.ry(x.arcsin(), iq)\n",
    "    # arccosも同様\n",
    "    u_in.rz((x * x).arccos(), iq)\n",
    "\n",
    "u_in.assign_parameters({x: x_train[0]}).draw('mpl')"
   ],
   "metadata": {
    "collapsed": false
   }
  },
  {
   "cell_type": "markdown",
   "source": [
    "### 変分フォームを使った状態変換"
   ],
   "metadata": {
    "collapsed": false
   }
  },
  {
   "cell_type": "code",
   "execution_count": null,
   "outputs": [],
   "source": [
    "u_out = QuantumCircuit(nqubit, name='U_out')\n",
    "\n",
    "# 長さ0のパラメータ配列\n",
    "theta = ParameterVector('θ', 0)\n",
    "\n",
    "# thetaに一つ要素を追加して最後のパラメータを返す関数\n",
    "def new_theta():\n",
    "    theta.resize(len(theta) + 1)\n",
    "    return theta[-1]\n",
    "\n",
    "for iq in range(nqubit):\n",
    "    u_out.ry(new_theta(), iq)\n",
    "\n",
    "for iq in range(nqubit):\n",
    "    u_out.rz(new_theta(), iq)\n",
    "\n",
    "for iq in range(nqubit):\n",
    "    u_out.ry(new_theta(), iq)\n",
    "\n",
    "for il in range(nlayer):\n",
    "    for iq in range(nqubit):\n",
    "        u_out.cz(iq, (iq + 1) % nqubit)\n",
    "\n",
    "    for iq in range(nqubit):\n",
    "        u_out.ry(new_theta(), iq)\n",
    "\n",
    "    for iq in range(nqubit):\n",
    "        u_out.rz(new_theta(), iq)\n",
    "\n",
    "    for iq in range(nqubit):\n",
    "        u_out.ry(new_theta(), iq)\n",
    "\n",
    "print(f'{len(theta)} parameters')\n",
    "\n",
    "theta_vals = rng.uniform(0., 2. * np.pi, size=len(theta))\n",
    "\n",
    "u_out.assign_parameters(dict(zip(theta, theta_vals))).draw('mpl')"
   ],
   "metadata": {
    "collapsed": false
   }
  },
  {
   "cell_type": "markdown",
   "source": [
    "### 測定とモデル出力"
   ],
   "metadata": {
    "collapsed": false
   }
  },
  {
   "cell_type": "code",
   "execution_count": null,
   "outputs": [],
   "source": [
    "model = QuantumCircuit(nqubit, name='model')\n",
    "\n",
    "model.compose(u_in, inplace=True)\n",
    "model.compose(u_out, inplace=True)\n",
    "\n",
    "assign_params = dict(zip(theta, theta_vals))\n",
    "assign_params[x] = x_train[0]\n",
    "\n",
    "model.assign_parameters(assign_params).draw('mpl')"
   ],
   "metadata": {
    "collapsed": false
   }
  },
  {
   "cell_type": "code",
   "execution_count": 8,
   "outputs": [],
   "source": [
    "# 今回はバックエンドを利用しない（量子回路シミュレーションを簡略化した）Estimatorクラスを使う\n",
    "#estimator = Estimator()\n",
    "backend = AerSimulator()\n",
    "estimator = BackendEstimator(backend)\n",
    "\n",
    "# 与えられたパラメータの値とxの値に対してyの値を計算する\n",
    "def yvals(param_vals, x_vals=x_train):\n",
    "    circuits = list()\n",
    "    for x_val in x_vals:\n",
    "        # xだけ数値が代入された変分回路\n",
    "        circuits.append(model.assign_parameters({x: x_val}))\n",
    "\n",
    "    # 観測量はIIZ（右端が第0量子ビット）\n",
    "    observable = SparsePauliOp('I' * (nqubit - 1) + 'Z')\n",
    "\n",
    "    # shotsは関数の外で定義\n",
    "    job = estimator.run(circuits, [observable] * len(circuits), [param_vals] * len(circuits), shots=shots)\n",
    "\n",
    "    return np.array(job.result().values)\n",
    "\n",
    "def objective_function(param_vals):\n",
    "    return np.sum(np.square(y_train_noise - yvals(param_vals)))\n",
    "\n",
    "def callback_function(param_vals):\n",
    "    # lossesは関数の外で定義\n",
    "    losses.append(objective_function(param_vals))\n",
    "\n",
    "    if len(losses) % 10 == 0:\n",
    "        print(f'COBYLA iteration {len(losses)}: cost={losses[-1]}')"
   ],
   "metadata": {
    "collapsed": false
   }
  },
  {
   "cell_type": "code",
   "execution_count": 9,
   "outputs": [],
   "source": [
    "# COBYLAの最大ステップ数\n",
    "maxiter = 100\n",
    "# COBYLAの収束条件（小さいほどよい近似を目指す）\n",
    "tol = 0.01\n",
    "# バックエンドでのショット数\n",
    "shots = 1000\n",
    "\n",
    "optimizer = COBYLA(maxiter=maxiter, tol=tol, callback=callback_function)"
   ],
   "metadata": {
    "collapsed": false
   }
  },
  {
   "cell_type": "code",
   "execution_count": null,
   "outputs": [],
   "source": [
    "initial_params = rng.uniform(0., 2. * np.pi, size=len(theta))\n",
    "\n",
    "losses = list()\n",
    "min_result = optimizer.minimize(objective_function, initial_params)\n",
    "plt.plot(losses)"
   ],
   "metadata": {
    "collapsed": false
   }
  },
  {
   "cell_type": "code",
   "execution_count": null,
   "outputs": [],
   "source": [
    "x_list = np.linspace(x_min, x_max, 100)\n",
    "\n",
    "y_pred = yvals(min_result.x, x_vals=x_list)\n",
    "\n",
    "# 結果を図示する\n",
    "plt.plot(x_train, y_train_noise, \"o\", label='Training Data (w/ Noise)')\n",
    "plt.plot(x_list, func_to_learn(x_list), label='Original Function')\n",
    "plt.plot(x_list, np.array(y_pred), label='Predicted Function')\n",
    "plt.legend();"
   ],
   "metadata": {
    "collapsed": false
   }
  },
  {
   "cell_type": "markdown",
   "source": [
    "## 素粒子現象の探索への応用\n",
    "\n",
    "### 学習データの準備"
   ],
   "metadata": {
    "collapsed": false
   }
  },
  {
   "cell_type": "code",
   "execution_count": null,
   "outputs": [],
   "source": [
    "# ファイルから変数を読み出す\n",
    "input_file = os.getcwd()+'/qc-workbook-lecturenotes/data/SUSY_1K.csv'\n",
    "df = pd.read_csv(input_file,\n",
    "                 names=('isSignal','lep1_pt','lep1_eta','lep1_phi','lep2_pt','lep2_eta',\n",
    "                        'lep2_phi','miss_ene','miss_phi','MET_rel','axial_MET','M_R','M_TR_2',\n",
    "                        'R','MT2','S_R','M_Delta_R','dPhi_r_b','cos_theta_r1'))\n",
    "\n",
    "# 学習に使う変数の数\n",
    "feature_dim = 3  # dimension of each data point\n",
    "\n",
    "# 3, 5, 7変数の場合に使う変数のセット\n",
    "if feature_dim == 3:\n",
    "    selected_features = ['lep1_pt', 'lep2_pt', 'miss_ene']\n",
    "elif feature_dim == 5:\n",
    "    selected_features = ['lep1_pt','lep2_pt','miss_ene','M_TR_2','M_Delta_R']\n",
    "elif feature_dim == 7:\n",
    "    selected_features = ['lep1_pt','lep1_eta','lep2_pt','lep2_eta','miss_ene','M_TR_2','M_Delta_R']\n",
    "\n",
    "# 学習に使う事象数: trainingは訓練用サンプル、testingはテスト用サンプル\n",
    "train_size = 20\n",
    "test_size = 20\n",
    "\n",
    "df_sig = df.loc[df.isSignal==1, selected_features]\n",
    "df_bkg = df.loc[df.isSignal==0, selected_features]\n",
    "\n",
    "# サンプルの生成\n",
    "df_sig_train = df_sig.values[:train_size]\n",
    "df_bkg_train = df_bkg.values[:train_size]\n",
    "df_sig_test = df_sig.values[train_size:train_size + test_size]\n",
    "df_bkg_test = df_bkg.values[train_size:train_size + test_size]\n",
    "# 最初のtrain_size事象がSUSY粒子を含む信号事象、残りのtrain_size事象がSUSY粒子を含まない背景事象\n",
    "train_data = np.concatenate([df_sig_train, df_bkg_train])\n",
    "# 最初のtest_size事象がSUSY粒子を含む信号事象、残りのtest_size事象がSUSY粒子を含まない背景事象\n",
    "test_data = np.concatenate([df_sig_test, df_bkg_test])\n",
    "\n",
    "# ラベル\n",
    "train_label = np.zeros(train_size * 2, dtype=int)\n",
    "train_label[:train_size] = 1\n",
    "test_label = np.zeros(train_size * 2, dtype=int)\n",
    "test_label[:test_size] = 1\n",
    "\n",
    "# one-hotベクトル（信号事象では第1次元の第0要素が1、背景事象では第1次元の第1要素が1）\n",
    "train_label_one_hot = np.zeros((train_size * 2, 2))\n",
    "train_label_one_hot[:train_size, 0] = 1\n",
    "train_label_one_hot[train_size:, 1] = 1\n",
    "test_label_one_hot = np.zeros((test_size * 2, 2))\n",
    "test_label_one_hot[:test_size, 0] = 1\n",
    "test_label_one_hot[test_size:, 1] = 1\n",
    "\n",
    "#datapoints, class_to_label = split_dataset_to_data_and_labels(test_input)\n",
    "#datapoints_tr, class_to_label_tr = split_dataset_to_data_and_labels(training_input)\n",
    "\n",
    "mms = MinMaxScaler((-1, 1))\n",
    "norm_train_data = mms.fit_transform(train_data)\n",
    "norm_test_data = mms.transform(test_data)"
   ],
   "metadata": {
    "collapsed": false
   }
  },
  {
   "cell_type": "markdown",
   "source": [
    "## 量子ニューラルネットワーク回路"
   ],
   "metadata": {
    "collapsed": false
   }
  },
  {
   "cell_type": "markdown",
   "source": [
    "### 量子状態の生成"
   ],
   "metadata": {
    "collapsed": false
   }
  },
  {
   "cell_type": "code",
   "execution_count": null,
   "outputs": [],
   "source": [
    "#feature_map = ZFeatureMap(feature_dimension=feature_dim, reps=1)\n",
    "feature_map = ZZFeatureMap(feature_dimension=feature_dim, reps=1, entanglement='circular')\n",
    "feature_map.decompose().draw('mpl')"
   ],
   "metadata": {
    "collapsed": false,
    "pycharm": {
     "is_executing": true
    }
   }
  },
  {
   "cell_type": "markdown",
   "source": [
    "### 変分フォームを使った状態変換"
   ],
   "metadata": {
    "collapsed": false
   }
  },
  {
   "cell_type": "code",
   "execution_count": null,
   "outputs": [],
   "source": [
    "ansatz = TwoLocal(num_qubits=feature_dim, rotation_blocks=['ry', 'rz'], entanglement_blocks='cz', entanglement='circular', reps=3)\n",
    "#ansatz = TwoLocal(num_qubits=feature_dim, rotation_blocks=['ry'], entanglement_blocks='cz', entanglement='circular', reps=3)\n",
    "ansatz.decompose().draw('mpl')"
   ],
   "metadata": {
    "collapsed": false,
    "pycharm": {
     "is_executing": true
    }
   }
  },
  {
   "cell_type": "markdown",
   "source": [
    "### 測定とモデル出力"
   ],
   "metadata": {
    "collapsed": false
   }
  },
  {
   "cell_type": "code",
   "execution_count": 15,
   "outputs": [],
   "source": [
    "# 上のEstimatorと同じく、バックエンドを使わずシミュレーションを簡略化したSampler\n",
    "sampler = Sampler()\n",
    "\n",
    "# 実機で実行する場合\n",
    "# instance = 'ibm-q/open/main'\n",
    "\n",
    "# try:\n",
    "#     service = QiskitRuntimeService(channel='ibm_quantum', instance=instance)\n",
    "# except AccountNotFoundError:\n",
    "#     service = QiskitRuntimeService(channel='ibm_quantum', token='__paste_your_token_here__',\n",
    "#                                    instance=instance)\n",
    "\n",
    "# backend_name = 'ibm_washington'\n",
    "# session = Session(service=service, backend=backend_name)\n",
    "\n",
    "# sampler = RuntimeSampler(session=session)\n",
    "\n",
    "maxiter = 300\n",
    "\n",
    "optimizer = COBYLA(maxiter=maxiter, disp=True)\n",
    "\n",
    "objective_func_vals = []\n",
    "# Draw the value of objective function every time when the fit() method is called\n",
    "def callback_graph(weights, obj_func_eval):\n",
    "    #clear_output(wait=True)\n",
    "    objective_func_vals.append(obj_func_eval)\n",
    "    if len(objective_func_vals) % 10 == 0:\n",
    "        print(f'COBYLA iteration {len(objective_func_vals)}: cost={obj_func_eval}')\n",
    "\n",
    "    #plt.title(\"Objective function value against iteration\")\n",
    "    #plt.xlabel(\"Iteration\")\n",
    "    #plt.ylabel(\"Objective function value\")\n",
    "    #plt.plot(objective_func_vals)\n",
    "    #plt.show()\n",
    "\n",
    "vqc = VQC(num_qubits=feature_dim,\n",
    "          feature_map=feature_map,\n",
    "          ansatz=ansatz,\n",
    "          loss=\"cross_entropy\",\n",
    "          optimizer=optimizer,\n",
    "          callback=callback_graph,\n",
    "          sampler=sampler)"
   ],
   "metadata": {
    "collapsed": false
   }
  },
  {
   "cell_type": "markdown",
   "source": [
    "### シミュレーションで実行"
   ],
   "metadata": {
    "collapsed": false
   }
  },
  {
   "cell_type": "code",
   "execution_count": null,
   "outputs": [],
   "source": [
    "vqc.fit(norm_train_data, train_label_one_hot)\n",
    "\n",
    "train_score = vqc.score(norm_train_data, train_label_one_hot)\n",
    "test_score = vqc.score(norm_test_data, test_label_one_hot)\n",
    "\n",
    "print(f'--- Classification Train score: {train_score} ---')\n",
    "print(f'--- Classification Test score:  {test_score} ---')"
   ],
   "metadata": {
    "collapsed": false,
    "pycharm": {
     "is_executing": true
    }
   }
  },
  {
   "cell_type": "markdown",
   "source": [
    "## 量子カーネル"
   ],
   "metadata": {
    "collapsed": false
   }
  },
  {
   "cell_type": "markdown",
   "source": [
    "### 特徴量マップ"
   ],
   "metadata": {
    "collapsed": false
   }
  },
  {
   "cell_type": "code",
   "execution_count": null,
   "outputs": [],
   "source": [
    "feature_map = ZZFeatureMap(feature_dimension=feature_dim, reps=1, entanglement='circular')\n",
    "feature_map.decompose().draw('mpl')"
   ],
   "metadata": {
    "collapsed": false
   }
  },
  {
   "cell_type": "markdown",
   "source": [
    "### フィデリティカーネル"
   ],
   "metadata": {
    "collapsed": false
   }
  },
  {
   "cell_type": "code",
   "execution_count": null,
   "outputs": [],
   "source": [
    "# FidelityQuantumKernel creates a Sampler instance internally\n",
    "q_kernel = FidelityQuantumKernel(feature_map=feature_map)"
   ],
   "metadata": {
    "collapsed": false
   }
  },
  {
   "cell_type": "markdown",
   "source": [
    "### 量子カーネル計算用の回路"
   ],
   "metadata": {
    "collapsed": false
   }
  },
  {
   "cell_type": "code",
   "execution_count": null,
   "outputs": [],
   "source": [
    "bind_params = dict(zip(feature_map.parameters, norm_train_data[0]))\n",
    "feature_map_0 = feature_map.assign_parameters(bind_params)\n",
    "bind_params = dict(zip(feature_map.parameters, norm_train_data[1]))\n",
    "feature_map_1 = feature_map.assign_parameters(bind_params)\n",
    "\n",
    "qc_circuit = q_kernel.fidelity.create_fidelity_circuit(feature_map_0, feature_map_1)\n",
    "qc_circuit.decompose().decompose().draw('mpl')"
   ],
   "metadata": {
    "collapsed": false
   }
  },
  {
   "cell_type": "markdown",
   "source": [
    "###  10000回の測定でフィデリティカーネルを計算"
   ],
   "metadata": {
    "collapsed": false
   }
  },
  {
   "cell_type": "code",
   "execution_count": null,
   "outputs": [],
   "source": [
    "sampler = Sampler()\n",
    "\n",
    "job = sampler.run(qc_circuit, shots=10000)\n",
    "\n",
    "# quasi_dists[0] is the probability distribution of expected measured counts\n",
    "fidelity = job.result().quasi_dists[0].get(0, 0.)\n",
    "print(f'|<φ(x_1)|φ(x_0)>|^2 = {fidelity}')"
   ],
   "metadata": {
    "collapsed": false
   }
  },
  {
   "cell_type": "markdown",
   "source": [
    "### カーネル行列を表示"
   ],
   "metadata": {
    "collapsed": false
   }
  },
  {
   "cell_type": "code",
   "execution_count": null,
   "outputs": [],
   "source": [
    "matrix_train = q_kernel.evaluate(x_vec=norm_train_data)\n",
    "matrix_test = q_kernel.evaluate(x_vec=norm_test_data, y_vec=norm_train_data)\n",
    "\n",
    "fig, axs = plt.subplots(1, 2, figsize=(10, 5))\n",
    "axs[0].imshow(np.asmatrix(matrix_train), interpolation='nearest', origin='upper', cmap='Blues')\n",
    "axs[0].set_title(\"training kernel matrix\")\n",
    "axs[1].imshow(np.asmatrix(matrix_test), interpolation='nearest', origin='upper', cmap='Reds')\n",
    "axs[1].set_title(\"validation kernel matrix\")\n",
    "plt.show()"
   ],
   "metadata": {
    "collapsed": false
   }
  },
  {
   "cell_type": "markdown",
   "source": [
    "### サポートベクターマシンでデータ分類"
   ],
   "metadata": {
    "collapsed": false
   }
  },
  {
   "cell_type": "code",
   "execution_count": null,
   "outputs": [],
   "source": [
    "qc_svc = SVC(kernel='precomputed') # Default value of hyperparameter (C) is 1\n",
    "qc_svc.fit(matrix_train, train_label)\n",
    "\n",
    "train_score = qc_svc.score(matrix_train, train_label)\n",
    "test_score = qc_svc.score(matrix_test, test_label)\n",
    "\n",
    "print(f'Precomputed kernel: Classification Train score: {train_score*100}%')\n",
    "print(f'Precomputed kernel: Classification Test score:  {test_score*100}%')"
   ],
   "metadata": {
    "collapsed": false
   }
  },
  {
   "cell_type": "markdown",
   "source": [
    "## 量子データを使った量子機械学習"
   ],
   "metadata": {
    "collapsed": false
   }
  },
  {
   "cell_type": "markdown",
   "source": [
    "イジング模型の設定は5/23の授業で使ったものと同じです。\n",
    "\n",
    "まずRyと制御Zゲートからなる2量子ビット回路を考えます。"
   ],
   "metadata": {
    "collapsed": false
   }
  },
  {
   "cell_type": "code",
   "outputs": [],
   "source": [
    "# VQE setup\n",
    "num_qubits = 2\n",
    "\n",
    "ansatz = TwoLocal(num_qubits, \"ry\", \"cz\", reps=3)  # Ry gates with trainable parameters and CZ for entanglement\n",
    "ansatz.decompose().draw('mpl')"
   ],
   "metadata": {
    "collapsed": false
   }
  },
  {
   "cell_type": "markdown",
   "source": [
    "ここで考えるイジング模型には横磁場と縦磁場の混合度合いを表すパラメータ$\\alpha$が入っていて、$\\alpha = 0$が純粋な横磁場、$\\alpha = \\pi/2$が純粋な縦磁場のモデルに対応しています。\n"
   ],
   "metadata": {
    "collapsed": false
   }
  },
  {
   "cell_type": "code",
   "outputs": [],
   "source": [
    "# Estimatorを使う\n",
    "estimator = Estimator()\n",
    "optimizer = SLSQP(maxiter=1000)  # Classical optimizer\n",
    "\n",
    "# QiskitのVQEクラスを使う\n",
    "vqe = VQE(estimator, ansatz, optimizer)\n",
    "\n",
    "# 横磁場と縦磁場を持つイジング模型のハミルトニアンを定義\n",
    "def get_hamiltonian(L, J, h, alpha=0):\n",
    "\n",
    "    # タプル型の変数として、ハミルトニアンの各項からなるリストを定義\n",
    "    # (1) パウリ列\n",
    "    # (2) パウリ列に対応する量子ビットのインデックス\n",
    "    # (3) パウリ列の係数\n",
    "    ZZ_tuples = [(\"ZZ\", [i, i + 1], -J) for i in range(0, L - 1)]\n",
    "    Z_tuples = [(\"Z\", [i], -h * np.sin(alpha)) for i in range(0, L)]\n",
    "    X_tuples = [(\"X\", [i], -h * np.cos(alpha)) for i in range(0, L)]\n",
    "\n",
    "    # `from_sparse_list`を使い、SparsePauliOpとしてハミルトニアンを作る\n",
    "    hamiltonian = SparsePauliOp.from_sparse_list([*ZZ_tuples, *Z_tuples, *X_tuples], num_qubits=L)\n",
    "    return hamiltonian.simplify()"
   ],
   "metadata": {
    "collapsed": false
   }
  },
  {
   "cell_type": "markdown",
   "source": [
    " 例として、$\\alpha = \\pi/8$として、縦磁場と横磁場が混ざっているケースでの基底エネルギーをVQEで求めてみます。隣接ビット間の結合定数は$J = 0.2$、磁場との結合定数は$h = 1.2$とします。\n"
   ],
   "metadata": {
    "collapsed": false
   }
  },
  {
   "cell_type": "code",
   "outputs": [],
   "source": [
    "# パラメータの設定\n",
    "J = 0.2\n",
    "h = 1.2\n",
    "alpha = np.pi/8\n",
    "H = get_hamiltonian(L=num_qubits, J=J, h=h, alpha=alpha)\n",
    "\n",
    "# VQEで最低エネルギー状態を求める\n",
    "result = vqe.compute_minimum_eigenvalue(H)\n",
    "#print(result)\n",
    "print(f'VQE energy value = {result.optimal_value:.5f}')"
   ],
   "metadata": {
    "collapsed": false
   }
  },
  {
   "cell_type": "markdown",
   "source": [
    "系のサイズが小さいので、厳密対角化して最低エネルギーを計算することが可能です。\n"
   ],
   "metadata": {
    "collapsed": false
   }
  },
  {
   "cell_type": "code",
   "outputs": [],
   "source": [
    "# ハミルトニアンを厳密体格化し、基底エネルギーを求める\n",
    "numpy_solver = NumPyMinimumEigensolver()\n",
    "result = numpy_solver.compute_minimum_eigenvalue(operator=H)\n",
    "ref_value = result.eigenvalue.real\n",
    "print(f\"Reference energy value = {ref_value:.5f}\")"
   ],
   "metadata": {
    "collapsed": false
   }
  },
  {
   "cell_type": "markdown",
   "source": [
    "## 基底状態からハミルトニアンパラメータを決定する\n",
    "\n",
    "まず、異なる$h$の値に対応する基底状態のデータセットをVQEを使って生成します。単純化のため、`alpha`パラメータは0とします。"
   ],
   "metadata": {
    "collapsed": false
   }
  },
  {
   "cell_type": "code",
   "outputs": [],
   "source": [
    "Nexp = 5   # あるhの値に対して行う実験回数\n",
    "Ntrain = 20  # 実験あたりの訓練データの数 → この数だけhの値を変えたデータセットを作る\n",
    "\n",
    "J = 0.2\n",
    "alpha = 0\n",
    "\n",
    "# hの値を[0, 1]の範囲でランダムに選ぶ\n",
    "h_list = [np.random.rand() for _ in range(Ntrain)]\n",
    "print(f'Input field strenghs = {h_list}')"
   ],
   "metadata": {
    "collapsed": false
   }
  },
  {
   "cell_type": "markdown",
   "source": [
    "上で使ったのと同じ一般的な量子回路（`TwoLocal`）を使ってVQEを行い、得られたエネルギーの値をチェックしてみます。\n"
   ],
   "metadata": {
    "collapsed": false
   }
  },
  {
   "cell_type": "code",
   "outputs": [],
   "source": [
    "# 一般的なアンザッツを使ってVQEを行う\n",
    "vqe_ansatz = TwoLocal(num_qubits, \"ry\", \"cz\", parameter_prefix='x')\n",
    "\n",
    "# OptimizerはSLSQPとする\n",
    "optimizer = SLSQP(maxiter=1000)\n",
    "estimator = Estimator()\n",
    "vqe = VQE(estimator, vqe_ansatz, optimizer)\n",
    "\n",
    "# 異なるhの値を持つ訓練データに対してVQEを行う\n",
    "opt_vqe_energy = []\n",
    "opt_vqe_params = []\n",
    "for i in range(Ntrain):\n",
    "    H = get_hamiltonian(L=num_qubits, J=J, h=h_list[i], alpha=alpha)\n",
    "    result_vqe = vqe.compute_minimum_eigenvalue(H)\n",
    "    opt_vqe_energy.append(result_vqe.optimal_value)\n",
    "    opt_vqe_params.append(list(result_vqe.optimal_parameters.values()))\n",
    "    print('VQE i =',i)\n",
    "\n",
    "# エネルギー値を表示\n",
    "for i in range(Ntrain):\n",
    "    print(f'VQE[{i}] energy value = {opt_vqe_energy[i]:.5f}')"
   ],
   "metadata": {
    "collapsed": false
   }
  },
  {
   "cell_type": "markdown",
   "source": [
    "厳密対角化して得られたエネルギーと比較して、VQEの結果を確認\n"
   ],
   "metadata": {
    "collapsed": false
   }
  },
  {
   "cell_type": "code",
   "outputs": [],
   "source": [
    "numpy_solver = NumPyMinimumEigensolver()\n",
    "for i in range(Ntrain):\n",
    "    H = get_hamiltonian(L=num_qubits, J=J, h=h_list[i], alpha=alpha)\n",
    "    result = numpy_solver.compute_minimum_eigenvalue(operator=H)\n",
    "    ref_value = result.eigenvalue.real\n",
    "    print(f\"Reference[{i}] energy value = {ref_value:.5f}\")"
   ],
   "metadata": {
    "collapsed": false
   }
  },
  {
   "cell_type": "markdown",
   "source": [
    "ここで量子機械学習用の回路を作り、ハミルトニアンパラメータの決定を行います。最初に最適化したVQEの回路（`vqe_ansatz`）を置いて基底状態を作り、その後に学習用の量子回路を置いてパラメータ決定をすることを考えます。これはVQE回路を特徴量マップとしてみなすやり方で、こうすることで最適化したVQE回路のパラメータを入力データのように扱うことができます。\n"
   ],
   "metadata": {
    "collapsed": false
   }
  },
  {
   "cell_type": "code",
   "outputs": [],
   "source": [
    "# 最初の量子ビットを計算基底で測定する\n",
    "pauli = 'I' * (num_qubits - 1)\n",
    "pauli += 'Z'\n",
    "obs = SparsePauliOp([pauli], coeffs = 10.)\n",
    "\n",
    "# 損失関数の値を表示するCallback関数\n",
    "def callback_graph(weights, obj_func_eval):\n",
    "    objective_func_vals.append(obj_func_eval)\n",
    "\n",
    "# 学習用量子回路のCX-RYレイヤーの数\n",
    "nlayer = 3  # CX-RY layers\n",
    "\n",
    "result_exp = []\n",
    "regressor_exp = []\n",
    "objective_func_vals_exp = []\n",
    "\n",
    "# 実験をNexp回繰り返す\n",
    "for iexp in range(Nexp):\n",
    "    \n",
    "    qc = QuantumCircuit(num_qubits)\n",
    "    \n",
    "    # VQE回路\n",
    "    qc.compose(vqe_ansatz, inplace=True)\n",
    "\n",
    "    # 学習用の量子回路\n",
    "    qnn_ansatz = RealAmplitudes(num_qubits=num_qubits, reps=nlayer, parameter_prefix='theta')\n",
    "    qc.compose(qnn_ansatz, inplace=True)\n",
    "\n",
    "    # 学習パラメータの初期値：[0, pi]でランダムに設定\n",
    "    initial_weights = np.random.rand((nlayer+1)*num_qubits)*np.pi\n",
    "\n",
    "    # EstimatorQNNクラスを使う\n",
    "    qnn = EstimatorQNN(\n",
    "        circuit = qc,\n",
    "        input_params = vqe_ansatz.parameters,\n",
    "        weight_params = qnn_ansatz.parameters,\n",
    "        observables = obs\n",
    "    )\n",
    "\n",
    "    # NeuralNetworkRegressorクラスを使い、回帰問題としてhの値を予測する\n",
    "    regressor = NeuralNetworkRegressor(\n",
    "        neural_network = qnn,\n",
    "        loss = \"squared_error\",\n",
    "        optimizer = SLSQP(maxiter=1000),\n",
    "        warm_start = True,\n",
    "        initial_point = initial_weights,\n",
    "        callback = callback_graph\n",
    "    )\n",
    "\n",
    "    objective_func_vals = []\n",
    "    # 最適化したVQE回路パラメータを入力データ、上で設定したhの値を出力データとして回帰を行う\n",
    "    result_regres = regressor.fit(np.array(opt_vqe_params),np.array(h_list))\n",
    "    result_exp.append(result_regres)\n",
    "    regressor_exp.append(regressor)\n",
    "    objective_func_vals_exp.append(objective_func_vals)\n",
    "\n",
    "    print(f'iexp = {iexp}')"
   ],
   "metadata": {
    "collapsed": false
   }
  },
  {
   "cell_type": "markdown",
   "source": [
    "損失関数のプロファイルを表示する。\n"
   ],
   "metadata": {
    "collapsed": false
   }
  },
  {
   "cell_type": "code",
   "outputs": [],
   "source": [
    "fig = plt.figure(facecolor=\"w\")\n",
    "ax = fig.add_subplot(1, 1, 1)\n",
    "plt.title('Objective function value against iteration')\n",
    "plt.xlabel(\"Iteration\")\n",
    "plt.ylabel(\"Objective function value\")\n",
    "for iexp in range(Nexp):\n",
    "    plt.plot(range(len(objective_func_vals_exp[iexp])), objective_func_vals_exp[iexp])\n",
    "plt.show()"
   ],
   "metadata": {
    "collapsed": false
   }
  },
  {
   "cell_type": "markdown",
   "source": [
    "設定した$h$の値（横軸）と予測した$h$の値（縦軸）をプロットする。\n"
   ],
   "metadata": {
    "collapsed": false
   }
  },
  {
   "cell_type": "code",
   "outputs": [],
   "source": [
    "train_pred_exp = []\n",
    "for iexp in range(Nexp):\n",
    "    train_pred = regressor_exp[iexp].predict(np.array(opt_vqe_params))\n",
    "    train_pred_exp.append(train_pred)\n",
    "    plt.scatter(h_list, train_pred, label='training')\n",
    "plt.title('True vs Predicted values')\n",
    "plt.xlabel('True values')\n",
    "plt.ylabel('Predicted values')\n",
    "plt.xlim(-0.05,1.1)\n",
    "plt.ylim(-0.15,1.25)\n",
    "plt.plot([-0.2,1.2],[-0.2,1.2],'k--')\n",
    "plt.show()"
   ],
   "metadata": {
    "collapsed": false
   }
  }
 ],
 "metadata": {
  "kernelspec": {
   "display_name": "Python 3",
   "language": "python",
   "name": "python3"
  },
  "language_info": {
   "codemirror_mode": {
    "name": "ipython",
    "version": 2
   },
   "file_extension": ".py",
   "mimetype": "text/x-python",
   "name": "python",
   "nbconvert_exporter": "python",
   "pygments_lexer": "ipython2",
   "version": "2.7.6"
  }
 },
 "nbformat": 4,
 "nbformat_minor": 0
}
