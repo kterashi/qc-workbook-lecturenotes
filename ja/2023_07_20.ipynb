{
 "cells": [
  {
   "cell_type": "markdown",
   "id": "181460c6-95f3-452d-abef-41e484f9f927",
   "metadata": {},
   "source": [
    "# Qiskit pulseを使って超伝導量子ビットを操作する"
   ]
  },
  {
   "cell_type": "code",
   "execution_count": null,
   "id": "cafb6d0a-89b6-43c2-8617-cdee9b1d1d10",
   "metadata": {},
   "outputs": [],
   "source": [
    "import numpy as np\n",
    "import scipy.optimize as sciopt\n",
    "import matplotlib.pyplot as plt\n",
    "from qiskit import QuantumCircuit, pulse, transpile\n",
    "from qiskit.circuit import Gate, Parameter\n",
    "from qiskit_experiments.test import SingleTransmonTestBackend\n",
    "from qiskit_ibm_runtime import QiskitRuntimeService, Session\n",
    "from qiskit_ibm_provider import least_busy\n",
    "%matplotlib inline"
   ]
  },
  {
   "cell_type": "markdown",
   "id": "bd14d2d1-5e68-4318-8c65-b217c10c0ad6",
   "metadata": {},
   "source": [
    "## 回路を実行して\"1\"が得られる確率を返す関数"
   ]
  },
  {
   "cell_type": "code",
   "execution_count": null,
   "id": "b1f1b90e-69f4-40ee-aaa0-0c14910bf4bf",
   "metadata": {},
   "outputs": [],
   "source": [
    "def execute(backend, physical_qubit, circuits, shots=10000, session=None, tag=''):\n",
    "\n",
    "    circuits = transpile(circuits, backend=backend, initial_layout=[physical_qubit], optimization_level=0)\n",
    "    if session:\n",
    "        inputs = {'circuits': circuits, 'shots': shots}\n",
    "        if tag:\n",
    "            options = {'job_tags': [tag]}\n",
    "        counts = session.run('circuit-runner', inputs, options=options).result().get_counts()\n",
    "    else:\n",
    "        run_options = {'shots': shots}\n",
    "        if tag:\n",
    "            run_options['job_tags'] = [tag]\n",
    "        counts = backend.run(circuits, **run_options).result().get_counts()\n",
    "\n",
    "    yval = np.array([c.get('1', 0) / shots for c in counts])\n",
    "    \n",
    "    return yval"
   ]
  },
  {
   "cell_type": "markdown",
   "id": "b3ec8093-1aaf-40a0-b09e-c26820e5756c",
   "metadata": {},
   "source": [
    "## カーブフィットをする関数"
   ]
  },
  {
   "cell_type": "code",
   "execution_count": null,
   "id": "8f1f2cad-4bbd-45d9-90bc-69546d7dda99",
   "metadata": {},
   "outputs": [],
   "source": [
    "def fit(curve, xval, yval, p0, shots):\n",
    "    popt, _ = sciopt.curve_fit(curve, xval, yval, p0=p0)\n",
    "\n",
    "    plt.errorbar(xval, yval, yerr=np.sqrt(yval * (1. - yval) / shots), fmt='o', markersize=3)\n",
    "    xfine = np.linspace(xval[0], xval[-1], 400)\n",
    "    plt.plot(xfine, curve(xfine, *popt))\n",
    "\n",
    "    return popt"
   ]
  },
  {
   "cell_type": "markdown",
   "id": "821a98e2-36f3-4404-858e-53d77d76376d",
   "metadata": {},
   "source": [
    "## まずはシミュレーターを較正する"
   ]
  },
  {
   "cell_type": "code",
   "execution_count": null,
   "id": "ae1f1478-4f01-4b1d-b2d6-6795148c7e85",
   "metadata": {},
   "outputs": [],
   "source": [
    "backend = SingleTransmonTestBackend(noise=False)\n",
    "physical_qubit = 0"
   ]
  },
  {
   "cell_type": "code",
   "execution_count": null,
   "id": "41d900d6-1c9b-495d-b03e-56388ff84cd3",
   "metadata": {},
   "outputs": [],
   "source": [
    "def rough_frequency_calibration(backend, physical_qubit, shots=10000, session=None):\n",
    "   \n",
    "    frequency = Parameter('frequency')\n",
    "    drive_channel = pulse.DriveChannel(physical_qubit)\n",
    "    with pulse.build(name='spectrocopy') as spectroscopy_sched:\n",
    "        pulse.shift_frequency(frequency, drive_channel)\n",
    "        pulse.play(pulse.Gaussian(duration=512, amp=0.01, sigma=128), drive_channel)\n",
    "\n",
    "    frequencies = np.linspace(-1.e+8, 1.e+8, 41)\n",
    "    \n",
    "    circuits = []\n",
    "    for freq_value in frequencies:\n",
    "        sched = spectroscopy_sched.assign_parameters({frequency: freq_value}, inplace=False)\n",
    "        \n",
    "        circuit = QuantumCircuit(1)\n",
    "        circuit.append(Gate('spectroscopy', 1, []), [0])\n",
    "        circuit.measure_active()\n",
    "    \n",
    "        circuit.add_calibration('spectroscopy', [physical_qubit], sched)\n",
    "\n",
    "        circuits.append(circuit)\n",
    "\n",
    "    yval = execute(backend, physical_qubit, circuits, shots=shots, session=session)\n",
    "\n",
    "    def resonance_curve(x, f0, a, b, sigma):\n",
    "        return a * np.exp(-(x - f0)**2 / 2. / sigma**2) + b\n",
    "\n",
    "    ipeak = len(frequencies) // 2\n",
    "    f0_guess = frequencies[ipeak]\n",
    "    a_guess = yval[ipeak] - yval[0]\n",
    "    b_guess = yval[0]\n",
    "    half_max = np.nonzero(yval[ipeak:] - (yval[ipeak] / 2) < 0)[0][0] + ipeak\n",
    "    sigma_guess = frequencies[half_max] - frequencies[ipeak]\n",
    "\n",
    "    p0 = (f0_guess, a_guess, b_guess, sigma_guess)\n",
    "\n",
    "    popt = fit(resonance_curve, frequencies, yval, p0, shots)\n",
    "\n",
    "    qubit_frequency = popt[0] + backend.target.qubit_properties[physical_qubit].frequency\n",
    "\n",
    "    return qubit_frequency"
   ]
  },
  {
   "cell_type": "code",
   "execution_count": null,
   "id": "18f6d138-273e-47dd-b6ab-3060484fd09f",
   "metadata": {},
   "outputs": [],
   "source": [
    "qubit_frequency = rough_frequency_calibration(backend, physical_qubit)"
   ]
  },
  {
   "cell_type": "code",
   "execution_count": null,
   "id": "e99480b2-b43d-4f36-9c44-92fb224fe6de",
   "metadata": {},
   "outputs": [],
   "source": [
    "def rough_amplitude_calibration(backend, physical_qubit, qubit_frequency, shots=10000, session=None):\n",
    "\n",
    "    amp = Parameter('amp')\n",
    "    drive_channel = pulse.DriveChannel(physical_qubit)\n",
    "    with pulse.build(name='rabi') as rabi_sched:\n",
    "        pulse.set_frequency(qubit_frequency, drive_channel)\n",
    "        pulse.play(pulse.Gaussian(duration=160, amp=amp, sigma=40), drive_channel)\n",
    "    \n",
    "    amplitudes = np.linspace(0., 0.2, 40)\n",
    "    \n",
    "    circuits = []\n",
    "    for amp_val in amplitudes:\n",
    "        circuit = QuantumCircuit(1)\n",
    "        circuit.append(Gate('rabi', 1, []), [0])\n",
    "        circuit.measure_active()\n",
    "        \n",
    "        circuit.add_calibration('rabi', [physical_qubit],\n",
    "                                rabi_sched.assign_parameters({amp: amp_val}, inplace=False))\n",
    "    \n",
    "        circuits.append(circuit)\n",
    "\n",
    "    yval = execute(backend, physical_qubit, circuits, shots=shots, session=session)\n",
    "    \n",
    "    def oscillation_curve(x, freq, phase, a, b):\n",
    "        return a * np.cos(x * freq + phase) + b\n",
    "\n",
    "    indices = np.nonzero(yval > 0.9)[0]\n",
    "    if len(indices):\n",
    "        first_above_09 = indices[0]\n",
    "        indices = np.nonzero(yval[first_above_09:] < 0.1)[0]\n",
    "        if len(indices):\n",
    "            next_below_01 = [0] + first_above_09\n",
    "            first_max = np.argmax(yval[:next_below_01])\n",
    "            freq_guess = np.pi / amplitudes[first_max]\n",
    "        else:\n",
    "            freq_guess = np.pi / 2. / amplitudes[first_above_09]\n",
    "    else:\n",
    "        freq_guess = 0.1 * np.pi / amplitudes[-1]\n",
    "    phase_guess = 0.\n",
    "    a_guess = -0.5\n",
    "    b_guess = 0.5\n",
    "\n",
    "    p0 = (freq_guess, phase_guess, a_guess, b_guess)\n",
    "\n",
    "    popt = fit(oscillation_curve, amplitudes, yval, p0, shots)\n",
    "\n",
    "    x_amp = np.pi / popt[0]\n",
    "    sx_amp = x_amp / 2.\n",
    "\n",
    "    return x_amp, sx_amp"
   ]
  },
  {
   "cell_type": "code",
   "execution_count": null,
   "id": "62d14e1c-a331-4561-bc3a-60c612cae093",
   "metadata": {},
   "outputs": [],
   "source": [
    "x_amp, sx_amp = rough_amplitude_calibration(backend, physical_qubit, qubit_frequency)"
   ]
  },
  {
   "cell_type": "code",
   "execution_count": null,
   "id": "0d6f3e93-06fc-4c9b-9e6d-e5d73799270b",
   "metadata": {},
   "outputs": [],
   "source": [
    "def fine_frequency_calibration(backend, physical_qubit, qubit_frequency, sx_amp, shots=10000, session=None):\n",
    "\n",
    "    delay_unit = 32\n",
    "    ndelay = Parameter('ndelay')\n",
    "    drive_channel = pulse.DriveChannel(physical_qubit)\n",
    "    with pulse.build(name='ramsey') as ramsey_sched:\n",
    "        pulse.set_frequency(qubit_frequency, drive_channel)\n",
    "        pulse.play(pulse.Gaussian(duration=160, amp=sx_amp, sigma=40), drive_channel)\n",
    "        pulse.delay(ndelay * delay_unit, drive_channel)\n",
    "        pulse.shift_phase(np.pi / 2. * ndelay, drive_channel)\n",
    "        pulse.play(pulse.Gaussian(duration=160, amp=sx_amp, sigma=40), drive_channel)\n",
    "            \n",
    "    ndelays = np.arange(32)\n",
    "    \n",
    "    circuits = []\n",
    "    for ndelay_val in ndelays:\n",
    "        circuit = QuantumCircuit(1)\n",
    "        circuit.append(Gate('ramsey', 1, []), [0])\n",
    "        circuit.measure_active()\n",
    "        \n",
    "        circuit.add_calibration('ramsey', [physical_qubit],\n",
    "                                ramsey_sched.assign_parameters({ndelay: ndelay_val}, inplace=False))\n",
    "    \n",
    "        circuits.append(circuit)\n",
    "\n",
    "    yval = execute(backend, physical_qubit, circuits, shots=shots, session=session)\n",
    "    \n",
    "    def error_amplification_curve(x, delta, a, b, offset):\n",
    "        return a * np.cos(0.5 * np.pi * x + delta * (x + 1) + offset) + b\n",
    "    \n",
    "    delta_guess = 0.\n",
    "    a_guess = 0.5\n",
    "    b_guess = 0.5\n",
    "    offset_guess = 0.\n",
    "\n",
    "    p0 = (delta_guess, a_guess, b_guess, offset_guess)\n",
    "\n",
    "    popt = fit(error_amplification_curve, ndelays, yval, p0, shots)\n",
    "\n",
    "    refined_qubit_frequency = qubit_frequency - popt[0] / (delay_unit * backend.dt * 2. * np.pi)\n",
    "\n",
    "    return refined_qubit_frequency"
   ]
  },
  {
   "cell_type": "code",
   "execution_count": null,
   "id": "4408ddae-0117-4a90-85d6-406ce6683925",
   "metadata": {},
   "outputs": [],
   "source": [
    "refined_qubit_frequency = fine_frequency_calibration(backend, physical_qubit, qubit_frequency, sx_amp)"
   ]
  },
  {
   "cell_type": "markdown",
   "id": "dd8004bf-72ca-4dc1-8e8e-f0e8f2296d8e",
   "metadata": {},
   "source": [
    "### 周波数は実際の値に近くなったか？"
   ]
  },
  {
   "cell_type": "code",
   "execution_count": null,
   "id": "9c3f0bdf-1b45-43c4-8b3d-ac93a0243d11",
   "metadata": {},
   "outputs": [],
   "source": [
    "print(backend.target.qubit_properties[physical_qubit].frequency - refined_qubit_frequency)\n",
    "print(backend.target.qubit_properties[physical_qubit].frequency - qubit_frequency)"
   ]
  },
  {
   "cell_type": "markdown",
   "id": "7b7d1887-1464-4de0-8bdf-abf9b7fba0bf",
   "metadata": {},
   "source": [
    "## 実機を利用"
   ]
  },
  {
   "cell_type": "code",
   "execution_count": null,
   "id": "9a504c5e-5754-4a56-b2d5-cd108353077a",
   "metadata": {},
   "outputs": [],
   "source": [
    "runtime_service = QiskitRuntimeService(channel='ibm_quantum', instance='ibm-q-utokyo/internal/qc-training2023s')"
   ]
  },
  {
   "cell_type": "code",
   "execution_count": null,
   "id": "514edb29-1ff4-412f-aa01-fdd7fb1fab59",
   "metadata": {},
   "outputs": [],
   "source": [
    "backend_list = runtime_service.backends(filters=lambda b: 'simulator' not in b.name and b.name != 'ibm_oslo' and b.status().operational)\n",
    "# 今一番空いているバックエンド\n",
    "backend = least_busy(backend_list)\n",
    "print(backend.name)"
   ]
  },
  {
   "cell_type": "code",
   "execution_count": null,
   "id": "f07489a6-222f-4d83-b992-537c5ce31132",
   "metadata": {},
   "outputs": [],
   "source": [
    "with Session(service=runtime_service, backend=backend) as session:\n",
    "    qubit_frequency = rough_frequency_calibration(backend, physical_qubit, session=session)\n",
    "    x_amp, sx_amp = rough_amplitude_calibration(backend, physical_qubit, qubit_frequency, session=session)\n",
    "    refined_qubit_frequency = fine_frequency_calibration(backend, physical_qubit, qubit_frequency, sx_amp, session=session)"
   ]
  }
 ],
 "metadata": {
  "kernelspec": {
   "display_name": "Python 3 (ipykernel)",
   "language": "python",
   "name": "python3"
  },
  "language_info": {
   "codemirror_mode": {
    "name": "ipython",
    "version": 3
   },
   "file_extension": ".py",
   "mimetype": "text/x-python",
   "name": "python",
   "nbconvert_exporter": "python",
   "pygments_lexer": "ipython3",
   "version": "3.10.6"
  }
 },
 "nbformat": 4,
 "nbformat_minor": 5
}
