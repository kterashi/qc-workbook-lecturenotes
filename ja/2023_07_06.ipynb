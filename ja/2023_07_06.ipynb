{
 "cells": [
  {
   "cell_type": "code",
   "execution_count": null,
   "id": "15f221d2-5b28-4bd3-8413-c418a7390f71",
   "metadata": {},
   "outputs": [],
   "source": [
    "%pip install qutip"
   ]
  },
  {
   "cell_type": "code",
   "execution_count": null,
   "id": "9c23bbf7-0e7a-4872-9350-f5ca0bc2808c",
   "metadata": {
    "tags": []
   },
   "outputs": [],
   "source": [
    "import numpy as np\n",
    "import matplotlib.pyplot as plt\n",
    "import qutip as qtp\n",
    "\n",
    "twopi = 2. * np.pi\n",
    "hbar = 1."
   ]
  },
  {
   "cell_type": "markdown",
   "id": "02371d59-321c-4314-ab0d-861c9c0d9ba4",
   "metadata": {},
   "source": [
    "## QuTiPの使い方"
   ]
  },
  {
   "cell_type": "code",
   "execution_count": null,
   "id": "d567ae45-18fe-464f-8d65-023f6217a754",
   "metadata": {
    "tags": []
   },
   "outputs": [],
   "source": [
    "# 4準位系の|0>状態\n",
    "qtp.basis(4, 0)"
   ]
  },
  {
   "cell_type": "code",
   "execution_count": null,
   "id": "80b2217c-dc99-44a0-9fbb-0b81d465446a",
   "metadata": {
    "tags": []
   },
   "outputs": [],
   "source": [
    "# 5準位系の生成演算子\n",
    "qtp.create(5)"
   ]
  },
  {
   "cell_type": "code",
   "execution_count": null,
   "id": "e2b6bdd4-a913-4f5c-9e07-28abdd73ba44",
   "metadata": {
    "tags": []
   },
   "outputs": [],
   "source": [
    "# 5準位系の消滅演算子\n",
    "qtp.destroy(5)"
   ]
  },
  {
   "cell_type": "code",
   "execution_count": null,
   "id": "1fcb2de9-b18d-4243-b1ef-e5d152722449",
   "metadata": {
    "tags": []
   },
   "outputs": [],
   "source": [
    "# 3準位系の数演算子\n",
    "qtp.num(3)"
   ]
  },
  {
   "cell_type": "code",
   "execution_count": null,
   "id": "1d1db6bb-6201-456d-a04e-9ecbd24e479c",
   "metadata": {
    "tags": []
   },
   "outputs": [],
   "source": [
    "# N = a^dagger a\n",
    "qtp.num(4) == qtp.create(4) * qtp.destroy(4)"
   ]
  },
  {
   "cell_type": "code",
   "execution_count": null,
   "id": "bfe7bc84-2252-48ce-80f5-796cdf35572b",
   "metadata": {
    "tags": []
   },
   "outputs": [],
   "source": [
    "# 4準位系の対角演算子\n",
    "qtp.qdiags([1., 2.2, 3.4, 4.5], 0)"
   ]
  },
  {
   "cell_type": "markdown",
   "id": "a5488876-e3df-46bd-8014-b6715efdbe47",
   "metadata": {},
   "source": [
    "## 2準位系のラビ振動"
   ]
  },
  {
   "cell_type": "code",
   "execution_count": null,
   "id": "ff3a9ba7-61c0-445d-ba7a-b63cd617f33e",
   "metadata": {
    "tags": []
   },
   "outputs": [],
   "source": [
    "omega = 100. * twopi\n",
    "amp = 0.1\n",
    "h0 = qtp.qdiags([0., hbar * omega], 0) # E0 = 0, E1 = hbar omega\n",
    "hdrive = [qtp.create(2) + qtp.destroy(2), f'{amp} * cos({omega} * t)'] # [operator, coefficient]"
   ]
  },
  {
   "cell_type": "code",
   "execution_count": null,
   "id": "f470beee-b26e-41de-bb12-e3fda3646425",
   "metadata": {
    "tags": []
   },
   "outputs": [],
   "source": [
    "# Compute time evolution\n",
    "psi0 = qtp.basis(2, 0) # |0>\n",
    "tlist = np.linspace(0., 10. * twopi, 10000)\n",
    "\n",
    "result = qtp.sesolve([h0, hdrive], psi0, tlist)\n",
    "states = np.squeeze(list(state.full() for state in result.states))"
   ]
  },
  {
   "cell_type": "code",
   "execution_count": null,
   "id": "ea137ee2-7f19-4183-9284-5f18c817cce0",
   "metadata": {
    "tags": []
   },
   "outputs": [],
   "source": [
    "plt.plot(tlist, np.square(np.abs(states)), label=[f'P({i})' for i in range(2)])\n",
    "plt.legend();"
   ]
  },
  {
   "cell_type": "markdown",
   "id": "f7ab6bd8-cd5e-4f65-8275-a8899bfcf0b8",
   "metadata": {},
   "source": [
    "## 調和振動子（4準位まで）のドライブ"
   ]
  },
  {
   "cell_type": "code",
   "execution_count": null,
   "id": "56b2b40d-8440-442c-aaf0-f3ca6295059e",
   "metadata": {
    "tags": []
   },
   "outputs": [],
   "source": [
    "omega = 100. * twopi\n",
    "amp = 0.1\n",
    "h0 = hbar * omega * qtp.num(4) # diag(0, hbar omega, 2 hbar omega, 3 hbar omega)\n",
    "hdrive = [qtp.create(4) + qtp.destroy(4), f'{amp} * cos({omega} * t)']"
   ]
  },
  {
   "cell_type": "code",
   "execution_count": null,
   "id": "1893425d-a154-4baf-af2e-0517fd439f7e",
   "metadata": {
    "tags": []
   },
   "outputs": [],
   "source": [
    "psi0 = qtp.basis(4, 0)\n",
    "tlist = np.linspace(0., 10. * 2. * np.pi, 10000)\n",
    "result = qtp.sesolve([h0, hdrive], psi0, tlist)\n",
    "states = np.squeeze(list(state.full() for state in result.states))"
   ]
  },
  {
   "cell_type": "code",
   "execution_count": null,
   "id": "9b6351a7-68da-49fa-a73e-9c621e694280",
   "metadata": {
    "tags": []
   },
   "outputs": [],
   "source": [
    "plt.plot(tlist, np.square(np.abs(states)), label=[fr'$|{i}\\rangle$' for i in range(4)])\n",
    "plt.legend();"
   ]
  },
  {
   "cell_type": "markdown",
   "id": "92bd9f27-177a-41a8-816f-ef75ba82fe1f",
   "metadata": {},
   "source": [
    "## 非調和振動子（4準位まで）のドライブ"
   ]
  },
  {
   "cell_type": "code",
   "execution_count": null,
   "id": "780c74b2-fd10-493f-8da4-e6ab7a1ef714",
   "metadata": {
    "tags": []
   },
   "outputs": [],
   "source": [
    "omega = 100. * twopi\n",
    "alpha = 10. * twopi # anharmonicity\n",
    "amp = 0.1\n",
    "h0 = hbar * omega * qtp.num(4) - qtp.qdiags([0., 0., alpha, 2. * alpha], 0) \n",
    "hdrive = [qtp.create(4) + qtp.destroy(4), f'{amp} * cos({omega} * t)']"
   ]
  },
  {
   "cell_type": "code",
   "execution_count": null,
   "id": "325545f2-4cec-439f-8f22-1727caf42261",
   "metadata": {
    "tags": []
   },
   "outputs": [],
   "source": [
    "psi0 = qtp.basis(4, 0)\n",
    "tlist = np.linspace(0., 10. * 2. * np.pi, 10000)\n",
    "result = qtp.sesolve([h0, hdrive], psi0, tlist)\n",
    "states = np.squeeze(list(state.full() for state in result.states))"
   ]
  },
  {
   "cell_type": "code",
   "execution_count": null,
   "id": "b5c8a6db-248b-4e43-84fe-c51c4c8f9083",
   "metadata": {
    "tags": []
   },
   "outputs": [],
   "source": [
    "plt.plot(tlist, np.square(np.abs(states)), label=[fr'$|{i}\\rangle$' for i in range(4)])\n",
    "plt.legend();"
   ]
  },
  {
   "cell_type": "code",
   "execution_count": null,
   "id": "fcc7441f-016d-4f02-9e9b-5249af90cb4f",
   "metadata": {},
   "outputs": [],
   "source": []
  }
 ],
 "metadata": {
  "kernelspec": {
   "display_name": "Python 3 (ipykernel)",
   "language": "python",
   "name": "python3"
  },
  "language_info": {
   "codemirror_mode": {
    "name": "ipython",
    "version": 3
   },
   "file_extension": ".py",
   "mimetype": "text/x-python",
   "name": "python",
   "nbconvert_exporter": "python",
   "pygments_lexer": "ipython3",
   "version": "3.8.10"
  }
 },
 "nbformat": 4,
 "nbformat_minor": 5
}
