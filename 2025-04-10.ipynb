{
 "cells": [
  {
   "cell_type": "markdown",
   "id": "f691c99d-a347-4882-83b9-7c76ca14f035",
   "metadata": {
    "colab_type": "text",
    "editable": true,
    "id": "view-in-github",
    "slideshow": {
     "slide_type": ""
    },
    "tags": []
   },
   "source": [
    "<a href=\"https://colab.research.google.com/github/UTokyo-ICEPP/qc-workbook-lecturenotes/blob/branch-2025/2025-04-10.ipynb\" target=\"_parent\"><img src=\"https://colab.research.google.com/assets/colab-badge.svg\" alt=\"Open In Colab\"/></a>"
   ]
  },
  {
   "cell_type": "markdown",
   "id": "859f53ee",
   "metadata": {
    "editable": true,
    "slideshow": {
     "slide_type": ""
    },
    "tags": []
   },
   "source": [
    "# 予備知識：Python"
   ]
  },
  {
   "cell_type": "markdown",
   "id": "86f7aeb7",
   "metadata": {},
   "source": [
    "## 基礎編\n",
    "\n",
    "Pythonに関する教材は世の中にいくらでもあるので、このワークブックで登場する概念・構文・テクニックに絞って説明をします。\n",
    "\n",
    "### Pythonプログラムとは\n",
    "\n",
    "プログラムとは、機械が順番に実行するべき命令を、決まった文法に従って書き下した文書のことです。プログラムには様々な言語があり、それぞれ用途や扱える命令群が異なります。Pythonは世界で最も広く使われている言語の一つで、扱える命令の多様さ、表現性の高さ、フレキシビリティが最大の特徴です。\n",
    "\n",
    "### 行構造\n",
    "\n",
    "最も単純には、Pythonのプログラムは一行一つの命令文で成り立ちます。各行で`#`が登場したら、それ以降のテキストは「コメント」として無視されます。また、空白（スペースやタブ）のみを含む行も無視されます。"
   ]
  },
  {
   "cell_type": "code",
   "execution_count": null,
   "id": "fface4bc",
   "metadata": {
    "tags": [
     "remove-output"
    ]
   },
   "outputs": [],
   "source": [
    "# aという変数に3という値を代入する命令文\n",
    "a = 3"
   ]
  },
  {
   "cell_type": "code",
   "execution_count": null,
   "id": "838f60d3",
   "metadata": {
    "tags": [
     "remove-output"
    ]
   },
   "outputs": [],
   "source": [
    "# aに代入されている値と5を掛け算してbという変数に代入する命令文\n",
    "b = a * 5"
   ]
  },
  {
   "cell_type": "code",
   "execution_count": null,
   "id": "b2619eef",
   "metadata": {
    "tags": [
     "remove-output"
    ]
   },
   "outputs": [],
   "source": [
    "# bの文字列表現をプリントアウトする命令文\n",
    "print(b)"
   ]
  },
  {
   "cell_type": "markdown",
   "id": "1f912c2c",
   "metadata": {},
   "source": [
    "あとで解説する関数やクラスの定義、`if`、`for`、`try`/`except`などの複合文では、全ての行を一定数の空白文字分（通常スペース4つ、流儀によっては2つ。タブ文字は使うべきでない）だけインデントさせます。"
   ]
  },
  {
   "cell_type": "code",
   "execution_count": null,
   "id": "11e22b0e",
   "metadata": {
    "editable": true,
    "slideshow": {
     "slide_type": ""
    },
    "tags": [
     "remove-output"
    ]
   },
   "outputs": [],
   "source": [
    "if b == 15:\n",
    "    # bの値が15の時、インデントされている部分が実行される\n",
    "    print('b is fifteen')\n",
    "    print('This line is also executed')\n",
    "\n",
    "else:\n",
    "    # それ以外の場合、インデントされている部分が実行される\n",
    "    print('b is some other number')\n",
    "    print('This line is also not executed')\n",
    "\n",
    "# インデンテーションが解消された＝if文を抜けた\n",
    "print('This line is always executed')"
   ]
  },
  {
   "cell_type": "markdown",
   "id": "c9f65111",
   "metadata": {},
   "source": [
    "インデントしたブロックの中で、さらにインデントを必要とする文を書く場合は、スペース8つ、12個、と入れ子状にインデントします。各レベルでのインデンテーション解消がブロックの終わりを意味します。"
   ]
  },
  {
   "cell_type": "code",
   "execution_count": null,
   "id": "e3e5ce12",
   "metadata": {
    "tags": [
     "remove-output"
    ]
   },
   "outputs": [],
   "source": [
    "if b == 2:\n",
    "    # bの値が2の時、インデントされている部分が実行される\n",
    "\n",
    "    for x in range(3):\n",
    "        # さらにインデントされた部分が3回実行される\n",
    "        print('b is 2 and I print this line three times')\n",
    "\n",
    "    # 3回実行のループは抜けたが、if b == 2:のブロックの中\n",
    "    print('b is 2 and I printed three times')\n",
    "\n",
    "else:\n",
    "    # それ以外の場合、インデントされている部分が実行される\n",
    "    if a == 3:\n",
    "        # そのうち、aの値が3の時はこの部分が実行される\n",
    "        print('b is not 2 and a is 3')\n",
    "\n",
    "# 全てのインデンテーションが解消された\n",
    "print('All indentations resolved')"
   ]
  },
  {
   "cell_type": "markdown",
   "id": "0faaf163",
   "metadata": {},
   "source": [
    "### 変数\n",
    "\n",
    "上で出てきた`a`や`b`を変数と呼びます。変数は（変「数」と書きますが）数値だけではなく、プログラム中で扱う様々なデータ（あとで言うオブジェクト）を表すラベルのようなものです。"
   ]
  },
  {
   "cell_type": "code",
   "execution_count": null,
   "id": "1640505d",
   "metadata": {
    "tags": [
     "remove-output"
    ]
   },
   "outputs": [],
   "source": [
    "# sという変数に「Hello World」という文字列を代入\n",
    "# ' (single quote)もしくは \" (double quote) で挟まれたテキストは文字列となる\n",
    "s = 'Hello World'\n",
    "\n",
    "print(s)"
   ]
  },
  {
   "cell_type": "code",
   "execution_count": null,
   "id": "ed1d6809",
   "metadata": {
    "tags": [
     "remove-output"
    ]
   },
   "outputs": [],
   "source": [
    "# bという変数を真理値型の「真」で再定義\n",
    "b = True"
   ]
  },
  {
   "cell_type": "markdown",
   "id": "11fef818",
   "metadata": {},
   "source": [
    "変数を使わないと、プログラムはただ「3」や「'Hello World'」のような「リテラル」（値がそのままプログラム文中に書き下されているデータ）で成り立つことになり、「3と5を足す」「Hello Worldと表示する」などの自明な動作しかできません。逆に言えば、変数を駆使することで初めてプログラムを書く意味が出てきます。\n",
    "\n",
    "変数名はアルファベット一文字とは限りません。小文字のaからz、大文字のAからZ、アンダースコア（_）、0-9の数字の任意の長さの組み合わせが使えます。ただし、数字は変数名の最初の一文字には使えません。変数に意味のある名前をつけてコードを読みやすくすることは、プログラミングにおける重要なエチケットです。"
   ]
  },
  {
   "cell_type": "code",
   "execution_count": null,
   "id": "64125179",
   "metadata": {
    "tags": [
     "remove-output"
    ]
   },
   "outputs": [],
   "source": [
    "# 変数にはプログラム中でその変数が持つ役割をベースに名前をつける\n",
    "dividend = 15\n",
    "divisor = 3\n",
    "quotient = dividend / divisor"
   ]
  },
  {
   "cell_type": "markdown",
   "id": "a1ead649",
   "metadata": {},
   "source": [
    "### 演算子\n",
    "\n",
    "数値に対して使える、様々な演算子が用意されています。"
   ]
  },
  {
   "cell_type": "code",
   "execution_count": null,
   "id": "95474b2c",
   "metadata": {
    "tags": [
     "remove-output"
    ]
   },
   "outputs": [],
   "source": [
    "# 足し算\n",
    "print('a + 2 =', a + 2) # print()は中身を , (comma) で区切ることで、複数の表現をプリントアウトできる\n",
    "# 引き算\n",
    "print('a - 2 =', a - 2)\n",
    "# 符号反転\n",
    "print('-a =', -a)\n",
    "# 括弧\n",
    "print('-(-a) =', -(-a))\n",
    "# 掛け算\n",
    "print('a * 3 =', a * 3)\n",
    "# 割り算\n",
    "print('a / 2 =', a / 2)\n",
    "# 切り捨て除算（整数の割り算における商）\n",
    "print('a // 2 =', a // 2)\n",
    "# 剰余\n",
    "print('a % 2 =', a % 2)\n",
    "# べき乗\n",
    "print('a ** 3 =', a ** 3)\n",
    "# 比較\n",
    "print('a < 4 is', a < 4) # 4より小さい\n",
    "print('a <= 3 is', a <= 3) # 3以下\n",
    "print('a > 5 is', a > 5) # 5より大きい\n",
    "print('a >= 1 is', a >= 1) # 1以上\n",
    "print('a == 3 is', a == 3) # 3と等しい\n",
    "print('a != 7 is', a != 7) # 7と等しくない\n",
    "# 値の更新\n",
    "a += 3 # aに3を足す\n",
    "print('a += 3 -> a is', a)\n",
    "a -= 4 # aから4を引く\n",
    "print('a -= 4 -> a is', a)\n",
    "a *= 5 # aに5をかける\n",
    "print('a *= 5 -> a is', a)\n",
    "a //= 2 # aを2で割る（切り捨て）\n",
    "print('a //= 2 -> a is', a)\n",
    "a /= 1.4 # aを1.4で割る\n",
    "print('a /= 1.4 -> a is', a)\n",
    "a %= 3 # aを3で割った剰余にする\n",
    "print('a %= 3 -> a is', a)\n",
    "a **= 3 # aを3乗する\n",
    "print('a **= 3 -> a is', a)"
   ]
  },
  {
   "cell_type": "markdown",
   "id": "7806961e",
   "metadata": {},
   "source": [
    "他にもビットシフト演算子などが存在しますが、このワークブックでは使用しないので割愛します。\n",
    "\n",
    "Cなどのプログラミング言語と異なり、/演算子を整数同士に用いた場合も、true divisionつまり浮動小数点数同士の割り算を引き起こします。\n",
    "\n",
    "実は上の演算子の多くが数値以外にも使え、なんとなくそうなるかな、という直感的な効果を持ちます。Pythonの表現性が高い一つの理由がこれです。例えば文字列に対しては以下のようになります。"
   ]
  },
  {
   "cell_type": "code",
   "execution_count": null,
   "id": "883858c0",
   "metadata": {
    "tags": [
     "remove-output"
    ]
   },
   "outputs": [],
   "source": [
    "# 文字列と文字列を足し合わせる -> 文字列の結合\n",
    "print('\"abc\" + \"xyz\" = ', \"abc\" + \"xyz\")\n",
    "# 文字列を整数倍する -> 文字列の反復\n",
    "print('\"ha\" * 3 =', \"ha\" * 3)\n",
    "# 文字列の比較 -> 辞書式順序での比較\n",
    "print('\"abc\" < \"def\" is', \"abc\" < \"def\")\n",
    "print('\"xy\" <= \"xyz\" is', \"xy\" <= \"xyz\")\n",
    "# etc."
   ]
  },
  {
   "cell_type": "markdown",
   "id": "4100bed9",
   "metadata": {},
   "source": [
    "### 基本のデータ型\n",
    "\n",
    "変数が表すデータには様々な「型」（タイプ）があります。文字と数は異なる、というのはプログラムに限らず現実世界でも成り立つ関係です。型ごとに行える操作が異なるので、データの型を常に意識しながらプログラムを書く必要があります。後で一般のクラスについて解説をするので、ここではPythonの組み込み型と言われる、言語レベルで定義されている基本的な型を紹介します。\n",
    "\n",
    "#### 数値型 int, float, complex\n",
    "\n",
    "数値を表す型には`int`（整数）、`float`（実数）、`complex`（複素数）があります。数学的には包含関係にある3つの型ですが、コンピュータ的には実数と複素数は「浮動小数点数」で実装されるため整数と根本的に異なります。複素数は浮動小数点数を2つ一組にし、複素数特有の演算規則を当てはめたものです。\n",
    "\n",
    "3つの型は異なりますが、全て数値を表すものであるため、演算の互換性があります。型が混在する演算の結果は数学的な包含関係に従います。"
   ]
  },
  {
   "cell_type": "code",
   "execution_count": null,
   "id": "0bd3dcd4",
   "metadata": {
    "tags": [
     "remove-output"
    ]
   },
   "outputs": [],
   "source": [
    "# 整数\n",
    "i = 43\n",
    "# 実数\n",
    "f = 5.4\n",
    "# 複素数\n",
    "c = 2.3 + 0.9j\n",
    "\n",
    "# 数学的には整数でも、小数点が入ると実数型になる\n",
    "print('type of 7.0 is', type(7.0))  # type()はデータの型を返す関数\n",
    "\n",
    "# intとfloatとの間の演算の結果はfloat\n",
    "print('type of i + 8.0 is', type(i + 8.0))\n",
    "# int/floatとcomplexとの間の演算の結果はcomplex\n",
    "print('type of i + 2.0j is', type(i + 2.0j))\n",
    "print('type of f * c is', type(f * c))"
   ]
  },
  {
   "cell_type": "markdown",
   "id": "780e3efc",
   "metadata": {},
   "source": [
    "#### 文字列型 str\n",
    "\n",
    "すでに上で登場していますが、' (single quote)もしくは \" (double quote)で囲まれたテキストは文字列データとなります。二つの記号の間に機能上の違いはありません。なぜ二通り記号が用意されているかというと、プログラマ個人の嗜好に合わせられるという以外に、以下のようなコードを書きやすくするためです。"
   ]
  },
  {
   "cell_type": "code",
   "execution_count": null,
   "id": "b1d652ac",
   "metadata": {
    "tags": [
     "remove-output"
    ]
   },
   "outputs": [],
   "source": [
    "print('The world says \"Hello\" in single quotes')"
   ]
  },
  {
   "cell_type": "markdown",
   "id": "abc3485a",
   "metadata": {},
   "source": [
    "同じことを例えばdouble quotesだけで表現することもできます。その場合、文字列中のクオーテーション記号にバックスラッシュを付け、文字列を囲む記号と区別します。"
   ]
  },
  {
   "cell_type": "code",
   "execution_count": null,
   "id": "7516348e",
   "metadata": {
    "tags": [
     "remove-output"
    ]
   },
   "outputs": [],
   "source": [
    "print(\"The world says \\\"Hello\\\" in double quotes\")"
   ]
  },
  {
   "cell_type": "markdown",
   "id": "4baad74b",
   "metadata": {},
   "source": [
    "上に比べて少しコードが読みにくくなることがわかります。\n",
    "\n",
    "単純なquotesで囲まれた文字列はPythonプログラム中、一行で書ききらなければいけないので、書きたいテキストが改行を含む場合は改行文字`\\n`（backslash-n）を挿入します。"
   ]
  },
  {
   "cell_type": "code",
   "execution_count": null,
   "id": "0a120f77",
   "metadata": {
    "tags": [
     "remove-output"
    ]
   },
   "outputs": [],
   "source": [
    "print('This text has\\ntwo lines')"
   ]
  },
  {
   "cell_type": "markdown",
   "id": "d88d4a98",
   "metadata": {},
   "source": [
    "これもまた読みにくいので、実はsingle quotesとdouble quotes以外にそれらの記号を3つ並べた`'''`や`\"\"\"`（三重クオート）でテキストを囲み、改行を含む文字列をそのまま書くこともできます。"
   ]
  },
  {
   "cell_type": "code",
   "execution_count": null,
   "id": "08d1662c",
   "metadata": {
    "tags": [
     "remove-output"
    ]
   },
   "outputs": [],
   "source": [
    "s = '''This\n",
    "is\n",
    "   such\n",
    "a\n",
    "  long\n",
    "string'''\n",
    "print(s)"
   ]
  },
  {
   "cell_type": "markdown",
   "id": "61d0631a",
   "metadata": {},
   "source": [
    "改行やクオーテーション以外にも「特殊文字」があり、全てバックスラッシュで始まります。実際、通常の文字列中でバックスラッシュが一つ登場すると、Pythonはそのバックスラッシュと次の文字（場合によっては複数字）を組み合わせて特殊文字として解釈します。なので、実際のバックスラッシュをテキスト中に登場させたい場合（LaTeXのテキストを書いているときなど）は、一つだけ書くと解釈されないので、`\\\\`という特殊文字を利用します。"
   ]
  },
  {
   "cell_type": "code",
   "execution_count": null,
   "id": "d041d3ae",
   "metadata": {
    "tags": [
     "remove-output"
    ]
   },
   "outputs": [],
   "source": [
    "print('\\\\sqrt{2}')"
   ]
  },
  {
   "cell_type": "markdown",
   "id": "852f7773",
   "metadata": {},
   "source": [
    "これも読みにくいテキストになってしまうので、バックスラッシュがたくさん使われる文字列を書く場合は、`r`というプレフィックスをクオーテーションの前にくっつけます。`r`のついた文字列中では、バックスラッシュが特殊文字として解釈されません。"
   ]
  },
  {
   "cell_type": "code",
   "execution_count": null,
   "id": "dff90e50",
   "metadata": {
    "tags": [
     "remove-output"
    ]
   },
   "outputs": [],
   "source": [
    "print(r'\\frac{e^{2 \\pi i j k}}{\\sqrt{2}}')"
   ]
  },
  {
   "cell_type": "markdown",
   "id": "61409de9",
   "metadata": {},
   "source": [
    "ときどき、文字列型以外の変数を文字列に変換する必要が出てきます。例えば、`\"The value of variable x is \"`という文字列の後に、`x`という変数の値を付け加えたいとします。`x`が整数型だと`+`演算子を使ったらエラーになります。"
   ]
  },
  {
   "cell_type": "code",
   "execution_count": null,
   "id": "8b473b64",
   "metadata": {
    "tags": [
     "remove-output",
     "raises-exception"
    ]
   },
   "outputs": [],
   "source": [
    "s = 'The value of variable x is '\n",
    "x = 3\n",
    "\n",
    "# 文字列と整数を加えようとするとエラーになる\n",
    "print(s + x)"
   ]
  },
  {
   "cell_type": "markdown",
   "id": "350cadcd",
   "metadata": {},
   "source": [
    "文字列と整数の足し算は定義されていないためです。このような場合は、`str(x)`として`x`の10進数表現の文字列を作ります。"
   ]
  },
  {
   "cell_type": "code",
   "execution_count": null,
   "id": "95903d6d",
   "metadata": {
    "tags": [
     "remove-output"
    ]
   },
   "outputs": [],
   "source": [
    "# これは文字列同士の足し算\n",
    "print(s + str(x))"
   ]
  },
  {
   "cell_type": "markdown",
   "id": "ecd9617d",
   "metadata": {},
   "source": [
    "ただ、この方法で変数の文字列表現をたくさん作ると、下のようにコードが冗長になりやすい問題があります。"
   ]
  },
  {
   "cell_type": "code",
   "execution_count": null,
   "id": "15d2229f",
   "metadata": {
    "tags": [
     "remove-output"
    ]
   },
   "outputs": [],
   "source": [
    "print('a is ' + str(a) + ' and b is ' + str(b) + ' and x is ' + str(x) + ' and so on')"
   ]
  },
  {
   "cell_type": "markdown",
   "id": "5a91000c",
   "metadata": {},
   "source": [
    "そこで、Pythonでは文字列中に変数のプレースホルダーを入れ、後から変数値を代入することができるようになっています。ただ、歴史的経緯から、4つの異なる方法が実装されていて、少し厄介です。このワークブックでは2通りのみ使用することにします。\n",
    "\n",
    "まず、原則的にはフォーマット済み文字列（f-string）と呼ばれる、歴史的には一番新しい方式を使います。f-stringを作るには、クオーテーションの前に`f`というプレフィックスをつけます。そして、文字列中の変数の値を代入したい部分に`{変数名}`を挿入します。"
   ]
  },
  {
   "cell_type": "code",
   "execution_count": null,
   "id": "96f4846f",
   "metadata": {
    "tags": [
     "remove-output"
    ]
   },
   "outputs": [],
   "source": [
    "print(f'a is {a} and b is {b} and x is {x} and so on')"
   ]
  },
  {
   "cell_type": "markdown",
   "id": "0fe57749",
   "metadata": {},
   "source": [
    "f-stringは、実は変数に限らず、その場で評価可能な任意のプログラムコードを扱えます。中括弧の中にさらに文字列リテラルが入る場合は、全体の文字列に使っていないクオーテーション記号を使います。"
   ]
  },
  {
   "cell_type": "code",
   "execution_count": null,
   "id": "46aa4396",
   "metadata": {
    "tags": [
     "remove-output"
    ]
   },
   "outputs": [],
   "source": [
    "print(f'If I multiply a and x I get {a * x} and this is a {str(b) + \" story\"}')\n",
    "\n",
    "# fとrを組み合わせて、バックスラッシュを含む文字列に変数値を代入することもできる\n",
    "print(fr'\\int_0^{a} x dx = {0.5 * a ** 2}')"
   ]
  },
  {
   "cell_type": "markdown",
   "id": "17c838ad",
   "metadata": {},
   "source": [
    "このようにf-stringで大体の目的は達成できますが、厄介になるのは実際に中括弧を含む文字列を作りたい場合です。f-string中の中括弧は二重にして表現するので、簡単な文字列でもコードが非常に読みにくくなります。"
   ]
  },
  {
   "cell_type": "code",
   "execution_count": null,
   "id": "8673c7d7",
   "metadata": {
    "tags": [
     "remove-output"
    ]
   },
   "outputs": [],
   "source": [
    "print(f'{{ brace }} {x}')\n",
    "\n",
    "# 中括弧がたくさんあるととても読みにくい\n",
    "print(fr'\\frac{{e^{{{a}i}}}}{{2}}')"
   ]
  },
  {
   "cell_type": "markdown",
   "id": "362a65c0",
   "metadata": {},
   "source": [
    "そこで、このワークブックでは中括弧を含む文字列に変数値を代入するときに限り、最も古い方式である%-formattingを使います。この方式でのプレースホルダーは、整数値を代入したいときは`%d`、実数値なら`%f`、文字列なら`%s`など、`%`文字と代入したいデータの型の識別子の組み合わせでできます。変数値を代入するには、文字列のすぐ後に`　%　変数`をくっつけます。"
   ]
  },
  {
   "cell_type": "code",
   "execution_count": null,
   "id": "aa0d6e9a",
   "metadata": {
    "tags": [
     "remove-output"
    ]
   },
   "outputs": [],
   "source": [
    "print(r'\\frac{e^{%fi}}{2}' % a)"
   ]
  },
  {
   "cell_type": "markdown",
   "id": "1080e8ef",
   "metadata": {},
   "source": [
    "#### 配列型 tuple, list\n",
    "\n",
    "複数のデータをひとまとめに並べておくと便利なことが多々あります。Pythonに最初から実装されている基本型のうち、重複を許して、順序つきでデータを集めた構造として、tuple（タプル）とlist（リスト）があります。Tupleは一度作ると要素を足したり除いたりできないのに対し、listは長さが可変で要素の入れ替えが可能です。"
   ]
  },
  {
   "cell_type": "code",
   "execution_count": null,
   "id": "6f98e50f",
   "metadata": {
    "tags": [
     "remove-output"
    ]
   },
   "outputs": [],
   "source": [
    "# 空のtupleを作る\n",
    "my_empty_tuple = ()  # tuple() でもよいが、こちらが推奨される\n",
    "# 空のlistを作る\n",
    "my_empty_list = []  # list() でもよいが、こちらが推奨される\n",
    "\n",
    "# データの入ったtupleやlistを新しく作る\n",
    "# データの型が揃っている必要はない\n",
    "my_tuple = (1, 2, 3, 'dah')\n",
    "my_list = [2.3, 5. + 1.j, 2]\n",
    "# コンストラクタ関数にリストやタプルを入れる\n",
    "my_new_list = list(my_tuple)  # my_tupleをもとに新しいlistを作る\n",
    "my_new_tuple = tuple(my_list)  # my_listをもとに新しいtupleを作る\n",
    "# 「ジェネレータ」や「内包表現」を使う\n",
    "my_another_tuple = tuple(x for x in ['a', 'b', 'c'])\n",
    "my_another_list = [x for x in range(4)]"
   ]
  },
  {
   "cell_type": "markdown",
   "id": "88ebfc8b",
   "metadata": {},
   "source": [
    "タプルやリストの要素を一つ参照するときは、鉤括弧でインデックス（要素の番号）を指定します。インデックスは0から始まるので、長さnの配列に対して有効なインデックスは0からn-1までです。"
   ]
  },
  {
   "cell_type": "code",
   "execution_count": null,
   "id": "2102244b",
   "metadata": {
    "tags": [
     "remove-output"
    ]
   },
   "outputs": [],
   "source": [
    "t = ('one', 2, 'three')\n",
    "print(t[0])\n",
    "print(t[1])\n",
    "print(t[2])"
   ]
  },
  {
   "cell_type": "markdown",
   "id": "379290e8",
   "metadata": {},
   "source": [
    "リストでは要素を新しい値にすることができます。"
   ]
  },
  {
   "cell_type": "code",
   "execution_count": null,
   "id": "424c00e4",
   "metadata": {
    "tags": [
     "remove-output"
    ]
   },
   "outputs": [],
   "source": [
    "print(my_list) # 数値や文字列以外もprint()できる\n",
    "my_list[2] = 'three'\n",
    "print(my_list)"
   ]
  },
  {
   "cell_type": "markdown",
   "id": "94a30edd",
   "metadata": {},
   "source": [
    "あとで説明するfor文を使って、配列の要素を順番に参照することもできます。"
   ]
  },
  {
   "cell_type": "code",
   "execution_count": null,
   "id": "0c18d44a",
   "metadata": {
    "tags": [
     "remove-output"
    ]
   },
   "outputs": [],
   "source": [
    "for element in my_list:\n",
    "    print('Next element is', element)"
   ]
  },
  {
   "cell_type": "markdown",
   "id": "9394c45f",
   "metadata": {},
   "source": [
    "タプルやリストの長さ（要素数）は`len()`関数でわかります。"
   ]
  },
  {
   "cell_type": "code",
   "execution_count": null,
   "id": "444c9a77",
   "metadata": {
    "tags": [
     "remove-output"
    ]
   },
   "outputs": [],
   "source": [
    "print(f'my_tuple has {len(my_tuple)} elements.')\n",
    "print(f'my_list has {len(my_list)} elements.')"
   ]
  },
  {
   "cell_type": "markdown",
   "id": "bee47b30",
   "metadata": {},
   "source": [
    "タプル同士やリスト同士は足し算で繋ぎ合わせられます。"
   ]
  },
  {
   "cell_type": "code",
   "execution_count": null,
   "id": "d9e97ccb",
   "metadata": {
    "tags": [
     "remove-output"
    ]
   },
   "outputs": [],
   "source": [
    "list1 = [0, 2]\n",
    "list2 = ['hello'] # 長さ1のリスト\n",
    "list3 = list1 + list2\n",
    "print(list3)\n",
    "\n",
    "tuple1 = (0, 2)\n",
    "tuple2 = ('hello',) # 長さ1のタプル。最後のコンマがないと「文字列を括弧で括ったもの」になってしまうので注意\n",
    "tuple3 = tuple1 + tuple2\n",
    "print(tuple3)"
   ]
  },
  {
   "cell_type": "markdown",
   "id": "e33d0dca",
   "metadata": {},
   "source": [
    "数値に対してと同様、足し算での更新も可能です。"
   ]
  },
  {
   "cell_type": "code",
   "execution_count": null,
   "id": "af03819e",
   "metadata": {
    "tags": [
     "remove-output"
    ]
   },
   "outputs": [],
   "source": [
    "list1 += list2\n",
    "tuple1 += tuple2\n",
    "print(list1)\n",
    "print(tuple1)"
   ]
  },
  {
   "cell_type": "markdown",
   "id": "339a4276",
   "metadata": {},
   "source": [
    "リストの最後に新たな要素を足すには、`append()`というメソッド（後の解説を参照）を使います。"
   ]
  },
  {
   "cell_type": "code",
   "execution_count": null,
   "id": "406130d6",
   "metadata": {
    "tags": [
     "remove-output"
    ]
   },
   "outputs": [],
   "source": [
    "list1.append('world')\n",
    "print(list1)"
   ]
  },
  {
   "cell_type": "markdown",
   "id": "43820b3b",
   "metadata": {},
   "source": [
    "すでに説明した通り、タプルには要素を足せないので、対応するメソッドがありません。"
   ]
  },
  {
   "cell_type": "markdown",
   "id": "b14feff0",
   "metadata": {},
   "source": [
    "#### 辞書型 dict\n",
    "\n",
    "配列はリストが順番に入っている入れ物で、インデックスで要素を参照可能でした。辞書型は要素を「キー」（索引）で参照する入れ物です。キーとなりうるデータは数値、文字列、タプルなどです。"
   ]
  },
  {
   "cell_type": "code",
   "execution_count": null,
   "id": "5277fcad",
   "metadata": {
    "tags": [
     "remove-output"
    ]
   },
   "outputs": [],
   "source": [
    "# 空のdict\n",
    "my_empty_dict = {}  # dict() でもよいが、こちらが推奨される\n",
    "\n",
    "# データの入ったdict\n",
    "# キーも要素もデータ型が揃っている必要はない\n",
    "my_dict = {'a': 'AAAA', 3: 3333, tuple1: 'world'}"
   ]
  },
  {
   "cell_type": "markdown",
   "id": "35cb2af8",
   "metadata": {},
   "source": [
    "辞書型の要素を参照するときは鉤括弧にキーを入れます。辞書型と同様、要素の値を入れ替えることができます。また、全く新しいキーを加えることもできます。"
   ]
  },
  {
   "cell_type": "code",
   "execution_count": null,
   "id": "9e3715e1",
   "metadata": {
    "tags": [
     "remove-output"
    ]
   },
   "outputs": [],
   "source": [
    "print('my_dict[\"a\"] =', my_dict['a'])\n",
    "my_dict[3] = 4444\n",
    "my_dict[4] = 3333\n",
    "print(my_dict)"
   ]
  },
  {
   "cell_type": "markdown",
   "id": "a367abab",
   "metadata": {},
   "source": [
    "辞書型に対しても`len()`が使えます。"
   ]
  },
  {
   "cell_type": "code",
   "execution_count": null,
   "id": "4c447c44",
   "metadata": {
    "tags": [
     "remove-output"
    ]
   },
   "outputs": [],
   "source": [
    "print(f'my_dict has {len(my_dict)} elements.')"
   ]
  },
  {
   "cell_type": "markdown",
   "id": "92692f61",
   "metadata": {},
   "source": [
    "#### 真理値型 bool\n",
    "\n",
    "真理値を表す`bool`型には`True`または`False`の二通りの値しかありません。その代わり、様々な表現が真理値に明示的・暗示的に変換可能で、後述する`if`文などで利用されます。表現を明示的に真理値に変えるには`bool()`関数に表現を渡します。"
   ]
  },
  {
   "cell_type": "code",
   "execution_count": null,
   "id": "eeb2b96e",
   "metadata": {
    "tags": [
     "remove-output"
    ]
   },
   "outputs": [],
   "source": [
    "# 数値を真理値に変換。0、0.0、0.0+0.0j以外は全てTrue\n",
    "print('bool(1) =', bool(1))\n",
    "print('bool(0) =', bool(0))\n",
    "print('bool(2.3) =', bool(2.3))\n",
    "print('bool(0.) =', bool(0.)) # 小数点以下がゼロであるときにデータが実数型であることを表現するためには、小数点を末尾につける\n",
    "print('bool(3.7+0.j) =', bool(3.7+0.j))\n",
    "print('bool(0.+0.j) =', bool(0.+0.j))\n",
    "\n",
    "# 文字列を真理値に変換。長さ0の文字列以外は全てTrue\n",
    "print('bool(\"\") =', bool(\"\"))\n",
    "print('bool(\"Hello\") =', bool(\"Hello\"))\n",
    "\n",
    "# tuple, list, dictを真理値に変換。長さ（要素数）0のときFalse、それ以外はTrue\n",
    "print('bool(my_tuple) =', bool(my_tuple))\n",
    "print('bool(my_empty_tuple) =', bool(my_empty_tuple))\n",
    "print('bool(my_list) =', bool(my_list))\n",
    "print('bool(my_empty_list) =', bool(my_empty_list))\n",
    "print('bool(my_dict) =', bool(my_dict))\n",
    "print('bool(my_empty_dict) =', bool(my_empty_dict))"
   ]
  },
  {
   "cell_type": "markdown",
   "id": "4bd50f16",
   "metadata": {},
   "source": [
    "#### None型\n",
    "\n",
    "Pythonプログラム中で特別な型・値として`None`があります。これはデータがない状態を表します。数値の`0`、文字列の`''`、真偽値の`False`などはそれぞれ型があり有効なデータなので、それらとは異なる「無」の状態を表すために`None`を使います。"
   ]
  },
  {
   "cell_type": "markdown",
   "id": "34e9ef4e",
   "metadata": {},
   "source": [
    "### 関数\n",
    "\n",
    "プログラムは最悪全ての命令を一行ずつ書き下していけば走りますが、繰り返し行う動作や、論理上ひとまとまりにした方が全体の可読性が高まるコードの続きなどは、関数として定義します。すでに登場した`print()`や`len()`も関数です。\n",
    "\n",
    "関数は引数（ひきすう、インプット）をとり、その値に応じて挙動を変えることができます。関数には返り値があり、関数を実行した結果として変数に代入したりできます。\n",
    "\n",
    "関数の定義には`def`というキーワードを使い、コードを一段インデントして記述します。関数名に使える文字は変数名のものと同じです。"
   ]
  },
  {
   "cell_type": "code",
   "execution_count": null,
   "id": "f94bf7cb",
   "metadata": {
    "tags": [
     "remove-output"
    ]
   },
   "outputs": [],
   "source": [
    "# myfunctionという名の関数を定義する。argは引数で、「関数を呼んだときに渡される最初の引数の値が関数内のコードでargという変数として使用される」ことを意味する\n",
    "def my_function(arg):\n",
    "    # 渡された引数をprintする\n",
    "    print(arg)\n",
    "    # 引数に2を足した値を返す\n",
    "    return arg + 2\n",
    "\n",
    "# myfunctionをaを引数として実行し、返ってきた値をa_plus_2に代入する\n",
    "a_plus_2 = my_function(a)\n",
    "print('Returned value:', a_plus_2)"
   ]
  },
  {
   "cell_type": "markdown",
   "id": "e924a576",
   "metadata": {},
   "source": [
    "関数の引数にはデフォルトの値を持たせることができます。そのような引数には、関数実行時に値を指定されなければ、設定されたデフォルト値が代入されます。\n",
    "\n",
    "また、関数は、関数が定義されている部分のコード中で定義されている変数を参照することができます。"
   ]
  },
  {
   "cell_type": "code",
   "execution_count": null,
   "id": "370c000b",
   "metadata": {
    "tags": [
     "remove-output"
    ]
   },
   "outputs": [],
   "source": [
    "# arg2にはデフォルトで4という値が入る\n",
    "def another_function(arg1, arg2=4):\n",
    "    return arg1 + arg2\n",
    "\n",
    "# arg2の値を指定しなかったので、4が使われる\n",
    "print(another_function(3))\n",
    "# arg2を指定するとその値が使われる\n",
    "print(another_function(1, 5))\n",
    "\n",
    "# 関数の外で定義された変数\n",
    "outer_scope_variable = 'Q'\n",
    "\n",
    "# 引数を取らない関数もある\n",
    "def yet_another_function():\n",
    "    # 関数の中から外の変数を参照可能\n",
    "    return outer_scope_variable + 'uantum'\n",
    "\n",
    "print(yet_another_function())"
   ]
  },
  {
   "cell_type": "markdown",
   "id": "bd672e36",
   "metadata": {},
   "source": [
    "### if文（条件文）\n",
    "\n",
    "プログラム中で、変数の値に応じて実行する内容を変えたい時はif文で条件分岐をすることができます。分岐したプログラムのコードは一段インデントして記述します。分岐したコードは独立なので、別々の変数を定義したり、全く異なる関数を実行したりできます。ただし一方でしか定義されない変数を作る場合は、もう一方のケースでその変数が参照されないか注意が必要です。"
   ]
  },
  {
   "cell_type": "code",
   "execution_count": null,
   "id": "85f9f25e",
   "metadata": {
    "tags": [
     "remove-output"
    ]
   },
   "outputs": [],
   "source": [
    "# ifの後は一つ以上スペースを空けて、真偽値となる表現が入る\n",
    "if len(my_dict) == 4:\n",
    "    # my_dictの長さが4である場合\n",
    "    true_case = my_function(7)\n",
    "else:\n",
    "    # my_dictの長さが4でない場合\n",
    "    false_case = another_function(1, 3)"
   ]
  },
  {
   "cell_type": "code",
   "execution_count": null,
   "id": "28adae1f",
   "metadata": {
    "tags": [
     "remove-output"
    ]
   },
   "outputs": [],
   "source": [
    "# 有効\n",
    "print(f'len(my_dict) was {len(my_dict)} so if I try to reference true_case I get this: {true_case}')"
   ]
  },
  {
   "cell_type": "code",
   "execution_count": null,
   "id": "c5c977b4",
   "metadata": {
    "editable": true,
    "slideshow": {
     "slide_type": ""
    },
    "tags": [
     "raises-exception",
     "remove-output"
    ]
   },
   "outputs": [],
   "source": [
    "# エラーを起こす\n",
    "print(f'len(my_dict) was {len(my_dict)} so if I try to reference false_case I get this: {false_case}')"
   ]
  },
  {
   "cell_type": "markdown",
   "id": "4b272853",
   "metadata": {},
   "source": [
    "if文は独立のスコープを持たないので、上のようなことが起こります。下で登場するforやwhileでも同様です。\n",
    "\n",
    "上でさまざまな型を`bool()`で真偽値に変換しましたが、if文の条件部分ではこの変換が自動で行われます。"
   ]
  },
  {
   "cell_type": "code",
   "execution_count": null,
   "id": "3dfa243f",
   "metadata": {
    "tags": [
     "remove-output"
    ]
   },
   "outputs": [],
   "source": [
    "print('Conditional expression on the length of my_empty_tuple:')\n",
    "\n",
    "if my_empty_tuple:\n",
    "    # my_empty_tupleの長さが0でないケース\n",
    "    print('my_empty_tuple is actually not empty')\n",
    "\n",
    "# 条件文にはelseがなくてもいい"
   ]
  },
  {
   "cell_type": "markdown",
   "id": "fe22d7a0",
   "metadata": {},
   "source": [
    "### for文、while文（ループ）\n",
    "\n",
    "同じコードを（条件を変えながら）何度も実行したいときは、for文やwhile文を使ったループを作ります。"
   ]
  },
  {
   "cell_type": "code",
   "execution_count": null,
   "id": "e27bfd4b",
   "metadata": {
    "tags": [
     "remove-output"
    ]
   },
   "outputs": [],
   "source": [
    "# リストの要素についてループ。インデントされている部分が要素数だけ繰り返し実行され、変数elementに各要素が代入される\n",
    "for element in my_list:\n",
    "    print(f'another_function({element}, {element}) = {another_function(element, element)}')\n",
    "\n",
    "# 0から5までの整数についてループ\n",
    "for index in range(6):\n",
    "    print(f'another_function({index}) = {another_function(index)}')\n",
    "\n",
    "# 配列の各要素が一定の長さの配列である場合、要素配列の要素を直接ループ変数に代入できる\n",
    "list_of_tuples = [('x', 10), ('y', 6)]\n",
    "for char_var, num_var in list_of_tuples:\n",
    "    print(f'char_var = {char_var}, num_var = {num_var}')\n",
    "\n",
    "# my_stringの長さが10以上になるまでループ\n",
    "my_string = ''\n",
    "while len(my_string) < 10: # 文字列の長さもlen()でわかる\n",
    "    my_string += 'abc'\n",
    "\n",
    "print(my_string)"
   ]
  },
  {
   "cell_type": "markdown",
   "id": "7dabd03e",
   "metadata": {},
   "source": [
    "### クラス、オブジェクト、メソッド\n",
    "\n",
    "上で基本のデータ型を紹介しましたが、Pythonではプログラム中で新たに型を定義することができます。型のことをクラスともいい、これまでデータと呼んできた構造をオブジェクトともいいます。全てのオブジェクトは何らかのクラスの一つの具象化（インスタンス）です。\n",
    "\n",
    "このワークブックでは新たにクラスを定義することはありませんが、参考のためにクラスの記述の仕方を紹介します。"
   ]
  },
  {
   "cell_type": "code",
   "execution_count": null,
   "id": "3b71c658",
   "metadata": {
    "tags": [
     "remove-output"
    ]
   },
   "outputs": [],
   "source": [
    "class EmptyClass:\n",
    "    pass  # passは「文法上インデントしなければいけないけどプログラムとして何もしない」ことを表す"
   ]
  },
  {
   "cell_type": "markdown",
   "id": "793a7423",
   "metadata": {},
   "source": [
    "このままでは`EmptyClass`というクラスがプログラムの中で定義されているという他、何の役割も果たしません。プログラムによってはあるクラスが存在するだけでいいということもありますが、通常は属性（インスタンスに付随するデータ）を足したり、「メソッド」を定義したりします。メソッドというのはクラスに対して定義される関数のことです。インスタンスを自動的に引数に取るため、挙動がインスタンスごとに異なります。"
   ]
  },
  {
   "cell_type": "code",
   "execution_count": null,
   "id": "399f04b2",
   "metadata": {
    "tags": [
     "remove-output"
    ]
   },
   "outputs": [],
   "source": [
    "class MoreFunctionalClass:\n",
    "    # __init__は特殊メソッド（コンストラクタ）で、インスタンス生成時に呼ばれる\n",
    "    def __init__(self, x, y):\n",
    "        # メソッドの最初の引数selfはインスタンスを指す\n",
    "        self.attr_x = x\n",
    "        self._y = y\n",
    "\n",
    "    # メソッドの一例\n",
    "    def add_y_to_x(self):\n",
    "        return self.attr_x + self._y\n",
    "\n",
    "# MoreFunctionalClassのインスタンスを作り、変数mに代入する\n",
    "m = MoreFunctionalClass(2, 5)\n",
    "\n",
    "# インスタンスの属性を参照する\n",
    "print(f'Value of attr_x of m is {m.attr_x}')\n",
    "\n",
    "# インスタンスのメソッドを実行する\n",
    "# 引数selfは自動で渡される\n",
    "print(f'Calling add_y_to_x on m: {m.add_y_to_x()}')"
   ]
  },
  {
   "cell_type": "markdown",
   "id": "e409b814",
   "metadata": {},
   "source": [
    "### モジュールのインポート\n",
    "\n",
    "通常、Pythonプログラムは一つのファイルに書ききられません。コードが長くなりすぎるだけでなく、定義される関数やクラスが他のプログラムでも利用できる場合があるからです。別ファイルで定義された変数、関数、クラスなどをプログラム中で使用するには、`import`という命令を使い、ファイルの名前や、場合によってはファイル中の使用したい特定の関数名などを指定します。`import`で取り込まれるファイルをPythonモジュールと呼びます。"
   ]
  },
  {
   "cell_type": "code",
   "execution_count": null,
   "id": "de1c0f5c",
   "metadata": {
    "tags": [
     "remove-output"
    ]
   },
   "outputs": [],
   "source": [
    "# osというスタンダードライブラリのモジュールをインポート\n",
    "import os\n",
    "# osモジュールで定義されているgetcwd()という関数（現在どのディレクトリからプログラムを実行しているかを返す）を呼ぶ\n",
    "print(os.getcwd())\n",
    "\n",
    "# qiskit（IBMの量子コンピューティング用ライブラリ）からQuantumCircuitクラスをインポート\n",
    "from qiskit import QuantumCircuit\n",
    "\n",
    "# numpy（数値計算用ライブラリ）をインポートし、プログラム中npという短縮したモジュール名で使用\n",
    "import numpy as np"
   ]
  },
  {
   "cell_type": "markdown",
   "id": "ef41637d",
   "metadata": {},
   "source": [
    "Pythonの非常に大きな強みが、ユーザーベースの広さとオープンソースのライブラリの多さです。Pythonでやりたいと思うことは大体誰かがすでに実装していて、[PyPI](https://pypi.org)などでパッケージとして公開しているので、ユーザーはパッケージをインストールしてプログラム中からモジュールを`import`すればいい、という具合です。"
   ]
  },
  {
   "cell_type": "markdown",
   "id": "70e50cdd",
   "metadata": {},
   "source": [
    "### 例外（exception）\n",
    "\n",
    "プログラムで想定していない操作が要求されたときには「例外」が発生します。上の例では、文字列と整数を加えようとしたときや、if文の分岐によって定義されていない変数を参照しようとしたときに例外が発生しました。例外が発生するとプログラムの実行が中断されますが、これは実は必ずしも「クラッシュ」ということではありません。Pythonには例外の発生を検知して対処できる仕組みが備わっています。例外処理をするには、例外が発生する可能性のあるコードを`try:`というキーワードで始まるブロックに入れ、直後に`except`というキーワードから始まるブロックに対処のためのコードを記述しておきます。"
   ]
  },
  {
   "cell_type": "code",
   "execution_count": null,
   "id": "da2372e7",
   "metadata": {
    "tags": [
     "remove-output"
    ]
   },
   "outputs": [],
   "source": [
    "s = 'The value of variable x is '\n",
    "x = 3\n",
    "\n",
    "# try以下のブロックで例外が発生すると、ブロック中のコードの実行がその時点で止まり、後ろのexceptブロックが実行される\n",
    "try:\n",
    "    # 文字列と整数を加えようとするとエラーになる\n",
    "    print(s + x)\n",
    "\n",
    "except TypeError: # TypeError型の例外が発生したら、以下のブロックを実行する\n",
    "    print(f'Oops, {type(s)} and {type(x)} are not compatible')\n",
    "\n",
    "except: # その他の型の例外が発生したら、以下のブロックを実行する\n",
    "    print(f'This was unexpected: We got a {ex}')"
   ]
  },
  {
   "cell_type": "markdown",
   "id": "24392d28",
   "metadata": {},
   "source": [
    "上の例にあるように、例外にも型があり、例外発生のさまざまな理由を区別できるようになっています。例外とその処理はPythonの正常なプログラムフローの一部として捉えるべきで、`try``except`を上手に使うことでより「Pythonらしい」コードが書けると言われています。\n",
    "\n",
    "例えば、辞書型に対して存在しないキーで値を参照しようとすると`KeyError`が発生します。これを回避するにはキーが存在するか事前に確認すればいいわけですが、確認した結果キーが存在したとして、その後値を参照するとすると、結局二回同じキーを検索することになります。それなら、最初から参照しようとしてみて、エラーが出たらキーが存在しなかったときの処理に移る、という方が実は効率的です。"
   ]
  },
  {
   "cell_type": "code",
   "execution_count": null,
   "id": "f99287ea",
   "metadata": {
    "tags": [
     "remove-output"
    ]
   },
   "outputs": [],
   "source": [
    "d = {'this': 3, 'is': 89, 'a': 123, 'dictionary': 98}\n",
    "\n",
    "# dにキー'a'があるかどうか確認し、それからその値を使う。'a'がなければ他のことをする\n",
    "# キーの存在を調べるにはinという演算子を使う\n",
    "if 'a' in d:\n",
    "    a_value = d['a']\n",
    "else:\n",
    "    print('d does not have an entry for \"a\"')\n",
    "    a_value = None\n",
    "\n",
    "# もっと効率的な実装\n",
    "try:\n",
    "    a_value = d['a']\n",
    "except KeyError:\n",
    "    print('d does not have an entry for \"a\"')\n",
    "    a_value = None"
   ]
  },
  {
   "cell_type": "markdown",
   "id": "df3fd881",
   "metadata": {},
   "source": [
    "## 実用編\n",
    "\n",
    "Pythonの文法や基本概念を一通りさらったので、実際にワークブックに登場するようなプログラムを書くのに必要なものの紹介に移ります。\n",
    "\n",
    "### 実習で登場する組み込み関数/型（Built-in functions）\n",
    "\n",
    "組み込み関数とは、`import`なしでPython言語に最初から定義されている関数のことです。"
   ]
  },
  {
   "cell_type": "code",
   "execution_count": null,
   "id": "de42a1e5",
   "metadata": {
    "tags": [
     "remove-output"
    ]
   },
   "outputs": [],
   "source": [
    "# abs: 数値の絶対値を返す\n",
    "abs(-2.3) # 2.3\n",
    "abs(1.2+1.6j) # 複素数の絶対値（sqrt(real * real + imag * imag)）-> 2.0\n",
    "\n",
    "# enumerate: 配列のインデックスと要素を順番に返す\n",
    "l = ['a', 'b', 'c']\n",
    "for idx, element in enumerate(l):\n",
    "    # ループの繰り返しごとに、idx（インデックス）は値 0, 1, 2 をとり、elementは 'a', 'b', 'c' になる\n",
    "    pass\n",
    "\n",
    "# isinstance: 変数やリテラルが特定のクラスのオブジェクトかチェックする\n",
    "isinstance(l, list) # True\n",
    "isinstance(2.3, int) # False\n",
    "\n",
    "# len: 配列や辞書の長さを返す\n",
    "len(l) # 3\n",
    "\n",
    "# max: 引数の中から最大のものを返す\n",
    "# min: 引数の中から最小のものを返す\n",
    "max(3, 1, 9) # 9\n",
    "min('b', 'x', 'c') # 比較演算子が定義されている型であれば成立 -> 'b'\n",
    "max(l) # 引数が配列の場合、要素が比較される -> 'c'\n",
    "\n",
    "# print: 文字列を表示する\n",
    "print(\"We've already seen this\")\n",
    "\n",
    "# range: 一定間隔の整数の配列を作る\n",
    "range(5) # 0, 1, 2, 3, 4\n",
    "range(78, 92) # 78から91までの14個の整数の配列\n",
    "range(3, 10, 2) # 3以上10未満、間隔2の整数の配列 = 3, 5, 7, 9\n",
    "range(4, 1, -1) # 間隔は負でもよい。4, 3, 2\n",
    "\n",
    "# sum: 配列の要素の総和を返す\n",
    "sum([5, 6, 7]) # 18\n",
    "\n",
    "# zip: 複数の配列から要素をタプルにまとめた配列を作る\n",
    "m = [9, 4, 5]\n",
    "for char, num in zip(l, m):\n",
    "    # [(l[0], m[0]), (l[1], m[1]), ...]のforループと等価\n",
    "    pass"
   ]
  },
  {
   "cell_type": "markdown",
   "id": "a487c36f",
   "metadata": {},
   "source": [
    "文字列（`str`）、リスト（`list`）、タプル（`tuple`）、辞書（`dict`）などの組み込み型でよく使うメソッドも紹介しておきます。"
   ]
  },
  {
   "cell_type": "code",
   "execution_count": null,
   "id": "8077fe5e",
   "metadata": {
    "tags": [
     "remove-output"
    ]
   },
   "outputs": [],
   "source": [
    "# str.join: 文字列の配列をつなげる\n",
    "joined = ', '.join(['apples', 'bananas', 'bonobos'])\n",
    "print('joined =', joined)\n",
    "\n",
    "# list.append: 配列の最後に要素を足す\n",
    "appended = [0, 1]\n",
    "appended.append(2)\n",
    "print('appended =', appended)\n",
    "\n",
    "# list.insert: 配列の任意の位置に要素を挿入する。最初の引数が位置、次の引数が要素\n",
    "inserted = ['x', 'y']\n",
    "inserted.insert(0, 'a')\n",
    "print('inserted =', inserted)\n",
    "\n",
    "# dict.keys: 辞書のキーの配列を作る\n",
    "d = {'this': 3, 'is': 89, 'a': 123, 'dictionary': 98}\n",
    "print('keys:')\n",
    "for key in d.keys():\n",
    "    # keyが'this', 'is', 'a', 'dictionary'の値を取る\n",
    "    # （キーはdictに加えられた順番に現れる）\n",
    "    print(key)\n",
    "\n",
    "# dict.values: 辞書の値の配列を作る\n",
    "print('values:')\n",
    "for value in d.values():\n",
    "    # valueが3, 89, 123, 98の値を取る（keysと同じくdictに加えられた順）\n",
    "    print(value)\n",
    "\n",
    "# dict.items: 辞書のキーと値のペアの配列を作る\n",
    "print('items:')\n",
    "for key, value in d.items():\n",
    "    # keysと同じく挿入順\n",
    "    print(f'({key}, {value})')\n",
    "\n",
    "# dict.get: [key]と同じように特定のキーに対応する値を返すが、キーが存在しない場合にデフォルトの返り値を設定できる\n",
    "print('that in d =', d.get('that', 39))"
   ]
  },
  {
   "cell_type": "markdown",
   "id": "d8190f63",
   "metadata": {},
   "source": [
    "リスト、タプル、辞書などを生成するときに時々使う構文を紹介します。"
   ]
  },
  {
   "cell_type": "code",
   "execution_count": null,
   "id": "10cddf35",
   "metadata": {},
   "outputs": [],
   "source": [
    "# list comprehension（内包表現）\n",
    "new_list = [f'a{i}' for i in range(3)]\n",
    "print(new_list)\n",
    "\n",
    "# dict comprehension\n",
    "new_dict = {f'v{i}': i for i in range(3)}\n",
    "print(new_dict)\n",
    "\n",
    "# dictは（キー, 値）のタプルの配列からも生成できる\n",
    "dict_from_tuples = dict((f'v{i}', i) for i in range(3))\n",
    "print(dict_from_tuples)\n",
    "\n",
    "# dictのタプル配列からの生成とzipの組み合わせ\n",
    "dict_from_zip = dict(zip(['a', 'b', 'c'], [3, 4, 5]))\n",
    "print(dict_from_zip)"
   ]
  },
  {
   "cell_type": "markdown",
   "id": "2ccf3e53",
   "metadata": {},
   "source": [
    "### NumPy\n",
    "\n",
    "Pythonで数値計算をする際に今や欠かせない存在になっているのが、NumPy（「なむぱい」もしくは「なむぴー」）ライブラリです。NumPyは基本的には数値の（多次元）配列に対して効率的に数値計算をすることを目的に書かれていますが、サポートされている計算オペレーションの多様さも支持を広げる要因になっています。\n",
    "\n",
    "このワークブックで利用するNumPyの機能について解説します。あまり複雑なものは使用していません。まずは`numpy`をインポートしますが、慣習的に`np`と短縮したモジュール名を使います。"
   ]
  },
  {
   "cell_type": "code",
   "execution_count": null,
   "id": "4699786c",
   "metadata": {
    "tags": [
     "remove-output"
    ]
   },
   "outputs": [],
   "source": [
    "import numpy as np"
   ]
  },
  {
   "cell_type": "markdown",
   "id": "badd3280",
   "metadata": {},
   "source": [
    "#### 配列を作る\n",
    "\n",
    "numpyの配列は`ndarray`という独自のクラスのオブジェクトで、リストやタプルとは異なります。\n",
    "\n",
    "`ndarray`に収められているデータにも整数、実数、複素数といった型があります。整数にも8ビット、16ビット、32ビットとあるなど、Pythonで定義されているよりも型の種類が細かく定められていますが、普段使うのは64ビット整数、64ビット実数、128ビット複素数、ブーリアン（真偽値）、あたりです。"
   ]
  },
  {
   "cell_type": "code",
   "execution_count": null,
   "id": "ecd2ec8e",
   "metadata": {
    "tags": [
     "remove-output"
    ]
   },
   "outputs": [],
   "source": [
    "# データから直接作る\n",
    "arr = np.array([0., 1., 2.5, 7.])  # numpyの配列では要素のデータ型が揃っている必要がある。ただし整数と実数が混ざっていれば実数の、複素数が混ざっていれば複素数の配列が作られる\n",
    "\n",
    "# 配列を作る関数から作る\n",
    "arr = np.arange(4)  # 組み込みrange(4)のように、[0, 1, 2, 3]という配列を作る\n",
    "arr = np.linspace(0., 1., 100)  # 長さ100の配列で、0.0から1.0まで等間隔に値を取る\n",
    "arr = np.zeros(5, dtype=float)  # 長さ5の配列で、全ての要素が0.0。dtype=floatはデータ型を陽に実数と決めるための引数\n",
    "arr = np.ones(7, dtype=bool)  # 長さ7の配列で、全ての要素が1。ただしdtype=boolとしたので、1の真偽値変換（True）が入る\n",
    "arr = np.empty(4)  # 長さ4の配列で、値が初期化されていない\n",
    "\n",
    "# さまざまな配列をndarrayに変換する\n",
    "m = [9, 4, 5]\n",
    "arr = np.asarray(m)\n",
    "arr2 = np.asarray(arr)  # ndarrayをasarrayに入れても何も起こらない（arrとarr2は同じオブジェクト）\n",
    "\n",
    "# ある配列と同じ形（次元数と各次元の要素数）の配列を作る\n",
    "arr2 = np.zeros_like(arr)\n",
    "arr2 = np.ones_like(arr)\n",
    "arr2 = np.empty_like(arr)"
   ]
  },
  {
   "cell_type": "markdown",
   "id": "08948576",
   "metadata": {},
   "source": [
    "#### 配列の要素を参照する"
   ]
  },
  {
   "cell_type": "code",
   "execution_count": null,
   "id": "68a2855f",
   "metadata": {
    "tags": [
     "remove-output"
    ]
   },
   "outputs": [],
   "source": [
    "# 要素数2x4の2次元配列を生成\n",
    "arr = np.array(\n",
    "    [\n",
    "        [0, 1, 2, 3],\n",
    "        [4, 5, 6, 7]\n",
    "    ]\n",
    ")\n",
    "print('The full array:')\n",
    "print(arr)\n",
    "\n",
    "# 1次元目のインデックス0、2次元目のインデックス3の要素を選ぶ\n",
    "print(f'arr[0, 3] = {arr[0, 3]}')\n",
    "\n",
    "# 1次元目のインデックス1の要素（＝2次元目に相当する配列）\n",
    "print(f'arr[1] = {arr[1]}')\n",
    "\n",
    "# 1次元目のインデックス1、2次元目は0から2つおきに抽出\n",
    "print(f'arr[1, 0:4:2] = {arr[1, 0:4:2]}')"
   ]
  },
  {
   "cell_type": "markdown",
   "id": "95045bf8",
   "metadata": {},
   "source": [
    "#### 配列を操作する"
   ]
  },
  {
   "cell_type": "code",
   "execution_count": null,
   "id": "25106746",
   "metadata": {
    "tags": [
     "remove-output"
    ]
   },
   "outputs": [],
   "source": [
    "# reshape: 配列の次元数や各次元の要素数を変える\n",
    "arr = np.arange(12)  # 要素数12の1次元配列\n",
    "print(arr)\n",
    "rarr = arr.reshape(3, 4)  # 要素数3x4の2次元配列。[0, 0]が0、[0, 1]が1、...\n",
    "print(f'reshaped: {rarr}')\n",
    "\n",
    "# concatenate: 配列をつなげる\n",
    "brr = np.ones(4, dtype=int)\n",
    "crr = np.concatenate((arr, brr))\n",
    "print(f'concatenated: {crr}')"
   ]
  },
  {
   "cell_type": "markdown",
   "id": "03d97a5d",
   "metadata": {},
   "source": [
    "#### 配列に対して計算を施す\n",
    "\n",
    "NumPyの大きな強みの一つが、さまざまな計算オペレーションが配列全体に対して同時に実行されることです。例えば`[0, 1, 2]`と`[3, 4, 5]`という配列があり、それらの要素同士の足し算をしたいとしたら、配列がPythonの`list`や`tuple`型であった場合のコードは"
   ]
  },
  {
   "cell_type": "code",
   "execution_count": null,
   "id": "76827b12",
   "metadata": {
    "tags": [
     "remove-output"
    ]
   },
   "outputs": [],
   "source": [
    "list1 = [0, 1, 2]\n",
    "list2 = [3, 4, 5]\n",
    "\n",
    "list1 + list2  # これではただリストが繋がるだけなので\n",
    "\n",
    "# ループを回して要素ごとに足し算をする必要がある\n",
    "list3 = []\n",
    "for i1, i2 in zip(list1, list2):\n",
    "    list3.append(i1 + i2)\n",
    "\n",
    "print(list3)"
   ]
  },
  {
   "cell_type": "markdown",
   "id": "d8733331",
   "metadata": {},
   "source": [
    "のようになります。これだと簡単なことをするために何行もコードがいるだけでなく、実は非常に非効率です。というのも、Pythonには、コード一行一行の実行が比較的遅いという弱点があるからです。これはPythonがCやJavaのようにプログラム全体を「コンパイル」して最初から機械言語に変換して実行する言語ではないことに起因します。上のようにループを回すと、ループの繰り返しごと、一行ごとに書かれている命令を解釈し直すので、時間がかかります。無論繰り返し数3のループではCなどとPythonの間で人間が感知できるような時間の差はありませんが、配列の大きさが例えば数十万を超えてくると、明らかに違いが見えてきます。\n",
    "\n",
    "リストを使った上のケースに対して、NumPyの`ndarray`を使った場合は"
   ]
  },
  {
   "cell_type": "code",
   "execution_count": null,
   "id": "3f6e3a89",
   "metadata": {
    "tags": [
     "remove-output"
    ]
   },
   "outputs": [],
   "source": [
    "arr1 = np.array([0, 1, 2])\n",
    "arr2 = np.array([3, 4, 5])\n",
    "\n",
    "arr3 = arr1 + arr2 # これで要素ごとの足し算が行われる\n",
    "\n",
    "print(arr3)"
   ]
  },
  {
   "cell_type": "markdown",
   "id": "baeed4b6",
   "metadata": {},
   "source": [
    "となります。コードの行数が少なくなっただけでなく、実はこの場合はCなどと同じ速さで計算が行われます。NumPyはPythonから扱えるモジュールですが、中身はコンパイルされて極度に最適化されたライブラリなのです。\n",
    "\n",
    "配列に対して行える計算には要素ごとの四則演算だけでなく、さまざまな数学的関数もあります。"
   ]
  },
  {
   "cell_type": "code",
   "execution_count": null,
   "id": "aa88cad7",
   "metadata": {
    "tags": [
     "remove-output"
    ]
   },
   "outputs": [],
   "source": [
    "# 要素ごとの引き算、掛け算、割り算\n",
    "print('arr1 - arr2 =', arr1 - arr2)\n",
    "print('arr1 * arr2 =', arr1 * arr2)\n",
    "print('arr1 // arr2 =', arr1 // arr2)\n",
    "print('arr1 / arr2 =', arr1 / arr2)\n",
    "\n",
    "# 配列と一つの数（スカラー）との演算。配列の全ての要素に同じ演算が施される\n",
    "print('arr1 + 2 =', arr1 + 2)\n",
    "print('arr1 - 3 =', arr1 - 3)\n",
    "print('arr1 * np.pi =', arr1 * np.pi)  # np.pi = 3.141592653589793\n",
    "print('arr1 // 2 =', arr1 // 2)\n",
    "print('arr1 / np.e =', arr1 / np.e)  # np.e = 2.718281828459045\n",
    "print('arr1 ** 3 =', arr1 ** 3)\n",
    "\n",
    "# 数学的関数の数々\n",
    "print('np.exp(arr1) =', np.exp(arr1))\n",
    "print('np.log(arr2) =', np.log(arr2))\n",
    "print('np.log2(arr2) =', np.log2(arr2))  # 2を底とする対数\n",
    "print('np.cos(arr1) =', np.cos(arr1))\n",
    "print('np.sin(arr1) =', np.sin(arr1))\n",
    "print('np.tan(arr1) =', np.tan(arr1))\n",
    "print('np.arccos(0 to 1) =', np.arccos(np.linspace(0., 1., 5)))\n",
    "print('np.arcsin(0 to 1) =', np.arcsin(np.linspace(0., 1., 5)))\n",
    "print('np.arctan(arr1) =', np.arctan(arr1))\n",
    "print('np.square(arr1) =', np.square(arr1))  # 全ての要素を2乗する\n",
    "print('np.sqrt(arr1) =', np.sqrt(arr1))  # 全ての要素のルートを取る\n",
    "print('np.ceil(arr1) =', np.ceil(arr1))  # ceiling (値以上で最も小さい整数)\n",
    "print('np.floor(arr1) =', np.floor(arr1))  # floor (値以下で最も大きい整数)"
   ]
  },
  {
   "cell_type": "markdown",
   "id": "91a95c98",
   "metadata": {},
   "source": [
    "要素ごとではなく配列全体にかかる関数もあります。"
   ]
  },
  {
   "cell_type": "code",
   "execution_count": null,
   "id": "ded7e9d1",
   "metadata": {
    "tags": [
     "remove-output"
    ]
   },
   "outputs": [],
   "source": [
    "# 配列の全要素を足し上げる\n",
    "print('np.sum(arr2) =', np.sum(arr2))\n",
    "# 配列の要素の平均値\n",
    "print('np.mean(arr2) =', np.mean(arr2))"
   ]
  },
  {
   "cell_type": "markdown",
   "id": "a2e56839",
   "metadata": {},
   "source": [
    "NumPyで実装されている関数はあまりにも多いので、このワークブックで使われている分でもここで紹介しきれていないかもしれません。残りは[NumPyのドキュメンテーション](https://numpy.org/doc/stable/)を参照してください。"
   ]
  },
  {
   "cell_type": "markdown",
   "id": "2963dde5",
   "metadata": {},
   "source": [
    "### Matplotlib\n",
    "\n",
    "NumPyで行った数値計算の結果を可視化するとき、おそらく最もよく用いられるのがMatplotlibというグラフ描画ライブラリです。このワークブックではMatplotlibのごく限られた機能しか使わないので、ここでは最低限の説明にとどめておきます。\n",
    "\n",
    "Matplotlibのモジュール名は`matplotlib`ですが、また慣習的に`mpl`と略してインポートすることが多いようです。また、`matplotlib`そのものよりも、そのサブモジュールである`matplotlib.pyplot`の方をインポートすることが多く、こちらもまた慣習的に`plt`と略されます。"
   ]
  },
  {
   "cell_type": "code",
   "execution_count": null,
   "id": "55900469",
   "metadata": {
    "tags": [
     "remove-output"
    ]
   },
   "outputs": [],
   "source": [
    "%matplotlib inline\n",
    "import matplotlib.pyplot as plt"
   ]
  },
  {
   "cell_type": "markdown",
   "id": "f9876ef5",
   "metadata": {},
   "source": [
    "Matplotlibには「図」（Figure）と「グラフ描画領域」（Axes）という概念があります。一つのFigureの中に複数のAxesが存在でき、各Axesに一つのプロットが描画される構造になっています。\n",
    "\n",
    "このワークブックでは新しい図を作るのに二通りのコードが登場します。"
   ]
  },
  {
   "cell_type": "code",
   "execution_count": null,
   "id": "93160b04",
   "metadata": {
    "tags": [
     "remove-output"
    ]
   },
   "outputs": [],
   "source": [
    "# 空っぽのFigureを作る\n",
    "fig = plt.figure()\n",
    "# Axesを一つ作る\n",
    "ax = fig.add_subplot()\n",
    "\n",
    "# Figureを作ると同時に、中身のAxesも作り、配置する\n",
    "fig, axs = plt.subplots(2, 3)  # 縦に2列、横に3列の合計6個のAxesが生成される。figはFigureオブジェクト、axsはAxesオブジェクトの配列"
   ]
  },
  {
   "cell_type": "markdown",
   "id": "03704d71",
   "metadata": {},
   "source": [
    "こうして作ったFigureやAxesオブジェクトの様々なメソッドを使ってグラフを描くことができますが、実は単にxとyのデータがあって一つスキャッタープロットを作りたいという時などは、もっと簡単な方法を取ることもできます。"
   ]
  },
  {
   "cell_type": "code",
   "execution_count": null,
   "id": "5035a994",
   "metadata": {
    "tags": [
     "remove-output"
    ]
   },
   "outputs": [],
   "source": [
    "xdata = np.linspace(0., 3. * np.pi, 100)\n",
    "ydata = np.cos(xdata)\n",
    "\n",
    "# 折れ線グラフを描く\n",
    "plt.plot(xdata, ydata)"
   ]
  },
  {
   "cell_type": "code",
   "execution_count": null,
   "id": "4213549f",
   "metadata": {
    "tags": [
     "remove-output"
    ]
   },
   "outputs": [],
   "source": [
    "xdata = np.array([1., 3.3, 2.5])\n",
    "ydata = np.array([9.6, 7.4, 5.5])\n",
    "\n",
    "# スキャッタープロットを描く\n",
    "plt.scatter(xdata, ydata, label='points')\n",
    "plt.legend()"
   ]
  },
  {
   "cell_type": "markdown",
   "id": "69751f0e",
   "metadata": {},
   "source": [
    "`plt.plot`や`plt.scatter`を複数実行すると、同じAxesにグラフが重なってプロットされます。実行の際に`label='some text'`という引数を足し、`plt.legend()`を呼ぶと、凡例が表示されます。また`plt.xlabel()`や`plt.ylabel()`でX, Y軸にタイトルをつけたり、`plt.title()`でプロット全体にタイトルをつけたりできます。"
   ]
  },
  {
   "cell_type": "markdown",
   "id": "9d4e8666",
   "metadata": {},
   "source": [
    "### Jupyter\n",
    "\n",
    "Pythonはもともとコマンドラインからスクリプト・プログラムとして実行したり、プロンプトを通じて一行ずつ動かしたりするようにできていますが、近年では（今このノートブックを表示・実行している）JupyterやVS Codeなどの実行環境を通じてインタラクティブかつグラフィカルにプログラミングができるようになりました。\n",
    "\n",
    "中でもJupyterはIPythonというライブラリと深く関係しており、ブラウザ上で快適にPythonを動かす様々なツールを提供しています。その中から、ここではこのワークブックで登場する数式や画像を表示させるための関数だけを紹介します。"
   ]
  },
  {
   "cell_type": "code",
   "execution_count": null,
   "id": "0723eb0f",
   "metadata": {},
   "outputs": [],
   "source": [
    "# デモのためわざと図の自動描画機能をオフにする\n",
    "%matplotlib\n",
    "from IPython.display import display\n",
    "\n",
    "# subplots()に何も引数を渡さないと、Axes一つのFigureができる\n",
    "fig, ax = plt.subplots()\n",
    "\n",
    "# スキャッタープロットを描く\n",
    "xdata = np.array([1., 3.3, 2.5])\n",
    "ydata = np.array([9.6, 7.4, 5.5])\n",
    "ax.scatter(xdata, ydata, label='points')\n",
    "ax.legend();"
   ]
  },
  {
   "cell_type": "code",
   "execution_count": null,
   "id": "ff69c8fb",
   "metadata": {},
   "outputs": [],
   "source": [
    "# 自動描画されない図はdisplay()で表示できる\n",
    "display(fig)"
   ]
  },
  {
   "cell_type": "code",
   "execution_count": null,
   "id": "1d20dea2",
   "metadata": {
    "editable": true,
    "slideshow": {
     "slide_type": ""
    }
   },
   "outputs": [],
   "source": [
    "# LaTeXで書いた数式をタイプセットする\n",
    "from IPython.display import Math\n",
    "\n",
    "Math(r'\\frac{e^{2 \\pi i j k}}{\\sqrt{2}}')"
   ]
  },
  {
   "cell_type": "code",
   "execution_count": null,
   "id": "4023d4ec",
   "metadata": {},
   "outputs": [],
   "source": []
  }
 ],
 "metadata": {
  "colab": {
   "authorship_tag": "ABX9TyPAACnj3BV4aOFqidNnnKE0",
   "include_colab_link": true,
   "provenance": []
  },
  "kernelspec": {
   "display_name": "Python 3 (ipykernel)",
   "language": "python",
   "name": "python3"
  },
  "language_info": {
   "codemirror_mode": {
    "name": "ipython",
    "version": 3
   },
   "file_extension": ".py",
   "mimetype": "text/x-python",
   "name": "python",
   "nbconvert_exporter": "python",
   "pygments_lexer": "ipython3",
   "version": "3.10.12"
  }
 },
 "nbformat": 4,
 "nbformat_minor": 5
}
