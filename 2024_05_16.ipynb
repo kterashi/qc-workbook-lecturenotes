{
 "cells": [
  {
   "cell_type": "markdown",
   "metadata": {
    "collapsed": true,
    "pycharm": {
     "name": "#%% md\n"
    }
   },
   "source": [
    "## グローバーアルゴリズムの実装（$N=2^6$の場合）\n",
    "ではここから、実際にグローバーアルゴリズムを実装してデータベースの検索問題に取り掛かってみましょう。\n",
    "\n",
    "ここで考える問題は、$N=2^6$個の要素を持つリスト（$=[0,1,2,\\cdots,63]$）から、一つの答え\"45\"を見つけるグローバーアルゴリズムの実装です（もちろんこの数はなんでも良いので、後で自由に変更して遊んでみてください）。つまり6量子ビットの量子回路を使って、$|45\\rangle=|101101\\rangle$を探す問題です。"
   ]
  },
  {
   "cell_type": "markdown",
   "source": [
    "### 最初に以下の2つのセルを実行しておいてください。\n"
   ],
   "metadata": {
    "collapsed": false,
    "pycharm": {
     "name": "#%% md\n"
    }
   }
  },
  {
   "cell_type": "code",
   "outputs": [],
   "source": [
    "import sys\n",
    "import shutil\n",
    "import tarfile\n",
    "from google.colab import drive\n",
    "drive.mount('/content/gdrive')\n",
    "shutil.copy('/content/gdrive/MyDrive/qcintro.tar.gz', '.')\n",
    "with tarfile.open('qcintro.tar.gz', 'r:gz') as tar:\n",
    "    tar.extractall(path='/root/.local')\n",
    "\n",
    "sys.path.append('/root/.local/lib/python3.10/site-packages')\n",
    "\n",
    "!git clone -b branch-2024 https://github.com/UTokyo-ICEPP/qc-workbook-lecturenotes\n",
    "!cp -r qc-workbook-lecturenotes/qc_workbook /root/.local/lib/python3.10/site-packages/"
   ],
   "metadata": {
    "collapsed": false
   }
  },
  {
   "cell_type": "code",
   "execution_count": 1,
   "outputs": [],
   "source": [
    "# Tested with python 3.10.14, qiskit 1.0.2, numpy 1.26.4, scipy 1.13.0\n",
    "import matplotlib.pyplot as plt\n",
    "import numpy as np\n",
    "\n",
    "# Qiskit関連のパッケージをインポート\n",
    "from qiskit import QuantumCircuit, ClassicalRegister, QuantumRegister, transpile\n",
    "from qiskit_aer import AerSimulator\n",
    "from qiskit_ibm_runtime import QiskitRuntimeService, Session, Sampler as RuntimeSampler\n",
    "from qiskit.primitives import Sampler"
   ],
   "metadata": {
    "collapsed": false,
    "pycharm": {
     "name": "#%%\n"
    },
    "ExecuteTime": {
     "end_time": "2024-05-02T03:59:44.202338Z",
     "start_time": "2024-05-02T03:59:42.982346Z"
    }
   }
  },
  {
   "cell_type": "markdown",
   "source": [
    "### IBMからアカウント登録の連絡が来ている方は、以下にProviderの情報を入れてqiskit-ibm.jsonファイルを更新しておいてください。"
   ],
   "metadata": {
    "collapsed": false
   }
  },
  {
   "cell_type": "code",
   "outputs": [],
   "source": [
    "# IBMidの登録が済んでいて、Provider情報を受け取っている人は\n",
    "# 　instance='ibm-q-utokyo/internal/__your_project_here__'\n",
    "# を指定して、セットアップ時に作ったqiskit-ibm.jsonファイルを上書き保存する\n",
    "QiskitRuntimeService.save_account(channel='ibm_quantum', token='__your_API_token_here__',\n",
    "                                  instance='AAA/BBB/CCC',\n",
    "                                  filename='/content/gdrive/MyDrive/qiskit-ibm.json', overwrite=True)"
   ],
   "metadata": {
    "collapsed": false
   },
   "execution_count": null
  },
  {
   "cell_type": "markdown",
   "source": [
    "### 次のセルまで実行しておいてください。"
   ],
   "metadata": {
    "collapsed": false
   }
  },
  {
   "cell_type": "code",
   "outputs": [],
   "source": [
    "from qc_workbook.grover import make_grover_circuit\n",
    "\n",
    "n_qubits = 6\n",
    "\n",
    "# 量子コンピュータで実行する場合\n",
    "runtime_config_path = '/content/gdrive/MyDrive/qiskit-ibm.json'\n",
    "service = QiskitRuntimeService(filename=runtime_config_path)\n",
    "\n",
    "# 最も空いているバックエンドを見つけて、そのバックエンドに対して回路をトランスパイル\n",
    "backend = service.least_busy(min_num_qubits=n_qubits, simulator=False, operational=True)\n",
    "print(f\"least busy backend: {backend.name}\")\n",
    "\n",
    "session = Session(service=service, backend=backend)\n",
    "sampler = RuntimeSampler(session=session)\n",
    "\n",
    "grover_circuit = make_grover_circuit(n_qubits)\n",
    "grover_circuit_transpiled = transpile(grover_circuit, backend=backend, optimization_level=3)\n",
    "job_ibmq = sampler.run(grover_circuit_transpiled, shots=2048)\n",
    "print(f'Submitted job {job_ibmq.job_id()}')"
   ],
   "metadata": {
    "collapsed": false
   },
   "execution_count": null
  },
  {
   "cell_type": "markdown",
   "source": [
    "### グローバー探索の量子回路を実装する\n",
    "\n",
    "6量子ビットの回路`grover_circuit`を準備します。\n",
    "\n",
    "グローバー反復を一回実行する量子回路は以下のような構成になりますが、赤枠で囲んだ部分（オラクルとDiffuserの中の$2|0\\rangle\\langle 0|-I$の部分）を実装する量子回路を書いてください。\n",
    "\n",
    "一様な重ね合わせ状態$|s\\rangle$を生成した後に、オラクルを実装します。"
   ],
   "metadata": {
    "collapsed": false,
    "pycharm": {
     "name": "#%% md\n"
    }
   }
  },
  {
   "cell_type": "code",
   "execution_count": null,
   "outputs": [],
   "source": [
    "Nsol = 45\n",
    "n_qubits = 6\n",
    "\n",
    "grover_circuit = QuantumCircuit(n_qubits)\n",
    "\n",
    "grover_circuit.h(range(n_qubits))\n",
    "grover_circuit.barrier()\n",
    "\n",
    "# オラクルを作成して、回路に実装\n",
    "oracle = QuantumCircuit(n_qubits)\n",
    "\n",
    "##################\n",
    "### EDIT BELOW ###\n",
    "##################\n",
    "\n",
    "#oracle.?\n",
    "\n",
    "##################\n",
    "### EDIT ABOVE ###\n",
    "##################\n",
    "\n",
    "oracle_gate = oracle.to_gate()\n",
    "oracle_gate.name = \"U_w\"\n",
    "oracle.draw('mpl')"
   ],
   "metadata": {
    "collapsed": false,
    "pycharm": {
     "name": "#%%\n",
     "is_executing": true
    }
   }
  },
  {
   "cell_type": "markdown",
   "source": [
    "次に、Diffuser用の回路を実装します。"
   ],
   "metadata": {
    "collapsed": false,
    "pycharm": {
     "name": "#%% md\n"
    }
   }
  },
  {
   "cell_type": "code",
   "execution_count": null,
   "outputs": [],
   "source": [
    "def diffuser(n):\n",
    "    qc = QuantumCircuit(n)\n",
    "\n",
    "    qc.h(range(n))\n",
    "\n",
    "    ##################\n",
    "    ### EDIT BELOW ###\n",
    "    ##################\n",
    "\n",
    "    #qc.?\n",
    "\n",
    "    ##################\n",
    "    ### EDIT ABOVE ###\n",
    "    ##################\n",
    "\n",
    "    qc.h(range(n))\n",
    "\n",
    "    #print(qc)\n",
    "    U_s = qc.to_gate()\n",
    "    U_s.name = \"U_s\"\n",
    "    return U_s\n",
    "\n",
    "grover_circuit.append(oracle_gate, list(range(n_qubits)))\n",
    "grover_circuit.barrier()\n",
    "grover_circuit.append(diffuser(n_qubits), list(range(n_qubits)))\n",
    "grover_circuit.measure_all()\n",
    "grover_circuit.decompose().draw('mpl')"
   ],
   "metadata": {
    "collapsed": false,
    "pycharm": {
     "name": "#%%\n",
     "is_executing": true
    }
   }
  },
  {
   "cell_type": "markdown",
   "source": [
    "### シミュレータでの実験"
   ],
   "metadata": {
    "collapsed": false,
    "pycharm": {
     "name": "#%% md\n"
    }
   }
  },
  {
   "cell_type": "code",
   "outputs": [],
   "source": [
    "# Instantiate new AerSimulator and Sampler objects\n",
    "simulator = AerSimulator()\n",
    "sampler = Sampler()\n",
    "\n",
    "# Now run the job and examine the results\n",
    "grover_circuit = transpile(grover_circuit, backend=simulator)\n",
    "sampler_job = sampler.run(grover_circuit, shots=10000)\n",
    "result_sim = sampler_job.result()\n",
    "\n",
    "from qiskit.visualization import plot_distribution\n",
    "#plt.style.use('dark_background')\n",
    "plot_distribution(result_sim.quasi_dists[0])"
   ],
   "metadata": {
    "collapsed": false
   },
   "execution_count": null
  },
  {
   "cell_type": "markdown",
   "source": [
    "### 振幅増幅を確認する\n",
    "\n",
    "では次に、グローバーのアルゴリズムを繰り返し使うことで、振幅が増幅していく様子をシミュレータを使って見てみましょう。"
   ],
   "metadata": {
    "collapsed": false,
    "pycharm": {
     "name": "#%% md\n"
    }
   }
  },
  {
   "cell_type": "code",
   "execution_count": null,
   "outputs": [],
   "source": [
    "# 繰り返しの回数\n",
    "Niter = 3\n",
    "\n",
    "grover_circuit_iterN = QuantumCircuit(n_qubits)\n",
    "grover_circuit_iterN.h(range(n_qubits))\n",
    "grover_circuit_iterN.barrier()\n",
    "for I in range(Niter):\n",
    "    grover_circuit_iterN.append(oracle_gate, list(range(n_qubits)))\n",
    "    grover_circuit_iterN.barrier()\n",
    "    grover_circuit_iterN.append(diffuser(n_qubits), list(range(n_qubits)))\n",
    "    grover_circuit_iterN.barrier()\n",
    "grover_circuit_iterN.measure_all()\n",
    "grover_circuit_iterN.decompose().draw('mpl')"
   ],
   "metadata": {
    "collapsed": false,
    "pycharm": {
     "name": "#%%\n",
     "is_executing": true
    }
   }
  },
  {
   "cell_type": "code",
   "outputs": [],
   "source": [
    "grover_circuit_iterN = transpile(grover_circuit_iterN, backend=simulator)\n",
    "sampler_job = sampler.run(grover_circuit_iterN, shots=10000)\n",
    "result_amp_sim = sampler_job.result()\n",
    "plot_distribution(result_amp_sim.quasi_dists[0])"
   ],
   "metadata": {
    "collapsed": false
   },
   "execution_count": null
  },
  {
   "cell_type": "markdown",
   "source": [
    "では次に、実装した回路を繰り返し実行して、求める解を観測した回数と反復した回数との相関関係を図にしてみます。"
   ],
   "metadata": {
    "collapsed": false,
    "pycharm": {
     "name": "#%% md\n"
    }
   }
  },
  {
   "cell_type": "code",
   "execution_count": null,
   "outputs": [],
   "source": [
    "simulator = AerSimulator()\n",
    "sampler = Sampler()\n",
    "\n",
    "x = []\n",
    "y = []\n",
    "\n",
    "shots = 10000\n",
    "\n",
    "# 例えば10回繰り返す\n",
    "for Niter in range(1,11):\n",
    "    grover_circuit_iterN = QuantumCircuit(n_qubits)\n",
    "    grover_circuit_iterN.h(range(n_qubits))\n",
    "    for I in range(Niter):\n",
    "        grover_circuit_iterN.append(oracle_gate, list(range(n_qubits)))\n",
    "        grover_circuit_iterN.append(diffuser(n_qubits), list(range(n_qubits)))\n",
    "    grover_circuit_iterN.measure_all()\n",
    "    #print(grover_circuit_iterN)\n",
    "\n",
    "    grover_circuit_iterN = transpile(grover_circuit_iterN, backend=simulator)\n",
    "    sampler_job_iterN = sampler.run(grover_circuit_iterN, shots=shots)\n",
    "    results_sim_iterN = sampler_job_iterN.result()\n",
    "    \n",
    "    x.append(Niter)\n",
    "    y.append(results_sim_iterN.quasi_dists[0][Nsol]*shots)\n",
    "\n",
    "plt.clf()\n",
    "plt.scatter(x,y)\n",
    "plt.xlabel('N_iterations')\n",
    "plt.ylabel('# of correct observations (1 solution)')\n",
    "plt.show()"
   ],
   "metadata": {
    "collapsed": false,
    "pycharm": {
     "name": "#%%\n",
     "is_executing": true
    }
   }
  },
  {
   "cell_type": "markdown",
   "source": [
    "この図から、グローバー反復を5~6回程度繰り返すことで、正しい答えを最も高い確率で測定できることが分かりますね。計算で求めた検索に必要な反復回数と一致しているかどうか、確認してみてください。"
   ],
   "metadata": {
    "collapsed": false,
    "pycharm": {
     "name": "#%% md\n"
    }
   }
  },
  {
   "cell_type": "markdown",
   "source": [
    "次に、解が一つの場合で、探索リストのサイズを$N=2^4$から$N=2^{10}$まで変えた時に、測定で求めた最適な反復回数が$N$とどういう関係になっているのか調べてみましょう。\n",
    "\n",
    "求める解は13としてみます。"
   ],
   "metadata": {
    "collapsed": false,
    "pycharm": {
     "name": "#%% md\n"
    }
   }
  },
  {
   "cell_type": "code",
   "outputs": [],
   "source": [
    "Nsol = 13  # =[1101]\n",
    "\n",
    "x_Niter = []\n",
    "y_Niter = []\n",
    "\n",
    "shots = 10000"
   ],
   "metadata": {
    "collapsed": false
   }
  },
  {
   "cell_type": "markdown",
   "source": [
    "量子ビット数が4から11までの回路を作り、グローバー探索を行います。"
   ],
   "metadata": {
    "collapsed": false
   }
  },
  {
   "cell_type": "code",
   "outputs": [],
   "source": [
    "# 量子ビット数が4から11までの回路を作り、グローバー探索を行う。\n",
    "for n_qubits in range(4, 11):\n",
    "\n",
    "    # 量子ビット数を変えて回路を作る\n",
    "    oracle_13 = QuantumCircuit(n_qubits)\n",
    "\n",
    "    oracle_13.x(1)\n",
    "    if n_qubits > 4:\n",
    "        for i in range(4, n_qubits): oracle_13.x(i)\n",
    "    oracle_13.mcp(np.pi, list(range(n_qubits - 1)), n_qubits - 1)\n",
    "    oracle_13.x(1)\n",
    "    if n_qubits > 4:\n",
    "        for i in range(4, n_qubits): oracle_13.x(i)\n",
    "\n",
    "    oracle_13_gate = oracle_13.to_gate()\n",
    "    oracle_13_gate.name = \"U_w(13)\"\n",
    "\n",
    "    # グローバー探索の結果を保存\n",
    "    x = []\n",
    "    y = []\n",
    "    for Niter in range(1, 11):\n",
    "        grover_circuit_iterN = QuantumCircuit(n_qubits)\n",
    "        grover_circuit_iterN.h(range(n_qubits))\n",
    "        for I in range(Niter):\n",
    "            grover_circuit_iterN.append(oracle_13_gate, list(range(n_qubits)))\n",
    "            grover_circuit_iterN.append(diffuser(n_qubits), list(range(n_qubits)))\n",
    "        grover_circuit_iterN.measure_all()\n",
    "\n",
    "        grover_circuit_iterN = transpile(grover_circuit_iterN, backend=simulator)\n",
    "        sampler_job_iterN = sampler.run(grover_circuit_iterN, shots=shots)\n",
    "        results_sim_iterN = sampler_job_iterN.result()\n",
    "\n",
    "        x.append(Niter)\n",
    "        y.append(results_sim_iterN.quasi_dists[0][Nsol] * shots)\n",
    "\n",
    "    #plt.clf()\n",
    "    #plt.scatter(x, y)\n",
    "    #plt.xlabel('N_iterations (n=' + str(n_qubits) + ' bits)')\n",
    "    #plt.ylabel('# of correct observations (1 solution)')\n",
    "    #plt.show()\n",
    "\n",
    "    # 最も正しい答えを見つけるのに必要な反復回数を保存\n",
    "    if n_qubits >= 4 and n_qubits <= 7:  # 8以上は最大値を取るN_iterが10を超えるので、とりあえず7まで\n",
    "        x_Niter.append(n_qubits)\n",
    "        if n_qubits == 4:\n",
    "            y_Niter.append(y.index(max(y[:5])) + 1)  # n_iter=4の場合は2回極大になるが、最初の方を選ぶ\n",
    "        else:\n",
    "            y_Niter.append(y.index(max(y)) + 1)"
   ],
   "metadata": {
    "collapsed": false
   }
  },
  {
   "cell_type": "markdown",
   "source": [
    "探索リストのサイズと反復回数の関係を図示する"
   ],
   "metadata": {
    "collapsed": false
   }
  },
  {
   "cell_type": "code",
   "outputs": [],
   "source": [
    "array_x = np.power(2,x_Niter)\n",
    "array_y = np.array(y_Niter)\n",
    "\n",
    "# y=sqrt(x)でフィットする\n",
    "from scipy.optimize import curve_fit\n",
    "def sqrt_fit(x,a):\n",
    "    return  a * np.sqrt(x)\n",
    "param, cov = curve_fit(sqrt_fit, array_x, array_y)\n",
    "value_x = np.linspace(array_x[0],array_x[len(array_x)-1],100)\n",
    "value_y = param[0] * np.sqrt(value_x)\n",
    "\n",
    "plt.clf()\n",
    "plt.scatter(array_x, array_y)\n",
    "plt.plot(value_x, value_y)\n",
    "plt.xlabel('Size of database (= 2^n_qubits)')\n",
    "plt.ylabel('# of iterations to find solution (1 solution)')\n",
    "plt.show()"
   ],
   "metadata": {
    "collapsed": false
   }
  },
  {
   "cell_type": "markdown",
   "source": [
    "### 複数解の探索の場合\n",
    "\n",
    "では次に、複数の解を探索する問題に進んでみましょう。2つの整数$x_1$と$x_2$を見つける問題へ量子回路を拡張して、求める解を観測した回数と反復した回数との相関関係を図にしてみます。\n",
    "\n",
    "例えば、$x_1=45$と$x_2=26$の場合は"
   ],
   "metadata": {
    "collapsed": false,
    "pycharm": {
     "name": "#%% md\n"
    }
   }
  },
  {
   "cell_type": "code",
   "execution_count": null,
   "outputs": [],
   "source": [
    "n_qubits = 6\n",
    "\n",
    "N1 = 45\n",
    "N2 = 26\n",
    "\n",
    "# 45\n",
    "oracle_2sol_1 = QuantumCircuit(n_qubits)\n",
    "oracle_2sol_1.x(1)\n",
    "oracle_2sol_1.x(4)\n",
    "oracle_2sol_1.mcp(np.pi, list(range(n_qubits-1)), n_qubits-1)\n",
    "oracle_2sol_1.x(1)\n",
    "oracle_2sol_1.x(4)\n",
    "\n",
    "# 26\n",
    "oracle_2sol_2 = QuantumCircuit(n_qubits)\n",
    "oracle_2sol_2.x(0)\n",
    "oracle_2sol_2.x(2)\n",
    "oracle_2sol_2.x(5)\n",
    "oracle_2sol_2.mcp(np.pi, list(range(n_qubits-1)), n_qubits-1)\n",
    "oracle_2sol_2.x(0)\n",
    "oracle_2sol_2.x(2)\n",
    "oracle_2sol_2.x(5)\n",
    "\n",
    "oracle_2sol_gate = QuantumCircuit(n_qubits)\n",
    "oracle_2sol_gate.append(oracle_2sol_1.to_gate(), list(range(n_qubits)))\n",
    "oracle_2sol_gate.barrier()\n",
    "oracle_2sol_gate.append(oracle_2sol_2.to_gate(), list(range(n_qubits)))\n",
    "oracle_2sol_gate.barrier()\n",
    "oracle_2sol_gate.name = \"U_w(2sol)\"\n",
    "oracle_2sol_gate.decompose().draw('mpl')"
   ],
   "metadata": {
    "collapsed": false,
    "pycharm": {
     "name": "#%%\n",
     "is_executing": true
    }
   }
  },
  {
   "cell_type": "code",
   "outputs": [],
   "source": [
    "x = []\n",
    "y = []\n",
    "\n",
    "for Niter in range(1,11):\n",
    "    grover_circuit_2sol_iterN = QuantumCircuit(n_qubits)\n",
    "    grover_circuit_2sol_iterN.h(range(n_qubits))\n",
    "    for I in range(Niter):\n",
    "        grover_circuit_2sol_iterN.append(oracle_2sol_gate, list(range(n_qubits)))\n",
    "        grover_circuit_2sol_iterN.append(diffuser(n_qubits), list(range(n_qubits)))\n",
    "    grover_circuit_2sol_iterN.measure_all()\n",
    "    #print('-----  Niter =',Niter,' -----------')\n",
    "    #print(grover_circuit_2sol_iterN)\n",
    "\n",
    "    grover_circuit_2sol_iterN = transpile(grover_circuit_2sol_iterN, backend=simulator)\n",
    "    sampler_job_2sol_iterN = sampler.run(grover_circuit_2sol_iterN, shots=shots)\n",
    "    results_sim_2sol_iterN = sampler_job_2sol_iterN.result()\n",
    "\n",
    "    x.append(Niter)\n",
    "    y.append((results_sim_2sol_iterN.quasi_dists[0][N1]+results_sim_2sol_iterN.quasi_dists[0][N2])*shots)\n",
    "\n",
    "plt.clf()\n",
    "plt.scatter(x,y)\n",
    "plt.xlabel('N_iterations')\n",
    "plt.ylabel('# of correct observations (2 solutions)')\n",
    "plt.show()"
   ],
   "metadata": {
    "collapsed": false
   }
  },
  {
   "cell_type": "markdown",
   "source": [
    "### 量子コンピュータでの実験\n",
    "\n",
    "グローバー反復を一回実行する回路は最初に実機で実行していたので、その結果を取ってきてシミュレーションの結果と比較します。\n",
    "\n",
    "実機のジョブの状況を確認"
   ],
   "metadata": {
    "collapsed": false,
    "pycharm": {
     "name": "#%% md\n"
    }
   }
  },
  {
   "cell_type": "code",
   "outputs": [],
   "source": [
    "# Use a job id from a previous result\n",
    "print(f\">>> Job Status: {job_ibmq.status()}\")"
   ],
   "metadata": {
    "collapsed": false
   }
  },
  {
   "cell_type": "markdown",
   "source": [
    "終わっていた場合は、シミュレーションの結果と比較"
   ],
   "metadata": {
    "collapsed": false
   }
  },
  {
   "cell_type": "code",
   "outputs": [],
   "source": [
    "print('Simulator')\n",
    "plot_distribution(result_sim.quasi_dists[0])"
   ],
   "metadata": {
    "collapsed": false
   }
  },
  {
   "cell_type": "code",
   "outputs": [],
   "source": [
    "print(f\"IBM backend: {backend.name}, Job ID: {job_ibmq.job_id()}\")\n",
    "result_ibmq = job_ibmq.result()\n",
    "plot_distribution(result_ibmq.quasi_dists[0])"
   ],
   "metadata": {
    "collapsed": false
   }
  },
  {
   "cell_type": "markdown",
   "source": [
    "**上の問題の回答**\n",
    "\n",
    "オラクルの中身"
   ],
   "metadata": {
    "collapsed": false,
    "pycharm": {
     "name": "#%% md\n"
    }
   }
  },
  {
   "cell_type": "code",
   "execution_count": null,
   "outputs": [],
   "source": [
    "oracle.x(1)\n",
    "oracle.x(4)\n",
    "oracle.mcp(np.pi, list(range(n_qubits-1)), n_qubits-1)\n",
    "oracle.x(1)\n",
    "oracle.x(4)"
   ],
   "metadata": {
    "collapsed": false,
    "pycharm": {
     "name": "#%%\n"
    }
   }
  },
  {
   "cell_type": "markdown",
   "source": [
    "Diffuserの中身"
   ],
   "metadata": {
    "collapsed": false,
    "pycharm": {
     "name": "#%% md\n"
    }
   }
  },
  {
   "cell_type": "code",
   "execution_count": null,
   "outputs": [],
   "source": [
    "    qc.rz(2*np.pi, n-1)\n",
    "    qc.x(list(range(n)))\n",
    "\n",
    "    # multi-controlled Zゲート\n",
    "    qc.mcp(np.pi, list(range(n-1)), n-1)\n",
    "\n",
    "    qc.x(list(range(n)))"
   ],
   "metadata": {
    "collapsed": false,
    "pycharm": {
     "name": "#%%\n"
    }
   }
  }
 ],
 "metadata": {
  "kernelspec": {
   "display_name": "Python 3",
   "language": "python",
   "name": "python3"
  },
  "language_info": {
   "codemirror_mode": {
    "name": "ipython",
    "version": 2
   },
   "file_extension": ".py",
   "mimetype": "text/x-python",
   "name": "python",
   "nbconvert_exporter": "python",
   "pygments_lexer": "ipython2",
   "version": "2.7.6"
  }
 },
 "nbformat": 4,
 "nbformat_minor": 0
}
