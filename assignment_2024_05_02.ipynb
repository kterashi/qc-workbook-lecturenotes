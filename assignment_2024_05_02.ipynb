{
  "nbformat": 4,
  "nbformat_minor": 0,
  "metadata": {
    "colab": {
      "provenance": [],
      "authorship_tag": "ABX9TyPOjpqNR/dhnEPHqQx+Kzya",
      "include_colab_link": true
    },
    "kernelspec": {
      "name": "python3",
      "display_name": "Python 3"
    },
    "language_info": {
      "name": "python"
    }
  },
  "cells": [
    {
      "cell_type": "markdown",
      "metadata": {
        "id": "view-in-github",
        "colab_type": "text"
      },
      "source": [
        "<a href=\"https://colab.research.google.com/github/yiiyama/qc-workbook-lecturenotes/blob/branch-2024/assignment_2024_05_02.ipynb\" target=\"_parent\"><img src=\"https://colab.research.google.com/assets/colab-badge.svg\" alt=\"Open In Colab\"/></a>"
      ]
    },
    {
      "cell_type": "markdown",
      "source": [
        "# 【課題】量子フーリエ変換と量子ダイナミクスシミュレーション"
      ],
      "metadata": {
        "id": "-wDjEijm7mbx"
      }
    },
    {
      "cell_type": "code",
      "source": [
        "import sys\n",
        "import shutil\n",
        "import tarfile\n",
        "from google.colab import drive\n",
        "drive.mount('/content/gdrive')\n",
        "shutil.copy('/content/gdrive/MyDrive/qcintro.tar.gz', '.')\n",
        "with tarfile.open('qcintro.tar.gz', 'r:gz') as tar:\n",
        "    tar.extractall(path='/root/.local')\n",
        "\n",
        "sys.path.append('/root/.local/lib/python3.10/site-packages')\n",
        "\n",
        "!git clone -b branch-2024 https://github.com/UTokyo-ICEPP/qc-workbook-lecturenotes\n",
        "!cp -r qc-workbook-lecturenotes/qc_workbook /root/.local/lib/python3.10/site-packages/"
      ],
      "metadata": {
        "id": "928gcrwyYnke"
      },
      "execution_count": null,
      "outputs": []
    },
    {
      "cell_type": "code",
      "execution_count": null,
      "metadata": {
        "tags": [],
        "id": "a6494e44-e1ca-4af8-8b79-b3750fcee037"
      },
      "outputs": [],
      "source": [
        "# まずは全てインポート\n",
        "import numpy as np\n",
        "import matplotlib.pyplot as plt\n",
        "from IPython.display import Math\n",
        "from qiskit import QuantumRegister, ClassicalRegister, QuantumCircuit, transpile\n",
        "from qiskit.circuit import Parameter\n",
        "from qiskit.providers import JobStatus\n",
        "from qiskit_aer import AerSimulator\n",
        "from qiskit_aer.primitives import SamplerV2 as AerSampler\n",
        "from qiskit_ibm_runtime import QiskitRuntimeService, SamplerV2 as RuntimeSampler\n",
        "from qiskit_ibm_runtime.accounts import AccountNotFoundError\n",
        "from qc_workbook.show_state import statevector_expr\n",
        "from qc_workbook.optimized_additions import optimized_additions\n",
        "from qc_workbook.utils import operational_backend, find_best_chain\n",
        "from qc_workbook.dynamics import make_heisenberg_circuits, plot_heisenberg_spins"
      ]
    },
    {
      "cell_type": "markdown",
      "source": [
        "## 問題1: cos型の確率分布を作る\n",
        "\n",
        "測定でビット列 $k$ を得る確率が $\\frac{1}{2}[1+\\cos(8\\pi k /2^5)]$ となるような量子回路を作ってください。"
      ],
      "metadata": {
        "id": "AXZ6tdfD7rcj"
      }
    },
    {
      "cell_type": "code",
      "source": [
        "num_qubits = 5\n",
        "\n",
        "circuit = QuantumCircuit(num_qubits)\n",
        "\n",
        "##################\n",
        "### EDIT BELOW ###\n",
        "##################\n",
        "\n",
        "# Set up a superposition of computational basis states\n",
        "\n",
        "##################\n",
        "### EDIT ABOVE ###\n",
        "##################\n",
        "\n",
        "# 実習の量子フーリエ変換回路\n",
        "\n",
        "for itarg in range(num_qubits - 1, -1, -1):\n",
        "    # 標的ビットにアダマールゲートをかける\n",
        "    circuit.h(itarg)\n",
        "    # target - 1から0まで制御ビットについてループ\n",
        "    for ictrl in range(itarg - 1, -1, -1):\n",
        "        # 標的と制御ビットのインデックスに応じた角度で制御Pゲートをかける\n",
        "        power = ictrl - itarg - 1 + num_qubits\n",
        "        circuit.cp((2 ** power) * 2. * np.pi / (2 ** num_qubits), ictrl, itarg)\n",
        "\n",
        "    # 回路図を見やすくするためにバリアを入れる\n",
        "    circuit.barrier()\n",
        "\n",
        "# 最後にビットの順番を反転させる\n",
        "for i in range(num_qubits // 2):\n",
        "    circuit.swap(i, num_qubits - 1 - i)\n",
        "\n",
        "circuit.measure_all()\n",
        "\n",
        "# シミュレータ上のSamplerを利用\n",
        "simulator = AerSimulator()\n",
        "sampler = Sampler()\n",
        "shots = 100000\n",
        "\n",
        "circuit = transpile(circuit, backend=simulator)\n",
        "sim_job = sampler.run([circuit], shots=shots)\n",
        "counts_dict = sim_job.result()[0].data.meas.get_counts()\n",
        "\n",
        "# 測定結果をプロットしやすいようにアレイに変換\n",
        "counts = np.zeros(2 ** num_qubits)\n",
        "for key, value in counts_dict.items():\n",
        "    counts[int(key, 2)] = value\n",
        "counts /= shots\n",
        "\n",
        "# 測定結果と理論曲線をプロット\n",
        "plt.scatter(np.arange(2 ** num_qubits), counts, label='observed')\n",
        "x = np.linspace(0., 2 ** num_qubits, 400)\n",
        "y = (1. + np.cos(8. * np.pi * x / 2 ** num_qubits)) / 2 ** num_qubits\n",
        "plt.plot(x, y, label='target')\n",
        "plt.legend();"
      ],
      "metadata": {
        "id": "GG80puvq7r5X"
      },
      "execution_count": null,
      "outputs": []
    },
    {
      "cell_type": "markdown",
      "source": [
        "## 問題2: ハイゼンベルグモデル、X方向のスピン\n",
        "\n",
        "講義で扱ったハイゼンベルグモデルのシミュレーションで、各スピンの$X$方向の期待値の時間発展を測定する回路を書き、実習時と同様に時間に対してプロットしてください。"
      ],
      "metadata": {
        "id": "xzDk3oCi78FH"
      }
    },
    {
      "cell_type": "code",
      "source": [
        "n = 5\n",
        "M = 10\n",
        "omegadt = 0.1\n",
        "\n",
        "shots = 100000\n",
        "\n",
        "# Define the circuits\n",
        "circuits = []\n",
        "\n",
        "circuit = QuantumCircuit(n)\n",
        "\n",
        "# Bit 0 in state 1/sqrt(2)(|0> + |1>)\n",
        "circuit.h(0)\n",
        "\n",
        "for istep in range(M):\n",
        "    for j in range(n - 1):\n",
        "        # ZZ\n",
        "        circuit.cx(j, j + 1)\n",
        "        circuit.rz(-omegadt, j + 1)\n",
        "        circuit.cx(j, j + 1)\n",
        "\n",
        "        # XX\n",
        "        circuit.h(j)\n",
        "        circuit.h(j + 1)\n",
        "        circuit.cx(j, j + 1)\n",
        "        circuit.rz(-omegadt, j + 1)\n",
        "        circuit.cx(j, j + 1)\n",
        "        circuit.h(j)\n",
        "        circuit.h(j + 1)\n",
        "\n",
        "        # YY\n",
        "        circuit.p(-np.pi / 2., j)\n",
        "        circuit.p(-np.pi / 2., j + 1)\n",
        "        circuit.h(j)\n",
        "        circuit.h(j + 1)\n",
        "        circuit.cx(j, j + 1)\n",
        "        circuit.rz(-omegadt, j + 1)\n",
        "        circuit.cx(j, j + 1)\n",
        "        circuit.h(j)\n",
        "        circuit.h(j + 1)\n",
        "        circuit.p(np.pi / 2., j)\n",
        "        circuit.p(np.pi / 2., j + 1)\n",
        "\n",
        "    # Copy of the circuit up to this point\n",
        "    snapshot = circuit.copy()\n",
        "\n",
        "    ##################\n",
        "    ### EDIT BELOW ###\n",
        "    ##################\n",
        "\n",
        "    # Set up the observable for this snapshot\n",
        "    #snapshot.?\n",
        "\n",
        "    ##################\n",
        "    ### EDIT ABOVE ###\n",
        "    ##################\n",
        "\n",
        "    snapshot.measure_all()\n",
        "    circuits.append(snapshot)\n",
        "\n",
        "simulator = AerSimulator()\n",
        "\n",
        "circuits = transpile(circuits, backend=simulator)\n",
        "sampler = Sampler()\n",
        "sim_job = sampler.run(circuits, shots=shots)\n",
        "sim_counts_list = [result.data.meas.get_counts() for result in sim_job.result()]\n",
        "\n",
        "# Initial state as a statevector\n",
        "initial_state = np.zeros(2 ** n, dtype=np.complex128)\n",
        "initial_state[0:2] = np.sqrt(0.5)\n",
        "\n",
        "plot_heisenberg_spins(sim_counts_list, n, initial_state, omegadt, add_theory_curve=True, spin_component='x')"
      ],
      "metadata": {
        "id": "llzpae9-8IrO"
      },
      "execution_count": null,
      "outputs": []
    },
    {
      "cell_type": "markdown",
      "source": [
        "**提出するもの**\n",
        "\n",
        "- 問題1、2の完成した回路のコードとシミュレーション結果によるプロット\n",
        "- 問題2で一般の方向のスピンの期待値を測定するためにはどうすればいいかの説明"
      ],
      "metadata": {
        "id": "EhR2r2MM8OyR"
      }
    }
  ]
}