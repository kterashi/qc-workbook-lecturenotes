{
 "cells": [
  {
   "cell_type": "markdown",
   "metadata": {},
   "source": [
    "# 【課題】位相推定によるスペクトル分解"
   ]
  },
  {
   "cell_type": "code",
   "execution_count": null,
   "metadata": {
    "collapsed": false
   },
   "outputs": [],
   "source": [
    "# まず必要なモジュールをインポートする\n",
    "import sys\n",
    "import numpy as np\n",
    "import matplotlib.pyplot as plt\n",
    "from qiskit import QuantumRegister, QuantumCircuit, transpile\n",
    "from qiskit_aer import AerSimulator\n",
    "from qiskit.visualization import plot_histogram\n",
    "\n",
    "# ワークブック独自のモジュール\n",
    "from qc_workbook.hamiltonian import make_hamiltonian\n",
    "from qc_workbook.show_state import show_state\n",
    "\n",
    "print('notebook ready')"
   ]
  },
  {
   "cell_type": "code",
   "execution_count": null,
   "metadata": {},
   "outputs": [],
   "source": [
    "# Number of spins\n",
    "n_s = 2\n",
    "# Coupling parameter\n",
    "J = 1.\n",
    "# External field / J\n",
    "g = 0.\n",
    "\n",
    "# Construct the Hamiltonian matrix\n",
    "paulis = list()\n",
    "coeffs = list()\n",
    "for j in range(n_s):\n",
    "    paulis.append(list('x' if k in (j, (j + 1) % n_s) else 'i' for k in range(n_s)))\n",
    "    coeffs.append(-J)\n",
    "    paulis.append(list('y' if k in (j, (j + 1) % n_s) else 'i' for k in range(n_s)))\n",
    "    coeffs.append(-J)\n",
    "    paulis.append(list('z' if k in (j, (j + 1) % n_s) else 'i' for k in range(n_s)))\n",
    "    coeffs.append(-J)\n",
    "    if g != 0.:\n",
    "        paulis.append(list('z' if k == j else 'i' for k in range(n_s)))\n",
    "        coeffs.append(-J * g)\n",
    "\n",
    "hamiltonian = make_hamiltonian(paulis, coeffs)\n",
    "\n",
    "# Diagonalize and obtain the eigenvalues and vectors\n",
    "eigvals, eigvectors = np.linalg.eigh(hamiltonian)\n",
    "\n",
    "# Print the eigenvectors\n",
    "for i in range(eigvals.shape[0]):\n",
    "    show_state(eigvectors[:, i], binary=True, state_label=r'\\phi_{} (E={}J)'.format(i, eigvals[i]))"
   ]
  },
  {
   "cell_type": "markdown",
   "metadata": {},
   "source": [
    "## 問題1: スペクトル推定を実装し、厳密解と照らし合わせる"
   ]
  },
  {
   "cell_type": "code",
   "execution_count": 3,
   "metadata": {
    "collapsed": false,
    "ExecuteTime": {
     "end_time": "2024-05-06T22:56:08.426547Z",
     "start_time": "2024-05-06T22:56:08.411291Z"
    }
   },
   "outputs": [],
   "source": [
    "def trotter_twopi_heisenberg(state_register, energy_norm, g, num_steps):\n",
    "    \"\"\"Return a function that implements a single Trotter step for the Heisenberg model.\n",
    "    \n",
    "    The Heisenberg model Hamiltonian is\n",
    "    H = -J * sum_of_sigmas = hbar*ω * Θ\n",
    "    \n",
    "    The returned circuit implements a negative time evolution\n",
    "    U = exp(-i H*(-τ)/hbar)\n",
    "    where τ = 2π / ω, which leads to\n",
    "    U = exp(i 2π Θ).\n",
    "    \n",
    "    Because we employ the Suzuki-Trotter decomposition, the actual circuit corresponds to\n",
    "    U = [exp(i 2π/num_steps Θ)]^num_steps.\n",
    "\n",
    "    Args:\n",
    "        state_register (QuantumRegister): Register to perform the Suzuki-Trotter simulation.\n",
    "        energy_norm (float): J/(hbar*ω).\n",
    "        g (float): External field strength relative to the coupling constant J.\n",
    "        num_steps (float): Number of steps to divide the time evolution of ωτ=2π.\n",
    "\n",
    "    Returns:\n",
    "        QuantumCircuit: A quantum circuit implementing the Trotter simulation of the Heisenberg\n",
    "        model.\n",
    "    \"\"\"\n",
    "    circuit = QuantumCircuit(state_register, name='ΔU')\n",
    "\n",
    "    n_spins = state_register.size\n",
    "    step_size = 2. * np.pi / num_steps\n",
    "\n",
    "    # Implement the circuit corresponding to exp(i*step_size*Θ) below, where Θ is defined by\n",
    "    # Θ = -J/(hbar*ω) * sum_of_sigmas = -energy_norm * sum_of_sigmas\n",
    "    ##################\n",
    "    ### EDIT BELOW ###\n",
    "    ##################\n",
    "\n",
    "    # circuit.?\n",
    "\n",
    "    ##################\n",
    "    ### EDIT ABOVE ###\n",
    "    ##################\n",
    "    \n",
    "    circuit = circuit.repeat(num_steps)\n",
    "    circuit.name = 'U'\n",
    "\n",
    "    return circuit"
   ]
  },
  {
   "cell_type": "code",
   "execution_count": 4,
   "metadata": {
    "collapsed": false,
    "ExecuteTime": {
     "end_time": "2024-05-06T22:56:09.563306Z",
     "start_time": "2024-05-06T22:56:09.555740Z"
    }
   },
   "outputs": [],
   "source": [
    "def spectrum_estimation(state_register, readout_register, u_circuit):\n",
    "    \"\"\"Perform a spectrum estimation given a circuit containing state and readout registers and a callable implementing\n",
    "    a single Trotter step.\n",
    "\n",
    "    Args:\n",
    "        state_register (QuantumRegister): State register.\n",
    "        readout_register (QuantumRegister): Readout register.\n",
    "        u_circuit (QuantumCircuit): A circuit implementing U_H(-2π/ω).\n",
    "        \n",
    "    Returns:\n",
    "        QuantumCircuit: A circuit implementing the spectrum estimation of the given Hamiltonian.\n",
    "    \"\"\"\n",
    "    circuit = QuantumCircuit(state_register, readout_register, name='Spectrum estimation')\n",
    "\n",
    "    # Set the R register to an equal superposition\n",
    "    circuit.h(readout_register)\n",
    "\n",
    "    # Apply controlled-U operations to the circuit\n",
    "    for iq, qubit in enumerate(readout_register):\n",
    "        # Repeat the 2π evolution by 2^iq and convert it to a controlled gate\n",
    "        controlled_u_gate = u_circuit.repeat(2 ** iq).to_gate().control(1)\n",
    "\n",
    "        # Append the controlled gate specifying the control and target qubits\n",
    "        circuit.append(controlled_u_gate, qargs=([qubit] + state_register[:]))\n",
    "        \n",
    "    circuit.barrier()\n",
    "\n",
    "    # Inverse QFT\n",
    "    for iq in range(readout_register.size // 2):\n",
    "        circuit.swap(readout_register[iq], readout_register[-1 - iq])\n",
    "\n",
    "    dphi = 2. * np.pi / (2 ** readout_register.size)\n",
    "\n",
    "    for jtarg in range(readout_register.size):\n",
    "        for jctrl in range(jtarg):\n",
    "            power = jctrl - jtarg - 1 + readout_register.size\n",
    "            circuit.cp(-dphi * (2 ** power), readout_register[jctrl], readout_register[jtarg])\n",
    "\n",
    "        circuit.h(readout_register[jtarg])\n",
    "        \n",
    "    return circuit"
   ]
  },
  {
   "cell_type": "code",
   "execution_count": 5,
   "metadata": {
    "ExecuteTime": {
     "end_time": "2024-05-06T22:56:10.935063Z",
     "start_time": "2024-05-06T22:56:10.929990Z"
    }
   },
   "outputs": [],
   "source": [
    "## Physics model parameter\n",
    "g = 0.\n",
    "\n",
    "## Spectrum estimation parameters\n",
    "# Hamiltonian normalization\n",
    "energy_norm = 1. / 16. # J/(hbar*ω)\n",
    "# Number of steps per 2pi evolution\n",
    "# Tune this parameter to find the best balance of simulation accuracy versus circuit depth\n",
    "num_steps = 6\n",
    "# Register sizes\n",
    "n_state = 2\n",
    "n_readout = 4\n",
    "\n",
    "## Registers\n",
    "state_register = QuantumRegister(n_state, 'state')\n",
    "readout_register = QuantumRegister(n_readout, 'readout')"
   ]
  },
  {
   "cell_type": "code",
   "execution_count": null,
   "metadata": {
    "tags": [
     "remove-output"
    ]
   },
   "outputs": [],
   "source": [
    "u_circuit = trotter_twopi_heisenberg(state_register, energy_norm, g, num_steps)\n",
    "u_circuit.draw('mpl')"
   ]
  },
  {
   "cell_type": "code",
   "execution_count": null,
   "metadata": {
    "tags": [
     "remove-output"
    ]
   },
   "outputs": [],
   "source": [
    "se_circuit = spectrum_estimation(state_register, readout_register, u_circuit)\n",
    "se_circuit.draw('mpl')"
   ]
  },
  {
   "cell_type": "code",
   "execution_count": null,
   "metadata": {
    "tags": [
     "remove-output"
    ]
   },
   "outputs": [],
   "source": [
    "def make_initial_state(state_register, readout_register):\n",
    "    circuit = QuantumCircuit(state_register, readout_register)\n",
    "\n",
    "    # Set the initial state of the state vector to (1/2)|00> - (1/sqrt(2))|01> + (1/2)|11>\n",
    "    ##################\n",
    "    ### EDIT BELOW ###\n",
    "    ##################\n",
    "\n",
    "    #circuit.?\n",
    "    \n",
    "    ##################\n",
    "    ### EDIT ABOVE ###\n",
    "    ##################\n",
    "    \n",
    "    return circuit\n",
    "\n",
    "\n",
    "init_circuit = make_initial_state(state_register, readout_register)\n",
    "init_circuit.draw('mpl')"
   ]
  },
  {
   "cell_type": "code",
   "execution_count": null,
   "metadata": {
    "collapsed": false,
    "tags": [
     "remove-output"
    ]
   },
   "outputs": [],
   "source": [
    "u_circuit = trotter_twopi_heisenberg(state_register, energy_norm, g, num_steps)\n",
    "se_circuit = spectrum_estimation(state_register, readout_register, u_circuit)\n",
    "\n",
    "circuit = make_initial_state(state_register, readout_register)\n",
    "circuit.compose(se_circuit, inplace=True)\n",
    "circuit.measure_all()\n",
    "circuit.draw('mpl')"
   ]
  },
  {
   "cell_type": "code",
   "execution_count": null,
   "metadata": {
    "collapsed": false,
    "tags": [
     "remove-output"
    ]
   },
   "outputs": [],
   "source": [
    "# Run the circuit in qasm_simulator and plot the histogram\n",
    "simulator = AerSimulator()\n",
    "circuit = transpile(circuit, backend=simulator)\n",
    "job = simulator.run(circuit, shots=10000)\n",
    "result = job.result()\n",
    "counts = result.get_counts(circuit)\n",
    "plot_histogram(counts)"
   ]
  },
  {
   "cell_type": "markdown",
   "source": [
    "## おまけの問題: 非自明な系の振る舞いを調べる\n",
    "\n",
    "(この課題は提出する必要はありません。興味のある方はトライしてみてください。)"
   ],
   "metadata": {
    "collapsed": false
   }
  },
  {
   "cell_type": "code",
   "outputs": [],
   "source": [
    "def get_spectrum_for_comp_basis(\n",
    "    n_state: int,\n",
    "    n_readout: int,\n",
    "    l: int,\n",
    "    energy_norm: float,\n",
    "    g: float,\n",
    "    shots: int = 0\n",
    ") -> np.ndarray:\n",
    "    \"\"\"Compute and return the distribution P_l(k, h) as an ndarray.\n",
    "\n",
    "    Args:\n",
    "        n_state: Size of the state register.\n",
    "        n_readout: Size of the readout register.\n",
    "        l: Index of the initial-state computational basis in the state register.\n",
    "        energy_norm: Hamiltonian normalization.\n",
    "        g: Parameter g of the Heisenberg model.\n",
    "        shots: Number of shots. If <= 0, statevector simulation will be used.\n",
    "    \"\"\"\n",
    "\n",
    "    # Define the circuit\n",
    "    state_register = QuantumRegister(n_state, 'state')\n",
    "    readout_register = QuantumRegister(n_readout, 'readout')\n",
    "    circuit = QuantumCircuit(state_register, readout_register)\n",
    "\n",
    "    # Initialize the state register\n",
    "    for iq in range(n_state):\n",
    "        if ((l >> iq) & 1) == 1:\n",
    "            circuit.x(state_register[iq])\n",
    "\n",
    "    u_circuit = trotter_twopi_heisenberg(state_register, energy_norm, g, num_steps)\n",
    "    se_circuit = spectrum_estimation(state_register, readout_register, u_circuit)\n",
    "\n",
    "    circuit.compose(se_circuit, inplace=True)\n",
    "\n",
    "    # Extract the probability distribution as an array of shape (2 ** n_readout, 2 ** n_state)\n",
    "    if shots <= 0:\n",
    "        circuit.save_statevector()\n",
    "\n",
    "        simulator = AerSimulator(method='statevector')\n",
    "        circuit = transpile(circuit, backend=simulator)\n",
    "        job = simulator.run(circuit)\n",
    "        result = job.result()\n",
    "        statevector = result.data()['statevector']\n",
    "\n",
    "        # Convert the state vector into a probability distribution by taking the norm-squared\n",
    "        probs = np.square(np.abs(statevector)).reshape((2 ** n_readout, 2 ** n_state))\n",
    "        # Clean up the numerical artifacts\n",
    "        probs = np.where(probs > 1.e-6, probs, np.zeros_like(probs))\n",
    "\n",
    "    else:\n",
    "        circuit.measure_all()\n",
    "\n",
    "        # Run the circuit in simulator and plot the histogram\n",
    "        simulator = AerSimulator()\n",
    "        circuit = transpile(circuit, backend=simulator)\n",
    "        job = simulator.run(circuit, shots=shots)\n",
    "        result = job.result()\n",
    "        counts = result.get_counts(circuit)\n",
    "\n",
    "        probs = np.zeros((2 ** n_readout, 2 ** n_state), dtype=float)\n",
    "\n",
    "        for bitstring, count in counts.items():\n",
    "            readout = int(bitstring[:n_readout], 2)\n",
    "            state = int(bitstring[n_readout:], 2)\n",
    "\n",
    "            probs[readout, state] = count\n",
    "\n",
    "        probs /= np.sum(probs)\n",
    "\n",
    "    # probs[k, h] = P_l(k, h)\n",
    "    return probs"
   ],
   "metadata": {
    "collapsed": false
   }
  },
  {
   "cell_type": "code",
   "outputs": [],
   "source": [
    "n_state = 4\n",
    "n_readout = 5\n",
    "energy_norm = 1. / 24.\n",
    "\n",
    "g_values = np.linspace(0., 0.5, 6, endpoint=True)\n",
    "\n",
    "spectra = np.empty((g_values.shape[0], 2 ** n_readout), dtype=float)\n",
    "\n",
    "def get_full_spectrum(g):\n",
    "    \"\"\"Compute and return the distribution P(k) for a value of g.\n",
    "    \"\"\"\n",
    "\n",
    "    spectrum = np.zeros(2 ** n_readout, dtype=float)\n",
    "\n",
    "    for l in range(2 ** n_state):\n",
    "        probs = get_spectrum_for_comp_basis(n_state, n_readout, l, energy_norm, g)\n",
    "        print('Computed spectrum for g = {:.1f} l = {:d}'.format(g, l))\n",
    "\n",
    "        ##################\n",
    "        ### EDIT BELOW ###\n",
    "        ##################\n",
    "\n",
    "        #?\n",
    "\n",
    "        ##################\n",
    "        ### EDIT ABOVE ###\n",
    "        ##################\n",
    "\n",
    "    return spectrum\n",
    "\n",
    "# roll(spectrum, 2^{n_R-1}) => range of k is [-2^{n_R}/2, 2^{n_R}/2 - 1]\n",
    "spectra[0] = np.roll(get_full_spectrum(0.), 2 ** (n_readout - 1))"
   ],
   "metadata": {
    "collapsed": false
   }
  },
  {
   "cell_type": "code",
   "outputs": [],
   "source": [
    "plt.plot(np.linspace(-0.5 / energy_norm, 0.5 / energy_norm, 2 ** n_readout), spectra[0], 'o')\n",
    "plt.xlabel('E/J')\n",
    "plt.ylabel('P(E)')"
   ],
   "metadata": {
    "collapsed": false
   }
  },
  {
   "cell_type": "code",
   "outputs": [],
   "source": [
    "for i in range(1, g_values.shape[0]):\n",
    "    spectra[i] = np.roll(get_full_spectrum(g_values[i]), 2 ** (n_readout - 1))"
   ],
   "metadata": {
    "collapsed": false
   }
  },
  {
   "cell_type": "code",
   "outputs": [],
   "source": [
    "energy_eigenvalues = np.empty((g_values.shape[0], 2 ** n_state))\n",
    "\n",
    "# Extract the energy eigenvalues from spectra and fill the array\n",
    "##################\n",
    "### EDIT BELOW ###\n",
    "##################\n",
    "\n",
    "#energy_eigenvalues[ig, m] = E_ig_m\n",
    "\n",
    "##################\n",
    "### EDIT ABOVE ###\n",
    "##################\n",
    "\n",
    "plt.plot(g_values, energy_eigenvalues)"
   ],
   "metadata": {
    "collapsed": false
   }
  },
  {
   "cell_type": "markdown",
   "metadata": {},
   "source": [
    "## 提出するもの\n",
    "\n",
    "**問題1:「スペクトル推定を実装し、厳密解と照らし合わせる」**\n",
    "- 完成した`trotter_twopi_heisenberg`関数\n",
    "- 完成した状態レジスタの初期化回路\n",
    "- スペクトル推定の結果のヒストグラムと、その解釈"
   ]
  },
  {
   "cell_type": "code",
   "outputs": [],
   "source": [],
   "metadata": {
    "collapsed": false
   }
  }
 ],
 "metadata": {
  "kernelspec": {
   "display_name": "Python 3 (ipykernel)",
   "language": "python",
   "name": "python3"
  },
  "language_info": {
   "codemirror_mode": {
    "name": "ipython",
    "version": 3
   },
   "file_extension": ".py",
   "mimetype": "text/x-python",
   "name": "python",
   "nbconvert_exporter": "python",
   "pygments_lexer": "ipython3",
   "version": "3.8.10"
  }
 },
 "nbformat": 4,
 "nbformat_minor": 4
}
