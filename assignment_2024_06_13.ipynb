{
 "cells": [
  {
   "cell_type": "markdown",
   "metadata": {
    "collapsed": true,
    "pycharm": {
     "name": "#%% md\n"
    }
   },
   "source": [
    "# 【課題】量子データを使った量子機械学習"
   ]
  },
  {
   "cell_type": "markdown",
   "source": [
    "この課題では、量子シミュレーションで生成した状態を入力とした量子機械学習を考えます。考える物理系はスピンが線状に並んだ1次元の横磁場イジング模型です。このスピン系の基底状態と時間発展状態を作り、それらからハミルトニアンのパラメータを決定するという「ハミルトニアン学習」の例を見てみます。決定したいパラメータは横磁場の強さを表す結合定数$h$です。\n",
    "\n",
    "最初は授業内容のおさらいです。"
   ],
   "metadata": {
    "collapsed": false,
    "pycharm": {
     "name": "#%% md\n"
    }
   }
  },
  {
   "cell_type": "code",
   "outputs": [],
   "source": [
    "import sys\n",
    "import shutil\n",
    "import tarfile\n",
    "from google.colab import drive\n",
    "drive.mount('/content/gdrive')\n",
    "shutil.copy('/content/gdrive/MyDrive/qcintro.tar.gz', '.')\n",
    "with tarfile.open('qcintro.tar.gz', 'r:gz') as tar:\n",
    "    tar.extractall(path='/root/.local')\n",
    "\n",
    "sys.path.append('/root/.local/lib/python3.10/site-packages')\n",
    "\n",
    "!git clone -b branch-2024 https://github.com/UTokyo-ICEPP/qc-workbook-lecturenotes\n",
    "!cp -r qc-workbook-lecturenotes/qc_workbook /root/.local/lib/python3.10/site-packages/"
   ],
   "metadata": {
    "collapsed": false
   }
  },
  {
   "cell_type": "code",
   "execution_count": 1,
   "outputs": [],
   "source": [
    "%pip install qiskit-machine-learning\n",
    "\n",
    "# まず必要なモジュールをインポートする\n",
    "import numpy as np\n",
    "import h5py\n",
    "import matplotlib.pyplot as plt\n",
    "\n",
    "from qiskit import QuantumCircuit, transpile\n",
    "from qiskit.circuit import Parameter, ParameterVector\n",
    "from qiskit.circuit.library import TwoLocal, RealAmplitudes\n",
    "from qiskit.primitives import Estimator\n",
    "from qiskit.quantum_info import SparsePauliOp\n",
    "from qiskit_algorithms.minimum_eigensolvers import VQE, NumPyMinimumEigensolver\n",
    "from qiskit_algorithms.optimizers import SLSQP\n",
    "from qiskit_machine_learning.neural_networks import EstimatorQNN\n",
    "from qiskit_machine_learning.algorithms import NeuralNetworkRegressor"
   ],
   "metadata": {
    "collapsed": false,
    "pycharm": {
     "name": "#%%\n"
    }
   }
  },
  {
   "cell_type": "markdown",
   "source": [
    "イジング模型の設定は5/23の授業で使ったものと同じです。\n",
    "\n",
    "まずRyと制御Zゲートからなる2量子ビット回路を考えます。"
   ],
   "metadata": {
    "collapsed": false
   }
  },
  {
   "cell_type": "code",
   "execution_count": 2,
   "outputs": [],
   "source": [
    "# VQE setup\n",
    "num_qubits = 2\n",
    "\n",
    "ansatz = TwoLocal(num_qubits, \"ry\", \"cz\", reps=3)  # Ry gates with trainable parameters and CZ for entanglement\n",
    "ansatz.decompose().draw('mpl')"
   ],
   "metadata": {
    "collapsed": false,
    "pycharm": {
     "name": "#%%\n"
    }
   }
  },
  {
   "cell_type": "markdown",
   "source": [
    "ここで考えるイジング模型には横磁場と縦磁場の混合度合いを表すパラメータ$\\alpha$が入っていて、$\\alpha = 0$が純粋な横磁場、$\\alpha = \\pi/2$が純粋な縦磁場のモデルに対応しています。"
   ],
   "metadata": {
    "collapsed": false,
    "pycharm": {
     "name": "#%% md\n"
    }
   }
  },
  {
   "cell_type": "code",
   "execution_count": 3,
   "outputs": [],
   "source": [
    "# Estimatorを使う\n",
    "estimator = Estimator()\n",
    "optimizer = SLSQP(maxiter=1000)  # Classical optimizer\n",
    "\n",
    "# QiskitのVQEクラスを使う\n",
    "vqe = VQE(estimator, ansatz, optimizer)\n",
    "\n",
    "# 横磁場と縦磁場を持つイジング模型のハミルトニアンを定義\n",
    "def get_hamiltonian(L, J, h, alpha=0):\n",
    "\n",
    "    # タプル型の変数として、ハミルトニアンの各項からなるリストを定義\n",
    "    # (1) パウリ列\n",
    "    # (2) パウリ列に対応する量子ビットのインデックス\n",
    "    # (3) パウリ列の係数\n",
    "    ZZ_tuples = [(\"ZZ\", [i, i + 1], -J) for i in range(0, L - 1)]\n",
    "    Z_tuples = [(\"Z\", [i], -h * np.sin(alpha)) for i in range(0, L)]\n",
    "    X_tuples = [(\"X\", [i], -h * np.cos(alpha)) for i in range(0, L)]\n",
    "\n",
    "    # `from_sparse_list`を使い、SparsePauliOpとしてハミルトニアンを作る\n",
    "    hamiltonian = SparsePauliOp.from_sparse_list([*ZZ_tuples, *Z_tuples, *X_tuples], num_qubits=L)\n",
    "    return hamiltonian.simplify()"
   ],
   "metadata": {
    "collapsed": false,
    "pycharm": {
     "name": "#%%\n"
    }
   }
  },
  {
   "cell_type": "markdown",
   "source": [
    " 例として、$\\alpha = \\pi/8$として、縦磁場と横磁場が混ざっているケースでの基底エネルギーをVQEで求めてみます。隣接ビット間の結合定数は$J = 0.2$、磁場との結合定数は$h = 1.2$とします。"
   ],
   "metadata": {
    "collapsed": false
   }
  },
  {
   "cell_type": "code",
   "outputs": [],
   "source": [
    "# パラメータの設定\n",
    "J = 0.2\n",
    "h = 1.2\n",
    "alpha = np.pi/8\n",
    "H = get_hamiltonian(L=num_qubits, J=J, h=h, alpha=alpha)\n",
    "\n",
    "# VQEで最低エネルギー状態を求める\n",
    "result = vqe.compute_minimum_eigenvalue(H)\n",
    "#print(result)\n",
    "print(f'VQE energy value = {result.optimal_value:.5f}')"
   ],
   "metadata": {
    "collapsed": false
   }
  },
  {
   "cell_type": "markdown",
   "source": [
    "系のサイズが小さいので、厳密対角化して最低エネルギーを計算することが可能です。"
   ],
   "metadata": {
    "collapsed": false
   }
  },
  {
   "cell_type": "code",
   "outputs": [],
   "source": [
    "# ハミルトニアンを厳密体格化し、基底エネルギーを求める\n",
    "numpy_solver = NumPyMinimumEigensolver()\n",
    "result = numpy_solver.compute_minimum_eigenvalue(operator=H)\n",
    "ref_value = result.eigenvalue.real\n",
    "print(f\"Reference energy value = {ref_value:.5f}\")"
   ],
   "metadata": {
    "collapsed": false
   }
  },
  {
   "cell_type": "markdown",
   "source": [
    "## 基底状態からハミルトニアンパラメータを決定する\n",
    "\n",
    "まず、異なる$h$の値に対応する基底状態のデータセットをVQEを使って生成します。単純化のため、`alpha`パラメータは0とします。"
   ],
   "metadata": {
    "collapsed": false,
    "pycharm": {
     "name": "#%% md\n"
    }
   }
  },
  {
   "cell_type": "code",
   "execution_count": 4,
   "outputs": [],
   "source": [
    "Nexp = 5   # あるhの値に対して行う実験回数\n",
    "Ntrain = 20  # 実験あたりの訓練データの数 → この数だけhの値を変えたデータセットを作る\n",
    "\n",
    "J = 0.2\n",
    "alpha = 0\n",
    "\n",
    "# hの値を[0, 1]の範囲でランダムに選ぶ\n",
    "h_list = [np.random.rand() for _ in range(Ntrain)]\n",
    "print(f'Input field strenghs = {h_list}')"
   ],
   "metadata": {
    "collapsed": false,
    "pycharm": {
     "name": "#%%\n"
    }
   }
  },
  {
   "cell_type": "markdown",
   "source": [
    "上で使ったのと同じ一般的な量子回路（`TwoLocal`）を使ってVQEを行い、得られたエネルギーの値をチェックしてみます。"
   ],
   "metadata": {
    "collapsed": false
   }
  },
  {
   "cell_type": "code",
   "outputs": [],
   "source": [
    "# 一般的なアンザッツを使ってVQEを行う\n",
    "vqe_ansatz = TwoLocal(num_qubits, \"ry\", \"cz\", parameter_prefix='x')\n",
    "\n",
    "# OptimizerはSLSQPとする\n",
    "optimizer = SLSQP(maxiter=1000)\n",
    "estimator = Estimator()\n",
    "vqe = VQE(estimator, vqe_ansatz, optimizer)\n",
    "\n",
    "# 異なるhの値を持つ訓練データに対してVQEを行う\n",
    "opt_vqe_energy = []\n",
    "opt_vqe_params = []\n",
    "for i in range(Ntrain):\n",
    "    H = get_hamiltonian(L=num_qubits, J=J, h=h_list[i], alpha=alpha)\n",
    "    result_vqe = vqe.compute_minimum_eigenvalue(H)\n",
    "    opt_vqe_energy.append(result_vqe.optimal_value)\n",
    "    opt_vqe_params.append(list(result_vqe.optimal_parameters.values()))\n",
    "    print('VQE i =',i)\n",
    "\n",
    "# エネルギー値を表示\n",
    "for i in range(Ntrain):\n",
    "    print(f'VQE[{i}] energy value = {opt_vqe_energy[i]:.5f}')"
   ],
   "metadata": {
    "collapsed": false
   }
  },
  {
   "cell_type": "markdown",
   "source": [
    "厳密対角化して得られたエネルギーと比較して、VQEの結果を確認"
   ],
   "metadata": {
    "collapsed": false,
    "pycharm": {
     "name": "#%% md\n"
    }
   }
  },
  {
   "cell_type": "code",
   "execution_count": null,
   "outputs": [],
   "source": [
    "numpy_solver = NumPyMinimumEigensolver()\n",
    "for i in range(Ntrain):\n",
    "    H = get_hamiltonian(L=num_qubits, J=J, h=h_list[i], alpha=alpha)\n",
    "    result = numpy_solver.compute_minimum_eigenvalue(operator=H)\n",
    "    ref_value = result.eigenvalue.real\n",
    "    print(f\"Reference[{i}] energy value = {ref_value:.5f}\")"
   ],
   "metadata": {
    "collapsed": false,
    "pycharm": {
     "name": "#%%\n",
     "is_executing": true
    }
   }
  },
  {
   "cell_type": "markdown",
   "source": [
    "ここで量子機械学習用の回路を作り、ハミルトニアンパラメータの決定を行います。最初に最適化したVQEの回路（`vqe_ansatz`）を置いて基底状態を作り、その後に学習用の量子回路を置いてパラメータ決定をすることを考えます。これはVQE回路を特徴量マップとしてみなすやり方で、こうすることで最適化したVQE回路のパラメータを入力データのように扱うことができます。"
   ],
   "metadata": {
    "collapsed": false,
    "pycharm": {
     "name": "#%% md\n"
    }
   }
  },
  {
   "cell_type": "code",
   "execution_count": null,
   "outputs": [],
   "source": [
    "# 最初の量子ビットを計算基底で測定する\n",
    "pauli = 'I' * (num_qubits - 1)\n",
    "pauli += 'Z'\n",
    "obs = SparsePauliOp([pauli], coeffs = 10.)\n",
    "\n",
    "# 損失関数の値を表示するCallback関数\n",
    "def callback_graph(weights, obj_func_eval):\n",
    "    objective_func_vals.append(obj_func_eval)\n",
    "\n",
    "# 学習用量子回路のCX-RYレイヤーの数\n",
    "nlayer = 3  # CX-RY layers\n",
    "\n",
    "result_exp = []\n",
    "regressor_exp = []\n",
    "objective_func_vals_exp = []\n",
    "\n",
    "# 実験をNexp回繰り返す\n",
    "for iexp in range(Nexp):\n",
    "    \n",
    "    qc = QuantumCircuit(num_qubits)\n",
    "    \n",
    "    # VQE回路\n",
    "    qc.compose(vqe_ansatz, inplace=True)\n",
    "\n",
    "    # 学習用の量子回路\n",
    "    qnn_ansatz = RealAmplitudes(num_qubits=num_qubits, reps=nlayer, parameter_prefix='theta')\n",
    "    qc.compose(qnn_ansatz, inplace=True)\n",
    "\n",
    "    # 学習パラメータの初期値：[0, pi]でランダムに設定\n",
    "    initial_weights = np.random.rand((nlayer+1)*num_qubits)*np.pi\n",
    "\n",
    "    # EstimatorQNNクラスを使う\n",
    "    qnn = EstimatorQNN(\n",
    "        circuit = qc,\n",
    "        input_params = vqe_ansatz.parameters,\n",
    "        weight_params = qnn_ansatz.parameters,\n",
    "        observables = obs\n",
    "    )\n",
    "\n",
    "    # NeuralNetworkRegressorクラスを使い、回帰問題としてhの値を予測する\n",
    "    regressor = NeuralNetworkRegressor(\n",
    "        neural_network = qnn,\n",
    "        loss = \"squared_error\",\n",
    "        optimizer = SLSQP(maxiter=1000),\n",
    "        warm_start = True,\n",
    "        initial_point = initial_weights,\n",
    "        callback = callback_graph\n",
    "    )\n",
    "\n",
    "    objective_func_vals = []\n",
    "    # 最適化したVQE回路パラメータを入力データ、上で設定したhの値を出力データとして回帰を行う\n",
    "    result_regres = regressor.fit(np.array(opt_vqe_params),np.array(h_list))\n",
    "    result_exp.append(result_regres)\n",
    "    regressor_exp.append(regressor)\n",
    "    objective_func_vals_exp.append(objective_func_vals)\n",
    "\n",
    "    print(f'iexp = {iexp}')"
   ],
   "metadata": {
    "collapsed": false,
    "pycharm": {
     "name": "#%%\n",
     "is_executing": true
    }
   }
  },
  {
   "cell_type": "markdown",
   "source": [
    "損失関数のプロファイルを表示する。"
   ],
   "metadata": {
    "collapsed": false,
    "pycharm": {
     "name": "#%% md\n"
    }
   }
  },
  {
   "cell_type": "code",
   "execution_count": null,
   "outputs": [],
   "source": [
    "fig = plt.figure(facecolor=\"w\")\n",
    "ax = fig.add_subplot(1, 1, 1)\n",
    "plt.title('Objective function value against iteration')\n",
    "plt.xlabel(\"Iteration\")\n",
    "plt.ylabel(\"Objective function value\")\n",
    "for iexp in range(Nexp):\n",
    "    plt.plot(range(len(objective_func_vals_exp[iexp])), objective_func_vals_exp[iexp])\n",
    "plt.show()"
   ],
   "metadata": {
    "collapsed": false,
    "pycharm": {
     "name": "#%%\n",
     "is_executing": true
    }
   }
  },
  {
   "cell_type": "markdown",
   "source": [
    "設定した$h$の値（横軸）と予測した$h$の値（縦軸）をプロットする。"
   ],
   "metadata": {
    "collapsed": false
   }
  },
  {
   "cell_type": "code",
   "outputs": [],
   "source": [
    "train_pred_exp = []\n",
    "for iexp in range(Nexp):\n",
    "    train_pred = regressor_exp[iexp].predict(np.array(opt_vqe_params))\n",
    "    train_pred_exp.append(train_pred)\n",
    "    plt.scatter(h_list, train_pred, label='training')\n",
    "plt.title('True vs Predicted values')\n",
    "plt.xlabel('True values')\n",
    "plt.ylabel('Predicted values')\n",
    "plt.xlim(-0.05,1.1)\n",
    "plt.ylim(-0.15,1.25)\n",
    "plt.plot([-0.2,1.2],[-0.2,1.2],'k--')\n",
    "plt.show()"
   ],
   "metadata": {
    "collapsed": false
   }
  },
  {
   "cell_type": "markdown",
   "source": [
    "ここからが問題です。"
   ],
   "metadata": {
    "collapsed": false
   }
  },
  {
   "cell_type": "markdown",
   "source": [
    "### 問題1：VQEの量子回路を変更する\n",
    "\n",
    "ここまでは`TwoLocal`という一般的な量子回路を使ってVQEを行いましたが、より問題に適した量子回路にVQEの回路を変更することを考えます。ここではイジング模型のハミルトニアンを扱っているので、そのハミルトニアンを構成するパウリ演算子を表現する量子回路（**Hamiltonian Variational Ansatz**、**HVA**と呼ばれる）にしてみましょう。\n",
    "\n",
    "上で"
   ],
   "metadata": {
    "collapsed": false,
    "pycharm": {
     "name": "#%% md\n"
    }
   }
  },
  {
   "cell_type": "code",
   "execution_count": null,
   "outputs": [],
   "source": [
    "# 一般的なアンザッツを使ってVQEを行う\n",
    "vqe_ansatz = TwoLocal(num_qubits, \"ry\", \"cz\", parameter_prefix='x')"
   ],
   "metadata": {
    "collapsed": false,
    "pycharm": {
     "name": "#%%\n"
    }
   }
  },
  {
   "cell_type": "markdown",
   "source": [
    "としている部分がありますが、ここをイジング模型のハミルトニアン\n",
    "\n",
    "$$\n",
    "H = -J\\sum_{j=0}^{L-2}Z_iZ_{i+1}-h\\sum_{i=0}^{L-1}X_i\n",
    "$$\n",
    "\n",
    "を表現できるように変更してください。`new_theta_x`という関数は使わなくても書けますが、パラメータ`theta_x`を置きたいところに`new_theta_x()`と書くと、自動でパラメータを追加してくれます。\n",
    "\n",
    "**ヒント1**\n",
    "初期状態に注意してください。ハミルトニアンの形を模倣した量子回路を使った場合、一般的にその回路で生成される状態はヒルベルト空間の一部のみを張るため、初期状態を正しく選んであげないと物理的に意味のある状態に到達できない可能性があります。\n",
    "\n",
    "**ヒント2**\n",
    "このハミルトニアンには$J$と$h$の二つの結合定数がありますが、どちらも量子ビットに依存しない定数です。"
   ],
   "metadata": {
    "collapsed": false
   }
  },
  {
   "cell_type": "code",
   "outputs": [],
   "source": [
    "vqe_ansatz = QuantumCircuit(num_qubits)\n",
    "\n",
    "theta_x = ParameterVector('theta_x')\n",
    "def new_theta_x():\n",
    "    theta_x.resize(len(theta_x) + 1)\n",
    "    return theta_x[-1]\n",
    "\n",
    "##################\n",
    "### EDIT BELOW ###\n",
    "##################\n",
    "\n",
    "#vqe_ansatz.?\n",
    "\n",
    "##################\n",
    "### EDIT ABOVE ###\n",
    "##################\n",
    "\n",
    "# OptimizerはSLSQPとする\n",
    "optimizer = SLSQP(maxiter=1000)\n",
    "estimator = Estimator()\n",
    "vqe = VQE(estimator, vqe_ansatz, optimizer)\n",
    "\n",
    "# 異なるhの値を持つ訓練データに対してVQEを行う\n",
    "opt_vqe_energy = []\n",
    "opt_vqe_params = []\n",
    "for i in range(Ntrain):\n",
    "    H = get_hamiltonian(L=num_qubits, J=J, h=h_list[i], alpha=alpha)\n",
    "    result_vqe = vqe.compute_minimum_eigenvalue(H)\n",
    "    opt_vqe_energy.append(result_vqe.optimal_value)\n",
    "    opt_vqe_params.append(list(result_vqe.optimal_parameters.values()))\n",
    "    print('VQE i =',i)\n",
    "\n",
    "# エネルギー値を表示\n",
    "for i in range(Ntrain):\n",
    "    print(f'VQE[{i}] energy value = {opt_vqe_energy[i]:.5f}')"
   ],
   "metadata": {
    "collapsed": false
   }
  },
  {
   "cell_type": "markdown",
   "source": [
    "イジング模型のHVAが実装できれば、`TwoLocal`に比べて少ない学習パラメータで基底エネルギーに到達できると思います。上で求めた厳密対角化の答えと比較して、確認してください。"
   ],
   "metadata": {
    "collapsed": false
   }
  },
  {
   "cell_type": "markdown",
   "source": [
    "## 時間発展状態を使ってハミルトニアンパラメータを決定する\n",
    "\n",
    "次に、ハミルトニアンによる時間発展を行った状態に対して同じ問題を考えてみます。\n",
    "\n",
    "ハイゼンベルクモデルの時間発展（[物理系を表現する](https://kterashi.github.io/qc-workbook/ja/dynamics_simulation.html#id14)）の実習で、ハミルトニアンの時間発展演算子は鈴木・トロッター分解で近似できることを見ました。ここでも同様に、イジング模型のハミルトニアンに対して鈴木・トロッターの方法で時間発展状態を作り、その状態からパラメータ$h$を決定してみます。時間発展させる回路に使ったパラメータを出力状態から求める問題なので、すでに答えは知っているわけですが、時間発展がどういう影響を与えるのかを見ようという訳です。"
   ],
   "metadata": {
    "collapsed": false
   }
  },
  {
   "cell_type": "markdown",
   "source": [
    "### 問題2：イジング模型の時間発展を行う量子回路を作る\n",
    "\n",
    "以下のセルで、鈴木・トロッターの時間ステップを`num_steps`回実行する回路を作ってください。$h$の値は入力データとして与えるので、`Parameter`で定義した`h_param`を使うとします。`num_spins`は量子ビット数です。\n",
    "\n",
    "**06/21追記** ここでは$\\hbar=1$と鈴木・トロッター分解の時間幅$\\Delta t=1$を仮定してください。以下のヒント2ですが、周期境界条件なしでも答えは出ますが、周期境界条件ありでやるとより明確な結果が出ると思います。\n",
    "\n",
    "**ヒント1**\n",
    "上と同じく、初期状態に注意してください。\n",
    "\n",
    "**ヒント2**\n",
    "周期境界条件を課す（$\\sigma_n^Z$を$\\sigma_0^Z$と同一視する）ことに注意してください。"
   ],
   "metadata": {
    "collapsed": false
   }
  },
  {
   "cell_type": "code",
   "outputs": [],
   "source": [
    "def trotter_ising_circuit(num_spins, J, num_steps):\n",
    "    \n",
    "    circuit = QuantumCircuit(num_spins)\n",
    "\n",
    "    # hをパラメータ化して変更できるようにする    \n",
    "    h_param = Parameter('h_param')\n",
    "\n",
    "    ##################\n",
    "    ### EDIT BELOW ###\n",
    "    ##################\n",
    "\n",
    "    #circuit.?\n",
    "\n",
    "    ##################\n",
    "    ### EDIT ABOVE ###\n",
    "    ##################\n",
    "\n",
    "    return circuit\n"
   ],
   "metadata": {
    "collapsed": false
   }
  },
  {
   "cell_type": "markdown",
   "source": [
    "鈴木・トロッターを1時間ステップ分に相当する回路を表示する。"
   ],
   "metadata": {
    "collapsed": false
   }
  },
  {
   "cell_type": "code",
   "outputs": [],
   "source": [
    "num_steps = 1\n",
    "\n",
    "circuit_single_step = trotter_ising_circuit(num_qubits, J, num_steps)\n",
    "circuit_single_step.draw('mpl')"
   ],
   "metadata": {
    "collapsed": false
   }
  },
  {
   "cell_type": "markdown",
   "source": [
    "1時間ステップ分の鈴木・トロッターで作った状態でパラメータ決定を行う。"
   ],
   "metadata": {
    "collapsed": false
   }
  },
  {
   "cell_type": "code",
   "outputs": [],
   "source": [
    "result_exp = []\n",
    "regressor_exp = []\n",
    "objective_func_vals_exp = []\n",
    "\n",
    "# 実験をNexp回繰り返す\n",
    "for iexp in range(Nexp):\n",
    "    \n",
    "    qc = QuantumCircuit(num_qubits)\n",
    "    \n",
    "    # 時間発展用の回路\n",
    "    state_prep = trotter_ising_circuit(num_qubits, J, num_steps)\n",
    "    qc.compose(state_prep, inplace=True)\n",
    "    \n",
    "    # 学習用の量子回路\n",
    "    qnn_ansatz = RealAmplitudes(num_qubits=num_qubits, reps=nlayer, parameter_prefix='theta')\n",
    "    qc.compose(qnn_ansatz, inplace=True)\n",
    "\n",
    "    # 学習パラメータの初期値：[0, pi]でランダムに設定\n",
    "    initial_weights = np.random.rand((nlayer+1)*num_qubits)*np.pi\n",
    "\n",
    "    # EstimatorQNNクラスを使う\n",
    "    qnn = EstimatorQNN(\n",
    "        circuit = qc,\n",
    "        input_params = state_prep.parameters,\n",
    "        weight_params = qnn_ansatz.parameters,\n",
    "        observables = obs\n",
    "    )\n",
    "\n",
    "    # NeuralNetworkRegressorクラスを使い、回帰問題としてhの値を予測する\n",
    "    regressor = NeuralNetworkRegressor(\n",
    "        neural_network = qnn,\n",
    "        loss = \"squared_error\",\n",
    "        optimizer = SLSQP(maxiter=1000),\n",
    "        warm_start = True,\n",
    "        initial_point = initial_weights,\n",
    "        callback = callback_graph\n",
    "    )\n",
    "\n",
    "    objective_func_vals = []\n",
    "    # 上で設定したhの値を入力データとして時間発展させ、出力状態からhの回帰を行う\n",
    "    result_regres = regressor.fit(np.array([[i] for i in h_list]),np.array(h_list))\n",
    "    result_exp.append(result_regres)\n",
    "    regressor_exp.append(regressor)\n",
    "    objective_func_vals_exp.append(objective_func_vals)\n",
    "\n",
    "    print(f'iexp = {iexp}')"
   ],
   "metadata": {
    "collapsed": false
   }
  },
  {
   "cell_type": "markdown",
   "source": [
    "損失関数のプロファイルを表示する。"
   ],
   "metadata": {
    "collapsed": false
   }
  },
  {
   "cell_type": "code",
   "outputs": [],
   "source": [
    "fig = plt.figure(facecolor=\"w\")\n",
    "ax = fig.add_subplot(1, 1, 1)\n",
    "plt.title('Objective function value against iteration')\n",
    "plt.xlabel(\"Iteration\")\n",
    "plt.ylabel(\"Objective function value\")\n",
    "for iexp in range(Nexp):\n",
    "    plt.plot(range(len(objective_func_vals_exp[iexp])), objective_func_vals_exp[iexp])\n",
    "plt.show()"
   ],
   "metadata": {
    "collapsed": false
   }
  },
  {
   "cell_type": "markdown",
   "source": [
    "設定した$h$の値（横軸）と予測した$h$の値（縦軸）をプロットする。"
   ],
   "metadata": {
    "collapsed": false
   }
  },
  {
   "cell_type": "code",
   "outputs": [],
   "source": [
    "train_pred_exp = []\n",
    "for iexp in range(Nexp):\n",
    "    train_pred = regressor_exp[iexp].predict(np.array([[i] for i in h_list]))\n",
    "    train_pred_exp.append(train_pred)\n",
    "    plt.scatter(h_list, train_pred, label='training')\n",
    "plt.title('True vs Predicted values')\n",
    "plt.xlabel('True values')\n",
    "plt.ylabel('Predicted values')\n",
    "plt.xlim(-0.05,1.1)\n",
    "plt.ylim(-0.15,1.25)\n",
    "plt.plot([-0.2,1.2],[-0.2,1.2],'k--')\n",
    "plt.show()\n"
   ],
   "metadata": {
    "collapsed": false
   }
  },
  {
   "cell_type": "markdown",
   "source": [
    "どのような結果が得られたでしょうか。"
   ],
   "metadata": {
    "collapsed": false
   }
  },
  {
   "cell_type": "markdown",
   "source": [
    "### 問題3：鈴木・トロッターの時間ステップを増やした場合\n",
    "\n",
    "鈴木・トロッターの時間ステップを増やすと、$h$パラメータの決定精度が変わっていくと思います。その様子を調べ、考察してください。"
   ],
   "metadata": {
    "collapsed": false
   }
  },
  {
   "cell_type": "markdown",
   "source": [
    "**提出するもの**\n",
    "\n",
    "- 問題1と問題2の量子回路\n",
    "- 問題3の結果と、その考察"
   ],
   "metadata": {
    "collapsed": false
   }
  },
  {
   "cell_type": "markdown",
   "source": [
    "**問題3の考察**"
   ],
   "metadata": {
    "collapsed": false
   }
  },
  {
   "cell_type": "code",
   "outputs": [],
   "source": [],
   "metadata": {
    "collapsed": false
   }
  }
 ],
 "metadata": {
  "kernelspec": {
   "display_name": "Python 3",
   "language": "python",
   "name": "python3"
  },
  "language_info": {
   "codemirror_mode": {
    "name": "ipython",
    "version": 2
   },
   "file_extension": ".py",
   "mimetype": "text/x-python",
   "name": "python",
   "nbconvert_exporter": "python",
   "pygments_lexer": "ipython2",
   "version": "2.7.6"
  }
 },
 "nbformat": 4,
 "nbformat_minor": 0
}
