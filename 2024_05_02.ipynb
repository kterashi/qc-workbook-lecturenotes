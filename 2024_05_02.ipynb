{
  "cells": [
    {
      "cell_type": "markdown",
      "metadata": {
        "id": "view-in-github",
        "colab_type": "text"
      },
      "source": [
        "<a href=\"https://colab.research.google.com/github/yiiyama/qc-workbook-lecturenotes/blob/branch-2024/2024_05_02.ipynb\" target=\"_parent\"><img src=\"https://colab.research.google.com/assets/colab-badge.svg\" alt=\"Open In Colab\"/></a>"
      ]
    },
    {
      "cell_type": "markdown",
      "id": "f0a1853f-9b96-4e63-9758-fdd0a3513a30",
      "metadata": {
        "id": "f0a1853f-9b96-4e63-9758-fdd0a3513a30"
      },
      "source": [
        "# 第4回：テレポーテーション・フーリエ変換・ダイナミクスシミュレーション\n",
        "\n",
        "\n",
        "$\\newcommand{\\ket}[1]{|#1\\rangle}$\n",
        "$\\newcommand{\\braket}[2]{\\langle #1 | #2 \\rangle}$\n",
        "$\\newcommand{\\upket}{\\ket{\\!\\uparrow}}$\n",
        "$\\newcommand{\\downket}{\\ket{\\!\\downarrow}}$\n",
        "$\\newcommand{\\rightket}{\\ket{\\!\\rightarrow}}$\n",
        "$\\newcommand{\\leftket}{\\ket{\\!\\leftarrow}}$"
      ]
    },
    {
      "cell_type": "markdown",
      "id": "4990b270-6f96-4f17-b01e-459c3a369c75",
      "metadata": {
        "id": "4990b270-6f96-4f17-b01e-459c3a369c75"
      },
      "source": [
        "## 最初に次の三つのセルを実行しておいてください"
      ]
    },
    {
      "cell_type": "code",
      "source": [
        "import sys\n",
        "import shutil\n",
        "import tarfile\n",
        "from google.colab import drive\n",
        "drive.mount('/content/gdrive')\n",
        "shutil.copy('/content/gdrive/MyDrive/qcintro.tar.gz', '.')\n",
        "with tarfile.open('qcintro.tar.gz', 'r:gz') as tar:\n",
        "    tar.extractall(path='/root/.local')\n",
        "\n",
        "sys.path.append('/root/.local/lib/python3.10/site-packages')\n",
        "\n",
        "!git clone -b branch-2024 https://github.com/UTokyo-ICEPP/qc-workbook-lecturenotes\n",
        "!cp -r qc-workbook-lecturenotes/qc_workbook /root/.local/lib/python3.10/site-packages/"
      ],
      "metadata": {
        "id": "928gcrwyYnke"
      },
      "id": "928gcrwyYnke",
      "execution_count": null,
      "outputs": []
    },
    {
      "cell_type": "code",
      "execution_count": null,
      "id": "a6494e44-e1ca-4af8-8b79-b3750fcee037",
      "metadata": {
        "tags": [],
        "id": "a6494e44-e1ca-4af8-8b79-b3750fcee037"
      },
      "outputs": [],
      "source": [
        "# まずは全てインポート\n",
        "import numpy as np\n",
        "import matplotlib.pyplot as plt\n",
        "from IPython.display import Math\n",
        "from qiskit import QuantumRegister, ClassicalRegister, QuantumCircuit, transpile\n",
        "from qiskit.circuit import Parameter\n",
        "from qiskit.providers import JobStatus\n",
        "from qiskit_aer import AerSimulator\n",
        "from qiskit_aer.primitives import SamplerV2 as AerSampler\n",
        "from qiskit_ibm_runtime import QiskitRuntimeService, SamplerV2 as RuntimeSampler\n",
        "from qiskit_ibm_runtime.accounts import AccountNotFoundError\n",
        "from qc_workbook.show_state import statevector_expr\n",
        "from qc_workbook.optimized_additions import optimized_additions\n",
        "from qc_workbook.utils import operational_backend, find_best_chain\n",
        "from qc_workbook.dynamics import make_heisenberg_circuits, plot_heisenberg_spins"
      ]
    },
    {
      "cell_type": "code",
      "execution_count": null,
      "id": "34cb9824-8ee7-403f-8b76-ac0198adf91d",
      "metadata": {
        "tags": [
          "raises-exception",
          "remove-output"
        ],
        "id": "34cb9824-8ee7-403f-8b76-ac0198adf91d"
      },
      "outputs": [],
      "source": [
        "n_spins = 5\n",
        "M = 10\n",
        "omegadt = 0.1\n",
        "\n",
        "runtime_config_path = '/content/gdrive/MyDrive/qiskit-ibm.json'\n",
        "service = QiskitRuntimeService(filename=runtime_config_path)\n",
        "backend = service.least_busy(filters=operational_backend())\n",
        "sampler = RuntimeSampler(backend)\n",
        "\n",
        "print(f'Job will run on {backend.name}')\n",
        "\n",
        "circuits = make_heisenberg_circuits(n_spins, M, omegadt)\n",
        "\n",
        "circuits_ibmq = transpile(circuits, backend=backend)\n",
        "\n",
        "sampler.options.environment.job_tags = ['heisenberg']\n",
        "job_heisenberg = sampler.run(circuits_ibmq, shots=10000)\n",
        "print(f'Submitted job {job_heisenberg.job_id()}')"
      ]
    },
    {
      "cell_type": "markdown",
      "metadata": {
        "id": "2abb4ae9-86dd-41d7-a646-6398f498e7a5"
      },
      "source": [
        "## 先週の続き：量子テレポーテーション"
      ],
      "id": "2abb4ae9-86dd-41d7-a646-6398f498e7a5"
    },
    {
      "cell_type": "code",
      "execution_count": null,
      "metadata": {
        "id": "0c29efcf-b572-4da1-9025-6a60345f6bed"
      },
      "outputs": [],
      "source": [
        "# まずは入力ビットを適当な状態にする回路を作る\n",
        "# circuit.u (U3 gate)は3パラメータで一つの量子ビットを完全にコントロールするゲート\n",
        "prep_circuit = QuantumCircuit(1, name='prep')\n",
        "prep_circuit.u(0.7, 1.8, 2.1, 0)\n",
        "\n",
        "reg_in = QuantumRegister(1, name='in')\n",
        "reg_out = QuantumRegister(2, name='out')\n",
        "res_in = ClassicalRegister(1)\n",
        "res_ent = ClassicalRegister(1)\n",
        "\n",
        "circuit = QuantumCircuit(reg_in, reg_out, res_in, res_ent)\n",
        "\n",
        "# まずreg_inをprep_circuitの状態にする\n",
        "circuit.append(prep_circuit, qargs=reg_in)\n",
        "\n",
        "# reg_outはベル状態に用意する\n",
        "circuit.h(reg_out[0])\n",
        "circuit.cx(reg_out[0], reg_out[1])\n",
        "\n",
        "# reg_inとreg_outの第一ビットをエンタングルさせる\n",
        "circuit.cx(reg_in[0], reg_out[0])\n",
        "\n",
        "# reg_inにアダマールゲートをかけ、測定する\n",
        "circuit.h(reg_in[0])\n",
        "circuit.measure(reg_in[0], res_in[0])\n",
        "\n",
        "# reg_outのエンタングルしたビットも測定する\n",
        "circuit.measure(reg_out[0], res_ent[0])\n",
        "\n",
        "# reg_out[1]にreg_in, reg_entの測定結果に応じたゲートをかける\n",
        "circuit.x(reg_out[1]).c_if(res_ent[0], 1)\n",
        "circuit.z(reg_out[1]).c_if(res_in[0], 1)\n",
        "\n",
        "circuit.draw('mpl')"
      ],
      "id": "0c29efcf-b572-4da1-9025-6a60345f6bed"
    },
    {
      "cell_type": "markdown",
      "metadata": {
        "id": "91307d15-c2ff-4fe3-b2c6-b9d80ae7468f"
      },
      "source": [
        "入力ビットの状態は"
      ],
      "id": "91307d15-c2ff-4fe3-b2c6-b9d80ae7468f"
    },
    {
      "cell_type": "code",
      "execution_count": null,
      "metadata": {
        "id": "6361f9c2-7c43-4796-a89e-5a951e30fa3e"
      },
      "outputs": [],
      "source": [
        "Math(statevector_expr(prep_circuit, state_label=r'\\text{in}'))"
      ],
      "id": "6361f9c2-7c43-4796-a89e-5a951e30fa3e"
    },
    {
      "cell_type": "markdown",
      "metadata": {
        "id": "6e363bb1-f45f-45ab-bd40-86f5b732f0b9"
      },
      "source": [
        "回路の終状態は"
      ],
      "id": "6e363bb1-f45f-45ab-bd40-86f5b732f0b9"
    },
    {
      "cell_type": "code",
      "execution_count": null,
      "metadata": {
        "id": "07f60341-007d-441c-8c01-f1a4dc5cf4ee"
      },
      "outputs": [],
      "source": [
        "Math(statevector_expr(circuit, register_sizes=(1, 1, 1)))"
      ],
      "id": "07f60341-007d-441c-8c01-f1a4dc5cf4ee"
    },
    {
      "cell_type": "markdown",
      "metadata": {
        "id": "953ebe0c-4cc4-4420-acd7-78cad8b502c1"
      },
      "source": [
        "## 先週の続き：トランスパイル\n",
        "\n",
        "[ibm_osakaのトポロジー](https://quantum.ibm.com/services/resources?tab=systems&system=ibm_osaka)"
      ],
      "id": "953ebe0c-4cc4-4420-acd7-78cad8b502c1"
    },
    {
      "cell_type": "code",
      "execution_count": null,
      "metadata": {
        "id": "8c515637-32a6-4fd7-8f59-2dea7bd4b133"
      },
      "outputs": [],
      "source": [
        "runtime_config_path = '/content/gdrive/MyDrive/qiskit-ibm.json'\n",
        "service = QiskitRuntimeService(filename=runtime_config_path)\n",
        "backend = service.backend('ibm_osaka')"
      ],
      "id": "8c515637-32a6-4fd7-8f59-2dea7bd4b133"
    },
    {
      "cell_type": "code",
      "execution_count": null,
      "metadata": {
        "id": "265046fa-d952-4798-8344-9e6cbf01eece"
      },
      "outputs": [],
      "source": [
        "# 論理ビット0と1の間でCXをかけるだけの回路\n",
        "circuit = QuantumCircuit(2)\n",
        "circuit.cx(0, 1)\n",
        "\n",
        "# 論理ビットをあえて離れた物理ビットにマップする\n",
        "circuit = transpile(circuit, backend=backend, initial_layout=[0, 4], basis_gates=['x', 'sx', 'rz', 'cx'])\n",
        "circuit.draw('mpl', idle_wires=False)"
      ],
      "id": "265046fa-d952-4798-8344-9e6cbf01eece"
    },
    {
      "cell_type": "code",
      "execution_count": null,
      "metadata": {
        "id": "1b5d8979-734e-4246-8ae2-7bc31f55d6bb"
      },
      "outputs": [],
      "source": [
        "# Toffoliゲートの回路\n",
        "circuit = QuantumCircuit(3)\n",
        "circuit.ccx(0, 1, 2)\n",
        "\n",
        "circuit.draw('mpl')"
      ],
      "id": "1b5d8979-734e-4246-8ae2-7bc31f55d6bb"
    },
    {
      "cell_type": "code",
      "execution_count": null,
      "metadata": {
        "id": "7c2ce755-eda0-45eb-becc-b6ee1c981f85"
      },
      "outputs": [],
      "source": [
        "# 実機に送られる回路\n",
        "circuit = transpile(circuit, backend=backend)\n",
        "circuit.draw('mpl', idle_wires=False)"
      ],
      "id": "7c2ce755-eda0-45eb-becc-b6ee1c981f85"
    },
    {
      "cell_type": "markdown",
      "id": "f02ec556-77d5-4a53-b4bb-de64a0bebf63",
      "metadata": {
        "id": "f02ec556-77d5-4a53-b4bb-de64a0bebf63"
      },
      "source": [
        "## 量子フーリエ変換\n",
        "\n",
        "$$\n",
        "U_{\\mathrm{QFT}} \\ket{j} = \\frac{1}{\\sqrt{2^n}}\\sum_{k=0}^{2^n-1} e^{2\\pi i jk/2^n} \\ket{k}\n",
        "$$\n",
        "\n",
        "QFTは量子回路で実装でき、線形なので、状態$\\ket{\\psi} = \\sum_{j=0}^{2^n-1} c_j \\ket{j}$に対しては\n",
        "\n",
        "$$\n",
        "\\begin{split}\n",
        "U_{\\mathrm{QFT}} \\ket{\\psi} & = \\frac{1}{\\sqrt{2^n}} \\sum_{j=0}^{2^n-1} c_j \\sum_{k=0}^{2^n-1} e^{2\\pi i jk/2^n} \\ket{k} \\\\\n",
        "& = \\frac{1}{\\sqrt{2^n}} \\sum_{k=0}^{2^n-1} \\tilde{c}_k \\ket{k} \\quad \\left( \\tilde{c}_k = \\sum_{j=0}^{2^n-1} c_j e^{2\\pi i jk/2^n} \\right)\n",
        "\\end{split}\n",
        "$$\n",
        "\n",
        "となり、振幅$\\{c_j\\}_j$の離散フーリエ変換が引き起こされることがわかります。\n",
        "\n",
        "**例：$n=6$の時のQFT回路**"
      ]
    },
    {
      "cell_type": "code",
      "execution_count": null,
      "id": "e10cec23-720c-4c82-932f-70333e4cffe7",
      "metadata": {
        "tags": [],
        "id": "e10cec23-720c-4c82-932f-70333e4cffe7"
      },
      "outputs": [],
      "source": [
        "num_qubits = 6\n",
        "\n",
        "circuit = QuantumCircuit(num_qubits)\n",
        "\n",
        "# 具体的にするため、入力状態を|23>とする\n",
        "j = 23\n",
        "\n",
        "## jの２進数表現で値が1になっているビットに対してXを作用させる -> 状態|j>を作る\n",
        "\n",
        "for i in range(num_qubits):\n",
        "    # j >> i: 整数jをi桁だけ右にビットシフトする。\n",
        "    # 例えば j=13=001101 を i=2 右にシフトすると、000011 (右端の01が切り捨てられる)となる。\n",
        "    # a & 1: 整数aと1とのビットごとのANDを取る。要するに一番右端のビットに1があるかどうかを見る。\n",
        "    if ((j >> i) & 1) == 1:\n",
        "        circuit.x(i)\n",
        "\n",
        "circuit.barrier()\n",
        "\n",
        "## ここからがQFT\n",
        "\n",
        "# n-1から0まで標的ビットについてループ\n",
        "for itarg in range(num_qubits - 1, -1, -1):\n",
        "    # 標的ビットにアダマールゲートをかける\n",
        "    circuit.h(itarg)\n",
        "    # target - 1から0まで制御ビットについてループ\n",
        "    for ictrl in range(itarg - 1, -1, -1):\n",
        "        # 標的と制御ビットのインデックスに応じた角度で制御Pゲートをかける\n",
        "        power = ictrl - itarg - 1 + num_qubits\n",
        "        circuit.cp((2 ** power) * 2. * np.pi / (2 ** num_qubits), ictrl, itarg)\n",
        "\n",
        "    # 回路図を見やすくするためにバリアを入れる\n",
        "    circuit.barrier()\n",
        "\n",
        "# 最後にビットの順番を反転させる\n",
        "for i in range(num_qubits // 2):\n",
        "    circuit.swap(i, num_qubits - 1 - i)\n",
        "\n",
        "## ここまでがQFT\n",
        "\n",
        "circuit.draw('mpl')"
      ]
    },
    {
      "cell_type": "markdown",
      "id": "34020ea4-7727-4cfa-838d-2cced9b29a2c",
      "metadata": {
        "id": "34020ea4-7727-4cfa-838d-2cced9b29a2c"
      },
      "source": [
        "**状態ベクトルの表示**"
      ]
    },
    {
      "cell_type": "code",
      "execution_count": null,
      "id": "4e86580e-7ef1-4a37-a719-11af24be639f",
      "metadata": {
        "tags": [],
        "id": "4e86580e-7ef1-4a37-a719-11af24be639f"
      },
      "outputs": [],
      "source": [
        "sqrt_2_to_n = 2 ** (num_qubits // 2)\n",
        "amp_norm = (1. / sqrt_2_to_n, r'\\frac{1}{%d}' % sqrt_2_to_n)\n",
        "phase_norm = (2 * np.pi / (2 ** num_qubits), r'\\frac{2 \\pi i}{%d}' % (2 ** num_qubits))\n",
        "expr = statevector_expr(circuit, amp_norm=amp_norm, phase_norm=phase_norm)\n",
        "Math(expr)"
      ]
    },
    {
      "cell_type": "markdown",
      "id": "88127955-4188-4389-a264-0f8852c83f4c",
      "metadata": {
        "id": "88127955-4188-4389-a264-0f8852c83f4c"
      },
      "source": [
        "## 量子フーリエ変換による足し算\n",
        "\n",
        "$$\n",
        "\\ket{0}_{\\mathrm{out}}\\ket{b}_{\\mathrm{in2}}\\ket{a}_{\\mathrm{in1}} \\rightarrow \\ket{a+b}_{\\mathrm{out}}\\ket{b}_{\\mathrm{in2}}\\ket{a}_{\\mathrm{in1}}\n",
        "$$\n",
        "\n",
        "**足し算回路を組む関数**"
      ]
    },
    {
      "cell_type": "code",
      "execution_count": null,
      "id": "3701117f-35c2-4a93-ba7b-cca153f34905",
      "metadata": {
        "tags": [
          "remove-output"
        ],
        "id": "3701117f-35c2-4a93-ba7b-cca153f34905"
      },
      "outputs": [],
      "source": [
        "def setup_addition(circuit, reg1, reg2, reg3):\n",
        "    # reg3にequal superpositionを生成\n",
        "    # QuantumCircuitの1量子ビットゲートに対応するメソッド（circuit.hなど）に単一の量子ビットの代わりに\n",
        "    # レジスタや量子ビットのリストを渡すと、含まれる全ての量子ビットに同じゲートをかけてくれる\n",
        "    circuit.h(reg3)\n",
        "\n",
        "    # 位相の単位（dphiの整数倍の位相をCPゲートでかけていく）\n",
        "    dphi = 2. * np.pi / (2 ** reg3.size)\n",
        "\n",
        "    # reg1とreg2それぞれの量子ビットで制御する\n",
        "    for reg_ctrl in [reg1, reg2]:\n",
        "        # 制御ビットに関するループ\n",
        "        for ictrl, qctrl in enumerate(reg_ctrl):\n",
        "            # reg3の標的ビットに関するループ\n",
        "            for itarg, qtarg in enumerate(reg3):\n",
        "                # C[P(phi)], phi = 2pi * 2^{ictrl} * 2^{itarg} / 2^{n3}\n",
        "                circuit.cp(dphi * (2 ** (ictrl + itarg)), qctrl, qtarg)\n",
        "\n",
        "    # 回路図を見やすくするためのバリア\n",
        "    circuit.barrier()\n",
        "\n",
        "    # Inverse QFT\n",
        "    for j in range(reg3.size // 2):\n",
        "        circuit.swap(reg3[j], reg3[-1 - j])\n",
        "\n",
        "    for itarg in range(reg3.size):\n",
        "        for ictrl in range(itarg):\n",
        "            power = ictrl - itarg - 1 + reg3.size\n",
        "            circuit.cp(-dphi * (2 ** power), reg3[ictrl], reg3[itarg])\n",
        "\n",
        "        circuit.h(reg3[itarg])\n",
        "\n",
        "print('Defined function setup_addition')"
      ]
    },
    {
      "cell_type": "markdown",
      "id": "8d433f65-667a-4599-8869-d610f5460f29",
      "metadata": {
        "id": "8d433f65-667a-4599-8869-d610f5460f29"
      },
      "source": [
        "**9+13を計算する**"
      ]
    },
    {
      "cell_type": "code",
      "execution_count": null,
      "id": "713d0bc2-153a-4bcf-bb69-0ff17c3e4ddf",
      "metadata": {
        "tags": [],
        "id": "713d0bc2-153a-4bcf-bb69-0ff17c3e4ddf"
      },
      "outputs": [],
      "source": [
        "a = 9\n",
        "b = 13\n",
        "\n",
        "# 入力の値を二進数表現できる最小のビット数を計算\n",
        "n1 = np.ceil(np.log2(a + 1)).astype(int)\n",
        "n2 = np.ceil(np.log2(b + 1)).astype(int)\n",
        "n3 = np.ceil(np.log2(a + b + 1)).astype(int)\n",
        "\n",
        "print(f'n1={n1}, n2={n2}, n3={n3}')\n",
        "\n",
        "reg1 = QuantumRegister(n1, 'r1')\n",
        "reg2 = QuantumRegister(n2, 'r2')\n",
        "reg3 = QuantumRegister(n3, 'r3')\n",
        "\n",
        "# QuantumCircuitは量子ビット数の代わりにレジスタを渡しても作成できる\n",
        "circuit = QuantumCircuit(reg1, reg2, reg3)\n",
        "\n",
        "# reg1を|a>にする\n",
        "a_bits = np.unpackbits(np.asarray(a, dtype=np.uint8), bitorder='little')\n",
        "for idx in np.nonzero(a_bits)[0]:\n",
        "    circuit.x(reg1[idx])\n",
        "\n",
        "# reg2を|b>にする\n",
        "b_bits = np.unpackbits(np.asarray(b, dtype=np.uint8), bitorder='little')\n",
        "for idx in np.nonzero(b_bits)[0]:\n",
        "    circuit.x(reg2[idx])\n",
        "\n",
        "# 足し算ルーチンを呼ぶ\n",
        "setup_addition(circuit, reg1, reg2, reg3)\n",
        "\n",
        "# 回路図を確認\n",
        "circuit.draw('mpl')"
      ]
    },
    {
      "cell_type": "markdown",
      "id": "52ae0eaa-8256-4365-ad8b-df5a9ede3754",
      "metadata": {
        "id": "52ae0eaa-8256-4365-ad8b-df5a9ede3754"
      },
      "source": [
        "**終状態**"
      ]
    },
    {
      "cell_type": "code",
      "execution_count": null,
      "id": "75b337cb-99b6-4080-b997-e97c142a0e60",
      "metadata": {
        "tags": [],
        "id": "75b337cb-99b6-4080-b997-e97c142a0e60"
      },
      "outputs": [],
      "source": [
        "expr = statevector_expr(circuit, register_sizes=(n1, n2, n3))\n",
        "Math(expr)"
      ]
    },
    {
      "cell_type": "markdown",
      "id": "e4117cde-5595-4591-9f2d-0438c98c1e83",
      "metadata": {
        "id": "e4117cde-5595-4591-9f2d-0438c98c1e83"
      },
      "source": [
        "### 足し算の並列化\n",
        "\n",
        "$$\n",
        "\\frac{1}{\\sqrt{2^{n_1 + n_2}}} \\sum_{j=0}^{2^{n_1}-1} \\sum_{k=0}^{2^{n_2}-1} \\ket{0}\\ket{k}\\ket{j} \\rightarrow \\frac{1}{\\sqrt{2^{n_1 + n_2}}} \\sum_{j=0}^{2^{n_1}-1} \\sum_{k=0}^{2^{n_2}-1} \\ket{j+k}\\ket{k}\\ket{j}\n",
        "$$"
      ]
    },
    {
      "cell_type": "code",
      "execution_count": null,
      "id": "f85bb7b7-67b7-460c-8f93-1dd130f6b119",
      "metadata": {
        "tags": [],
        "id": "f85bb7b7-67b7-460c-8f93-1dd130f6b119"
      },
      "outputs": [],
      "source": [
        "n1 = 4\n",
        "n2 = 4\n",
        "n3 = np.ceil(np.log2((2 ** n1) + (2 ** n2) - 1)).astype(int)\n",
        "\n",
        "reg1 = QuantumRegister(n1, 'r1')\n",
        "reg2 = QuantumRegister(n2, 'r2')\n",
        "reg3 = QuantumRegister(n3, 'r3')\n",
        "\n",
        "circuit = QuantumCircuit(reg1, reg2, reg3)\n",
        "\n",
        "# reg1とreg2をequal superpositionにする\n",
        "circuit.h(reg1)\n",
        "circuit.h(reg2)\n",
        "\n",
        "setup_addition(circuit, reg1, reg2, reg3)\n",
        "\n",
        "expr = statevector_expr(circuit, register_sizes=(n1, n2, n3), amp_norm=(1. / np.sqrt(2 ** (n1 + n2)), r'\\frac{1}{\\sqrt{2^{n_1 + n_2}}}'))\n",
        "Math(expr)"
      ]
    },
    {
      "cell_type": "markdown",
      "id": "36d52e6b-3288-4440-afda-a7be3f944f17",
      "metadata": {
        "id": "36d52e6b-3288-4440-afda-a7be3f944f17"
      },
      "source": [
        "### シミュレータでの実行"
      ]
    },
    {
      "cell_type": "code",
      "execution_count": null,
      "id": "678937d6-73fa-4b73-962a-1be527384a37",
      "metadata": {
        "tags": [
          "remove-output"
        ],
        "id": "678937d6-73fa-4b73-962a-1be527384a37"
      },
      "outputs": [],
      "source": [
        "simulator = AerSimulator()\n",
        "sampler = AerSampler()\n",
        "\n",
        "# 回路に測定を加えてトランスパイルする\n",
        "circuit.measure_all()\n",
        "circuit = transpile(circuit, backend=simulator)\n",
        "\n",
        "job = sampler.run([circuit], shots=20)\n",
        "counts = job.result()[0].data.meas.get_counts()\n",
        "\n",
        "heights = []\n",
        "labels = []\n",
        "\n",
        "for key, value in counts.items():\n",
        "    heights.append(value)\n",
        "\n",
        "    # countsのキーはひとつなぎの二進数なので、出力, 入力2, 入力1の値が読み取れるように切り分ける\n",
        "    # 4 + 4 桁なら\n",
        "    #  00110 0101 0001 -> 6 = 5 + 1\n",
        "    #  n3    n2   n1\n",
        "    x1 = int(key[-n1:], 2) # last n1 digits\n",
        "    x2 = int(key[-n1 - n2:-n1], 2) # next-to-last n2 digits\n",
        "    x3 = int(key[:-n1 - n2], 2) # first n3 digits\n",
        "    labels.append(f'{x1} + {x2} = {x3}')\n",
        "\n",
        "x = np.linspace(0., len(labels), len(labels), endpoint=False)\n",
        "\n",
        "# 棒グラフをプロット\n",
        "plt.bar(x, heights, width=0.5)\n",
        "\n",
        "# ビジュアルを調整\n",
        "plt.xticks(ticks=(x - 0.2), labels=labels, rotation=70)\n",
        "plt.tick_params('x', length=0.)"
      ]
    },
    {
      "cell_type": "markdown",
      "id": "b975144e-9dc0-48a8-ab23-652bb711c836",
      "metadata": {
        "id": "b975144e-9dc0-48a8-ab23-652bb711c836"
      },
      "source": [
        "## 量子ダイナミクスシミュレーション"
      ]
    },
    {
      "cell_type": "markdown",
      "id": "6600bb83-2211-4886-bd8c-dcaccf7569b5",
      "metadata": {
        "id": "6600bb83-2211-4886-bd8c-dcaccf7569b5"
      },
      "source": [
        "### $\\exp \\left(\\frac{i\\theta}{2} \\sigma^{X,Y,Z}_{j+1} \\sigma^{X,Y,Z}_{j}\\right)$の実装"
      ]
    },
    {
      "cell_type": "code",
      "execution_count": null,
      "id": "fac999c5-9ccf-4f9f-9d6d-caa91073217f",
      "metadata": {
        "tags": [],
        "id": "fac999c5-9ccf-4f9f-9d6d-caa91073217f"
      },
      "outputs": [],
      "source": [
        "# Rzzの回路\n",
        "circuit = QuantumCircuit(QuantumRegister(2, 'spin'))\n",
        "circuit.cx(0, 1)\n",
        "circuit.rz(Parameter(r'-$\\theta$'), 1)\n",
        "circuit.cx(0, 1)\n",
        "circuit.draw('mpl')"
      ]
    },
    {
      "cell_type": "code",
      "execution_count": null,
      "id": "766aa549-2332-415f-bba9-ee05e7674938",
      "metadata": {
        "tags": [],
        "id": "766aa549-2332-415f-bba9-ee05e7674938"
      },
      "outputs": [],
      "source": [
        "# equal superpositionにRzzをかけてみる\n",
        "theta = 0.2\n",
        "\n",
        "circuit = QuantumCircuit(QuantumRegister(2, 'spin'))\n",
        "\n",
        "circuit.h([0, 1])\n",
        "\n",
        "circuit.cx(0, 1)\n",
        "circuit.rz(-theta, 1)\n",
        "circuit.cx(0, 1)\n",
        "\n",
        "Math(statevector_expr(circuit, phase_norm=None, amp_norm=(0.5, r'\\frac{1}{2}'), binary=True))"
      ]
    },
    {
      "cell_type": "code",
      "execution_count": null,
      "id": "de0627c5-b50c-4a83-8136-12b8a9ec86af",
      "metadata": {
        "tags": [],
        "id": "de0627c5-b50c-4a83-8136-12b8a9ec86af"
      },
      "outputs": [],
      "source": [
        "# Rxxの回路\n",
        "circuit = QuantumCircuit(QuantumRegister(2, 'q'))\n",
        "# 基底の変換（Xの固有ベクトルをZの固有ベクトルに）\n",
        "circuit.h(0)\n",
        "circuit.h(1)\n",
        "# Rzz\n",
        "circuit.cx(0, 1)\n",
        "circuit.rz(Parameter(r'-$\\theta$'), 1)\n",
        "circuit.cx(0, 1)\n",
        "# 基底の逆変換（Zの固有ベクトルをXの固有ベクトルに）\n",
        "circuit.h(0)\n",
        "circuit.h(1)\n",
        "\n",
        "circuit.draw('mpl')"
      ]
    },
    {
      "cell_type": "code",
      "execution_count": null,
      "id": "089b88dd-6c3e-4282-96e3-69a9e29b6bde",
      "metadata": {
        "tags": [],
        "id": "089b88dd-6c3e-4282-96e3-69a9e29b6bde"
      },
      "outputs": [],
      "source": [
        "# Ryyの回路\n",
        "circuit = QuantumCircuit(QuantumRegister(2, 'q'))\n",
        "# 基底の変換（Yの固有ベクトルをXの固有ベクトルに）\n",
        "circuit.p(-np.pi / 2., 0)\n",
        "circuit.p(-np.pi / 2., 1)\n",
        "# 基底の変換（Xの固有ベクトルをZの固有ベクトルに）\n",
        "circuit.h(0)\n",
        "circuit.h(1)\n",
        "# Rzz\n",
        "circuit.cx(0, 1)\n",
        "circuit.rz(Parameter(r'-$\\theta$'), 1)\n",
        "circuit.cx(0, 1)\n",
        "# 基底の逆変換（Zの固有ベクトルをXの固有ベクトルに）\n",
        "circuit.h(0)\n",
        "circuit.h(1)\n",
        "# 基底の逆変換（Xの固有ベクトルをYの固有ベクトルに）\n",
        "circuit.p(np.pi / 2., 0)\n",
        "circuit.p(np.pi / 2., 1)\n",
        "\n",
        "circuit.draw('mpl')"
      ]
    },
    {
      "cell_type": "markdown",
      "id": "01fda0cb-95f2-4183-8c27-6e0c071c1f2b",
      "metadata": {
        "id": "01fda0cb-95f2-4183-8c27-6e0c071c1f2b"
      },
      "source": [
        "## ハイゼンベルグモデルの回路\n",
        "\n",
        "初期状態$\\upket\\upket\\upket\\upket\\rightket \\leftrightarrow \\ket{0}\\ket{0}\\ket{0}\\ket{0}\\frac{1}{\\sqrt{2}}(\\ket{0} + \\ket{1})$）"
      ]
    },
    {
      "cell_type": "code",
      "execution_count": null,
      "id": "9c1eb721-6fe3-441c-9ab6-7fa004a3d593",
      "metadata": {
        "tags": [],
        "id": "9c1eb721-6fe3-441c-9ab6-7fa004a3d593"
      },
      "outputs": [],
      "source": [
        "n_spins = 5\n",
        "M = 10\n",
        "omegadt = 0.1\n",
        "\n",
        "circuits = []\n",
        "\n",
        "circuit = QuantumCircuit(n_spins)\n",
        "\n",
        "# 第0ビットを 1/√2 (|0> + |1>) にする\n",
        "circuit.h(0)\n",
        "\n",
        "# Δtでの時間発展をM回繰り返すループ\n",
        "for istep in range(M):\n",
        "    # ハミルトニアンのn-1個の項への分解に関するループ\n",
        "    for jspin in range(n_spins - 1):\n",
        "        # ZZ\n",
        "        circuit.cx(jspin, jspin + 1)\n",
        "        circuit.rz(-omegadt, jspin + 1)\n",
        "        circuit.cx(jspin, jspin + 1)\n",
        "\n",
        "        # XX\n",
        "        circuit.h(jspin)\n",
        "        circuit.h(jspin + 1)\n",
        "        circuit.cx(jspin, jspin + 1)\n",
        "        circuit.rz(-omegadt, jspin + 1)\n",
        "        circuit.cx(jspin, jspin + 1)\n",
        "        circuit.h(jspin)\n",
        "        circuit.h(jspin + 1)\n",
        "\n",
        "        # YY\n",
        "        circuit.p(-np.pi / 2., jspin)\n",
        "        circuit.p(-np.pi / 2., jspin + 1)\n",
        "        circuit.h(jspin)\n",
        "        circuit.h(jspin + 1)\n",
        "        circuit.cx(jspin, jspin + 1)\n",
        "        circuit.rz(-omegadt, jspin + 1)\n",
        "        circuit.cx(jspin, jspin + 1)\n",
        "        circuit.h(jspin)\n",
        "        circuit.h(jspin + 1)\n",
        "        circuit.p(np.pi / 2., jspin)\n",
        "        circuit.p(np.pi / 2., jspin + 1)\n",
        "\n",
        "    # この時点での回路のコピーをリストに保存\n",
        "    # measure_all(inplace=False) はここまでの回路のコピーに測定を足したものを返す\n",
        "    circuits.append(circuit.measure_all(inplace=False))\n",
        "\n",
        "print(f'{len(circuits)} circuits created')"
      ]
    },
    {
      "cell_type": "markdown",
      "id": "203734e1-e2cd-4828-acb9-d6175e3905b0",
      "metadata": {
        "id": "203734e1-e2cd-4828-acb9-d6175e3905b0"
      },
      "source": [
        "AerSimulatorで実行"
      ]
    },
    {
      "cell_type": "code",
      "execution_count": null,
      "id": "3227232a-37c0-41e0-9537-b998651ce891",
      "metadata": {
        "tags": [],
        "id": "3227232a-37c0-41e0-9537-b998651ce891"
      },
      "outputs": [],
      "source": [
        "# Define the initial statevector\n",
        "initial_state = np.zeros(2 ** n_spins, dtype=np.complex128)\n",
        "initial_state[0:2] = np.sqrt(0.5)\n",
        "\n",
        "shots = 100000\n",
        "\n",
        "simulator = AerSimulator()\n",
        "sampler = AerSampler()\n",
        "\n",
        "circuits = transpile(circuits, backend=simulator)\n",
        "sim_job = sampler.run(circuits, shots=shots)\n",
        "sim_counts_list = [result.data.meas.get_counts() for result in sim_job.result()]\n",
        "\n",
        "plot_heisenberg_spins(sim_counts_list, n_spins, initial_state, omegadt, add_theory_curve=True)"
      ]
    },
    {
      "cell_type": "markdown",
      "id": "b45dd0f2-1110-4e6f-83b7-c11d07921221",
      "metadata": {
        "id": "b45dd0f2-1110-4e6f-83b7-c11d07921221"
      },
      "source": [
        "講義の最初に投げたジョブは同じ内容を実機で実行するもの"
      ]
    },
    {
      "cell_type": "code",
      "execution_count": null,
      "id": "276b44ac-4bb9-4d02-9b4d-4cf60d03d845",
      "metadata": {
        "tags": [
          "raises-exception",
          "remove-output"
        ],
        "id": "276b44ac-4bb9-4d02-9b4d-4cf60d03d845"
      },
      "outputs": [],
      "source": [
        "## ノートブックを再起動したなどの理由で、もともとのジョブオブジェクトにアクセスできない場合\n",
        "## __backend_name__ と __job_id__ はIBM Quantumのページの Recent jobsから確認できる\n",
        "# backend = service.backend('__backend_name__')\n",
        "# job_heisenberg = service.job('__job_id__')\n",
        "\n",
        "if job_heisenberg.status() == JobStatus.DONE:\n",
        "    counts_list = job_heisenberg.result().get_counts()\n",
        "    plot_heisenberg_spins(counts_list, n_spins, initial_state, omegadt, add_theory_curve=True)\n",
        "else:\n",
        "    print('Sorry, come back later!')"
      ]
    },
    {
      "cell_type": "code",
      "source": [],
      "metadata": {
        "id": "R7M6aDkY50Bg"
      },
      "id": "R7M6aDkY50Bg",
      "execution_count": null,
      "outputs": []
    }
  ],
  "metadata": {
    "kernelspec": {
      "display_name": "Python 3 (ipykernel)",
      "language": "python",
      "name": "python3"
    },
    "language_info": {
      "codemirror_mode": {
        "name": "ipython",
        "version": 3
      },
      "file_extension": ".py",
      "mimetype": "text/x-python",
      "name": "python",
      "nbconvert_exporter": "python",
      "pygments_lexer": "ipython3",
      "version": "3.10.6"
    },
    "colab": {
      "provenance": [],
      "include_colab_link": true
    }
  },
  "nbformat": 4,
  "nbformat_minor": 5
}