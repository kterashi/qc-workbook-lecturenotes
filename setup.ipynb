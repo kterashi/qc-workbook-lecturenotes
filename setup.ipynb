{
  "cells": [
    {
      "cell_type": "markdown",
      "metadata": {
        "colab_type": "text",
        "id": "view-in-github"
      },
      "source": [
        "<a href=\"https://colab.research.google.com/github/UTokyo-ICEPP/qc-workbook-lecturenotes/blob/branch-2025/setup.ipynb\" target=\"_parent\"><img src=\"https://colab.research.google.com/assets/colab-badge.svg\" alt=\"Open In Colab\"/></a>"
      ]
    },
    {
      "cell_type": "markdown",
      "metadata": {
        "id": "eCdfP6jD5buu"
      },
      "source": [
        "# 環境整備"
      ]
    },
    {
      "cell_type": "markdown",
      "metadata": {
        "id": "yJqS5IMc5glb"
      },
      "source": [
        "## Qiskitと関連ライブラリのインストール\n",
        "\n",
        "Google Colabではノートブックファイルを開くたびに全く新しい実行環境が提供されるので、そのままではQiskitなど量子計算用のライブラリが使えません。毎回インストールしてもいいですが、一度個人のGoogle Drive上にライブラリファイルをコピーしておき、以降はそのファイルを参照することにしましょう。"
      ]
    },
    {
      "cell_type": "code",
      "execution_count": null,
      "metadata": {
        "id": "Rxnx8o3Y6Sld"
      },
      "outputs": [],
      "source": [
        "import os\n",
        "import sys\n",
        "import tarfile\n",
        "import shutil\n",
        "sys.path.append('/root/.local/lib/python3.10/site-packages')\n",
        "from google.colab import drive\n",
        "drive.mount('/content/gdrive')"
      ]
    },
    {
      "cell_type": "code",
      "execution_count": null,
      "metadata": {
        "id": "RhKTT8cw7ULp"
      },
      "outputs": [],
      "source": [
        "!pip install --user qiskit qiskit-ibm-runtime qiskit-aer qiskit-nature pylatexenc"
      ]
    },
    {
      "cell_type": "markdown",
      "metadata": {
        "id": "wzRnMN7nksyP"
      },
      "source": [
        "ライブラリファイルはひとまとまりの``qcintro.tar.gz``という圧縮ファイルにしてGoogle Drive上に保存します。"
      ]
    },
    {
      "cell_type": "code",
      "execution_count": null,
      "metadata": {
        "id": "i61ZyqNqeHTJ"
      },
      "outputs": [],
      "source": [
        "os.chdir('/root/.local')\n",
        "\n",
        "tarname = 'qcintro.tar.gz'\n",
        "with tarfile.open(tarname, 'w:gz') as tar:\n",
        "    for subdir in ['lib', 'bin']:\n",
        "        tar.add(subdir)\n",
        "\n",
        "shutil.copy(tarname, '/content/gdrive/MyDrive')"
      ]
    },
    {
      "cell_type": "markdown",
      "metadata": {
        "id": "cjNL7h_rwkpE"
      },
      "source": [
        "## IBM Quantumの量子コンピュータを使うための初期設定\n",
        "\n",
        "[IBM Quantumのトップページ](https://quantum.ibm.com/)に行き、右上のAPI Tokenのボックスのコピーボタンを押し、クリップボードにコピーされたトークン文字列で下のセルの``__your_token__``を置き換えてください。\n",
        "\n",
        "セルを実行すると、Google Driveへのアクセス許可についてのポップアップが現れます。Driveを利用したいアカウントを選択し、全ての項目に関してアクセスを許可するとドライブのストレージがこのノートブックから利用できるようになります。セルの実行が終わると、My Driveの直下に``qiskit-ibm.json``というファイルが書かれ、トークン情報が保存されます。\n",
        "\n",
        "\n"
      ]
    },
    {
      "cell_type": "code",
      "execution_count": null,
      "metadata": {
        "id": "DqshVuDSwTSF"
      },
      "outputs": [],
      "source": [
        "from qiskit_ibm_runtime import QiskitRuntimeService\n",
        "QiskitRuntimeService.save_account(channel='ibm_quantum', token='__your_token__',\n",
        "                                  #instance='ibm-q-utokyo/internal/***',\n",
        "                                  filename='/content/gdrive/MyDrive/qiskit-ibm.json')"
      ]
    }
  ],
  "metadata": {
    "colab": {
      "authorship_tag": "ABX9TyPAACnj3BV4aOFqidNnnKE0",
      "include_colab_link": true,
      "provenance": []
    },
    "kernelspec": {
      "display_name": "Python 3",
      "name": "python3"
    },
    "language_info": {
      "name": "python"
    }
  },
  "nbformat": 4,
  "nbformat_minor": 0
}
